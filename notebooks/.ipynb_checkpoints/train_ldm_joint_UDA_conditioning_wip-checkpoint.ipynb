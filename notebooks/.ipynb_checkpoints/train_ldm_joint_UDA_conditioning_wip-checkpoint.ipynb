{
 "cells": [
  {
   "cell_type": "markdown",
   "id": "5aac6da6-96fa-412f-adcd-57afbbffa82a",
   "metadata": {},
   "source": [
    "This notebook trains both cell line and patient DDPMs with domain alignment introduced between the latent spaces.\n",
    "\n",
    "Here, there is an additional loss introduced by using the cell line representation as a conditioning parameter (context) during the patient decoding process."
   ]
  },
  {
   "cell_type": "code",
   "execution_count": 1,
   "id": "b4b56b10-7afd-4a47-8e05-1b466a7f6b53",
   "metadata": {},
   "outputs": [],
   "source": [
    "import pandas as pd\n",
    "import numpy as np"
   ]
  },
  {
   "cell_type": "code",
   "execution_count": 2,
   "id": "748e1934-53d2-406e-b663-34d2771aa092",
   "metadata": {},
   "outputs": [],
   "source": [
    "import math"
   ]
  },
  {
   "cell_type": "code",
   "execution_count": 3,
   "id": "dc533d20-5d36-4f49-8c66-9658a8d67176",
   "metadata": {},
   "outputs": [],
   "source": [
    "import torch\n",
    "import matplotlib.pyplot as plt\n",
    "from torch.utils.data import TensorDataset, DataLoader"
   ]
  },
  {
   "cell_type": "code",
   "execution_count": 4,
   "id": "86ec922b-194d-4559-b3ba-e54da8ee57fa",
   "metadata": {},
   "outputs": [],
   "source": [
    "import sys\n",
    "sys.path.append(\"../src/tab_ddpm/\")"
   ]
  },
  {
   "cell_type": "code",
   "execution_count": 5,
   "id": "59a4ad62-8716-4621-adcd-08095a5aea40",
   "metadata": {},
   "outputs": [],
   "source": [
    "from gaussian_multinomial_diffusion import GaussianMultinomialDiffusion\n",
    "from modules import MLPDiffusion"
   ]
  },
  {
   "cell_type": "code",
   "execution_count": 6,
   "id": "8caa9a28-c046-41df-8bc9-b697fda94466",
   "metadata": {},
   "outputs": [],
   "source": [
    "sys.path.append(\"../src/\")\n",
    "from vae_model import vae\n",
    "from loss_functions import get_kld_loss, coral, compute_covariance, ZINORMLoss\n",
    "from ffnzinb_model import ffnzinb\n",
    "from cross_attention import CrossAttention"
   ]
  },
  {
   "cell_type": "code",
   "execution_count": 7,
   "id": "51c9a0e2-1d11-4538-810c-d5194a562475",
   "metadata": {},
   "outputs": [],
   "source": [
    "device = torch.device(\"cuda:0\")"
   ]
  },
  {
   "cell_type": "markdown",
   "id": "51304ccf-5d78-4cef-b0d1-e9fa1d6d8725",
   "metadata": {},
   "source": [
    "### Load Datasets\n",
    "\n",
    "#### Cell Lines"
   ]
  },
  {
   "cell_type": "code",
   "execution_count": 8,
   "id": "ac6823fe-7518-4093-960e-8c13a9f4d1a8",
   "metadata": {},
   "outputs": [
    {
     "data": {
      "text/plain": [
       "(1569, 7776)"
      ]
     },
     "execution_count": 8,
     "metadata": {},
     "output_type": "execute_result"
    }
   ],
   "source": [
    "cl_train_df = pd.read_csv(\"../data/diffusion_pretraining/cl_diffusion_train_sample0.csv\", index_col=0)\n",
    "cl_train_df.shape"
   ]
  },
  {
   "cell_type": "code",
   "execution_count": 9,
   "id": "dca2528f-c1f7-48c5-aa45-a5f512008b1d",
   "metadata": {},
   "outputs": [
    {
     "data": {
      "text/plain": [
       "(175, 7776)"
      ]
     },
     "execution_count": 9,
     "metadata": {},
     "output_type": "execute_result"
    }
   ],
   "source": [
    "cl_test_df = pd.read_csv(\"../data/diffusion_pretraining/cl_diffusion_test_sample0.csv\", index_col=0)\n",
    "cl_test_df.shape"
   ]
  },
  {
   "cell_type": "code",
   "execution_count": 10,
   "id": "67d75030-7469-456e-b5ab-adf4a3c179df",
   "metadata": {},
   "outputs": [],
   "source": [
    "cl_train_dataset = TensorDataset(torch.tensor(cl_train_df.values), torch.tensor(cl_train_df.values))\n",
    "cl_test_dataset = TensorDataset(torch.tensor(cl_test_df.values), torch.tensor(cl_test_df.values))"
   ]
  },
  {
   "cell_type": "code",
   "execution_count": 11,
   "id": "dbdb4504-3030-4136-8556-f21b0226484a",
   "metadata": {},
   "outputs": [],
   "source": [
    "cl_train_dataloader = DataLoader(cl_train_dataset, batch_size=256, shuffle=True)\n",
    "cl_test_dataloader = DataLoader(cl_test_dataset, batch_size=256, shuffle=False)"
   ]
  },
  {
   "cell_type": "markdown",
   "id": "d0cf4df7-7594-427d-8e58-6cd28355f481",
   "metadata": {},
   "source": [
    "#### Patient Dataset"
   ]
  },
  {
   "cell_type": "code",
   "execution_count": 12,
   "id": "fe143424-def5-45b6-8dc3-19299e1e9149",
   "metadata": {},
   "outputs": [
    {
     "data": {
      "text/plain": [
       "(476, 7776)"
      ]
     },
     "execution_count": 12,
     "metadata": {},
     "output_type": "execute_result"
    }
   ],
   "source": [
    "tcga_train_df = pd.read_csv(\"../data/diffusion_pretraining/tcga_diffusion_train_sample0.csv\", index_col=0)\n",
    "tcga_train_df.shape"
   ]
  },
  {
   "cell_type": "code",
   "execution_count": 13,
   "id": "49528e2d-fa1c-4702-ab7c-7d39a91a326c",
   "metadata": {},
   "outputs": [
    {
     "data": {
      "text/plain": [
       "(120, 7776)"
      ]
     },
     "execution_count": 13,
     "metadata": {},
     "output_type": "execute_result"
    }
   ],
   "source": [
    "tcga_test_df = pd.read_csv(\"../data/diffusion_pretraining/tcga_diffusion_test_sample0.csv\", index_col=0)\n",
    "tcga_test_df.shape"
   ]
  },
  {
   "cell_type": "code",
   "execution_count": 14,
   "id": "3c6054c7-c3a9-4461-b215-e54e63b03391",
   "metadata": {},
   "outputs": [],
   "source": [
    "tcga_train_dataset = TensorDataset(torch.tensor(tcga_train_df.values), torch.tensor(tcga_train_df.values))\n",
    "tcga_test_dataset = TensorDataset(torch.tensor(tcga_test_df.values), torch.tensor(tcga_test_df.values))"
   ]
  },
  {
   "cell_type": "code",
   "execution_count": 15,
   "id": "7060da39-e8ee-4fb9-8bf6-2010008feb0f",
   "metadata": {},
   "outputs": [],
   "source": [
    "tcga_train_dataloader = DataLoader(tcga_train_dataset, batch_size=256, shuffle=True)\n",
    "tcga_test_dataloader = DataLoader(tcga_test_dataset, batch_size=256, shuffle=False)"
   ]
  },
  {
   "cell_type": "markdown",
   "id": "ef8cc366-3c0c-4231-97eb-ce6f8d320296",
   "metadata": {},
   "source": [
    "#### Joint Training of Cell Line and Patient\n",
    "\n",
    "Testing is still on patient data. Training involves iterating over cell lines and patients.\n",
    "\n",
    "We use VAE + TTDPM in each case. Here we also condition the patient decoder on cell line representation (like image generation conditioned on text input.)"
   ]
  },
  {
   "cell_type": "code",
   "execution_count": 16,
   "id": "d05b10ab-6464-4acb-ad9b-bf52472f13bd",
   "metadata": {},
   "outputs": [],
   "source": [
    "# testing function with LDM\n",
    "def testing_loop_ldm(test_dataloader, diffusion_model, vae, device):\n",
    "    avg_test_loss = 0.0\n",
    "    for idx, batch in enumerate(test_dataloader):\n",
    "        with torch.no_grad():\n",
    "            inp_vae = batch[0].to(device=device, dtype=torch.float32)\n",
    "            inp, mu, logvar, _ = vae(inp_vae) # From VAE encoder + reparameterization\n",
    "            \n",
    "            noise = torch.randn_like(inp).to(device) # this is the label we use   \n",
    "            b = inp.shape[0]\n",
    "            t, pt = diffusion_model.sample_time(b, device, 'uniform')\n",
    "            inp_t = diffusion_model.gaussian_q_sample(inp, t, noise) # forward process\n",
    "            model_out = diffusion_model._denoise_fn(inp_t, t) # predicted epsilon\n",
    "\n",
    "            # MSE between predicted inp_pred after reverse diffusion and original input\n",
    "            inp_pred = diffusion_model._predict_xstart_from_eps(inp_t, t, model_out)\n",
    "            out_vae = vae.decoder(inp_pred) # after VAE decoding\n",
    "            # X_mu1, X_theta1, X_pi1 = ffn_zinb_model(out_vae) # ZINorm\n",
    "            mse_recon_loss = torch.nn.MSELoss()(out_vae, inp_vae) # MSE \n",
    "\n",
    "            avg_test_loss += mse_recon_loss.detach().item()\n",
    "\n",
    "    return avg_test_loss/(idx+1)"
   ]
  },
  {
   "cell_type": "code",
   "execution_count": 17,
   "id": "a805a8cf-347f-402f-9c71-c2e99192354a",
   "metadata": {},
   "outputs": [
    {
     "name": "stdout",
     "output_type": "stream",
     "text": [
      "tensor([[ 1.5410, -0.2934, -2.1788,  0.5684],\n",
      "        [-1.0845, -1.3986,  0.4033,  0.8380],\n",
      "        [-0.7193, -0.4033, -0.5966,  0.1820]])\n"
     ]
    },
    {
     "data": {
      "text/plain": [
       "tensor([[-0.3628, -1.2417, -1.5372],\n",
       "        [-0.7256, -2.4835, -3.0744]])"
      ]
     },
     "execution_count": 17,
     "metadata": {},
     "output_type": "execute_result"
    }
   ],
   "source": [
    "a = torch.Tensor([[1, 1, 1, 1], [2, 2, 2, 2]])\n",
    "b = torch.randn(3, 4)\n",
    "print(b)\n",
    "a @ b.transpose(0, 1)"
   ]
  },
  {
   "cell_type": "code",
   "execution_count": 18,
   "id": "34ef3932-580a-4cfb-b0e7-b294898fe4b0",
   "metadata": {},
   "outputs": [],
   "source": [
    "# training function with LDM with CORAL loss\n",
    "def training_loop_ldm_coral_conditioning(train_dataloaders, test_dataloaders, epochs, diffusion_model, vae, device, optimizer, scheduler=None):\n",
    "    train_losses = []\n",
    "    \n",
    "    for i in range(epochs):\n",
    "        loss = 0.0\n",
    "        avg_test_loss = \"\"\n",
    "        for idx0, batch0 in enumerate(train_dataloaders[\"cell_line\"]):\n",
    "            for idx1, batch1 in enumerate(train_dataloaders[\"patient\"]):\n",
    "                optimizer.zero_grad()\n",
    "                # for cell lines\n",
    "                inp_vae_cl = batch0[0].to(device=device, dtype=torch.float32)\n",
    "                inp_cl, mu_cl, logvar_cl, _ = vae[\"cell_line\"](inp_vae_cl) # From VAE encoder + reparameterization\n",
    "                \n",
    "                noise_cl = torch.randn_like(inp_cl).to(device) # this is the label we use   \n",
    "                b = inp_cl.shape[0]\n",
    "                t, pt = diffusion_model[\"cell_line\"].sample_time(b, device, 'uniform')\n",
    "                inp_t_cl = diffusion_model[\"cell_line\"].gaussian_q_sample(inp_cl, t, noise_cl) # forward process\n",
    "                model_out = diffusion_model[\"cell_line\"]._denoise_fn(inp_t_cl, t) # predicted epsilon\n",
    "                # loss calculation using MSE between predicted and actual noise\n",
    "                loss_gauss_cl = diffusion_model[\"cell_line\"]._gaussian_loss(model_out, inp_cl, inp_t_cl, t, noise_cl).mean()\n",
    "    \n",
    "                # reconstruct inp, pass through VAE decoder and calculate VAE losses\n",
    "                inp_pred_cl = diffusion_model[\"cell_line\"]._predict_xstart_from_eps(inp_t_cl, t, model_out)\n",
    "                out_vae_cl = vae[\"cell_line\"].decoder(inp_pred_cl) # after VAE decoding\n",
    "                mse_recon_loss_cl = torch.nn.MSELoss()(out_vae_cl, inp_vae_cl)\n",
    "                kld_loss_cl = get_kld_loss(mu_cl, logvar_cl, is_mean=True)\n",
    "\n",
    "                # for patients\n",
    "                inp_vae_tcga = batch1[0].to(device=device, dtype=torch.float32)\n",
    "                inp_tcga, mu_tcga, logvar_tcga, _ = vae[\"patient\"](inp_vae_tcga) # From VAE encoder + reparameterization\n",
    "                \n",
    "                noise_tcga = torch.randn_like(inp_tcga).to(device) # this is the label we use   \n",
    "                b = inp_tcga.shape[0]\n",
    "                t, pt = diffusion_model[\"patient\"].sample_time(b, device, 'uniform')\n",
    "                inp_t_tcga = diffusion_model[\"patient\"].gaussian_q_sample(inp_tcga, t, noise_tcga) # forward process\n",
    "                \n",
    "                model_out = diffusion_model[\"patient\"]._denoise_fn(inp_t_tcga, t) # predicted epsilon\n",
    "                # loss calculation using MSE between predicted and actual noise\n",
    "                loss_gauss_tcga = diffusion_model[\"patient\"]._gaussian_loss(model_out, inp_tcga, inp_t_tcga, t, noise_tcga).mean()\n",
    "    \n",
    "                # reconstruct inp, pass through VAE decoder and calculate VAE losses\n",
    "                inp_pred_tcga = diffusion_model[\"patient\"]._predict_xstart_from_eps(inp_t_tcga, t, model_out)\n",
    "                out_vae_tcga = vae[\"patient\"].decoder(inp_pred_tcga) # after VAE decoding\n",
    "                mse_recon_loss_tcga = torch.nn.MSELoss()(out_vae_tcga, inp_vae_tcga)\n",
    "                kld_loss_tcga = get_kld_loss(mu_tcga, logvar_tcga, is_mean=True)\n",
    "                \n",
    "                # CORAL loss between latent spaces of VAEs - change to latnet space of diffusion models?\n",
    "                coral_loss = coral(inp_cl, inp_tcga)\n",
    "                \n",
    "                # cross attention between inp_t_cl from cell line forward process and inp_t_tcga from patient forward process\n",
    "                # perform cross attention between cell lines and patients in the VAE latent space \n",
    "                # forward pass this attention vector through patient DDPM decoder\n",
    "                # check KL div loss between the patient data original and those with cross attention\n",
    "                query =  inp_t_tcga\n",
    "                key = inp_t_cl\n",
    "                value = inp_t_cl\n",
    "\n",
    "                cross_attention_tcga = torch.nn.Softmax(dim=1)(query @ key.transpose(0, 1))/math.sqrt(query.shape[1]) @ value # same shape as query\n",
    "                model_out_cross = diffusion_model[\"patient\"]._denoise_fn(cross_attention_tcga, t) # predicted epsilon\n",
    "                \n",
    "                # loss calculation using KL div between predicted and actual noise\n",
    "                loss_gauss_tcga_cross = diffusion_model[\"patient\"]._vb_terms_bpd(\n",
    "                                            model_output=model_out_cross,\n",
    "                                            x_start=inp_tcga,\n",
    "                                            x_t=inp_t_tcga,\n",
    "                                            t=t,\n",
    "                                            clip_denoised=False,\n",
    "                                            model_kwargs=None,\n",
    "                                        )[\"output\"].mean()\n",
    "                #diffusion_model[\"patient\"]._gaussian_loss(model_out, inp_tcga, inp_t_tcga, t, noise_tcga).mean()\n",
    "                \n",
    "                total_loss = loss_gauss_cl + loss_gauss_tcga + mse_recon_loss_cl + mse_recon_loss_tcga + kld_loss_cl + kld_loss_tcga + loss_gauss_tcga_cross\n",
    "                \n",
    "                total_loss.backward()\n",
    "                optimizer.step()\n",
    "                if scheduler:\n",
    "                    scheduler.step()\n",
    "                # print(total_loss.detach().item())\n",
    "                loss += total_loss.detach().item()\n",
    "\n",
    "        if (i+1) % 10 == 0:\n",
    "            avg_test_loss = f\" Average testing loss: {testing_loop_ldm(test_dataloaders['patient'], diffusion_model['patient'], vae['patient'], device)}\"\n",
    "\n",
    "        print(f\"|Epoch {i} | Average training loss: {loss/((idx0+1) * (idx1+1))} |{avg_test_loss}\")\n",
    "        train_losses.append(loss/((idx0+1) * (idx1+1)))\n",
    "        \n",
    "    return train_losses"
   ]
  },
  {
   "cell_type": "code",
   "execution_count": 19,
   "id": "2d175fb0-132b-4e14-9111-a6031aac0dbc",
   "metadata": {},
   "outputs": [],
   "source": [
    "train_dataloaders = {\n",
    "    \"cell_line\": cl_train_dataloader,\n",
    "    \"patient\": tcga_train_dataloader\n",
    "}"
   ]
  },
  {
   "cell_type": "code",
   "execution_count": 20,
   "id": "132a4943-c4f8-428b-a742-cd8873d69743",
   "metadata": {},
   "outputs": [],
   "source": [
    "test_dataloaders = {\n",
    "    \"cell_line\": cl_test_dataloader,\n",
    "    \"patient\": tcga_test_dataloader\n",
    "}"
   ]
  },
  {
   "cell_type": "code",
   "execution_count": 21,
   "id": "184b2231-8ea0-4408-866c-e7d44c71ad3b",
   "metadata": {},
   "outputs": [
    {
     "name": "stdout",
     "output_type": "stream",
     "text": [
      "U: encoder \n",
      "Sequential(\n",
      "  (enc-0): Linear(in_features=7776, out_features=1024, bias=True)\n",
      "  (act-0): Tanh()\n",
      "  (enc-1): Linear(in_features=1024, out_features=128, bias=True)\n",
      "  (act-1): Tanh()\n",
      ")\n",
      "#\n",
      "mu_layer: \n",
      "Linear(in_features=128, out_features=64, bias=True)\n",
      "#\n",
      "sigma_layer: \n",
      "Linear(in_features=128, out_features=64, bias=True)\n",
      "#\n",
      "U: decoder \n",
      "Sequential(\n",
      "  (-dec-0): Linear(in_features=64, out_features=128, bias=True)\n",
      "  (-act-0): Tanh()\n",
      "  (dec-0): Linear(in_features=128, out_features=1024, bias=True)\n",
      "  (act-0): Tanh()\n",
      "  (dec-1): Linear(in_features=1024, out_features=7776, bias=True)\n",
      "  (act-1): Tanh()\n",
      ")\n",
      "U: encoder \n",
      "Sequential(\n",
      "  (enc-0): Linear(in_features=7776, out_features=1024, bias=True)\n",
      "  (act-0): Tanh()\n",
      "  (enc-1): Linear(in_features=1024, out_features=128, bias=True)\n",
      "  (act-1): Tanh()\n",
      ")\n",
      "#\n",
      "mu_layer: \n",
      "Linear(in_features=128, out_features=64, bias=True)\n",
      "#\n",
      "sigma_layer: \n",
      "Linear(in_features=128, out_features=64, bias=True)\n",
      "#\n",
      "U: decoder \n",
      "Sequential(\n",
      "  (-dec-0): Linear(in_features=64, out_features=128, bias=True)\n",
      "  (-act-0): Tanh()\n",
      "  (dec-0): Linear(in_features=128, out_features=1024, bias=True)\n",
      "  (act-0): Tanh()\n",
      "  (dec-1): Linear(in_features=1024, out_features=7776, bias=True)\n",
      "  (act-1): Tanh()\n",
      ")\n"
     ]
    }
   ],
   "source": [
    "device = torch.device(\"cuda:0\")\n",
    "vaes = {\n",
    "    \"cell_line\": vae(input_dim=7776, k_list=[1024, 128], actf_list=[\"tanh\", \"tanh\"], is_real=True).to(device),\n",
    "    \"patient\": vae(input_dim=7776, k_list=[1024, 128], actf_list=[\"tanh\", \"tanh\"], is_real=True).to(device)\n",
    "}"
   ]
  },
  {
   "cell_type": "code",
   "execution_count": 22,
   "id": "ee448999-576e-4987-9727-52a3ad2ee453",
   "metadata": {},
   "outputs": [],
   "source": [
    "tcga_mlp_diffusion_model = MLPDiffusion(d_in=64, num_classes=0, is_y_cond=False, rtdl_params={\"d_layers\": [16], \"dropout\": 0.1}).to(device)\n",
    "tcga_diff_model = GaussianMultinomialDiffusion(num_classes=np.array([0]), num_numerical_features=64, denoise_fn=tcga_mlp_diffusion_model, device=device)#.to(device)"
   ]
  },
  {
   "cell_type": "code",
   "execution_count": 23,
   "id": "50db235b-ce1f-49dd-a9c7-4d979db0c27a",
   "metadata": {},
   "outputs": [],
   "source": [
    "cl_mlp_diffusion_model = MLPDiffusion(d_in=64, num_classes=0, is_y_cond=False, rtdl_params={\"d_layers\": [16], \"dropout\": 0.1}).to(device)\n",
    "cl_diff_model = GaussianMultinomialDiffusion(num_classes=np.array([0]), num_numerical_features=64, denoise_fn=cl_mlp_diffusion_model, device=device)#.to(device)"
   ]
  },
  {
   "cell_type": "code",
   "execution_count": 24,
   "id": "94c81e30-1769-480d-be34-4fe3ef7312a8",
   "metadata": {},
   "outputs": [],
   "source": [
    "diffusion_models = {\n",
    "    \"cell_line\": cl_diff_model,\n",
    "    \"patient\": tcga_diff_model\n",
    "}"
   ]
  },
  {
   "cell_type": "code",
   "execution_count": 25,
   "id": "136e272d-869d-46e1-8157-00c7e14cde2b",
   "metadata": {},
   "outputs": [],
   "source": [
    "params = list(diffusion_models[\"cell_line\"].parameters()) + list(diffusion_models[\"patient\"].parameters()) + list(vaes[\"cell_line\"].parameters()) + list(vaes[\"patient\"].parameters())"
   ]
  },
  {
   "cell_type": "code",
   "execution_count": 30,
   "id": "004c5d7c-411a-4fa1-9bf6-62eddcc8b265",
   "metadata": {},
   "outputs": [],
   "source": [
    "optim = torch.optim.Adam(params, lr = 1e-6, weight_decay=1e-4)\n",
    "scheduler = torch.optim.lr_scheduler.CosineAnnealingLR(optim, T_max=100)"
   ]
  },
  {
   "cell_type": "code",
   "execution_count": 27,
   "id": "feaafb14-77fe-4153-9d82-67dd324fd3db",
   "metadata": {},
   "outputs": [
    {
     "name": "stderr",
     "output_type": "stream",
     "text": [
      "/home/ajayago/miniconda3/envs/tddpm/lib/python3.9/site-packages/torch/_tensor.py:868: UserWarning: non-inplace resize is deprecated\n",
      "  warnings.warn(\"non-inplace resize is deprecated\")\n"
     ]
    },
    {
     "name": "stdout",
     "output_type": "stream",
     "text": [
      "|Epoch 0 | Average training loss: 5.162728991459446 |\n",
      "|Epoch 1 | Average training loss: 5.502595650415063 |\n",
      "|Epoch 2 | Average training loss: 4.967480108364163 |\n",
      "|Epoch 3 | Average training loss: 4.878910736060951 |\n",
      "|Epoch 4 | Average training loss: 4.4841780257777915 |\n",
      "|Epoch 5 | Average training loss: 5.037138967427869 |\n",
      "|Epoch 6 | Average training loss: 5.31303599510354 |\n",
      "|Epoch 7 | Average training loss: 5.475963791548481 |\n",
      "|Epoch 8 | Average training loss: 5.192632600546488 |\n",
      "|Epoch 9 | Average training loss: 5.119106089334991 | Average testing loss: 15.558876991271973\n",
      "|Epoch 10 | Average training loss: 4.7711414996622095 |\n",
      "|Epoch 11 | Average training loss: 4.613010153746827 |\n",
      "|Epoch 12 | Average training loss: 5.105717980225971 |\n",
      "|Epoch 13 | Average training loss: 5.301140850992576 |\n",
      "|Epoch 14 | Average training loss: 5.185391489073844 |\n",
      "|Epoch 15 | Average training loss: 5.651849062446593 |\n",
      "|Epoch 16 | Average training loss: 6.194462755730756 |\n",
      "|Epoch 17 | Average training loss: 5.385956290755764 |\n",
      "|Epoch 18 | Average training loss: 5.066622183125664 |\n",
      "|Epoch 19 | Average training loss: 5.610858034537509 | Average testing loss: 15.558099746704102\n",
      "|Epoch 20 | Average training loss: 5.751745750675283 |\n",
      "|Epoch 21 | Average training loss: 5.041364901689663 |\n",
      "|Epoch 22 | Average training loss: 5.132592290319089 |\n",
      "|Epoch 23 | Average training loss: 4.712923038737258 |\n",
      "|Epoch 24 | Average training loss: 5.10187937645261 |\n",
      "|Epoch 25 | Average training loss: 5.282264336039065 |\n",
      "|Epoch 26 | Average training loss: 4.726472257428213 |\n",
      "|Epoch 27 | Average training loss: 4.739456937669556 |\n",
      "|Epoch 28 | Average training loss: 4.866534799600646 |\n",
      "|Epoch 29 | Average training loss: 4.670938242979829 | Average testing loss: 15.555780410766602\n",
      "|Epoch 30 | Average training loss: 4.746905150866458 |\n",
      "|Epoch 31 | Average training loss: 4.254799631425178 |\n",
      "|Epoch 32 | Average training loss: 5.412892330019211 |\n",
      "|Epoch 33 | Average training loss: 5.508796233227465 |\n",
      "|Epoch 34 | Average training loss: 5.137527767881786 |\n",
      "|Epoch 35 | Average training loss: 4.683485010712416 |\n",
      "|Epoch 36 | Average training loss: 4.707256211188175 |\n",
      "|Epoch 37 | Average training loss: 5.036645095114401 |\n",
      "|Epoch 38 | Average training loss: 4.8254343123825345 |\n",
      "|Epoch 39 | Average training loss: 4.966172360475169 | Average testing loss: 15.55649471282959\n",
      "|Epoch 40 | Average training loss: 4.813872320546108 |\n",
      "|Epoch 41 | Average training loss: 4.613465344581168 |\n",
      "|Epoch 42 | Average training loss: 5.102998048965847 |\n",
      "|Epoch 43 | Average training loss: 5.107870236886357 |\n",
      "|Epoch 44 | Average training loss: 5.0708063821432106 |\n",
      "|Epoch 45 | Average training loss: 6.104566715978787 |\n",
      "|Epoch 46 | Average training loss: 5.086893290287226 |\n",
      "|Epoch 47 | Average training loss: 4.7910572589755 |\n",
      "|Epoch 48 | Average training loss: 4.807919183403002 |\n",
      "|Epoch 49 | Average training loss: 5.027157113096391 | Average testing loss: 15.558238983154297\n",
      "|Epoch 50 | Average training loss: 4.458260331395706 |\n",
      "|Epoch 51 | Average training loss: 5.052083690436347 |\n",
      "|Epoch 52 | Average training loss: 5.212426112695008 |\n",
      "|Epoch 53 | Average training loss: 5.29090407494472 |\n",
      "|Epoch 54 | Average training loss: 4.4421283396716404 |\n",
      "|Epoch 55 | Average training loss: 5.297544827984601 |\n",
      "|Epoch 56 | Average training loss: 4.882518663862972 |\n",
      "|Epoch 57 | Average training loss: 4.424711562013603 |\n",
      "|Epoch 58 | Average training loss: 5.3408232810367435 |\n",
      "|Epoch 59 | Average training loss: 4.9341684320124335 | Average testing loss: 15.554671287536621\n",
      "|Epoch 60 | Average training loss: 4.833725446290413 |\n",
      "|Epoch 61 | Average training loss: 4.95433992971874 |\n",
      "|Epoch 62 | Average training loss: 4.8378269331685635 |\n",
      "|Epoch 63 | Average training loss: 5.292164239750806 |\n",
      "|Epoch 64 | Average training loss: 5.300339332039776 |\n",
      "|Epoch 65 | Average training loss: 4.493379678756246 |\n",
      "|Epoch 66 | Average training loss: 4.928340291660583 |\n",
      "|Epoch 67 | Average training loss: 5.384942686582504 |\n",
      "|Epoch 68 | Average training loss: 4.757327549318796 |\n",
      "|Epoch 69 | Average training loss: 4.8229942272143385 | Average testing loss: 15.547736167907715\n",
      "|Epoch 70 | Average training loss: 5.099776897520627 |\n",
      "|Epoch 71 | Average training loss: 4.411791219170632 |\n",
      "|Epoch 72 | Average training loss: 4.330742544630774 |\n",
      "|Epoch 73 | Average training loss: 4.3412093130968925 |\n",
      "|Epoch 74 | Average training loss: 5.594976097649491 |\n",
      "|Epoch 75 | Average training loss: 5.004841458349044 |\n",
      "|Epoch 76 | Average training loss: 4.54508770345428 |\n",
      "|Epoch 77 | Average training loss: 4.495131030393109 |\n",
      "|Epoch 78 | Average training loss: 5.16503475892943 |\n",
      "|Epoch 79 | Average training loss: 4.425376112896823 | Average testing loss: 15.550692558288574\n",
      "|Epoch 80 | Average training loss: 4.482235736928735 |\n",
      "|Epoch 81 | Average training loss: 5.133214146239754 |\n",
      "|Epoch 82 | Average training loss: 4.365628555666581 |\n",
      "|Epoch 83 | Average training loss: 4.769110553243549 |\n",
      "|Epoch 84 | Average training loss: 5.914937487768211 |\n",
      "|Epoch 85 | Average training loss: 4.330744927872309 |\n",
      "|Epoch 86 | Average training loss: 4.968750992430822 |\n",
      "|Epoch 87 | Average training loss: 4.877941680237436 |\n",
      "|Epoch 88 | Average training loss: 4.37208624735168 |\n",
      "|Epoch 89 | Average training loss: 4.12257001280926 | Average testing loss: 15.548844337463379\n",
      "|Epoch 90 | Average training loss: 4.804182312220985 |\n",
      "|Epoch 91 | Average training loss: 4.4815734351245835 |\n",
      "|Epoch 92 | Average training loss: 4.519292620554276 |\n",
      "|Epoch 93 | Average training loss: 4.9359793920465025 |\n",
      "|Epoch 94 | Average training loss: 5.2490527425446 |\n",
      "|Epoch 95 | Average training loss: 4.755973022539228 |\n",
      "|Epoch 96 | Average training loss: 4.793700358678551 |\n",
      "|Epoch 97 | Average training loss: 5.054468839902091 |\n",
      "|Epoch 98 | Average training loss: 4.725036338949937 |\n",
      "|Epoch 99 | Average training loss: 4.715648694550263 | Average testing loss: 15.546653747558594\n"
     ]
    }
   ],
   "source": [
    "train_losses = training_loop_ldm_coral_conditioning(train_dataloaders, test_dataloaders, 100, diffusion_models, vaes, device, optim)"
   ]
  },
  {
   "cell_type": "code",
   "execution_count": 28,
   "id": "c8f6f59e-5d4a-49c6-83f5-261991360953",
   "metadata": {},
   "outputs": [
    {
     "data": {
      "text/plain": [
       "[<matplotlib.lines.Line2D at 0x7f4ddd3f0f10>]"
      ]
     },
     "execution_count": 28,
     "metadata": {},
     "output_type": "execute_result"
    },
    {
     "data": {
      "image/png": "[encoded data removed]",
      "text/plain": [
       "<Figure size 640x480 with 1 Axes>"
      ]
     },
     "metadata": {},
     "output_type": "display_data"
    }
   ],
   "source": [
    "import matplotlib.pyplot as plt\n",
    "plt.plot(train_losses)"
   ]
  },
  {
   "cell_type": "code",
   "execution_count": null,
   "id": "14746b27-3493-4245-bec9-97571806a6f1",
   "metadata": {},
   "outputs": [],
   "source": []
  }
 ],
 "metadata": {
  "kernelspec": {
   "display_name": "Python [conda env:tddpm] *",
   "language": "python",
   "name": "conda-env-tddpm-py"
  },
  "language_info": {
   "codemirror_mode": {
    "name": "ipython",
    "version": 3
   },
   "file_extension": ".py",
   "mimetype": "text/x-python",
   "name": "python",
   "nbconvert_exporter": "python",
   "pygments_lexer": "ipython3",
   "version": "3.9.18"
  }
 },
 "nbformat": 4,
 "nbformat_minor": 5
}
