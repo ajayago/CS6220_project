{
 "cells": [
  {
   "cell_type": "markdown",
   "id": "35952a6f-aa49-4aa1-9a0d-0fa6d7f12f28",
   "metadata": {},
   "source": [
    "This notebook attempts to use the Gaussian Diffusion model described in TabDDPM, one model per domain.\n",
    "\n",
    "Reference: https://github.com/yandex-research/tab-ddpm/blob/main/tab_ddpm/gaussian_multinomial_diffsuion.py"
   ]
  },
  {
   "cell_type": "code",
   "execution_count": 1,
   "id": "f4b9e81d-2791-4b5f-bdbe-3edd28424d84",
   "metadata": {},
   "outputs": [],
   "source": [
    "import pandas as pd\n",
    "import numpy as np"
   ]
  },
  {
   "cell_type": "code",
   "execution_count": 2,
   "id": "2c688fe9-c701-4e9c-a13f-d44ef602a072",
   "metadata": {},
   "outputs": [],
   "source": [
    "import torch\n",
    "import random"
   ]
  },
  {
   "cell_type": "code",
   "execution_count": 3,
   "id": "7e67cdce-c011-4ca4-b965-6df4ed2824b5",
   "metadata": {},
   "outputs": [],
   "source": [
    "import matplotlib.pyplot as plt"
   ]
  },
  {
   "cell_type": "code",
   "execution_count": 4,
   "id": "f3e4ce02-b6e4-4d8e-8daa-00736cc1d7e6",
   "metadata": {},
   "outputs": [],
   "source": [
    "import sys\n",
    "sys.path.append(\"../src/tab_ddpm/\")"
   ]
  },
  {
   "cell_type": "code",
   "execution_count": 5,
   "id": "f9442a61-dce6-4939-bdc2-a58e5b01d596",
   "metadata": {},
   "outputs": [],
   "source": [
    "from torch.utils.data import TensorDataset, DataLoader"
   ]
  },
  {
   "cell_type": "code",
   "execution_count": 6,
   "id": "e7bd93e8-75da-4724-bbde-950d45f61960",
   "metadata": {},
   "outputs": [],
   "source": [
    "from gaussian_multinomial_diffusion import GaussianMultinomialDiffusion"
   ]
  },
  {
   "cell_type": "code",
   "execution_count": 7,
   "id": "32ea2e34-534b-4d54-bd78-4e43cedabd3d",
   "metadata": {},
   "outputs": [],
   "source": [
    "from modules import MLPDiffusion"
   ]
  },
  {
   "cell_type": "code",
   "execution_count": 8,
   "id": "52ab1ab3-0f01-44ea-a031-7ac02ffd0d85",
   "metadata": {},
   "outputs": [],
   "source": [
    "sys.path.append(\"../src/\")\n",
    "from vae_model import vae\n",
    "from loss_functions import get_kld_loss, coral, compute_covariance, ZINORMLoss\n",
    "from ffnzinb_model import ffnzinb"
   ]
  },
  {
   "cell_type": "code",
   "execution_count": 9,
   "id": "ec5cd146-3900-4e77-a648-9aa9918b07c5",
   "metadata": {},
   "outputs": [],
   "source": [
    "device = torch.device(\"cuda:0\")"
   ]
  },
  {
   "cell_type": "code",
   "execution_count": 10,
   "id": "e445f483-138f-42dc-b3f6-f052df00c362",
   "metadata": {},
   "outputs": [
    {
     "data": {
      "text/plain": [
       "<torch._C.Generator at 0x7fa053f16bb0>"
      ]
     },
     "execution_count": 10,
     "metadata": {},
     "output_type": "execute_result"
    }
   ],
   "source": [
    "# seed things\n",
    "random.seed(0)\n",
    "np.random.seed(0)\n",
    "def seed_worker(worker_id):\n",
    "    worker_seed = torch.initial_seed() % 2**32\n",
    "    np.random.seed(worker_seed)\n",
    "    random.seed(worker_seed)\n",
    "\n",
    "g = torch.Generator()\n",
    "g.manual_seed(0)"
   ]
  },
  {
   "cell_type": "markdown",
   "id": "3582cbb4-0b92-4c94-809b-2685cf4e92b1",
   "metadata": {},
   "source": [
    "### Load Datasets\n",
    "\n",
    "#### Cell Lines"
   ]
  },
  {
   "cell_type": "code",
   "execution_count": 11,
   "id": "7dcf5910-a0d4-4947-bc24-7ebd86e40575",
   "metadata": {},
   "outputs": [
    {
     "data": {
      "text/plain": [
       "(1569, 7776)"
      ]
     },
     "execution_count": 11,
     "metadata": {},
     "output_type": "execute_result"
    }
   ],
   "source": [
    "cl_train_df = pd.read_csv(\"../data/diffusion_pretraining/cl_diffusion_train_sample0.csv\", index_col=0)\n",
    "cl_train_df.shape"
   ]
  },
  {
   "cell_type": "code",
   "execution_count": 12,
   "id": "6806697f-8897-4d81-831a-1a1ba688fe51",
   "metadata": {},
   "outputs": [
    {
     "data": {
      "text/plain": [
       "(175, 7776)"
      ]
     },
     "execution_count": 12,
     "metadata": {},
     "output_type": "execute_result"
    }
   ],
   "source": [
    "cl_test_df = pd.read_csv(\"../data/diffusion_pretraining/cl_diffusion_test_sample0.csv\", index_col=0)\n",
    "cl_test_df.shape"
   ]
  },
  {
   "cell_type": "code",
   "execution_count": 13,
   "id": "3602edec-2cad-4340-872e-66c4eb8386ea",
   "metadata": {},
   "outputs": [],
   "source": [
    "cl_train_dataset = TensorDataset(torch.tensor(cl_train_df.values), torch.tensor(cl_train_df.values))"
   ]
  },
  {
   "cell_type": "code",
   "execution_count": 14,
   "id": "c6e5f0c2-028c-422a-97b3-f7c2f74c4be8",
   "metadata": {},
   "outputs": [],
   "source": [
    "cl_test_dataset = TensorDataset(torch.tensor(cl_test_df.values), torch.tensor(cl_test_df.values))"
   ]
  },
  {
   "cell_type": "code",
   "execution_count": 15,
   "id": "441ae97c-7c50-44c5-84b8-166869b14301",
   "metadata": {},
   "outputs": [],
   "source": [
    "cl_train_dataloader = DataLoader(cl_train_dataset, batch_size=128, shuffle=True, num_workers=1, worker_init_fn=seed_worker, generator=g,)"
   ]
  },
  {
   "cell_type": "code",
   "execution_count": 16,
   "id": "6347925d-3ba8-4dc3-96b7-33ab0d003c48",
   "metadata": {},
   "outputs": [],
   "source": [
    "cl_test_dataloader = DataLoader(cl_test_dataset, batch_size=128, shuffle=False, num_workers=1, worker_init_fn=seed_worker, generator=g,)"
   ]
  },
  {
   "cell_type": "markdown",
   "id": "1f2003b5-1f7e-47bc-a470-f15c1b9b2b5a",
   "metadata": {},
   "source": [
    "#### Patient Dataset"
   ]
  },
  {
   "cell_type": "code",
   "execution_count": 17,
   "id": "3cf98876-02ef-4b60-816c-512fe782151c",
   "metadata": {},
   "outputs": [
    {
     "data": {
      "text/plain": [
       "(476, 7776)"
      ]
     },
     "execution_count": 17,
     "metadata": {},
     "output_type": "execute_result"
    }
   ],
   "source": [
    "tcga_train_df = pd.read_csv(\"../data/diffusion_pretraining/tcga_diffusion_train_sample0.csv\", index_col=0)\n",
    "tcga_train_df.shape"
   ]
  },
  {
   "cell_type": "code",
   "execution_count": 18,
   "id": "b55ccfc8-7f4c-4a17-bfdd-8a778492c11a",
   "metadata": {},
   "outputs": [
    {
     "data": {
      "text/plain": [
       "(120, 7776)"
      ]
     },
     "execution_count": 18,
     "metadata": {},
     "output_type": "execute_result"
    }
   ],
   "source": [
    "tcga_test_df = pd.read_csv(\"../data/diffusion_pretraining/tcga_diffusion_test_sample0.csv\", index_col=0)\n",
    "tcga_test_df.shape"
   ]
  },
  {
   "cell_type": "code",
   "execution_count": 19,
   "id": "34670bbc-7f65-43d8-99a0-9f30b5d31bd3",
   "metadata": {},
   "outputs": [],
   "source": [
    "tcga_train_dataset = TensorDataset(torch.tensor(tcga_train_df.values), torch.tensor(tcga_train_df.values))"
   ]
  },
  {
   "cell_type": "code",
   "execution_count": 20,
   "id": "98aa6721-76f1-4acd-b783-2f5882c50ad5",
   "metadata": {},
   "outputs": [],
   "source": [
    "tcga_test_dataset = TensorDataset(torch.tensor(tcga_test_df.values), torch.tensor(tcga_test_df.values))"
   ]
  },
  {
   "cell_type": "code",
   "execution_count": 21,
   "id": "4d294a0f-4e41-4772-b5ab-7fce11744da7",
   "metadata": {},
   "outputs": [],
   "source": [
    "tcga_train_dataloader = DataLoader(tcga_train_dataset, batch_size=128, shuffle=True, num_workers=1, worker_init_fn=seed_worker, generator=g,)"
   ]
  },
  {
   "cell_type": "code",
   "execution_count": 22,
   "id": "d1d27f71-af0d-4107-bfa8-3497eb049486",
   "metadata": {},
   "outputs": [],
   "source": [
    "tcga_test_dataloader = DataLoader(tcga_test_dataset, batch_size=128, shuffle=False, num_workers=1, worker_init_fn=seed_worker, generator=g,)"
   ]
  },
  {
   "cell_type": "markdown",
   "id": "cb151d47-7001-41db-b64f-8d98f6b8f28a",
   "metadata": {},
   "source": [
    "#### Train and Test loops for basic diffusion models per domain"
   ]
  },
  {
   "cell_type": "code",
   "execution_count": 23,
   "id": "b3a81e2f-0e25-4bbc-8265-8a9448e4cb5a",
   "metadata": {},
   "outputs": [],
   "source": [
    "# testing function\n",
    "def testing_loop(test_dataloader, diffusion_model, device):\n",
    "    avg_test_loss = 0.0\n",
    "    for idx, batch in enumerate(test_dataloader):\n",
    "        with torch.no_grad():\n",
    "            inp = batch[0].to(device=device, dtype=torch.float32)\n",
    "            noise = torch.randn_like(inp).to(device) # this is the label we use\n",
    "            b = inp.shape[0]\n",
    "            t, pt = diffusion_model.sample_time(b, device, 'uniform')\n",
    "            inp_t = diffusion_model.gaussian_q_sample(inp, t, noise) # forward process\n",
    "            model_out = diffusion_model._denoise_fn(inp_t, t) # predicted epsilon\n",
    "\n",
    "            # MSE between predicted inp_pred after reverse diffusion and original input\n",
    "            inp_pred = diffusion_model._predict_xstart_from_eps(inp_t, t, model_out)\n",
    "            mse_loss = torch.nn.MSELoss()(inp_pred, inp)\n",
    "\n",
    "            avg_test_loss += mse_loss.detach().item()\n",
    "\n",
    "    return avg_test_loss/(idx+1)"
   ]
  },
  {
   "cell_type": "code",
   "execution_count": 24,
   "id": "3047e9a0-bcfb-48a2-94c2-97d494522e45",
   "metadata": {},
   "outputs": [],
   "source": [
    "# training function\n",
    "def training_loop(train_dataloader, test_dataloader, epochs, diffusion_model, device, optimizer):\n",
    "    train_losses = []\n",
    "    for i in range(epochs):\n",
    "        loss = 0.0\n",
    "        avg_test_loss = \"\"\n",
    "        for idx, batch in enumerate(train_dataloader):\n",
    "            optimizer.zero_grad()\n",
    "            inp = batch[0].to(device=device, dtype=torch.float32)\n",
    "            noise = torch.randn_like(inp).to(device) # this is the label we use\n",
    "            b = inp.shape[0]\n",
    "            t, pt = diffusion_model.sample_time(b, device, 'uniform')\n",
    "            inp_t = diffusion_model.gaussian_q_sample(inp, t, noise) # forward process\n",
    "            model_out = diffusion_model._denoise_fn(inp_t, t) # predicted epsilon\n",
    "            # loss calculation using MSE between predicted and actual noise\n",
    "            loss_gauss = diffusion_model._gaussian_loss(model_out, inp, inp_t, t, noise).mean()\n",
    "            loss_gauss.backward()\n",
    "            optimizer.step()\n",
    "            loss += loss_gauss.detach().item()\n",
    "\n",
    "        if (i+1) % 10 == 0:\n",
    "            avg_test_loss = f\" Average testing loss: {testing_loop(test_dataloader, diffusion_model, device)}\"\n",
    "\n",
    "        print(f\"|Epoch {i} | Average training loss: {loss/(idx+1)} |{avg_test_loss}\")\n",
    "        train_losses.append(loss/(idx+1))\n",
    "    return train_losses\n",
    "            "
   ]
  },
  {
   "cell_type": "markdown",
   "id": "cbc6d353-6221-4022-93a4-c4280a68a580",
   "metadata": {},
   "source": [
    "#### Cell Line Diffusion Model Training"
   ]
  },
  {
   "cell_type": "code",
   "execution_count": 25,
   "id": "e5457831-e7ca-46b6-b2ef-06dfcdf8c4ec",
   "metadata": {},
   "outputs": [],
   "source": [
    "cl_mlp_diffusion_model = MLPDiffusion(d_in=7776, num_classes=0, is_y_cond=False, rtdl_params={\"d_layers\": [128, 32], \"dropout\": 0.7})\n",
    "cl_diff_model = GaussianMultinomialDiffusion(num_classes=np.array([0]), num_numerical_features=7776, denoise_fn=cl_mlp_diffusion_model)"
   ]
  },
  {
   "cell_type": "code",
   "execution_count": 26,
   "id": "876edf4e-ae51-41dc-896a-b90f9338658c",
   "metadata": {},
   "outputs": [
    {
     "name": "stdout",
     "output_type": "stream",
     "text": [
      "|Epoch 0 | Average training loss: 1.031449739749615 |\n",
      "|Epoch 1 | Average training loss: 1.0244415356562688 |\n",
      "|Epoch 2 | Average training loss: 1.0218233236899743 |\n",
      "|Epoch 3 | Average training loss: 1.019240223444425 |\n",
      "|Epoch 4 | Average training loss: 1.0180284976959229 |\n",
      "|Epoch 5 | Average training loss: 1.0159763372861421 |\n",
      "|Epoch 6 | Average training loss: 1.0148694790326631 |\n",
      "|Epoch 7 | Average training loss: 1.0143983547504132 |\n",
      "|Epoch 8 | Average training loss: 1.0134440843875592 |\n",
      "|Epoch 9 | Average training loss: 1.0132624736199012 | Average testing loss: 502.74022483825684\n",
      "|Epoch 10 | Average training loss: 1.012139109464792 |\n",
      "|Epoch 11 | Average training loss: 1.010982449238117 |\n",
      "|Epoch 12 | Average training loss: 1.0106765857109656 |\n",
      "|Epoch 13 | Average training loss: 1.0102515587439904 |\n",
      "|Epoch 14 | Average training loss: 1.0098496492092426 |\n",
      "|Epoch 15 | Average training loss: 1.0099203769977276 |\n",
      "|Epoch 16 | Average training loss: 1.0091924392260039 |\n",
      "|Epoch 17 | Average training loss: 1.0092460100467389 |\n",
      "|Epoch 18 | Average training loss: 1.0088414320578942 |\n",
      "|Epoch 19 | Average training loss: 1.0090426206588745 | Average testing loss: 5998904.0\n",
      "|Epoch 20 | Average training loss: 1.0089578445141132 |\n",
      "|Epoch 21 | Average training loss: 1.0086713570814867 |\n",
      "|Epoch 22 | Average training loss: 1.0082514102642353 |\n",
      "|Epoch 23 | Average training loss: 1.0084203756772554 |\n",
      "|Epoch 24 | Average training loss: 1.0079718369704027 |\n",
      "|Epoch 25 | Average training loss: 1.0071952434686513 |\n",
      "|Epoch 26 | Average training loss: 1.0070752272239099 |\n",
      "|Epoch 27 | Average training loss: 1.0071082481971154 |\n",
      "|Epoch 28 | Average training loss: 1.0067692719973051 |\n",
      "|Epoch 29 | Average training loss: 1.0074796034739568 | Average testing loss: 139.0683135986328\n",
      "|Epoch 30 | Average training loss: 1.0074979158548207 |\n",
      "|Epoch 31 | Average training loss: 1.0066244693902822 |\n",
      "|Epoch 32 | Average training loss: 1.0066121908334584 |\n",
      "|Epoch 33 | Average training loss: 1.0065798300963182 |\n",
      "|Epoch 34 | Average training loss: 1.0066225620416493 |\n",
      "|Epoch 35 | Average training loss: 1.005543277813838 |\n",
      "|Epoch 36 | Average training loss: 1.0060555934906006 |\n",
      "|Epoch 37 | Average training loss: 1.0065389138001661 |\n",
      "|Epoch 38 | Average training loss: 1.0061568113473744 |\n",
      "|Epoch 39 | Average training loss: 1.0060440026796782 | Average testing loss: 45.22156620025635\n",
      "|Epoch 40 | Average training loss: 1.006343777363117 |\n",
      "|Epoch 41 | Average training loss: 1.0057964324951172 |\n",
      "|Epoch 42 | Average training loss: 1.005752655176016 |\n",
      "|Epoch 43 | Average training loss: 1.0043320655822754 |\n",
      "|Epoch 44 | Average training loss: 1.004602230512179 |\n",
      "|Epoch 45 | Average training loss: 1.0059362191420336 |\n",
      "|Epoch 46 | Average training loss: 1.0047857761383057 |\n",
      "|Epoch 47 | Average training loss: 1.004767051109901 |\n",
      "|Epoch 48 | Average training loss: 1.0048111585470347 |\n",
      "|Epoch 49 | Average training loss: 1.0043626473500178 | Average testing loss: 1574.1484680175781\n",
      "|Epoch 50 | Average training loss: 1.0051217904457679 |\n",
      "|Epoch 51 | Average training loss: 1.0043533490254328 |\n",
      "|Epoch 52 | Average training loss: 1.0048763843683095 |\n",
      "|Epoch 53 | Average training loss: 1.0037272526667669 |\n",
      "|Epoch 54 | Average training loss: 1.0036985048880944 |\n",
      "|Epoch 55 | Average training loss: 1.004062029031607 |\n",
      "|Epoch 56 | Average training loss: 1.00403224504911 |\n",
      "|Epoch 57 | Average training loss: 1.0036014318466187 |\n",
      "|Epoch 58 | Average training loss: 1.003920655984145 |\n",
      "|Epoch 59 | Average training loss: 1.0037130667613103 | Average testing loss: 332.9246063232422\n",
      "|Epoch 60 | Average training loss: 1.0037756791481605 |\n",
      "|Epoch 61 | Average training loss: 1.0039600959190955 |\n",
      "|Epoch 62 | Average training loss: 1.0034589492357695 |\n",
      "|Epoch 63 | Average training loss: 1.0034076342215905 |\n",
      "|Epoch 64 | Average training loss: 1.0031612102801983 |\n",
      "|Epoch 65 | Average training loss: 1.0032603282194872 |\n",
      "|Epoch 66 | Average training loss: 1.0024572244057288 |\n",
      "|Epoch 67 | Average training loss: 1.003537682386545 |\n",
      "|Epoch 68 | Average training loss: 1.003483616388761 |\n",
      "|Epoch 69 | Average training loss: 1.0034355658751268 | Average testing loss: 1174.6621932983398\n",
      "|Epoch 70 | Average training loss: 1.0029962796431322 |\n",
      "|Epoch 71 | Average training loss: 1.0028243248279278 |\n",
      "|Epoch 72 | Average training loss: 1.002293926018935 |\n",
      "|Epoch 73 | Average training loss: 1.0027274856200585 |\n",
      "|Epoch 74 | Average training loss: 1.0031187350933368 |\n",
      "|Epoch 75 | Average training loss: 1.0028274701191828 |\n",
      "|Epoch 76 | Average training loss: 1.0025848333652203 |\n",
      "|Epoch 77 | Average training loss: 1.0025146282636201 |\n",
      "|Epoch 78 | Average training loss: 1.0024446432407086 |\n",
      "|Epoch 79 | Average training loss: 1.0032536891790538 | Average testing loss: 222.35725498199463\n",
      "|Epoch 80 | Average training loss: 1.0022016305189867 |\n",
      "|Epoch 81 | Average training loss: 1.0021276198900664 |\n",
      "|Epoch 82 | Average training loss: 1.0023347047659068 |\n",
      "|Epoch 83 | Average training loss: 1.0026343098053565 |\n",
      "|Epoch 84 | Average training loss: 1.0016082983750563 |\n",
      "|Epoch 85 | Average training loss: 1.0019968931491559 |\n",
      "|Epoch 86 | Average training loss: 1.0021095000780547 |\n",
      "|Epoch 87 | Average training loss: 1.0019586728169367 |\n",
      "|Epoch 88 | Average training loss: 1.0012975656069243 |\n",
      "|Epoch 89 | Average training loss: 1.0025490063887377 | Average testing loss: 1581083.5684547424\n",
      "|Epoch 90 | Average training loss: 1.00192391872406 |\n",
      "|Epoch 91 | Average training loss: 1.0028521005923932 |\n",
      "|Epoch 92 | Average training loss: 1.0019942155251136 |\n",
      "|Epoch 93 | Average training loss: 1.0015468918360197 |\n",
      "|Epoch 94 | Average training loss: 1.001792623446538 |\n",
      "|Epoch 95 | Average training loss: 1.0023048382539015 |\n",
      "|Epoch 96 | Average training loss: 1.0015476942062378 |\n",
      "|Epoch 97 | Average training loss: 1.0022281041512122 |\n",
      "|Epoch 98 | Average training loss: 1.001223399088933 |\n",
      "|Epoch 99 | Average training loss: 1.001372685799232 | Average testing loss: 4451.170608520508\n",
      "|Epoch 100 | Average training loss: 1.0017337478124178 |\n",
      "|Epoch 101 | Average training loss: 1.002185188806974 |\n",
      "|Epoch 102 | Average training loss: 1.0013779860276442 |\n",
      "|Epoch 103 | Average training loss: 1.0022670947588408 |\n",
      "|Epoch 104 | Average training loss: 1.0015652959163373 |\n",
      "|Epoch 105 | Average training loss: 1.0013973116874695 |\n",
      "|Epoch 106 | Average training loss: 1.0009753428972685 |\n",
      "|Epoch 107 | Average training loss: 1.0014502176871667 |\n",
      "|Epoch 108 | Average training loss: 1.0020253245647137 |\n",
      "|Epoch 109 | Average training loss: 1.001180126116826 | Average testing loss: 215.53206634521484\n",
      "|Epoch 110 | Average training loss: 1.0012414501263545 |\n",
      "|Epoch 111 | Average training loss: 1.001295736202827 |\n",
      "|Epoch 112 | Average training loss: 1.0013926304303682 |\n",
      "|Epoch 113 | Average training loss: 1.0009544354218702 |\n",
      "|Epoch 114 | Average training loss: 1.0016266932854285 |\n",
      "|Epoch 115 | Average training loss: 1.0012441873550415 |\n",
      "|Epoch 116 | Average training loss: 1.0014752241281362 |\n",
      "|Epoch 117 | Average training loss: 1.0009666085243225 |\n",
      "|Epoch 118 | Average training loss: 1.0006134326641376 |\n",
      "|Epoch 119 | Average training loss: 1.0011235658939068 | Average testing loss: 1717.9311294555664\n",
      "|Epoch 120 | Average training loss: 1.001042819940127 |\n",
      "|Epoch 121 | Average training loss: 1.00097073499973 |\n",
      "|Epoch 122 | Average training loss: 1.0012785654801588 |\n",
      "|Epoch 123 | Average training loss: 1.001102585058946 |\n",
      "|Epoch 124 | Average training loss: 1.0007013999498808 |\n",
      "|Epoch 125 | Average training loss: 1.0005368086007924 |\n",
      "|Epoch 126 | Average training loss: 1.0011725884217482 |\n",
      "|Epoch 127 | Average training loss: 1.0009829860467176 |\n",
      "|Epoch 128 | Average training loss: 1.001107380940364 |\n",
      "|Epoch 129 | Average training loss: 1.001152176123399 | Average testing loss: 1560675.0256614685\n",
      "|Epoch 130 | Average training loss: 1.0012065722392156 |\n",
      "|Epoch 131 | Average training loss: 1.0007078189116259 |\n",
      "|Epoch 132 | Average training loss: 1.0005004497674794 |\n",
      "|Epoch 133 | Average training loss: 1.000515029980586 |\n",
      "|Epoch 134 | Average training loss: 1.0005986140324519 |\n",
      "|Epoch 135 | Average training loss: 1.000845702794882 |\n",
      "|Epoch 136 | Average training loss: 1.0001078156324534 |\n",
      "|Epoch 137 | Average training loss: 1.0015155993975127 |\n",
      "|Epoch 138 | Average training loss: 1.0003142219323378 |\n",
      "|Epoch 139 | Average training loss: 1.000870250738584 | Average testing loss: 439.12906551361084\n",
      "|Epoch 140 | Average training loss: 1.0013162585405202 |\n",
      "|Epoch 141 | Average training loss: 1.0006079857165997 |\n",
      "|Epoch 142 | Average training loss: 1.0009560722571154 |\n",
      "|Epoch 143 | Average training loss: 1.0001669434400706 |\n",
      "|Epoch 144 | Average training loss: 1.0006732436326833 |\n",
      "|Epoch 145 | Average training loss: 1.001093144600208 |\n",
      "|Epoch 146 | Average training loss: 1.0015524121431203 |\n",
      "|Epoch 147 | Average training loss: 1.0004814633956323 |\n",
      "|Epoch 148 | Average training loss: 0.9999898717953608 |\n",
      "|Epoch 149 | Average training loss: 0.9999719766470102 | Average testing loss: 376.1148986816406\n",
      "|Epoch 150 | Average training loss: 1.0001334181198707 |\n",
      "|Epoch 151 | Average training loss: 1.0013586787077098 |\n",
      "|Epoch 152 | Average training loss: 0.9996436329988333 |\n",
      "|Epoch 153 | Average training loss: 1.0005980363258948 |\n",
      "|Epoch 154 | Average training loss: 1.0012770203443675 |\n",
      "|Epoch 155 | Average training loss: 1.0001503412540143 |\n",
      "|Epoch 156 | Average training loss: 1.0004932651152978 |\n",
      "|Epoch 157 | Average training loss: 1.000090777873993 |\n",
      "|Epoch 158 | Average training loss: 1.0001787222348726 |\n",
      "|Epoch 159 | Average training loss: 1.0000737951352046 | Average testing loss: 1178.4566040039062\n",
      "|Epoch 160 | Average training loss: 0.9995236442639277 |\n",
      "|Epoch 161 | Average training loss: 1.0001609233709483 |\n",
      "|Epoch 162 | Average training loss: 1.000650520508106 |\n",
      "|Epoch 163 | Average training loss: 1.0003233643678517 |\n",
      "|Epoch 164 | Average training loss: 1.0011296318127558 |\n",
      "|Epoch 165 | Average training loss: 1.0004203778046827 |\n",
      "|Epoch 166 | Average training loss: 1.0001781216034522 |\n",
      "|Epoch 167 | Average training loss: 0.9999586389614985 |\n",
      "|Epoch 168 | Average training loss: 1.0003869487689092 |\n",
      "|Epoch 169 | Average training loss: 1.0006901025772095 | Average testing loss: 113.02790069580078\n",
      "|Epoch 170 | Average training loss: 0.9998968656246479 |\n",
      "|Epoch 171 | Average training loss: 1.0000031544612005 |\n",
      "|Epoch 172 | Average training loss: 1.000259587397942 |\n",
      "|Epoch 173 | Average training loss: 1.0005084918095515 |\n",
      "|Epoch 174 | Average training loss: 1.000827812231504 |\n",
      "|Epoch 175 | Average training loss: 0.9994463553795447 |\n",
      "|Epoch 176 | Average training loss: 1.0001225196398222 |\n",
      "|Epoch 177 | Average training loss: 1.0003336347066438 |\n",
      "|Epoch 178 | Average training loss: 1.0007105332154493 |\n",
      "|Epoch 179 | Average training loss: 1.0004036472393916 | Average testing loss: 112.28584623336792\n",
      "|Epoch 180 | Average training loss: 0.9996478740985577 |\n",
      "|Epoch 181 | Average training loss: 1.0008225945326 |\n",
      "|Epoch 182 | Average training loss: 1.0005746575502248 |\n",
      "|Epoch 183 | Average training loss: 1.0000819059518666 |\n",
      "|Epoch 184 | Average training loss: 1.0001764985231252 |\n",
      "|Epoch 185 | Average training loss: 0.9998961457839379 |\n",
      "|Epoch 186 | Average training loss: 1.0007508397102356 |\n",
      "|Epoch 187 | Average training loss: 1.0007861760946422 |\n",
      "|Epoch 188 | Average training loss: 1.000432129089649 |\n",
      "|Epoch 189 | Average training loss: 1.0002131416247442 | Average testing loss: 509.7474822998047\n",
      "|Epoch 190 | Average training loss: 1.000071814427009 |\n",
      "|Epoch 191 | Average training loss: 1.0008743497041555 |\n",
      "|Epoch 192 | Average training loss: 1.000486011688526 |\n",
      "|Epoch 193 | Average training loss: 1.0001208369548504 |\n",
      "|Epoch 194 | Average training loss: 1.0007724716113164 |\n",
      "|Epoch 195 | Average training loss: 1.000123101931352 |\n",
      "|Epoch 196 | Average training loss: 1.0003727491085346 |\n",
      "|Epoch 197 | Average training loss: 0.9996732977720407 |\n",
      "|Epoch 198 | Average training loss: 1.0001998727138226 |\n",
      "|Epoch 199 | Average training loss: 0.9990050700994638 | Average testing loss: 4404.256254673004\n",
      "|Epoch 200 | Average training loss: 1.0001398645914519 |\n",
      "|Epoch 201 | Average training loss: 0.9996090118701642 |\n",
      "|Epoch 202 | Average training loss: 1.000382689329294 |\n",
      "|Epoch 203 | Average training loss: 0.9999705094557542 |\n",
      "|Epoch 204 | Average training loss: 1.0004302446658795 |\n",
      "|Epoch 205 | Average training loss: 0.9993071739490216 |\n",
      "|Epoch 206 | Average training loss: 1.0006263301922724 |\n",
      "|Epoch 207 | Average training loss: 0.9996665991269625 |\n",
      "|Epoch 208 | Average training loss: 1.0003406909795909 |\n",
      "|Epoch 209 | Average training loss: 0.999976016007937 | Average testing loss: 131.9040870666504\n",
      "|Epoch 210 | Average training loss: 1.0003099120580232 |\n",
      "|Epoch 211 | Average training loss: 1.0002946303440974 |\n",
      "|Epoch 212 | Average training loss: 1.0001207177455609 |\n",
      "|Epoch 213 | Average training loss: 1.0009400386076708 |\n",
      "|Epoch 214 | Average training loss: 1.000340502995711 |\n",
      "|Epoch 215 | Average training loss: 1.0003938720776484 |\n",
      "|Epoch 216 | Average training loss: 0.9993328910607558 |\n",
      "|Epoch 217 | Average training loss: 1.0004444443262541 |\n",
      "|Epoch 218 | Average training loss: 0.9999704727759728 |\n",
      "|Epoch 219 | Average training loss: 1.0004503360161414 | Average testing loss: 35.749117851257324\n",
      "|Epoch 220 | Average training loss: 0.9997900861960191 |\n",
      "|Epoch 221 | Average training loss: 1.0008558860191932 |\n",
      "|Epoch 222 | Average training loss: 0.9999083097164447 |\n",
      "|Epoch 223 | Average training loss: 0.9999659107281611 |\n",
      "|Epoch 224 | Average training loss: 0.9998194575309753 |\n",
      "|Epoch 225 | Average training loss: 0.9997165019695575 |\n",
      "|Epoch 226 | Average training loss: 0.999966887327341 |\n",
      "|Epoch 227 | Average training loss: 1.000632121012761 |\n",
      "|Epoch 228 | Average training loss: 0.9998960999342111 |\n",
      "|Epoch 229 | Average training loss: 1.0003597736358643 | Average testing loss: 806.6251831054688\n",
      "|Epoch 230 | Average training loss: 1.0000780178950384 |\n",
      "|Epoch 231 | Average training loss: 0.9994974319751446 |\n",
      "|Epoch 232 | Average training loss: 0.999549728173476 |\n",
      "|Epoch 233 | Average training loss: 1.0008570872820342 |\n",
      "|Epoch 234 | Average training loss: 1.0004198321929345 |\n",
      "|Epoch 235 | Average training loss: 0.999509742626777 |\n",
      "|Epoch 236 | Average training loss: 0.9998195308905381 |\n",
      "|Epoch 237 | Average training loss: 1.0003456289951618 |\n",
      "|Epoch 238 | Average training loss: 0.9991675615310669 |\n",
      "|Epoch 239 | Average training loss: 0.9998529461713938 | Average testing loss: 283.5952453613281\n",
      "|Epoch 240 | Average training loss: 1.0011479258537292 |\n",
      "|Epoch 241 | Average training loss: 0.9990186599584726 |\n",
      "|Epoch 242 | Average training loss: 1.0005519023308387 |\n",
      "|Epoch 243 | Average training loss: 1.0002446174621582 |\n",
      "|Epoch 244 | Average training loss: 1.0004005523828359 |\n",
      "|Epoch 245 | Average training loss: 0.9996484472201421 |\n",
      "|Epoch 246 | Average training loss: 0.99972187097256 |\n",
      "|Epoch 247 | Average training loss: 0.9997356671553391 |\n",
      "|Epoch 248 | Average training loss: 1.001158031133505 |\n",
      "|Epoch 249 | Average training loss: 0.9999079704284668 | Average testing loss: 4572.829362869263\n",
      "|Epoch 250 | Average training loss: 1.000455535375155 |\n",
      "|Epoch 251 | Average training loss: 1.0006669438802278 |\n",
      "|Epoch 252 | Average training loss: 1.0003587970366845 |\n",
      "|Epoch 253 | Average training loss: 1.0000312740986164 |\n",
      "|Epoch 254 | Average training loss: 1.0006816295477061 |\n",
      "|Epoch 255 | Average training loss: 0.999916516817533 |\n",
      "|Epoch 256 | Average training loss: 0.9996054722712591 |\n",
      "|Epoch 257 | Average training loss: 0.9990998323147113 |\n",
      "|Epoch 258 | Average training loss: 0.999708510362185 |\n",
      "|Epoch 259 | Average training loss: 0.9997627551739032 | Average testing loss: 46.28535556793213\n",
      "|Epoch 260 | Average training loss: 0.999847595508282 |\n",
      "|Epoch 261 | Average training loss: 1.0007637509932885 |\n",
      "|Epoch 262 | Average training loss: 1.0012183372790997 |\n",
      "|Epoch 263 | Average training loss: 1.0001693643056428 |\n",
      "|Epoch 264 | Average training loss: 1.0003805298071642 |\n",
      "|Epoch 265 | Average training loss: 1.000546932220459 |\n",
      "|Epoch 266 | Average training loss: 1.0000760417718153 |\n",
      "|Epoch 267 | Average training loss: 1.0004798632401686 |\n",
      "|Epoch 268 | Average training loss: 1.0004845261573792 |\n",
      "|Epoch 269 | Average training loss: 0.999913710814256 | Average testing loss: 454.5099334716797\n",
      "|Epoch 270 | Average training loss: 1.0005055253322308 |\n",
      "|Epoch 271 | Average training loss: 1.0005658452327435 |\n",
      "|Epoch 272 | Average training loss: 1.00048421896421 |\n",
      "|Epoch 273 | Average training loss: 0.9995268674997183 |\n",
      "|Epoch 274 | Average training loss: 0.9997125543080844 |\n",
      "|Epoch 275 | Average training loss: 1.0005137461882372 |\n",
      "|Epoch 276 | Average training loss: 1.000711129261897 |\n",
      "|Epoch 277 | Average training loss: 0.9996938705444336 |\n",
      "|Epoch 278 | Average training loss: 1.0004624265890856 |\n",
      "|Epoch 279 | Average training loss: 1.0007684047405536 | Average testing loss: 1680626.9651589394\n",
      "|Epoch 280 | Average training loss: 0.999587723842034 |\n",
      "|Epoch 281 | Average training loss: 1.0002049345236559 |\n",
      "|Epoch 282 | Average training loss: 0.9998617218090937 |\n",
      "|Epoch 283 | Average training loss: 1.0004178331448481 |\n",
      "|Epoch 284 | Average training loss: 0.9998683149998004 |\n",
      "|Epoch 285 | Average training loss: 0.9998963475227356 |\n",
      "|Epoch 286 | Average training loss: 1.000033704134134 |\n",
      "|Epoch 287 | Average training loss: 1.0008010497459998 |\n",
      "|Epoch 288 | Average training loss: 0.9999375480871934 |\n",
      "|Epoch 289 | Average training loss: 0.9999990600806016 | Average testing loss: 260.04789781570435\n",
      "|Epoch 290 | Average training loss: 1.0001576176056495 |\n",
      "|Epoch 291 | Average training loss: 1.000001004109016 |\n",
      "|Epoch 292 | Average training loss: 1.0006231665611267 |\n",
      "|Epoch 293 | Average training loss: 0.9999072276628934 |\n",
      "|Epoch 294 | Average training loss: 1.0010302112652705 |\n",
      "|Epoch 295 | Average training loss: 0.9996510927493756 |\n",
      "|Epoch 296 | Average training loss: 1.0005885775272663 |\n",
      "|Epoch 297 | Average training loss: 1.0004673416797931 |\n",
      "|Epoch 298 | Average training loss: 0.9997172814149123 |\n",
      "|Epoch 299 | Average training loss: 1.0001828028605535 | Average testing loss: 1172.5521850585938\n"
     ]
    }
   ],
   "source": [
    "device = torch.device(\"cuda\")\n",
    "cl_diff_model.to(device)\n",
    "optimizer = torch.optim.Adam(cl_diff_model.parameters(), lr=1e-4)\n",
    "train_losses_cl = training_loop(cl_train_dataloader, cl_test_dataloader, 300, cl_diff_model, device, optimizer)"
   ]
  },
  {
   "cell_type": "code",
   "execution_count": 27,
   "id": "2ff0610a-2a6d-4709-837d-aea9cb275f2c",
   "metadata": {},
   "outputs": [
    {
     "data": {
      "text/plain": [
       "[<matplotlib.lines.Line2D at 0x7fa050571a30>]"
      ]
     },
     "execution_count": 27,
     "metadata": {},
     "output_type": "execute_result"
    },
    {
     "data": {
      "image/png": "[encoded data removed]",
      "text/plain": [
       "<Figure size 640x480 with 1 Axes>"
      ]
     },
     "metadata": {},
     "output_type": "display_data"
    }
   ],
   "source": [
    "plt.plot(train_losses_cl)"
   ]
  },
  {
   "cell_type": "markdown",
   "id": "9d56385d-cd87-47b9-ab45-c7c34991d337",
   "metadata": {},
   "source": [
    "#### Patient Diffusion Model Training"
   ]
  },
  {
   "cell_type": "code",
   "execution_count": 28,
   "id": "43aa0141-b5b0-4e1c-95bb-a49979167348",
   "metadata": {},
   "outputs": [],
   "source": [
    "tcga_mlp_diffusion_model = MLPDiffusion(d_in=7776, num_classes=0, is_y_cond=False, rtdl_params={\"d_layers\": [128, 32], \"dropout\": 0.7})\n",
    "tcga_diff_model = GaussianMultinomialDiffusion(num_classes=np.array([0]), num_numerical_features=7776, denoise_fn=tcga_mlp_diffusion_model)"
   ]
  },
  {
   "cell_type": "code",
   "execution_count": 29,
   "id": "c21c1c0d-584b-4751-a2d7-b50439eaad4c",
   "metadata": {},
   "outputs": [
    {
     "name": "stdout",
     "output_type": "stream",
     "text": [
      "|Epoch 0 | Average training loss: 1.0450759530067444 |\n",
      "|Epoch 1 | Average training loss: 1.0480094850063324 |\n",
      "|Epoch 2 | Average training loss: 1.0367399752140045 |\n",
      "|Epoch 3 | Average training loss: 1.0467972159385681 |\n",
      "|Epoch 4 | Average training loss: 1.036918193101883 |\n",
      "|Epoch 5 | Average training loss: 1.037003517150879 |\n",
      "|Epoch 6 | Average training loss: 1.0269263982772827 |\n",
      "|Epoch 7 | Average training loss: 1.0266529321670532 |\n",
      "|Epoch 8 | Average training loss: 1.0261495113372803 |\n",
      "|Epoch 9 | Average training loss: 1.028094857931137 | Average testing loss: 92.62218475341797\n",
      "|Epoch 10 | Average training loss: 1.0312925577163696 |\n",
      "|Epoch 11 | Average training loss: 1.019976019859314 |\n",
      "|Epoch 12 | Average training loss: 1.0273589491844177 |\n",
      "|Epoch 13 | Average training loss: 1.0201581716537476 |\n",
      "|Epoch 14 | Average training loss: 1.0208024680614471 |\n",
      "|Epoch 15 | Average training loss: 1.019594520330429 |\n",
      "|Epoch 16 | Average training loss: 1.0228318870067596 |\n",
      "|Epoch 17 | Average training loss: 1.0181819796562195 |\n",
      "|Epoch 18 | Average training loss: 1.0194412469863892 |\n",
      "|Epoch 19 | Average training loss: 1.0203489065170288 | Average testing loss: 18.672828674316406\n",
      "|Epoch 20 | Average training loss: 1.0159472525119781 |\n",
      "|Epoch 21 | Average training loss: 1.0178121328353882 |\n",
      "|Epoch 22 | Average training loss: 1.0160470604896545 |\n",
      "|Epoch 23 | Average training loss: 1.0154084861278534 |\n",
      "|Epoch 24 | Average training loss: 1.0166789889335632 |\n",
      "|Epoch 25 | Average training loss: 1.0159874558448792 |\n",
      "|Epoch 26 | Average training loss: 1.0135617852210999 |\n",
      "|Epoch 27 | Average training loss: 1.0160284638404846 |\n",
      "|Epoch 28 | Average training loss: 1.0148867964744568 |\n",
      "|Epoch 29 | Average training loss: 1.0141804218292236 | Average testing loss: 3488621.25\n",
      "|Epoch 30 | Average training loss: 1.0142606496810913 |\n",
      "|Epoch 31 | Average training loss: 1.0125987231731415 |\n",
      "|Epoch 32 | Average training loss: 1.0136587917804718 |\n",
      "|Epoch 33 | Average training loss: 1.011899471282959 |\n",
      "|Epoch 34 | Average training loss: 1.0138045251369476 |\n",
      "|Epoch 35 | Average training loss: 1.0132704675197601 |\n",
      "|Epoch 36 | Average training loss: 1.0145057439804077 |\n",
      "|Epoch 37 | Average training loss: 1.0131067633628845 |\n",
      "|Epoch 38 | Average training loss: 1.014758676290512 |\n",
      "|Epoch 39 | Average training loss: 1.0117858052253723 | Average testing loss: 154.8841552734375\n",
      "|Epoch 40 | Average training loss: 1.012477457523346 |\n",
      "|Epoch 41 | Average training loss: 1.0129608809947968 |\n",
      "|Epoch 42 | Average training loss: 1.0128253400325775 |\n",
      "|Epoch 43 | Average training loss: 1.0122201442718506 |\n",
      "|Epoch 44 | Average training loss: 1.0099997818470001 |\n",
      "|Epoch 45 | Average training loss: 1.0108381509780884 |\n",
      "|Epoch 46 | Average training loss: 1.0116380155086517 |\n",
      "|Epoch 47 | Average training loss: 1.0101149380207062 |\n",
      "|Epoch 48 | Average training loss: 1.0097772777080536 |\n",
      "|Epoch 49 | Average training loss: 1.0091553032398224 | Average testing loss: 297.9474182128906\n",
      "|Epoch 50 | Average training loss: 1.0100876092910767 |\n",
      "|Epoch 51 | Average training loss: 1.0098221898078918 |\n",
      "|Epoch 52 | Average training loss: 1.0120388269424438 |\n",
      "|Epoch 53 | Average training loss: 1.009397029876709 |\n",
      "|Epoch 54 | Average training loss: 1.0105877816677094 |\n",
      "|Epoch 55 | Average training loss: 1.0112017691135406 |\n",
      "|Epoch 56 | Average training loss: 1.0101582705974579 |\n",
      "|Epoch 57 | Average training loss: 1.0111295878887177 |\n",
      "|Epoch 58 | Average training loss: 1.0098349750041962 |\n",
      "|Epoch 59 | Average training loss: 1.0104267001152039 | Average testing loss: 434.83111572265625\n",
      "|Epoch 60 | Average training loss: 1.010643869638443 |\n",
      "|Epoch 61 | Average training loss: 1.0098958313465118 |\n",
      "|Epoch 62 | Average training loss: 1.01027512550354 |\n",
      "|Epoch 63 | Average training loss: 1.0101712048053741 |\n",
      "|Epoch 64 | Average training loss: 1.0089428424835205 |\n",
      "|Epoch 65 | Average training loss: 1.0102285742759705 |\n",
      "|Epoch 66 | Average training loss: 1.0092951357364655 |\n",
      "|Epoch 67 | Average training loss: 1.0095677971839905 |\n",
      "|Epoch 68 | Average training loss: 1.0089153051376343 |\n",
      "|Epoch 69 | Average training loss: 1.0089107751846313 | Average testing loss: 514.7960815429688\n",
      "|Epoch 70 | Average training loss: 1.0084922313690186 |\n",
      "|Epoch 71 | Average training loss: 1.0086133778095245 |\n",
      "|Epoch 72 | Average training loss: 1.0085203349590302 |\n",
      "|Epoch 73 | Average training loss: 1.0079132616519928 |\n",
      "|Epoch 74 | Average training loss: 1.0095507204532623 |\n",
      "|Epoch 75 | Average training loss: 1.0078865885734558 |\n",
      "|Epoch 76 | Average training loss: 1.007343053817749 |\n",
      "|Epoch 77 | Average training loss: 1.008487582206726 |\n",
      "|Epoch 78 | Average training loss: 1.0080057978630066 |\n",
      "|Epoch 79 | Average training loss: 1.008317083120346 | Average testing loss: 33.696266174316406\n",
      "|Epoch 80 | Average training loss: 1.0096121430397034 |\n",
      "|Epoch 81 | Average training loss: 1.00799161195755 |\n",
      "|Epoch 82 | Average training loss: 1.0066200196743011 |\n",
      "|Epoch 83 | Average training loss: 1.007246732711792 |\n",
      "|Epoch 84 | Average training loss: 1.0071283280849457 |\n",
      "|Epoch 85 | Average training loss: 1.0069583654403687 |\n",
      "|Epoch 86 | Average training loss: 1.0078893899917603 |\n",
      "|Epoch 87 | Average training loss: 1.0082254111766815 |\n",
      "|Epoch 88 | Average training loss: 1.0068257749080658 |\n",
      "|Epoch 89 | Average training loss: 1.0081830322742462 | Average testing loss: 436.109375\n",
      "|Epoch 90 | Average training loss: 1.0073310732841492 |\n",
      "|Epoch 91 | Average training loss: 1.007079392671585 |\n",
      "|Epoch 92 | Average training loss: 1.0067916810512543 |\n",
      "|Epoch 93 | Average training loss: 1.0084926187992096 |\n",
      "|Epoch 94 | Average training loss: 1.007143348455429 |\n",
      "|Epoch 95 | Average training loss: 1.0078164935112 |\n",
      "|Epoch 96 | Average training loss: 1.006474256515503 |\n",
      "|Epoch 97 | Average training loss: 1.008530080318451 |\n",
      "|Epoch 98 | Average training loss: 1.0071412026882172 |\n",
      "|Epoch 99 | Average training loss: 1.0080766081809998 | Average testing loss: 3414205.5\n",
      "|Epoch 100 | Average training loss: 1.007141500711441 |\n",
      "|Epoch 101 | Average training loss: 1.0086819231510162 |\n",
      "|Epoch 102 | Average training loss: 1.006314218044281 |\n",
      "|Epoch 103 | Average training loss: 1.0068009197711945 |\n",
      "|Epoch 104 | Average training loss: 1.0062826871871948 |\n",
      "|Epoch 105 | Average training loss: 1.006826639175415 |\n",
      "|Epoch 106 | Average training loss: 1.007629543542862 |\n",
      "|Epoch 107 | Average training loss: 1.005472093820572 |\n",
      "|Epoch 108 | Average training loss: 1.007092446088791 |\n",
      "|Epoch 109 | Average training loss: 1.0052702724933624 | Average testing loss: 3525.33056640625\n",
      "|Epoch 110 | Average training loss: 1.0055371224880219 |\n",
      "|Epoch 111 | Average training loss: 1.0057563483715057 |\n",
      "|Epoch 112 | Average training loss: 1.0051104426383972 |\n",
      "|Epoch 113 | Average training loss: 1.0063692927360535 |\n",
      "|Epoch 114 | Average training loss: 1.004576712846756 |\n",
      "|Epoch 115 | Average training loss: 1.0057105123996735 |\n",
      "|Epoch 116 | Average training loss: 1.0070457756519318 |\n",
      "|Epoch 117 | Average training loss: 1.0065304338932037 |\n",
      "|Epoch 118 | Average training loss: 1.0063106417655945 |\n",
      "|Epoch 119 | Average training loss: 1.004816859960556 | Average testing loss: 240.3712921142578\n",
      "|Epoch 120 | Average training loss: 1.004817396402359 |\n",
      "|Epoch 121 | Average training loss: 1.0065537989139557 |\n",
      "|Epoch 122 | Average training loss: 1.0059447586536407 |\n",
      "|Epoch 123 | Average training loss: 1.0042120516300201 |\n",
      "|Epoch 124 | Average training loss: 1.0051458775997162 |\n",
      "|Epoch 125 | Average training loss: 1.0057021081447601 |\n",
      "|Epoch 126 | Average training loss: 1.0068357586860657 |\n",
      "|Epoch 127 | Average training loss: 1.0053969025611877 |\n",
      "|Epoch 128 | Average training loss: 1.0060115158557892 |\n",
      "|Epoch 129 | Average training loss: 1.0065660774707794 | Average testing loss: 3496508.75\n",
      "|Epoch 130 | Average training loss: 1.0045988261699677 |\n",
      "|Epoch 131 | Average training loss: 1.0069389045238495 |\n",
      "|Epoch 132 | Average training loss: 1.0057415068149567 |\n",
      "|Epoch 133 | Average training loss: 1.0066929459571838 |\n",
      "|Epoch 134 | Average training loss: 1.005507230758667 |\n",
      "|Epoch 135 | Average training loss: 1.0065913498401642 |\n",
      "|Epoch 136 | Average training loss: 1.005616158246994 |\n",
      "|Epoch 137 | Average training loss: 1.004730761051178 |\n",
      "|Epoch 138 | Average training loss: 1.0049335360527039 |\n",
      "|Epoch 139 | Average training loss: 1.006355196237564 | Average testing loss: 17.971860885620117\n",
      "|Epoch 140 | Average training loss: 1.0044966638088226 |\n",
      "|Epoch 141 | Average training loss: 1.0056924223899841 |\n",
      "|Epoch 142 | Average training loss: 1.0066551864147186 |\n",
      "|Epoch 143 | Average training loss: 1.0048928558826447 |\n",
      "|Epoch 144 | Average training loss: 1.003854900598526 |\n",
      "|Epoch 145 | Average training loss: 1.0043155550956726 |\n",
      "|Epoch 146 | Average training loss: 1.005786955356598 |\n",
      "|Epoch 147 | Average training loss: 1.0060888826847076 |\n",
      "|Epoch 148 | Average training loss: 1.0052105784416199 |\n",
      "|Epoch 149 | Average training loss: 1.0039518475532532 | Average testing loss: 560.997802734375\n",
      "|Epoch 150 | Average training loss: 1.0038073658943176 |\n",
      "|Epoch 151 | Average training loss: 1.0042199194431305 |\n",
      "|Epoch 152 | Average training loss: 1.0043489038944244 |\n",
      "|Epoch 153 | Average training loss: 1.0046624541282654 |\n",
      "|Epoch 154 | Average training loss: 1.0054952204227448 |\n",
      "|Epoch 155 | Average training loss: 1.0047094225883484 |\n",
      "|Epoch 156 | Average training loss: 1.0056959688663483 |\n",
      "|Epoch 157 | Average training loss: 1.0052284002304077 |\n",
      "|Epoch 158 | Average training loss: 1.005167841911316 |\n",
      "|Epoch 159 | Average training loss: 1.0065764784812927 | Average testing loss: 617.7337646484375\n",
      "|Epoch 160 | Average training loss: 1.0049562454223633 |\n",
      "|Epoch 161 | Average training loss: 1.0046043395996094 |\n",
      "|Epoch 162 | Average training loss: 1.003017097711563 |\n",
      "|Epoch 163 | Average training loss: 1.0040671229362488 |\n",
      "|Epoch 164 | Average training loss: 1.0038059949874878 |\n",
      "|Epoch 165 | Average training loss: 1.004708707332611 |\n",
      "|Epoch 166 | Average training loss: 1.003450721502304 |\n",
      "|Epoch 167 | Average training loss: 1.0054509341716766 |\n",
      "|Epoch 168 | Average training loss: 1.0050594508647919 |\n",
      "|Epoch 169 | Average training loss: 1.0045946538448334 | Average testing loss: 38.49061965942383\n",
      "|Epoch 170 | Average training loss: 1.0052839815616608 |\n",
      "|Epoch 171 | Average training loss: 1.0049598217010498 |\n",
      "|Epoch 172 | Average training loss: 1.0045254230499268 |\n",
      "|Epoch 173 | Average training loss: 1.003824919462204 |\n",
      "|Epoch 174 | Average training loss: 1.0055629312992096 |\n",
      "|Epoch 175 | Average training loss: 1.0044106543064117 |\n",
      "|Epoch 176 | Average training loss: 1.0048247873783112 |\n",
      "|Epoch 177 | Average training loss: 1.0037734806537628 |\n",
      "|Epoch 178 | Average training loss: 1.0040235221385956 |\n",
      "|Epoch 179 | Average training loss: 1.0027760863304138 | Average testing loss: 1173.281494140625\n",
      "|Epoch 180 | Average training loss: 1.0038496553897858 |\n",
      "|Epoch 181 | Average training loss: 1.0028449594974518 |\n",
      "|Epoch 182 | Average training loss: 1.0044658184051514 |\n",
      "|Epoch 183 | Average training loss: 1.00399711728096 |\n",
      "|Epoch 184 | Average training loss: 1.0036630928516388 |\n",
      "|Epoch 185 | Average training loss: 1.0048718452453613 |\n",
      "|Epoch 186 | Average training loss: 1.0024021565914154 |\n",
      "|Epoch 187 | Average training loss: 1.0036711692810059 |\n",
      "|Epoch 188 | Average training loss: 1.0050312280654907 |\n",
      "|Epoch 189 | Average training loss: 1.0034410953521729 | Average testing loss: 222.0673828125\n",
      "|Epoch 190 | Average training loss: 1.0043521523475647 |\n",
      "|Epoch 191 | Average training loss: 1.0022000223398209 |\n",
      "|Epoch 192 | Average training loss: 1.0037358105182648 |\n",
      "|Epoch 193 | Average training loss: 1.0042831301689148 |\n",
      "|Epoch 194 | Average training loss: 1.00486820936203 |\n",
      "|Epoch 195 | Average training loss: 1.005200833082199 |\n",
      "|Epoch 196 | Average training loss: 1.0023518204689026 |\n",
      "|Epoch 197 | Average training loss: 1.0032256841659546 |\n",
      "|Epoch 198 | Average training loss: 1.0042105615139008 |\n",
      "|Epoch 199 | Average training loss: 1.0041402876377106 | Average testing loss: 887.2728271484375\n",
      "|Epoch 200 | Average training loss: 1.0030441880226135 |\n",
      "|Epoch 201 | Average training loss: 1.004099041223526 |\n",
      "|Epoch 202 | Average training loss: 1.0032488405704498 |\n",
      "|Epoch 203 | Average training loss: 1.0033679604530334 |\n",
      "|Epoch 204 | Average training loss: 1.0037875771522522 |\n",
      "|Epoch 205 | Average training loss: 1.0033947229385376 |\n",
      "|Epoch 206 | Average training loss: 1.0042027533054352 |\n",
      "|Epoch 207 | Average training loss: 1.003085434436798 |\n",
      "|Epoch 208 | Average training loss: 1.0036187171936035 |\n",
      "|Epoch 209 | Average training loss: 1.0040553212165833 | Average testing loss: 885.1613159179688\n",
      "|Epoch 210 | Average training loss: 1.0037146508693695 |\n",
      "|Epoch 211 | Average training loss: 1.0042651295661926 |\n",
      "|Epoch 212 | Average training loss: 1.0031424462795258 |\n",
      "|Epoch 213 | Average training loss: 1.0023595094680786 |\n",
      "|Epoch 214 | Average training loss: 1.0032031834125519 |\n",
      "|Epoch 215 | Average training loss: 1.0028027147054672 |\n",
      "|Epoch 216 | Average training loss: 1.0038002133369446 |\n",
      "|Epoch 217 | Average training loss: 1.0032680928707123 |\n",
      "|Epoch 218 | Average training loss: 1.0024707317352295 |\n",
      "|Epoch 219 | Average training loss: 1.0037886500358582 | Average testing loss: 3462304.5\n",
      "|Epoch 220 | Average training loss: 1.0026511251926422 |\n",
      "|Epoch 221 | Average training loss: 1.003228336572647 |\n",
      "|Epoch 222 | Average training loss: 1.0035792887210846 |\n",
      "|Epoch 223 | Average training loss: 1.003163069486618 |\n",
      "|Epoch 224 | Average training loss: 1.0045008063316345 |\n",
      "|Epoch 225 | Average training loss: 1.0033153295516968 |\n",
      "|Epoch 226 | Average training loss: 1.003237396478653 |\n",
      "|Epoch 227 | Average training loss: 1.0023173689842224 |\n",
      "|Epoch 228 | Average training loss: 1.0028182566165924 |\n",
      "|Epoch 229 | Average training loss: 1.00346839427948 | Average testing loss: 38.12202453613281\n",
      "|Epoch 230 | Average training loss: 1.0032464861869812 |\n",
      "|Epoch 231 | Average training loss: 1.0034996569156647 |\n",
      "|Epoch 232 | Average training loss: 1.003572791814804 |\n",
      "|Epoch 233 | Average training loss: 1.0026686489582062 |\n",
      "|Epoch 234 | Average training loss: 1.0041447281837463 |\n",
      "|Epoch 235 | Average training loss: 1.002297967672348 |\n",
      "|Epoch 236 | Average training loss: 1.0043233335018158 |\n",
      "|Epoch 237 | Average training loss: 1.0037661492824554 |\n",
      "|Epoch 238 | Average training loss: 1.002559334039688 |\n",
      "|Epoch 239 | Average training loss: 1.0019188225269318 | Average testing loss: 3522604.0\n",
      "|Epoch 240 | Average training loss: 1.0033524632453918 |\n",
      "|Epoch 241 | Average training loss: 1.003186672925949 |\n",
      "|Epoch 242 | Average training loss: 1.0037775933742523 |\n",
      "|Epoch 243 | Average training loss: 1.0032977163791656 |\n",
      "|Epoch 244 | Average training loss: 1.002991259098053 |\n",
      "|Epoch 245 | Average training loss: 1.002929925918579 |\n",
      "|Epoch 246 | Average training loss: 1.0034882426261902 |\n",
      "|Epoch 247 | Average training loss: 1.002986192703247 |\n",
      "|Epoch 248 | Average training loss: 1.0041213631629944 |\n",
      "|Epoch 249 | Average training loss: 1.0007143765687943 | Average testing loss: 540.84521484375\n",
      "|Epoch 250 | Average training loss: 1.0020112693309784 |\n",
      "|Epoch 251 | Average training loss: 1.0041899681091309 |\n",
      "|Epoch 252 | Average training loss: 1.0027826726436615 |\n",
      "|Epoch 253 | Average training loss: 1.0024124383926392 |\n",
      "|Epoch 254 | Average training loss: 1.0038560926914215 |\n",
      "|Epoch 255 | Average training loss: 1.003066509962082 |\n",
      "|Epoch 256 | Average training loss: 1.0026261508464813 |\n",
      "|Epoch 257 | Average training loss: 1.0028626918792725 |\n",
      "|Epoch 258 | Average training loss: 1.0029772818088531 |\n",
      "|Epoch 259 | Average training loss: 1.0020848214626312 | Average testing loss: 14.128918647766113\n",
      "|Epoch 260 | Average training loss: 1.0029939115047455 |\n",
      "|Epoch 261 | Average training loss: 1.0038063526153564 |\n",
      "|Epoch 262 | Average training loss: 1.0034766495227814 |\n",
      "|Epoch 263 | Average training loss: 1.003548413515091 |\n",
      "|Epoch 264 | Average training loss: 1.0030144453048706 |\n",
      "|Epoch 265 | Average training loss: 1.0025562345981598 |\n",
      "|Epoch 266 | Average training loss: 1.0013209283351898 |\n",
      "|Epoch 267 | Average training loss: 1.0035353600978851 |\n",
      "|Epoch 268 | Average training loss: 1.0012460350990295 |\n",
      "|Epoch 269 | Average training loss: 1.0027039349079132 | Average testing loss: 3394246.0\n",
      "|Epoch 270 | Average training loss: 1.002702534198761 |\n",
      "|Epoch 271 | Average training loss: 1.002677083015442 |\n",
      "|Epoch 272 | Average training loss: 1.0034604668617249 |\n",
      "|Epoch 273 | Average training loss: 1.003267765045166 |\n",
      "|Epoch 274 | Average training loss: 1.003735899925232 |\n",
      "|Epoch 275 | Average training loss: 1.0017212331295013 |\n",
      "|Epoch 276 | Average training loss: 1.0042960941791534 |\n",
      "|Epoch 277 | Average training loss: 1.0022229850292206 |\n",
      "|Epoch 278 | Average training loss: 1.0007959306240082 |\n",
      "|Epoch 279 | Average training loss: 1.0030736923217773 | Average testing loss: 3538.3173828125\n",
      "|Epoch 280 | Average training loss: 1.0020390152931213 |\n",
      "|Epoch 281 | Average training loss: 1.0042442679405212 |\n",
      "|Epoch 282 | Average training loss: 1.001842349767685 |\n",
      "|Epoch 283 | Average training loss: 1.0031937658786774 |\n",
      "|Epoch 284 | Average training loss: 1.0032756626605988 |\n",
      "|Epoch 285 | Average training loss: 1.0014823079109192 |\n",
      "|Epoch 286 | Average training loss: 1.0015072226524353 |\n",
      "|Epoch 287 | Average training loss: 1.002891182899475 |\n",
      "|Epoch 288 | Average training loss: 1.0028554499149323 |\n",
      "|Epoch 289 | Average training loss: 1.001755177974701 | Average testing loss: 108.11585235595703\n",
      "|Epoch 290 | Average training loss: 1.0018506348133087 |\n",
      "|Epoch 291 | Average training loss: 1.0026543140411377 |\n",
      "|Epoch 292 | Average training loss: 1.0021958649158478 |\n",
      "|Epoch 293 | Average training loss: 1.001322627067566 |\n",
      "|Epoch 294 | Average training loss: 1.001977950334549 |\n",
      "|Epoch 295 | Average training loss: 1.0034566521644592 |\n",
      "|Epoch 296 | Average training loss: 1.0005698800086975 |\n",
      "|Epoch 297 | Average training loss: 1.0011005997657776 |\n",
      "|Epoch 298 | Average training loss: 1.0020544826984406 |\n",
      "|Epoch 299 | Average training loss: 1.0034454762935638 | Average testing loss: 426.17266845703125\n"
     ]
    }
   ],
   "source": [
    "device = torch.device(\"cuda\")\n",
    "tcga_diff_model.to(device)\n",
    "optimizer = torch.optim.Adam(tcga_diff_model.parameters(), lr=1e-4)\n",
    "train_losses_tcga = training_loop(tcga_train_dataloader, tcga_test_dataloader, 300, tcga_diff_model, device, optimizer)"
   ]
  },
  {
   "cell_type": "code",
   "execution_count": 30,
   "id": "227e2ad7-a6ed-42bb-8284-c8ebf60edaab",
   "metadata": {},
   "outputs": [
    {
     "data": {
      "text/plain": [
       "[<matplotlib.lines.Line2D at 0x7fa0508a03d0>]"
      ]
     },
     "execution_count": 30,
     "metadata": {},
     "output_type": "execute_result"
    },
    {
     "data": {
      "image/png": "[encoded data removed]",
      "text/plain": [
       "<Figure size 640x480 with 1 Axes>"
      ]
     },
     "metadata": {},
     "output_type": "display_data"
    }
   ],
   "source": [
    "plt.plot(train_losses_tcga)"
   ]
  },
  {
   "cell_type": "code",
   "execution_count": null,
   "id": "0e425148-b44c-41a7-80a3-df44df56e77c",
   "metadata": {},
   "outputs": [],
   "source": []
  },
  {
   "cell_type": "code",
   "execution_count": null,
   "id": "28664625-3c6d-427f-8d9d-28aa4cc9e541",
   "metadata": {},
   "outputs": [],
   "source": []
  },
  {
   "cell_type": "code",
   "execution_count": null,
   "id": "a8119f89-f686-49b8-889c-6a02eeb4135c",
   "metadata": {},
   "outputs": [],
   "source": []
  }
 ],
 "metadata": {
  "kernelspec": {
   "display_name": "Python [conda env:tddpm] *",
   "language": "python",
   "name": "conda-env-tddpm-py"
  },
  "language_info": {
   "codemirror_mode": {
    "name": "ipython",
    "version": 3
   },
   "file_extension": ".py",
   "mimetype": "text/x-python",
   "name": "python",
   "nbconvert_exporter": "python",
   "pygments_lexer": "ipython3",
   "version": "3.9.18"
  }
 },
 "nbformat": 4,
 "nbformat_minor": 5
}
