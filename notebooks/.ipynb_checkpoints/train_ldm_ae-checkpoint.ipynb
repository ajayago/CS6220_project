{
 "cells": [
  {
   "cell_type": "markdown",
   "id": "1f994386-fcc6-48d0-a0ae-9b3f5dcec61f",
   "metadata": {},
   "source": [
    "This notebook uses TabDDPM but adds a vanilla AE encoder and decoder layer before and after the main TabDDPM, making it a Latent Diffusion Model(LDM)."
   ]
  },
  {
   "cell_type": "code",
   "execution_count": 1,
   "id": "ea2d4c1e-1dce-4f25-b950-995c853ba161",
   "metadata": {},
   "outputs": [],
   "source": [
    "import pandas as pd\n",
    "import numpy as np\n",
    "import random"
   ]
  },
  {
   "cell_type": "code",
   "execution_count": 2,
   "id": "9b9f03f1-4fe9-4d0c-b24a-cced0ab618e8",
   "metadata": {},
   "outputs": [],
   "source": [
    "import torch\n",
    "import matplotlib.pyplot as plt\n",
    "from torch.utils.data import TensorDataset, DataLoader"
   ]
  },
  {
   "cell_type": "code",
   "execution_count": 3,
   "id": "71dec8ae-0f6a-4ab1-bbe4-58243e8f92d0",
   "metadata": {},
   "outputs": [],
   "source": [
    "import sys\n",
    "sys.path.append(\"../src/tab_ddpm/\")"
   ]
  },
  {
   "cell_type": "code",
   "execution_count": 4,
   "id": "003e8c23-d53e-499d-92b2-7c683caec5a8",
   "metadata": {},
   "outputs": [],
   "source": [
    "from gaussian_multinomial_diffusion import GaussianMultinomialDiffusion\n",
    "from modules import MLPDiffusion"
   ]
  },
  {
   "cell_type": "code",
   "execution_count": 5,
   "id": "13a317df-96b4-4193-acfb-64867c859dfe",
   "metadata": {},
   "outputs": [],
   "source": [
    "sys.path.append(\"../src/\")\n",
    "from ae_model import autoencoder\n",
    "from loss_functions import get_kld_loss, coral, compute_covariance, ZINORMLoss"
   ]
  },
  {
   "cell_type": "code",
   "execution_count": 6,
   "id": "7446e606-4d69-4792-b19d-a73c74d4c1a3",
   "metadata": {},
   "outputs": [],
   "source": [
    "device = torch.device(\"cuda:0\")"
   ]
  },
  {
   "cell_type": "code",
   "execution_count": 7,
   "id": "4789cfb8-3c04-4a73-96e9-bb99963a119e",
   "metadata": {},
   "outputs": [
    {
     "data": {
      "text/plain": [
       "<torch._C.Generator at 0x7fd8045e7dd0>"
      ]
     },
     "execution_count": 7,
     "metadata": {},
     "output_type": "execute_result"
    }
   ],
   "source": [
    "# seed things\n",
    "random.seed(0)\n",
    "np.random.seed(0)\n",
    "def seed_worker(worker_id):\n",
    "    worker_seed = torch.initial_seed() % 2**32\n",
    "    np.random.seed(worker_seed)\n",
    "    random.seed(worker_seed)\n",
    "\n",
    "g = torch.Generator()\n",
    "g.manual_seed(0)"
   ]
  },
  {
   "cell_type": "markdown",
   "id": "13731f12-d4ca-4bbb-9453-835870768d8f",
   "metadata": {},
   "source": [
    "### Load Datasets\n",
    "\n",
    "#### Cell Lines"
   ]
  },
  {
   "cell_type": "code",
   "execution_count": 8,
   "id": "23db9c9b-ad11-4ce0-be90-2d2e593424e8",
   "metadata": {},
   "outputs": [
    {
     "data": {
      "text/plain": [
       "(1569, 7776)"
      ]
     },
     "execution_count": 8,
     "metadata": {},
     "output_type": "execute_result"
    }
   ],
   "source": [
    "cl_train_df = pd.read_csv(\"../data/diffusion_pretraining/cl_diffusion_train_sample0.csv\", index_col=0)\n",
    "cl_train_df.shape"
   ]
  },
  {
   "cell_type": "code",
   "execution_count": 9,
   "id": "7b15614f-0072-494d-8d25-336e3b13d83a",
   "metadata": {},
   "outputs": [
    {
     "data": {
      "text/plain": [
       "(175, 7776)"
      ]
     },
     "execution_count": 9,
     "metadata": {},
     "output_type": "execute_result"
    }
   ],
   "source": [
    "cl_test_df = pd.read_csv(\"../data/diffusion_pretraining/cl_diffusion_test_sample0.csv\", index_col=0)\n",
    "cl_test_df.shape"
   ]
  },
  {
   "cell_type": "code",
   "execution_count": 10,
   "id": "ba19b4e2-6976-42e7-91dc-595185297c6e",
   "metadata": {},
   "outputs": [],
   "source": [
    "cl_train_dataset = TensorDataset(torch.tensor(cl_train_df.values), torch.tensor(cl_train_df.values))"
   ]
  },
  {
   "cell_type": "code",
   "execution_count": 11,
   "id": "3945adeb-f73b-4304-8be3-1483c8e8a0b0",
   "metadata": {},
   "outputs": [],
   "source": [
    "cl_test_dataset = TensorDataset(torch.tensor(cl_test_df.values), torch.tensor(cl_test_df.values))"
   ]
  },
  {
   "cell_type": "code",
   "execution_count": 12,
   "id": "ecaf349c-9381-4ca3-8ea1-375f89634420",
   "metadata": {},
   "outputs": [],
   "source": [
    "cl_train_dataloader = DataLoader(cl_train_dataset, batch_size=128, shuffle=True, num_workers=1, worker_init_fn=seed_worker, generator=g,)"
   ]
  },
  {
   "cell_type": "code",
   "execution_count": 13,
   "id": "dc55edb5-735c-4f48-ab39-5fb32f3389ab",
   "metadata": {},
   "outputs": [],
   "source": [
    "cl_test_dataloader = DataLoader(cl_test_dataset, batch_size=128, shuffle=False, num_workers=1, worker_init_fn=seed_worker, generator=g,)"
   ]
  },
  {
   "cell_type": "markdown",
   "id": "109860e7-997f-49f0-9a73-27a145db4149",
   "metadata": {},
   "source": [
    "#### Patient Dataset"
   ]
  },
  {
   "cell_type": "code",
   "execution_count": 14,
   "id": "f4d5528a-c9d5-4f23-8a23-213ae4e6b4f4",
   "metadata": {},
   "outputs": [
    {
     "data": {
      "text/plain": [
       "(476, 7776)"
      ]
     },
     "execution_count": 14,
     "metadata": {},
     "output_type": "execute_result"
    }
   ],
   "source": [
    "tcga_train_df = pd.read_csv(\"../data/diffusion_pretraining/tcga_diffusion_train_sample0.csv\", index_col=0)\n",
    "tcga_train_df.shape"
   ]
  },
  {
   "cell_type": "code",
   "execution_count": 15,
   "id": "b3dfa74b-acb1-4873-81dc-2b26bf11173e",
   "metadata": {},
   "outputs": [
    {
     "data": {
      "text/plain": [
       "(120, 7776)"
      ]
     },
     "execution_count": 15,
     "metadata": {},
     "output_type": "execute_result"
    }
   ],
   "source": [
    "tcga_test_df = pd.read_csv(\"../data/diffusion_pretraining/tcga_diffusion_test_sample0.csv\", index_col=0)\n",
    "tcga_test_df.shape"
   ]
  },
  {
   "cell_type": "code",
   "execution_count": 16,
   "id": "76ce063b-6f8c-4913-9309-bdf077899376",
   "metadata": {},
   "outputs": [],
   "source": [
    "tcga_train_dataset = TensorDataset(torch.tensor(tcga_train_df.values), torch.tensor(tcga_train_df.values))"
   ]
  },
  {
   "cell_type": "code",
   "execution_count": 17,
   "id": "ef89b503-ee88-41c3-b5e8-b31c9d40e7f8",
   "metadata": {},
   "outputs": [],
   "source": [
    "tcga_test_dataset = TensorDataset(torch.tensor(tcga_test_df.values), torch.tensor(tcga_test_df.values))"
   ]
  },
  {
   "cell_type": "code",
   "execution_count": 18,
   "id": "64e05927-a2f1-4282-95a6-0a3ed87b869d",
   "metadata": {},
   "outputs": [],
   "source": [
    "tcga_train_dataloader = DataLoader(tcga_train_dataset, batch_size=64, shuffle=True, num_workers=1, worker_init_fn=seed_worker, generator=g,)"
   ]
  },
  {
   "cell_type": "code",
   "execution_count": 19,
   "id": "73b35f3c-2810-461d-8523-7113741dec36",
   "metadata": {},
   "outputs": [],
   "source": [
    "tcga_test_dataloader = DataLoader(tcga_test_dataset, batch_size=64, shuffle=False, num_workers=1, worker_init_fn=seed_worker, generator=g,)"
   ]
  },
  {
   "cell_type": "markdown",
   "id": "b693a07c-9b54-4ed8-9329-2c8d80072bac",
   "metadata": {},
   "source": [
    "#### Patient Diffusion model - LDM variant\n",
    "\n",
    "Add a Vanilla AE before the input goes to the diffusion model."
   ]
  },
  {
   "cell_type": "markdown",
   "id": "4777af3f-b80d-4fa7-93b1-d791ad2bbbe0",
   "metadata": {},
   "source": [
    "##### Pretraining the Vanilla AE before it can be used with the DDPM"
   ]
  },
  {
   "cell_type": "code",
   "execution_count": 20,
   "id": "ff69a715-18f0-4297-bf76-9f9f5bf958df",
   "metadata": {},
   "outputs": [],
   "source": [
    "# pretraining AE\n",
    "def training_loop_ae(train_dataloader, epochs, ae, device, optimizer):\n",
    "    train_losses = []\n",
    "    for i in range(epochs):\n",
    "        loss = 0.0\n",
    "        avg_test_loss = \"\"\n",
    "        for idx, batch in enumerate(train_dataloader):\n",
    "            optimizer.zero_grad()\n",
    "            inp_ae = batch[0].to(device=device, dtype=torch.float32)\n",
    "            inp_dec, enc = ae(inp_ae) # From AE encoder\n",
    "            \n",
    "            \n",
    "            mse_recon_loss = torch.nn.MSELoss()(inp_dec, inp_ae)\n",
    "            \n",
    "            total_loss = mse_recon_loss\n",
    "            total_loss.backward()\n",
    "            optimizer.step()\n",
    "            loss += total_loss.detach().item()\n",
    "\n",
    "        print(f\"|Epoch {i} | Average AE training loss: {loss/(idx+1)} |\")\n",
    "        train_losses.append(loss/(idx+1))\n",
    "    return train_losses"
   ]
  },
  {
   "cell_type": "code",
   "execution_count": 21,
   "id": "d6ca3c5e-07c8-48a1-8ae9-60421e1571eb",
   "metadata": {},
   "outputs": [
    {
     "data": {
      "text/plain": [
       "autoencoder(\n",
       "  (encoder): Sequential(\n",
       "    (enc-0): Linear(in_features=7776, out_features=256, bias=True)\n",
       "    (act-0): Tanh()\n",
       "    (enc-1): Linear(in_features=256, out_features=128, bias=True)\n",
       "  )\n",
       "  (decoder): Sequential(\n",
       "    (dec-2): Linear(in_features=128, out_features=256, bias=True)\n",
       "    (act-2): Tanh()\n",
       "    (dec-3): Linear(in_features=256, out_features=7776, bias=True)\n",
       "  )\n",
       ")"
      ]
     },
     "execution_count": 21,
     "metadata": {},
     "output_type": "execute_result"
    }
   ],
   "source": [
    "patient_ae = autoencoder(input_dim=7776, k_list=[256, 128], actf_list=[\"tanh\", \"relu\", \"tanh\", \"relu\"], is_linear_last_dec_layer=True, is_linear_last_enc_layer=True).to(device)\n",
    "patient_ae"
   ]
  },
  {
   "cell_type": "code",
   "execution_count": 22,
   "id": "eb6a49a6-ab6c-43f2-a799-86f7880404ce",
   "metadata": {},
   "outputs": [
    {
     "name": "stdout",
     "output_type": "stream",
     "text": [
      "|Epoch 0 | Average AE training loss: 1.4698071274906397 |\n",
      "|Epoch 1 | Average AE training loss: 1.4693291096191388 |\n",
      "|Epoch 2 | Average AE training loss: 1.8771887611364946 |\n",
      "|Epoch 3 | Average AE training loss: 1.8770629009814002 |\n",
      "|Epoch 4 | Average AE training loss: 1.4685101672657765 |\n",
      "|Epoch 5 | Average AE training loss: 1.4681924382166471 |\n",
      "|Epoch 6 | Average AE training loss: 1.4678589983668644 |\n",
      "|Epoch 7 | Average AE training loss: 1.4677006725105457 |\n",
      "|Epoch 8 | Average AE training loss: 1.4673108422430232 |\n",
      "|Epoch 9 | Average AE training loss: 1.4669856437831186 |\n",
      "|Epoch 10 | Average AE training loss: 1.8742102476535365 |\n",
      "|Epoch 11 | Average AE training loss: 1.4663428511994425 |\n",
      "|Epoch 12 | Average AE training loss: 1.8736512908653822 |\n",
      "|Epoch 13 | Average AE training loss: 1.8732043709314894 |\n",
      "|Epoch 14 | Average AE training loss: 1.465506620472297 |\n",
      "|Epoch 15 | Average AE training loss: 1.465208300796803 |\n",
      "|Epoch 16 | Average AE training loss: 1.464988769032061 |\n",
      "|Epoch 17 | Average AE training loss: 1.464725355122937 |\n",
      "|Epoch 18 | Average AE training loss: 1.4645373833191115 |\n",
      "|Epoch 19 | Average AE training loss: 1.4645436503342353 |\n",
      "|Epoch 20 | Average AE training loss: 1.870615123421885 |\n",
      "|Epoch 21 | Average AE training loss: 1.463637027394725 |\n",
      "|Epoch 22 | Average AE training loss: 1.4632993358245585 |\n",
      "|Epoch 23 | Average AE training loss: 1.86967662605457 |\n",
      "|Epoch 24 | Average AE training loss: 1.462885146640474 |\n",
      "|Epoch 25 | Average AE training loss: 1.4625749744591303 |\n",
      "|Epoch 26 | Average AE training loss: 1.4623588338727131 |\n",
      "|Epoch 27 | Average AE training loss: 1.4621481052599847 |\n",
      "|Epoch 28 | Average AE training loss: 1.4619823688990436 |\n",
      "|Epoch 29 | Average AE training loss: 1.461644627415808 |\n",
      "|Epoch 30 | Average AE training loss: 1.4616266212251503 |\n",
      "|Epoch 31 | Average AE training loss: 1.4612361239269376 |\n",
      "|Epoch 32 | Average AE training loss: 1.4610229144745972 |\n",
      "|Epoch 33 | Average AE training loss: 1.460764396499144 |\n",
      "|Epoch 34 | Average AE training loss: 1.4606194517982658 |\n",
      "|Epoch 35 | Average AE training loss: 1.460393629502505 |\n",
      "|Epoch 36 | Average AE training loss: 1.865965407632757 |\n",
      "|Epoch 37 | Average AE training loss: 1.4599446769570932 |\n",
      "|Epoch 38 | Average AE training loss: 1.459959996980615 |\n",
      "|Epoch 39 | Average AE training loss: 1.4597059974621516 |\n",
      "|Epoch 40 | Average AE training loss: 1.4592601404583547 |\n",
      "|Epoch 41 | Average AE training loss: 1.864577686006669 |\n",
      "|Epoch 42 | Average AE training loss: 1.4588263857003767 |\n",
      "|Epoch 43 | Average AE training loss: 1.458777721010847 |\n",
      "|Epoch 44 | Average AE training loss: 1.45847530674655 |\n",
      "|Epoch 45 | Average AE training loss: 1.8634375387628097 |\n",
      "|Epoch 46 | Average AE training loss: 1.4580009006604087 |\n",
      "|Epoch 47 | Average AE training loss: 1.457718460529577 |\n",
      "|Epoch 48 | Average AE training loss: 1.7066873352159746 |\n",
      "|Epoch 49 | Average AE training loss: 1.457299477478955 |\n",
      "|Epoch 50 | Average AE training loss: 1.8621299682126846 |\n",
      "|Epoch 51 | Average AE training loss: 1.4569790748355445 |\n",
      "|Epoch 52 | Average AE training loss: 1.4567627041833475 |\n",
      "|Epoch 53 | Average AE training loss: 1.4566618900571484 |\n",
      "|Epoch 54 | Average AE training loss: 1.456320035533281 |\n",
      "|Epoch 55 | Average AE training loss: 1.4561291975260247 |\n",
      "|Epoch 56 | Average AE training loss: 1.4562166659743525 |\n",
      "|Epoch 57 | Average AE training loss: 1.4559310148470104 |\n",
      "|Epoch 58 | Average AE training loss: 1.4555864618741907 |\n",
      "|Epoch 59 | Average AE training loss: 1.4554059960064478 |\n",
      "|Epoch 60 | Average AE training loss: 1.455242504074704 |\n",
      "|Epoch 61 | Average AE training loss: 1.4551466095726937 |\n",
      "|Epoch 62 | Average AE training loss: 1.4551929580484284 |\n",
      "|Epoch 63 | Average AE training loss: 1.4546131226961734 |\n",
      "|Epoch 64 | Average AE training loss: 1.454502786786179 |\n",
      "|Epoch 65 | Average AE training loss: 1.4543267280969303 |\n",
      "|Epoch 66 | Average AE training loss: 1.4543112162209582 |\n",
      "|Epoch 67 | Average AE training loss: 1.4541798129794188 |\n",
      "|Epoch 68 | Average AE training loss: 1.4537809895991813 |\n",
      "|Epoch 69 | Average AE training loss: 1.453561591973994 |\n",
      "|Epoch 70 | Average AE training loss: 2.2616865972377127 |\n",
      "|Epoch 71 | Average AE training loss: 1.4532076519099064 |\n",
      "|Epoch 72 | Average AE training loss: 1.4530009476147825 |\n",
      "|Epoch 73 | Average AE training loss: 1.7015496141975746 |\n",
      "|Epoch 74 | Average AE training loss: 1.7013322926068213 |\n",
      "|Epoch 75 | Average AE training loss: 1.4524947667960078 |\n",
      "|Epoch 76 | Average AE training loss: 1.8558824863284826 |\n",
      "|Epoch 77 | Average AE training loss: 1.4524183514295146 |\n",
      "|Epoch 78 | Average AE training loss: 1.4519543286878616 |\n",
      "|Epoch 79 | Average AE training loss: 1.452080229879357 |\n",
      "|Epoch 80 | Average AE training loss: 1.4515936595853418 |\n",
      "|Epoch 81 | Average AE training loss: 1.4514037596527487 |\n",
      "|Epoch 82 | Average AE training loss: 1.4513482267648214 |\n",
      "|Epoch 83 | Average AE training loss: 1.4510400444560219 |\n",
      "|Epoch 84 | Average AE training loss: 1.450849751388887 |\n",
      "|Epoch 85 | Average AE training loss: 1.4507444110349752 |\n",
      "|Epoch 86 | Average AE training loss: 1.450702482223278 |\n",
      "|Epoch 87 | Average AE training loss: 1.450581852113828 |\n",
      "|Epoch 88 | Average AE training loss: 1.450224152271403 |\n",
      "|Epoch 89 | Average AE training loss: 1.4501976399042178 |\n",
      "|Epoch 90 | Average AE training loss: 1.4499137688544579 |\n",
      "|Epoch 91 | Average AE training loss: 1.8526987946825102 |\n",
      "|Epoch 92 | Average AE training loss: 1.4495890819089254 |\n",
      "|Epoch 93 | Average AE training loss: 1.4494675475289114 |\n",
      "|Epoch 94 | Average AE training loss: 1.4496687885257415 |\n",
      "|Epoch 95 | Average AE training loss: 1.4491459042183124 |\n",
      "|Epoch 96 | Average AE training loss: 1.4493794846348464 |\n",
      "|Epoch 97 | Average AE training loss: 2.2542029160249513 |\n",
      "|Epoch 98 | Average AE training loss: 1.4486936163739301 |\n",
      "|Epoch 99 | Average AE training loss: 1.448635045089759 |\n"
     ]
    }
   ],
   "source": [
    "patient_ae.to(device)\n",
    "params = list(patient_ae.parameters())\n",
    "optimizer = torch.optim.Adam(params, lr=1e-5,)\n",
    "train_losses = training_loop_ae(tcga_train_dataloader, 100, patient_ae, device, optimizer)"
   ]
  },
  {
   "cell_type": "code",
   "execution_count": 23,
   "id": "1ee83697-acbc-454f-8894-f8f7a2de8c41",
   "metadata": {},
   "outputs": [
    {
     "data": {
      "text/plain": [
       "[<matplotlib.lines.Line2D at 0x7fd6f8266d60>]"
      ]
     },
     "execution_count": 23,
     "metadata": {},
     "output_type": "execute_result"
    },
    {
     "data": {
      "image/png": "[encoded data removed]",
      "text/plain": [
       "<Figure size 640x480 with 1 Axes>"
      ]
     },
     "metadata": {},
     "output_type": "display_data"
    }
   ],
   "source": [
    "plt.plot(train_losses)"
   ]
  },
  {
   "cell_type": "markdown",
   "id": "e1764dbb-4f51-4871-9f55-8f47cf2c609b",
   "metadata": {},
   "source": [
    "##### Training the LDM model with above Vanilla AE"
   ]
  },
  {
   "cell_type": "code",
   "execution_count": 24,
   "id": "39d960f0-4931-4693-afc8-5d725546fc50",
   "metadata": {},
   "outputs": [],
   "source": [
    "# testing function with LDM\n",
    "def testing_loop_ldm(test_dataloader, diffusion_model, ae, device):\n",
    "    avg_test_loss = 0.0\n",
    "    for idx, batch in enumerate(test_dataloader):\n",
    "        with torch.no_grad():\n",
    "            inp_vae = batch[0].to(device=device, dtype=torch.float32)\n",
    "            dec, inp = ae(inp_vae) # From AE encoder\n",
    "            \n",
    "            noise = torch.randn_like(inp).to(device) # this is the label we use   \n",
    "            b = inp.shape[0]\n",
    "            t, pt = diffusion_model.sample_time(b, device, 'uniform')\n",
    "            inp_t = diffusion_model.gaussian_q_sample(inp, t, noise) # forward process\n",
    "            model_out = diffusion_model._denoise_fn(inp_t, t) # predicted epsilon\n",
    "\n",
    "            # MSE between predicted inp_pred after reverse diffusion and original input\n",
    "            inp_pred = diffusion_model._predict_xstart_from_eps(inp_t, t, model_out)\n",
    "            out_vae = ae.decoder(inp_pred) # after VAE decoding\n",
    "            mse_recon_loss = torch.nn.MSELoss()(out_vae, inp_vae) # MSE after ensuring it follows the ZIN distribution\n",
    "\n",
    "            avg_test_loss += mse_recon_loss.detach().item()\n",
    "\n",
    "    return avg_test_loss/(idx+1)"
   ]
  },
  {
   "cell_type": "code",
   "execution_count": 25,
   "id": "4a2e8459-30d2-463f-8943-f3ae06af75dc",
   "metadata": {},
   "outputs": [],
   "source": [
    "# training function with LDM\n",
    "def training_loop_ldm(train_dataloader, test_dataloader, epochs, diffusion_model, ae, device, optimizer, scheduler=None):\n",
    "    train_losses = []\n",
    "    for i in range(epochs):\n",
    "        loss = 0.0\n",
    "        avg_test_loss = \"\"\n",
    "        for idx, batch in enumerate(train_dataloader):\n",
    "            optimizer.zero_grad()\n",
    "            inp_vae = batch[0].to(device=device, dtype=torch.float32)\n",
    "            with torch.no_grad():\n",
    "                dec, inp = ae(inp_vae) # From VAE encoder + reparameterization\n",
    "            # X_mu1, X_theta1, X_pi1 = ffn_zinb_model(inp_dec) # ZINorm\n",
    "            \n",
    "            noise = torch.randn_like(inp).to(device) # this is the label we use   \n",
    "            b = inp.shape[0]\n",
    "            t, pt = diffusion_model.sample_time(b, device, 'uniform')\n",
    "            inp_t = diffusion_model.gaussian_q_sample(inp, t, noise) # forward process\n",
    "            model_out = diffusion_model._denoise_fn(inp_t, t) # predicted epsilon\n",
    "            # loss calculation using MSE between predicted and actual noise\n",
    "            loss_gauss = diffusion_model._gaussian_loss(model_out, inp, inp_t, t, noise).mean()\n",
    "\n",
    "            # reconstruct inp, pass through VAE decoder and calculate VAE losses\n",
    "            inp_pred = diffusion_model._predict_xstart_from_eps(inp_t, t, model_out)\n",
    "            with torch.no_grad():\n",
    "                out_vae = ae.decoder(inp_pred) # after VAE decoding\n",
    "            mse_recon_loss = torch.nn.MSELoss()(out_vae, inp_vae)\n",
    "            \n",
    "            \n",
    "            total_loss = loss_gauss + mse_recon_loss\n",
    "            \n",
    "            total_loss.backward()\n",
    "            \n",
    "            optimizer.step()\n",
    "            if scheduler:\n",
    "                scheduler.step()\n",
    "            \n",
    "            loss += total_loss.detach().item()\n",
    "\n",
    "        if (i+1) % 10 == 0:\n",
    "            avg_test_loss = f\" Average testing loss: {testing_loop_ldm(test_dataloader, diffusion_model, ae, device)}\"\n",
    "\n",
    "        print(f\"|Epoch {i} | Average training loss: {loss/(idx+1)} |{avg_test_loss}\")\n",
    "        train_losses.append(loss/(idx+1))\n",
    "        \n",
    "    return train_losses\n",
    "            \n",
    "            "
   ]
  },
  {
   "cell_type": "code",
   "execution_count": 26,
   "id": "71291874-5098-4065-a570-ec8b578389c0",
   "metadata": {},
   "outputs": [],
   "source": [
    "tcga_mlp_diffusion_model = MLPDiffusion(d_in=128, num_classes=0, is_y_cond=False, rtdl_params={\"d_layers\": [64, 16], \"dropout\": 0.1})\n",
    "tcga_diff_model = GaussianMultinomialDiffusion(num_classes=np.array([0]), num_numerical_features=128, denoise_fn=tcga_mlp_diffusion_model)"
   ]
  },
  {
   "cell_type": "code",
   "execution_count": 27,
   "id": "1ba0b746-0975-4a74-bad2-7d18da757675",
   "metadata": {},
   "outputs": [
    {
     "name": "stdout",
     "output_type": "stream",
     "text": [
      "|Epoch 0 | Average training loss: 2.984828397631645 |\n",
      "|Epoch 1 | Average training loss: 2.5789883732795715 |\n",
      "|Epoch 2 | Average training loss: 2.566885679960251 |\n",
      "|Epoch 3 | Average training loss: 2.9928826689720154 |\n",
      "|Epoch 4 | Average training loss: 2.9748959988355637 |\n",
      "|Epoch 5 | Average training loss: 2.978697180747986 |\n",
      "|Epoch 6 | Average training loss: 2.573448672890663 |\n",
      "|Epoch 7 | Average training loss: 2.970864787697792 |\n",
      "|Epoch 8 | Average training loss: 2.981547459959984 |\n",
      "|Epoch 9 | Average training loss: 2.9703376591205597 | Average testing loss: 15.519979000091553\n",
      "|Epoch 10 | Average training loss: 2.5784667283296585 |\n",
      "|Epoch 11 | Average training loss: 2.5813167989254 |\n",
      "|Epoch 12 | Average training loss: 2.5826891511678696 |\n",
      "|Epoch 13 | Average training loss: 2.5773479342460632 |\n",
      "|Epoch 14 | Average training loss: 2.571429565548897 |\n",
      "|Epoch 15 | Average training loss: 2.5804639011621475 |\n",
      "|Epoch 16 | Average training loss: 2.5949264764785767 |\n",
      "|Epoch 17 | Average training loss: 2.5767024606466293 |\n",
      "|Epoch 18 | Average training loss: 2.5725169628858566 |\n",
      "|Epoch 19 | Average training loss: 2.570176750421524 | Average testing loss: 15.500679969787598\n",
      "|Epoch 20 | Average training loss: 2.8150969594717026 |\n",
      "|Epoch 21 | Average training loss: 2.5711006224155426 |\n",
      "|Epoch 22 | Average training loss: 2.567150831222534 |\n",
      "|Epoch 23 | Average training loss: 2.976195827126503 |\n",
      "|Epoch 24 | Average training loss: 2.58131942152977 |\n",
      "|Epoch 25 | Average training loss: 2.588683918118477 |\n",
      "|Epoch 26 | Average training loss: 2.5722214430570602 |\n",
      "|Epoch 27 | Average training loss: 2.579263314604759 |\n",
      "|Epoch 28 | Average training loss: 2.5808049738407135 |\n",
      "|Epoch 29 | Average training loss: 2.572183594107628 | Average testing loss: 15.481849670410156\n",
      "|Epoch 30 | Average training loss: 2.994836762547493 |\n",
      "|Epoch 31 | Average training loss: 2.990672290325165 |\n",
      "|Epoch 32 | Average training loss: 2.5924386978149414 |\n",
      "|Epoch 33 | Average training loss: 2.5661884993314743 |\n",
      "|Epoch 34 | Average training loss: 2.5859817564487457 |\n",
      "|Epoch 35 | Average training loss: 2.5718716382980347 |\n",
      "|Epoch 36 | Average training loss: 2.5653451830148697 |\n",
      "|Epoch 37 | Average training loss: 2.9752040207386017 |\n",
      "|Epoch 38 | Average training loss: 2.5745977014303207 |\n",
      "|Epoch 39 | Average training loss: 2.987412914633751 | Average testing loss: 15.512038707733154\n",
      "|Epoch 40 | Average training loss: 2.9763845205307007 |\n",
      "|Epoch 41 | Average training loss: 3.215464770793915 |\n",
      "|Epoch 42 | Average training loss: 2.578231632709503 |\n",
      "|Epoch 43 | Average training loss: 2.5662513822317123 |\n",
      "|Epoch 44 | Average training loss: 2.977690801024437 |\n",
      "|Epoch 45 | Average training loss: 2.8210097551345825 |\n",
      "|Epoch 46 | Average training loss: 2.5601721554994583 |\n",
      "|Epoch 47 | Average training loss: 2.978803411126137 |\n",
      "|Epoch 48 | Average training loss: 2.587269052863121 |\n",
      "|Epoch 49 | Average training loss: 2.813846170902252 | Average testing loss: 15.463613986968994\n",
      "|Epoch 50 | Average training loss: 2.573527470231056 |\n",
      "|Epoch 51 | Average training loss: 2.563457027077675 |\n",
      "|Epoch 52 | Average training loss: 2.5809119641780853 |\n",
      "|Epoch 53 | Average training loss: 3.2282407581806183 |\n",
      "|Epoch 54 | Average training loss: 2.572664111852646 |\n",
      "|Epoch 55 | Average training loss: 2.9784161746501923 |\n",
      "|Epoch 56 | Average training loss: 2.564687818288803 |\n",
      "|Epoch 57 | Average training loss: 2.571230933070183 |\n",
      "|Epoch 58 | Average training loss: 3.372871369123459 |\n",
      "|Epoch 59 | Average training loss: 2.8205677270889282 | Average testing loss: 15.466777801513672\n",
      "|Epoch 60 | Average training loss: 2.5727543085813522 |\n",
      "|Epoch 61 | Average training loss: 2.576098382472992 |\n",
      "|Epoch 62 | Average training loss: 2.996557891368866 |\n",
      "|Epoch 63 | Average training loss: 2.571270763874054 |\n",
      "|Epoch 64 | Average training loss: 2.5775705873966217 |\n",
      "|Epoch 65 | Average training loss: 2.5658907890319824 |\n",
      "|Epoch 66 | Average training loss: 2.975686237215996 |\n",
      "|Epoch 67 | Average training loss: 2.5762607604265213 |\n",
      "|Epoch 68 | Average training loss: 2.9929131120443344 |\n",
      "|Epoch 69 | Average training loss: 2.9677152782678604 | Average testing loss: 15.482527256011963\n",
      "|Epoch 70 | Average training loss: 2.560108184814453 |\n",
      "|Epoch 71 | Average training loss: 2.9893560707569122 |\n",
      "|Epoch 72 | Average training loss: 2.9698034524917603 |\n",
      "|Epoch 73 | Average training loss: 2.976562350988388 |\n",
      "|Epoch 74 | Average training loss: 2.828637182712555 |\n",
      "|Epoch 75 | Average training loss: 2.5643372982740402 |\n",
      "|Epoch 76 | Average training loss: 2.8279187977313995 |\n",
      "|Epoch 77 | Average training loss: 2.565951883792877 |\n",
      "|Epoch 78 | Average training loss: 2.570062533020973 |\n",
      "|Epoch 79 | Average training loss: 2.579429402947426 | Average testing loss: 15.494617462158203\n",
      "|Epoch 80 | Average training loss: 2.5776565223932266 |\n",
      "|Epoch 81 | Average training loss: 2.5736804008483887 |\n",
      "|Epoch 82 | Average training loss: 2.5610682368278503 |\n",
      "|Epoch 83 | Average training loss: 2.5817923694849014 |\n",
      "|Epoch 84 | Average training loss: 2.5691563934087753 |\n",
      "|Epoch 85 | Average training loss: 2.5747390538454056 |\n",
      "|Epoch 86 | Average training loss: 2.572275310754776 |\n",
      "|Epoch 87 | Average training loss: 2.562641829252243 |\n",
      "|Epoch 88 | Average training loss: 2.572351858019829 |\n",
      "|Epoch 89 | Average training loss: 2.5887996554374695 | Average testing loss: 15.492710590362549\n",
      "|Epoch 90 | Average training loss: 2.9825117141008377 |\n",
      "|Epoch 91 | Average training loss: 2.5741399228572845 |\n",
      "|Epoch 92 | Average training loss: 2.563869461417198 |\n",
      "|Epoch 93 | Average training loss: 2.5772695094347 |\n",
      "|Epoch 94 | Average training loss: 2.5928172022104263 |\n",
      "|Epoch 95 | Average training loss: 2.5784077793359756 |\n",
      "|Epoch 96 | Average training loss: 2.57316392660141 |\n",
      "|Epoch 97 | Average training loss: 2.568403497338295 |\n",
      "|Epoch 98 | Average training loss: 2.9616366624832153 |\n",
      "|Epoch 99 | Average training loss: 2.5725102722644806 | Average testing loss: 15.475066184997559\n",
      "|Epoch 100 | Average training loss: 2.5786389857530594 |\n",
      "|Epoch 101 | Average training loss: 3.233760416507721 |\n",
      "|Epoch 102 | Average training loss: 2.9743648320436478 |\n",
      "|Epoch 103 | Average training loss: 2.8260387629270554 |\n",
      "|Epoch 104 | Average training loss: 2.574989065527916 |\n",
      "|Epoch 105 | Average training loss: 3.369887962937355 |\n",
      "|Epoch 106 | Average training loss: 2.583683520555496 |\n",
      "|Epoch 107 | Average training loss: 2.810374468564987 |\n",
      "|Epoch 108 | Average training loss: 2.5744035691022873 |\n",
      "|Epoch 109 | Average training loss: 2.58818581700325 | Average testing loss: 15.51735258102417\n",
      "|Epoch 110 | Average training loss: 2.574039250612259 |\n",
      "|Epoch 111 | Average training loss: 2.566277250647545 |\n",
      "|Epoch 112 | Average training loss: 2.5894061475992203 |\n",
      "|Epoch 113 | Average training loss: 2.960301995277405 |\n",
      "|Epoch 114 | Average training loss: 2.5784590989351273 |\n",
      "|Epoch 115 | Average training loss: 2.5791615396738052 |\n",
      "|Epoch 116 | Average training loss: 2.5804729908704758 |\n",
      "|Epoch 117 | Average training loss: 3.2279402911663055 |\n",
      "|Epoch 118 | Average training loss: 2.970860630273819 |\n",
      "|Epoch 119 | Average training loss: 3.3659442514181137 | Average testing loss: 15.480800151824951\n",
      "|Epoch 120 | Average training loss: 2.575210064649582 |\n",
      "|Epoch 121 | Average training loss: 2.5979282706975937 |\n",
      "|Epoch 122 | Average training loss: 2.5902142077684402 |\n",
      "|Epoch 123 | Average training loss: 2.58338525891304 |\n",
      "|Epoch 124 | Average training loss: 3.230559676885605 |\n",
      "|Epoch 125 | Average training loss: 2.829450637102127 |\n",
      "|Epoch 126 | Average training loss: 2.5765670239925385 |\n",
      "|Epoch 127 | Average training loss: 2.5655880719423294 |\n",
      "|Epoch 128 | Average training loss: 2.580105632543564 |\n",
      "|Epoch 129 | Average training loss: 2.5720990002155304 | Average testing loss: 15.513503551483154\n",
      "|Epoch 130 | Average training loss: 2.582822397351265 |\n",
      "|Epoch 131 | Average training loss: 2.5805124044418335 |\n",
      "|Epoch 132 | Average training loss: 2.571720242500305 |\n",
      "|Epoch 133 | Average training loss: 2.9852912724018097 |\n",
      "|Epoch 134 | Average training loss: 2.580837443470955 |\n",
      "|Epoch 135 | Average training loss: 2.5841711163520813 |\n",
      "|Epoch 136 | Average training loss: 2.574066013097763 |\n",
      "|Epoch 137 | Average training loss: 2.571298822760582 |\n",
      "|Epoch 138 | Average training loss: 2.5672329515218735 |\n",
      "|Epoch 139 | Average training loss: 2.9825482964515686 | Average testing loss: 15.544061660766602\n",
      "|Epoch 140 | Average training loss: 2.568120613694191 |\n",
      "|Epoch 141 | Average training loss: 2.5750536620616913 |\n",
      "|Epoch 142 | Average training loss: 2.989265024662018 |\n",
      "|Epoch 143 | Average training loss: 2.576001137495041 |\n",
      "|Epoch 144 | Average training loss: 2.5895136445760727 |\n",
      "|Epoch 145 | Average training loss: 2.5724630653858185 |\n",
      "|Epoch 146 | Average training loss: 2.5752171128988266 |\n",
      "|Epoch 147 | Average training loss: 2.570066452026367 |\n",
      "|Epoch 148 | Average training loss: 2.5778135806322098 |\n",
      "|Epoch 149 | Average training loss: 2.9806496053934097 | Average testing loss: 15.465928554534912\n",
      "|Epoch 150 | Average training loss: 3.3886536955833435 |\n",
      "|Epoch 151 | Average training loss: 2.569678634405136 |\n",
      "|Epoch 152 | Average training loss: 2.5844560712575912 |\n",
      "|Epoch 153 | Average training loss: 2.5770886540412903 |\n",
      "|Epoch 154 | Average training loss: 3.6380615234375 |\n",
      "|Epoch 155 | Average training loss: 2.570195585489273 |\n",
      "|Epoch 156 | Average training loss: 2.569576069712639 |\n",
      "|Epoch 157 | Average training loss: 2.5959992110729218 |\n",
      "|Epoch 158 | Average training loss: 2.565626695752144 |\n",
      "|Epoch 159 | Average training loss: 2.5890078842639923 | Average testing loss: 15.49117660522461\n",
      "|Epoch 160 | Average training loss: 2.819632202386856 |\n",
      "|Epoch 161 | Average training loss: 2.586750850081444 |\n",
      "|Epoch 162 | Average training loss: 2.581876650452614 |\n",
      "|Epoch 163 | Average training loss: 2.583347275853157 |\n",
      "|Epoch 164 | Average training loss: 2.558742940425873 |\n",
      "|Epoch 165 | Average training loss: 2.9896650314331055 |\n",
      "|Epoch 166 | Average training loss: 2.599569648504257 |\n",
      "|Epoch 167 | Average training loss: 2.576477751135826 |\n",
      "|Epoch 168 | Average training loss: 2.8309713900089264 |\n",
      "|Epoch 169 | Average training loss: 2.570549339056015 | Average testing loss: 15.463142395019531\n",
      "|Epoch 170 | Average training loss: 2.565987706184387 |\n",
      "|Epoch 171 | Average training loss: 2.5829429030418396 |\n",
      "|Epoch 172 | Average training loss: 2.5760752856731415 |\n",
      "|Epoch 173 | Average training loss: 2.573711574077606 |\n",
      "|Epoch 174 | Average training loss: 2.5660676062107086 |\n",
      "|Epoch 175 | Average training loss: 2.5663905888795853 |\n",
      "|Epoch 176 | Average training loss: 2.570735976099968 |\n",
      "|Epoch 177 | Average training loss: 2.9796564877033234 |\n",
      "|Epoch 178 | Average training loss: 2.5705616772174835 |\n",
      "|Epoch 179 | Average training loss: 2.5680420249700546 | Average testing loss: 15.48740291595459\n",
      "|Epoch 180 | Average training loss: 2.5645367950201035 |\n",
      "|Epoch 181 | Average training loss: 2.57402403652668 |\n",
      "|Epoch 182 | Average training loss: 2.5728072971105576 |\n",
      "|Epoch 183 | Average training loss: 2.562358036637306 |\n",
      "|Epoch 184 | Average training loss: 2.978776678442955 |\n",
      "|Epoch 185 | Average training loss: 2.8329312056303024 |\n",
      "|Epoch 186 | Average training loss: 2.5746657997369766 |\n",
      "|Epoch 187 | Average training loss: 2.576300010085106 |\n",
      "|Epoch 188 | Average training loss: 2.5846854746341705 |\n",
      "|Epoch 189 | Average training loss: 2.5826192647218704 | Average testing loss: 15.512185096740723\n",
      "|Epoch 190 | Average training loss: 2.5681098103523254 |\n",
      "|Epoch 191 | Average training loss: 2.5636317878961563 |\n",
      "|Epoch 192 | Average training loss: 2.593606173992157 |\n",
      "|Epoch 193 | Average training loss: 2.575806587934494 |\n",
      "|Epoch 194 | Average training loss: 2.559578061103821 |\n",
      "|Epoch 195 | Average training loss: 2.585572212934494 |\n",
      "|Epoch 196 | Average training loss: 2.5672999024391174 |\n",
      "|Epoch 197 | Average training loss: 2.568969711661339 |\n",
      "|Epoch 198 | Average training loss: 2.973985716700554 |\n",
      "|Epoch 199 | Average training loss: 2.987395629286766 | Average testing loss: 15.506895065307617\n"
     ]
    }
   ],
   "source": [
    "device = torch.device(\"cuda\")\n",
    "tcga_diff_model.to(device)\n",
    "# optimizer = torch.optim.Adam(list(tcga_diff_model.parameters()) + list(patient_vae.parameters()) + list(patient_ffb_zinb_model.parameters()), lr=1e-6)\n",
    "for p in patient_ae.parameters():\n",
    "    p.requires_grad = False\n",
    "optimizer = torch.optim.Adam(tcga_diff_model.parameters(), lr=1e-6)\n",
    "scheduler = torch.optim.lr_scheduler.StepLR(optimizer, step_size=30, gamma=0.1)\n",
    "train_losses = training_loop_ldm(tcga_train_dataloader, tcga_test_dataloader, 200, tcga_diff_model, patient_ae, device, optimizer, scheduler=scheduler)"
   ]
  },
  {
   "cell_type": "code",
   "execution_count": 28,
   "id": "888d278d-a7b4-465a-b932-a41a1b6c9d8b",
   "metadata": {},
   "outputs": [
    {
     "data": {
      "text/plain": [
       "[<matplotlib.lines.Line2D at 0x7fd6f816cee0>]"
      ]
     },
     "execution_count": 28,
     "metadata": {},
     "output_type": "execute_result"
    },
    {
     "data": {
      "image/png": "[encoded data removed]",
      "text/plain": [
       "<Figure size 640x480 with 1 Axes>"
      ]
     },
     "metadata": {},
     "output_type": "display_data"
    }
   ],
   "source": [
    "import matplotlib.pyplot as plt\n",
    "plt.plot(train_losses)"
   ]
  },
  {
   "cell_type": "code",
   "execution_count": null,
   "id": "c2e00404-b7ec-4dc2-bd84-3c299bb4410c",
   "metadata": {},
   "outputs": [],
   "source": []
  }
 ],
 "metadata": {
  "kernelspec": {
   "display_name": "Python [conda env:tddpm] *",
   "language": "python",
   "name": "conda-env-tddpm-py"
  },
  "language_info": {
   "codemirror_mode": {
    "name": "ipython",
    "version": 3
   },
   "file_extension": ".py",
   "mimetype": "text/x-python",
   "name": "python",
   "nbconvert_exporter": "python",
   "pygments_lexer": "ipython3",
   "version": "3.9.18"
  }
 },
 "nbformat": 4,
 "nbformat_minor": 5
}
