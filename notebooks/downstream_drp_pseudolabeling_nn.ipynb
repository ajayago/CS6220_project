{
 "cells": [
  {
   "cell_type": "markdown",
   "id": "6f894812-b4ae-4ff2-89e0-ba34b63b05c9",
   "metadata": {},
   "source": [
    "This notebook performs downstream Drug Response Prediction with the augmented cell line data and patient datasets. Uses a neural network to perform DRP."
   ]
  },
  {
   "cell_type": "code",
   "execution_count": 1,
   "id": "2d68e95e-cc7c-4c55-a8d4-2a0011b9b433",
   "metadata": {},
   "outputs": [],
   "source": [
    "import pandas as pd\n",
    "import numpy as np"
   ]
  },
  {
   "cell_type": "code",
   "execution_count": 2,
   "id": "9664abfb-e6e4-4c66-8f33-0bd6c7882300",
   "metadata": {},
   "outputs": [],
   "source": [
    "import torch\n",
    "import torch.nn as nn\n",
    "import matplotlib.pyplot as plt\n",
    "from torch.utils.data import TensorDataset, DataLoader"
   ]
  },
  {
   "cell_type": "code",
   "execution_count": 3,
   "id": "548c0b92-2359-4ca2-922c-e52c99d4e600",
   "metadata": {},
   "outputs": [],
   "source": [
    "import sys\n",
    "sys.path.append(\"../src/tab_ddpm/\")"
   ]
  },
  {
   "cell_type": "code",
   "execution_count": 4,
   "id": "9c081215-b29a-405a-977b-6f2f1e9475ce",
   "metadata": {},
   "outputs": [],
   "source": [
    "device = torch.device(\"cuda:0\")"
   ]
  },
  {
   "cell_type": "markdown",
   "id": "a165856c-c1b2-4e27-8a3f-3a26c91ea41d",
   "metadata": {},
   "source": [
    "#### Load Datasets"
   ]
  },
  {
   "cell_type": "code",
   "execution_count": 5,
   "id": "dcee79d1-7f19-4a0f-88ee-94bbc4cc3eeb",
   "metadata": {},
   "outputs": [
    {
     "data": {
      "text/plain": [
       "(476, 7776)"
      ]
     },
     "execution_count": 5,
     "metadata": {},
     "output_type": "execute_result"
    }
   ],
   "source": [
    "tcga_train_df = pd.read_csv(\"../data/diffusion_pretraining/tcga_diffusion_train_sample0.csv\", index_col=0)\n",
    "tcga_train_df.shape"
   ]
  },
  {
   "cell_type": "code",
   "execution_count": 6,
   "id": "d3d7fd61-373e-4ddf-8e23-f826dc085a8c",
   "metadata": {},
   "outputs": [
    {
     "data": {
      "text/plain": [
       "(120, 7776)"
      ]
     },
     "execution_count": 6,
     "metadata": {},
     "output_type": "execute_result"
    }
   ],
   "source": [
    "tcga_test_df = pd.read_csv(\"../data/diffusion_pretraining/tcga_diffusion_test_sample0.csv\", index_col=0)\n",
    "tcga_test_df.shape"
   ]
  },
  {
   "cell_type": "code",
   "execution_count": 7,
   "id": "075f4d0c-8bb1-4179-8a84-558fa996c586",
   "metadata": {},
   "outputs": [
    {
     "name": "stdout",
     "output_type": "stream",
     "text": [
      "(1744, 7776)\n"
     ]
    },
    {
     "data": {
      "text/html": [
       "<div>\n",
       "<style scoped>\n",
       "    .dataframe tbody tr th:only-of-type {\n",
       "        vertical-align: middle;\n",
       "    }\n",
       "\n",
       "    .dataframe tbody tr th {\n",
       "        vertical-align: top;\n",
       "    }\n",
       "\n",
       "    .dataframe thead th {\n",
       "        text-align: right;\n",
       "    }\n",
       "</style>\n",
       "<table border=\"1\" class=\"dataframe\">\n",
       "  <thead>\n",
       "    <tr style=\"text-align: right;\">\n",
       "      <th></th>\n",
       "      <th>ABL1_piu_max</th>\n",
       "      <th>ACVR1B_piu_max</th>\n",
       "      <th>AKT1_piu_max</th>\n",
       "      <th>AKT2_piu_max</th>\n",
       "      <th>AKT3_piu_max</th>\n",
       "      <th>ALK_piu_max</th>\n",
       "      <th>ALOX12B_piu_max</th>\n",
       "      <th>APC_piu_max</th>\n",
       "      <th>AR_piu_max</th>\n",
       "      <th>ARAF_piu_max</th>\n",
       "      <th>...</th>\n",
       "      <th>U2AF1_benign_count</th>\n",
       "      <th>VEGFA_benign_count</th>\n",
       "      <th>VHL_benign_count</th>\n",
       "      <th>WHSC1_benign_count</th>\n",
       "      <th>WHSC1L1_benign_count</th>\n",
       "      <th>WT1_benign_count</th>\n",
       "      <th>XPO1_benign_count</th>\n",
       "      <th>XRCC2_benign_count</th>\n",
       "      <th>ZNF217_benign_count</th>\n",
       "      <th>ZNF703_benign_count</th>\n",
       "    </tr>\n",
       "  </thead>\n",
       "  <tbody>\n",
       "    <tr>\n",
       "      <th>ACH-002277</th>\n",
       "      <td>-0.087760</td>\n",
       "      <td>0.032957</td>\n",
       "      <td>0.190852</td>\n",
       "      <td>-0.271057</td>\n",
       "      <td>0.194915</td>\n",
       "      <td>-0.012064</td>\n",
       "      <td>0.266465</td>\n",
       "      <td>-0.083992</td>\n",
       "      <td>0.042592</td>\n",
       "      <td>0.113135</td>\n",
       "      <td>...</td>\n",
       "      <td>0.270248</td>\n",
       "      <td>0.103604</td>\n",
       "      <td>-0.021781</td>\n",
       "      <td>0.160761</td>\n",
       "      <td>0.015747</td>\n",
       "      <td>-0.002556</td>\n",
       "      <td>0.234677</td>\n",
       "      <td>-0.070766</td>\n",
       "      <td>-0.124407</td>\n",
       "      <td>-0.184209</td>\n",
       "    </tr>\n",
       "    <tr>\n",
       "      <th>ACH-000046</th>\n",
       "      <td>-0.202440</td>\n",
       "      <td>0.228575</td>\n",
       "      <td>0.069315</td>\n",
       "      <td>0.095176</td>\n",
       "      <td>0.068469</td>\n",
       "      <td>-0.148772</td>\n",
       "      <td>-0.023000</td>\n",
       "      <td>0.280832</td>\n",
       "      <td>0.106937</td>\n",
       "      <td>-0.233486</td>\n",
       "      <td>...</td>\n",
       "      <td>0.041994</td>\n",
       "      <td>-0.113767</td>\n",
       "      <td>0.268398</td>\n",
       "      <td>0.173079</td>\n",
       "      <td>0.183591</td>\n",
       "      <td>-0.232520</td>\n",
       "      <td>-0.271787</td>\n",
       "      <td>-0.086695</td>\n",
       "      <td>0.016713</td>\n",
       "      <td>-0.224163</td>\n",
       "    </tr>\n",
       "    <tr>\n",
       "      <th>ACH-000674</th>\n",
       "      <td>-0.058647</td>\n",
       "      <td>0.015405</td>\n",
       "      <td>-0.004479</td>\n",
       "      <td>0.070857</td>\n",
       "      <td>-0.353355</td>\n",
       "      <td>0.029231</td>\n",
       "      <td>0.223145</td>\n",
       "      <td>0.241796</td>\n",
       "      <td>0.071190</td>\n",
       "      <td>0.397939</td>\n",
       "      <td>...</td>\n",
       "      <td>0.213629</td>\n",
       "      <td>0.251534</td>\n",
       "      <td>-0.083437</td>\n",
       "      <td>-0.077655</td>\n",
       "      <td>-0.004640</td>\n",
       "      <td>-0.048375</td>\n",
       "      <td>0.219733</td>\n",
       "      <td>-0.199291</td>\n",
       "      <td>-0.044677</td>\n",
       "      <td>0.005390</td>\n",
       "    </tr>\n",
       "    <tr>\n",
       "      <th>ACH-000557</th>\n",
       "      <td>-0.070440</td>\n",
       "      <td>-0.307093</td>\n",
       "      <td>0.047039</td>\n",
       "      <td>-0.129194</td>\n",
       "      <td>-0.069649</td>\n",
       "      <td>0.148327</td>\n",
       "      <td>0.112893</td>\n",
       "      <td>-0.201333</td>\n",
       "      <td>0.062023</td>\n",
       "      <td>0.265155</td>\n",
       "      <td>...</td>\n",
       "      <td>0.051457</td>\n",
       "      <td>0.337542</td>\n",
       "      <td>-0.300728</td>\n",
       "      <td>-0.305295</td>\n",
       "      <td>0.279003</td>\n",
       "      <td>0.141817</td>\n",
       "      <td>-0.175442</td>\n",
       "      <td>-0.096936</td>\n",
       "      <td>-0.175513</td>\n",
       "      <td>-0.167278</td>\n",
       "    </tr>\n",
       "    <tr>\n",
       "      <th>ACH-001642</th>\n",
       "      <td>-0.115449</td>\n",
       "      <td>-0.172094</td>\n",
       "      <td>0.130430</td>\n",
       "      <td>-0.138235</td>\n",
       "      <td>0.186060</td>\n",
       "      <td>-0.084510</td>\n",
       "      <td>0.301509</td>\n",
       "      <td>-0.214375</td>\n",
       "      <td>-0.287137</td>\n",
       "      <td>-0.195233</td>\n",
       "      <td>...</td>\n",
       "      <td>0.114214</td>\n",
       "      <td>0.011537</td>\n",
       "      <td>-0.168359</td>\n",
       "      <td>-0.132326</td>\n",
       "      <td>-0.156321</td>\n",
       "      <td>-0.087420</td>\n",
       "      <td>-0.227914</td>\n",
       "      <td>-0.064403</td>\n",
       "      <td>-0.039033</td>\n",
       "      <td>-0.012837</td>\n",
       "    </tr>\n",
       "    <tr>\n",
       "      <th>...</th>\n",
       "      <td>...</td>\n",
       "      <td>...</td>\n",
       "      <td>...</td>\n",
       "      <td>...</td>\n",
       "      <td>...</td>\n",
       "      <td>...</td>\n",
       "      <td>...</td>\n",
       "      <td>...</td>\n",
       "      <td>...</td>\n",
       "      <td>...</td>\n",
       "      <td>...</td>\n",
       "      <td>...</td>\n",
       "      <td>...</td>\n",
       "      <td>...</td>\n",
       "      <td>...</td>\n",
       "      <td>...</td>\n",
       "      <td>...</td>\n",
       "      <td>...</td>\n",
       "      <td>...</td>\n",
       "      <td>...</td>\n",
       "      <td>...</td>\n",
       "    </tr>\n",
       "    <tr>\n",
       "      <th>ACH-002163</th>\n",
       "      <td>-0.007283</td>\n",
       "      <td>0.180049</td>\n",
       "      <td>-0.166796</td>\n",
       "      <td>0.027630</td>\n",
       "      <td>-0.109326</td>\n",
       "      <td>0.036422</td>\n",
       "      <td>-0.035981</td>\n",
       "      <td>-0.000312</td>\n",
       "      <td>0.121353</td>\n",
       "      <td>-0.144500</td>\n",
       "      <td>...</td>\n",
       "      <td>-0.212862</td>\n",
       "      <td>0.116564</td>\n",
       "      <td>-0.041704</td>\n",
       "      <td>0.189265</td>\n",
       "      <td>0.271412</td>\n",
       "      <td>-0.124896</td>\n",
       "      <td>0.136480</td>\n",
       "      <td>-0.165535</td>\n",
       "      <td>-0.374068</td>\n",
       "      <td>-0.115348</td>\n",
       "    </tr>\n",
       "    <tr>\n",
       "      <th>ACH-001616</th>\n",
       "      <td>0.132993</td>\n",
       "      <td>0.227633</td>\n",
       "      <td>0.209337</td>\n",
       "      <td>-0.187066</td>\n",
       "      <td>-0.053906</td>\n",
       "      <td>-0.060422</td>\n",
       "      <td>0.268335</td>\n",
       "      <td>0.022922</td>\n",
       "      <td>-0.153017</td>\n",
       "      <td>-0.045944</td>\n",
       "      <td>...</td>\n",
       "      <td>0.095875</td>\n",
       "      <td>0.408897</td>\n",
       "      <td>-0.222391</td>\n",
       "      <td>-0.104127</td>\n",
       "      <td>0.194359</td>\n",
       "      <td>-0.229589</td>\n",
       "      <td>-0.024475</td>\n",
       "      <td>0.102094</td>\n",
       "      <td>-0.051742</td>\n",
       "      <td>0.171267</td>\n",
       "    </tr>\n",
       "    <tr>\n",
       "      <th>ACH-001532</th>\n",
       "      <td>0.085234</td>\n",
       "      <td>-0.062251</td>\n",
       "      <td>-0.115823</td>\n",
       "      <td>0.220286</td>\n",
       "      <td>-0.047148</td>\n",
       "      <td>0.207629</td>\n",
       "      <td>0.018631</td>\n",
       "      <td>-0.064137</td>\n",
       "      <td>0.220210</td>\n",
       "      <td>-0.272371</td>\n",
       "      <td>...</td>\n",
       "      <td>-0.072619</td>\n",
       "      <td>-0.031038</td>\n",
       "      <td>-0.092965</td>\n",
       "      <td>-0.071206</td>\n",
       "      <td>-0.167836</td>\n",
       "      <td>-0.040338</td>\n",
       "      <td>0.044246</td>\n",
       "      <td>0.025731</td>\n",
       "      <td>0.019505</td>\n",
       "      <td>-0.065175</td>\n",
       "    </tr>\n",
       "    <tr>\n",
       "      <th>ACH-000993</th>\n",
       "      <td>-0.216540</td>\n",
       "      <td>-0.238687</td>\n",
       "      <td>0.096561</td>\n",
       "      <td>-0.162753</td>\n",
       "      <td>0.218944</td>\n",
       "      <td>0.076891</td>\n",
       "      <td>-0.018378</td>\n",
       "      <td>-0.141628</td>\n",
       "      <td>0.030709</td>\n",
       "      <td>0.076241</td>\n",
       "      <td>...</td>\n",
       "      <td>-0.265679</td>\n",
       "      <td>0.123608</td>\n",
       "      <td>-0.023183</td>\n",
       "      <td>-0.021311</td>\n",
       "      <td>0.259382</td>\n",
       "      <td>0.194676</td>\n",
       "      <td>0.146829</td>\n",
       "      <td>0.168473</td>\n",
       "      <td>-0.187869</td>\n",
       "      <td>0.333681</td>\n",
       "    </tr>\n",
       "    <tr>\n",
       "      <th>ACH-000709</th>\n",
       "      <td>-0.002450</td>\n",
       "      <td>0.057444</td>\n",
       "      <td>-0.008924</td>\n",
       "      <td>-0.073549</td>\n",
       "      <td>-0.216138</td>\n",
       "      <td>-0.185713</td>\n",
       "      <td>0.034454</td>\n",
       "      <td>0.025855</td>\n",
       "      <td>-0.087884</td>\n",
       "      <td>-0.104036</td>\n",
       "      <td>...</td>\n",
       "      <td>0.044281</td>\n",
       "      <td>0.104275</td>\n",
       "      <td>-0.149304</td>\n",
       "      <td>-0.112251</td>\n",
       "      <td>0.032498</td>\n",
       "      <td>-0.292089</td>\n",
       "      <td>-0.121418</td>\n",
       "      <td>0.149078</td>\n",
       "      <td>-0.006757</td>\n",
       "      <td>-0.053724</td>\n",
       "    </tr>\n",
       "  </tbody>\n",
       "</table>\n",
       "<p>1744 rows × 7776 columns</p>\n",
       "</div>"
      ],
      "text/plain": [
       "            ABL1_piu_max  ACVR1B_piu_max  AKT1_piu_max  AKT2_piu_max  \\\n",
       "ACH-002277     -0.087760        0.032957      0.190852     -0.271057   \n",
       "ACH-000046     -0.202440        0.228575      0.069315      0.095176   \n",
       "ACH-000674     -0.058647        0.015405     -0.004479      0.070857   \n",
       "ACH-000557     -0.070440       -0.307093      0.047039     -0.129194   \n",
       "ACH-001642     -0.115449       -0.172094      0.130430     -0.138235   \n",
       "...                  ...             ...           ...           ...   \n",
       "ACH-002163     -0.007283        0.180049     -0.166796      0.027630   \n",
       "ACH-001616      0.132993        0.227633      0.209337     -0.187066   \n",
       "ACH-001532      0.085234       -0.062251     -0.115823      0.220286   \n",
       "ACH-000993     -0.216540       -0.238687      0.096561     -0.162753   \n",
       "ACH-000709     -0.002450        0.057444     -0.008924     -0.073549   \n",
       "\n",
       "            AKT3_piu_max  ALK_piu_max  ALOX12B_piu_max  APC_piu_max  \\\n",
       "ACH-002277      0.194915    -0.012064         0.266465    -0.083992   \n",
       "ACH-000046      0.068469    -0.148772        -0.023000     0.280832   \n",
       "ACH-000674     -0.353355     0.029231         0.223145     0.241796   \n",
       "ACH-000557     -0.069649     0.148327         0.112893    -0.201333   \n",
       "ACH-001642      0.186060    -0.084510         0.301509    -0.214375   \n",
       "...                  ...          ...              ...          ...   \n",
       "ACH-002163     -0.109326     0.036422        -0.035981    -0.000312   \n",
       "ACH-001616     -0.053906    -0.060422         0.268335     0.022922   \n",
       "ACH-001532     -0.047148     0.207629         0.018631    -0.064137   \n",
       "ACH-000993      0.218944     0.076891        -0.018378    -0.141628   \n",
       "ACH-000709     -0.216138    -0.185713         0.034454     0.025855   \n",
       "\n",
       "            AR_piu_max  ARAF_piu_max  ...  U2AF1_benign_count  \\\n",
       "ACH-002277    0.042592      0.113135  ...            0.270248   \n",
       "ACH-000046    0.106937     -0.233486  ...            0.041994   \n",
       "ACH-000674    0.071190      0.397939  ...            0.213629   \n",
       "ACH-000557    0.062023      0.265155  ...            0.051457   \n",
       "ACH-001642   -0.287137     -0.195233  ...            0.114214   \n",
       "...                ...           ...  ...                 ...   \n",
       "ACH-002163    0.121353     -0.144500  ...           -0.212862   \n",
       "ACH-001616   -0.153017     -0.045944  ...            0.095875   \n",
       "ACH-001532    0.220210     -0.272371  ...           -0.072619   \n",
       "ACH-000993    0.030709      0.076241  ...           -0.265679   \n",
       "ACH-000709   -0.087884     -0.104036  ...            0.044281   \n",
       "\n",
       "            VEGFA_benign_count  VHL_benign_count  WHSC1_benign_count  \\\n",
       "ACH-002277            0.103604         -0.021781            0.160761   \n",
       "ACH-000046           -0.113767          0.268398            0.173079   \n",
       "ACH-000674            0.251534         -0.083437           -0.077655   \n",
       "ACH-000557            0.337542         -0.300728           -0.305295   \n",
       "ACH-001642            0.011537         -0.168359           -0.132326   \n",
       "...                        ...               ...                 ...   \n",
       "ACH-002163            0.116564         -0.041704            0.189265   \n",
       "ACH-001616            0.408897         -0.222391           -0.104127   \n",
       "ACH-001532           -0.031038         -0.092965           -0.071206   \n",
       "ACH-000993            0.123608         -0.023183           -0.021311   \n",
       "ACH-000709            0.104275         -0.149304           -0.112251   \n",
       "\n",
       "            WHSC1L1_benign_count  WT1_benign_count  XPO1_benign_count  \\\n",
       "ACH-002277              0.015747         -0.002556           0.234677   \n",
       "ACH-000046              0.183591         -0.232520          -0.271787   \n",
       "ACH-000674             -0.004640         -0.048375           0.219733   \n",
       "ACH-000557              0.279003          0.141817          -0.175442   \n",
       "ACH-001642             -0.156321         -0.087420          -0.227914   \n",
       "...                          ...               ...                ...   \n",
       "ACH-002163              0.271412         -0.124896           0.136480   \n",
       "ACH-001616              0.194359         -0.229589          -0.024475   \n",
       "ACH-001532             -0.167836         -0.040338           0.044246   \n",
       "ACH-000993              0.259382          0.194676           0.146829   \n",
       "ACH-000709              0.032498         -0.292089          -0.121418   \n",
       "\n",
       "            XRCC2_benign_count  ZNF217_benign_count  ZNF703_benign_count  \n",
       "ACH-002277           -0.070766            -0.124407            -0.184209  \n",
       "ACH-000046           -0.086695             0.016713            -0.224163  \n",
       "ACH-000674           -0.199291            -0.044677             0.005390  \n",
       "ACH-000557           -0.096936            -0.175513            -0.167278  \n",
       "ACH-001642           -0.064403            -0.039033            -0.012837  \n",
       "...                        ...                  ...                  ...  \n",
       "ACH-002163           -0.165535            -0.374068            -0.115348  \n",
       "ACH-001616            0.102094            -0.051742             0.171267  \n",
       "ACH-001532            0.025731             0.019505            -0.065175  \n",
       "ACH-000993            0.168473            -0.187869             0.333681  \n",
       "ACH-000709            0.149078            -0.006757            -0.053724  \n",
       "\n",
       "[1744 rows x 7776 columns]"
      ]
     },
     "execution_count": 7,
     "metadata": {},
     "output_type": "execute_result"
    }
   ],
   "source": [
    "# augmented_cl_df = pd.read_csv(\"/data/ajayago/druid/intermediate/cs6220/augmented_cl_joint_UDA.csv\", index_col=0)\n",
    "augmented_cl_df = pd.read_csv(\"/data/ajayago/druid/intermediate/cs6220/augmented_cl_clconditioned.csv\", index_col=0)\n",
    "print(augmented_cl_df.shape)\n",
    "augmented_cl_df"
   ]
  },
  {
   "cell_type": "markdown",
   "id": "d06a0bf0-bae6-4b88-8a5e-cba5d8970070",
   "metadata": {},
   "source": [
    "#### Load response files"
   ]
  },
  {
   "cell_type": "code",
   "execution_count": 8,
   "id": "f0c6d046-9025-4949-a56b-7a18fb2bd0f6",
   "metadata": {},
   "outputs": [
    {
     "data": {
      "text/html": [
       "<div>\n",
       "<style scoped>\n",
       "    .dataframe tbody tr th:only-of-type {\n",
       "        vertical-align: middle;\n",
       "    }\n",
       "\n",
       "    .dataframe tbody tr th {\n",
       "        vertical-align: top;\n",
       "    }\n",
       "\n",
       "    .dataframe thead th {\n",
       "        text-align: right;\n",
       "    }\n",
       "</style>\n",
       "<table border=\"1\" class=\"dataframe\">\n",
       "  <thead>\n",
       "    <tr style=\"text-align: right;\">\n",
       "      <th></th>\n",
       "      <th>depmap_id</th>\n",
       "      <th>drug_name</th>\n",
       "      <th>auc</th>\n",
       "    </tr>\n",
       "  </thead>\n",
       "  <tbody>\n",
       "    <tr>\n",
       "      <th>0</th>\n",
       "      <td>ACH-000001</td>\n",
       "      <td>JW-7-24-1</td>\n",
       "      <td>0.778432</td>\n",
       "    </tr>\n",
       "    <tr>\n",
       "      <th>1</th>\n",
       "      <td>ACH-000002</td>\n",
       "      <td>JW-7-24-1</td>\n",
       "      <td>0.788327</td>\n",
       "    </tr>\n",
       "    <tr>\n",
       "      <th>2</th>\n",
       "      <td>ACH-000004</td>\n",
       "      <td>JW-7-24-1</td>\n",
       "      <td>0.737630</td>\n",
       "    </tr>\n",
       "    <tr>\n",
       "      <th>3</th>\n",
       "      <td>ACH-000006</td>\n",
       "      <td>JW-7-24-1</td>\n",
       "      <td>0.176396</td>\n",
       "    </tr>\n",
       "    <tr>\n",
       "      <th>4</th>\n",
       "      <td>ACH-000007</td>\n",
       "      <td>JW-7-24-1</td>\n",
       "      <td>0.569751</td>\n",
       "    </tr>\n",
       "    <tr>\n",
       "      <th>...</th>\n",
       "      <td>...</td>\n",
       "      <td>...</td>\n",
       "      <td>...</td>\n",
       "    </tr>\n",
       "    <tr>\n",
       "      <th>226791</th>\n",
       "      <td>ACH-001702</td>\n",
       "      <td>SL 0101-1</td>\n",
       "      <td>0.958591</td>\n",
       "    </tr>\n",
       "    <tr>\n",
       "      <th>226792</th>\n",
       "      <td>ACH-001703</td>\n",
       "      <td>SL 0101-1</td>\n",
       "      <td>0.497201</td>\n",
       "    </tr>\n",
       "    <tr>\n",
       "      <th>226793</th>\n",
       "      <td>ACH-001711</td>\n",
       "      <td>SL 0101-1</td>\n",
       "      <td>0.815928</td>\n",
       "    </tr>\n",
       "    <tr>\n",
       "      <th>226794</th>\n",
       "      <td>ACH-001715</td>\n",
       "      <td>SL 0101-1</td>\n",
       "      <td>0.981441</td>\n",
       "    </tr>\n",
       "    <tr>\n",
       "      <th>226795</th>\n",
       "      <td>ACH-001716</td>\n",
       "      <td>SL 0101-1</td>\n",
       "      <td>0.942321</td>\n",
       "    </tr>\n",
       "  </tbody>\n",
       "</table>\n",
       "<p>226796 rows × 3 columns</p>\n",
       "</div>"
      ],
      "text/plain": [
       "         depmap_id  drug_name       auc\n",
       "0       ACH-000001  JW-7-24-1  0.778432\n",
       "1       ACH-000002  JW-7-24-1  0.788327\n",
       "2       ACH-000004  JW-7-24-1  0.737630\n",
       "3       ACH-000006  JW-7-24-1  0.176396\n",
       "4       ACH-000007  JW-7-24-1  0.569751\n",
       "...            ...        ...       ...\n",
       "226791  ACH-001702  SL 0101-1  0.958591\n",
       "226792  ACH-001703  SL 0101-1  0.497201\n",
       "226793  ACH-001711  SL 0101-1  0.815928\n",
       "226794  ACH-001715  SL 0101-1  0.981441\n",
       "226795  ACH-001716  SL 0101-1  0.942321\n",
       "\n",
       "[226796 rows x 3 columns]"
      ]
     },
     "execution_count": 8,
     "metadata": {},
     "output_type": "execute_result"
    }
   ],
   "source": [
    "cl_responses_df = pd.read_csv(\"/data/ajayago/copied_from_cdal1/yiming_data_folder/dataset/CellLine/patient_auc.csv\")\n",
    "cl_responses_df"
   ]
  },
  {
   "cell_type": "code",
   "execution_count": 9,
   "id": "2af6e2d8-89ed-4a69-9da3-fb53bc200056",
   "metadata": {},
   "outputs": [
    {
     "data": {
      "text/html": [
       "<div>\n",
       "<style scoped>\n",
       "    .dataframe tbody tr th:only-of-type {\n",
       "        vertical-align: middle;\n",
       "    }\n",
       "\n",
       "    .dataframe tbody tr th {\n",
       "        vertical-align: top;\n",
       "    }\n",
       "\n",
       "    .dataframe thead th {\n",
       "        text-align: right;\n",
       "    }\n",
       "</style>\n",
       "<table border=\"1\" class=\"dataframe\">\n",
       "  <thead>\n",
       "    <tr style=\"text-align: right;\">\n",
       "      <th></th>\n",
       "      <th>patient.arr</th>\n",
       "      <th>drug.name</th>\n",
       "      <th>response</th>\n",
       "      <th>response_cat</th>\n",
       "      <th>drug</th>\n",
       "    </tr>\n",
       "  </thead>\n",
       "  <tbody>\n",
       "    <tr>\n",
       "      <th>0</th>\n",
       "      <td>TCGA-G2-A2EC</td>\n",
       "      <td>Methotrexate</td>\n",
       "      <td>Partial Response</td>\n",
       "      <td>1</td>\n",
       "      <td>METHOTREXATE</td>\n",
       "    </tr>\n",
       "    <tr>\n",
       "      <th>1</th>\n",
       "      <td>TCGA-G2-A2EC</td>\n",
       "      <td>Doxorubicin</td>\n",
       "      <td>Partial Response</td>\n",
       "      <td>1</td>\n",
       "      <td>DOXORUBICIN</td>\n",
       "    </tr>\n",
       "    <tr>\n",
       "      <th>2</th>\n",
       "      <td>TCGA-G2-A2EC</td>\n",
       "      <td>Vinblastine</td>\n",
       "      <td>Partial Response</td>\n",
       "      <td>1</td>\n",
       "      <td>VINBLASTINE</td>\n",
       "    </tr>\n",
       "    <tr>\n",
       "      <th>3</th>\n",
       "      <td>TCGA-G2-A2EC</td>\n",
       "      <td>Cisplatin</td>\n",
       "      <td>Partial Response</td>\n",
       "      <td>1</td>\n",
       "      <td>CISPLATIN</td>\n",
       "    </tr>\n",
       "    <tr>\n",
       "      <th>4</th>\n",
       "      <td>TCGA-G2-A2EJ</td>\n",
       "      <td>Paclitaxel</td>\n",
       "      <td>Stable Disease</td>\n",
       "      <td>0</td>\n",
       "      <td>PACLITAXEL</td>\n",
       "    </tr>\n",
       "    <tr>\n",
       "      <th>...</th>\n",
       "      <td>...</td>\n",
       "      <td>...</td>\n",
       "      <td>...</td>\n",
       "      <td>...</td>\n",
       "      <td>...</td>\n",
       "    </tr>\n",
       "    <tr>\n",
       "      <th>1244</th>\n",
       "      <td>TCGA-BG-A0VZ</td>\n",
       "      <td>Cisplatin</td>\n",
       "      <td>Complete Response</td>\n",
       "      <td>1</td>\n",
       "      <td>CISPLATIN</td>\n",
       "    </tr>\n",
       "    <tr>\n",
       "      <th>1245</th>\n",
       "      <td>TCGA-BG-A0VZ</td>\n",
       "      <td>Paclitaxel</td>\n",
       "      <td>Complete Response</td>\n",
       "      <td>1</td>\n",
       "      <td>PACLITAXEL</td>\n",
       "    </tr>\n",
       "    <tr>\n",
       "      <th>1246</th>\n",
       "      <td>TCGA-BG-A0VZ</td>\n",
       "      <td>Doxorubicin</td>\n",
       "      <td>Complete Response</td>\n",
       "      <td>1</td>\n",
       "      <td>DOXORUBICIN</td>\n",
       "    </tr>\n",
       "    <tr>\n",
       "      <th>1247</th>\n",
       "      <td>TCGA-BG-A0VT</td>\n",
       "      <td>Carboplatin</td>\n",
       "      <td>Complete Response</td>\n",
       "      <td>1</td>\n",
       "      <td>CARBOPLATIN</td>\n",
       "    </tr>\n",
       "    <tr>\n",
       "      <th>1248</th>\n",
       "      <td>TCGA-BG-A0VT</td>\n",
       "      <td>Paclitaxel</td>\n",
       "      <td>Complete Response</td>\n",
       "      <td>1</td>\n",
       "      <td>PACLITAXEL</td>\n",
       "    </tr>\n",
       "  </tbody>\n",
       "</table>\n",
       "<p>1249 rows × 5 columns</p>\n",
       "</div>"
      ],
      "text/plain": [
       "       patient.arr     drug.name           response  response_cat  \\\n",
       "0     TCGA-G2-A2EC  Methotrexate   Partial Response             1   \n",
       "1     TCGA-G2-A2EC   Doxorubicin   Partial Response             1   \n",
       "2     TCGA-G2-A2EC   Vinblastine   Partial Response             1   \n",
       "3     TCGA-G2-A2EC     Cisplatin   Partial Response             1   \n",
       "4     TCGA-G2-A2EJ    Paclitaxel     Stable Disease             0   \n",
       "...            ...           ...                ...           ...   \n",
       "1244  TCGA-BG-A0VZ     Cisplatin  Complete Response             1   \n",
       "1245  TCGA-BG-A0VZ    Paclitaxel  Complete Response             1   \n",
       "1246  TCGA-BG-A0VZ   Doxorubicin  Complete Response             1   \n",
       "1247  TCGA-BG-A0VT   Carboplatin  Complete Response             1   \n",
       "1248  TCGA-BG-A0VT    Paclitaxel  Complete Response             1   \n",
       "\n",
       "              drug  \n",
       "0     METHOTREXATE  \n",
       "1      DOXORUBICIN  \n",
       "2      VINBLASTINE  \n",
       "3        CISPLATIN  \n",
       "4       PACLITAXEL  \n",
       "...            ...  \n",
       "1244     CISPLATIN  \n",
       "1245    PACLITAXEL  \n",
       "1246   DOXORUBICIN  \n",
       "1247   CARBOPLATIN  \n",
       "1248    PACLITAXEL  \n",
       "\n",
       "[1249 rows x 5 columns]"
      ]
     },
     "execution_count": 9,
     "metadata": {},
     "output_type": "execute_result"
    }
   ],
   "source": [
    "patient_responses_df = pd.read_csv(\"/data/ajayago/copied_from_cdal1/ajayago_home_folder/processed/TCGA_drug_response_010222.csv\")\n",
    "patient_responses_df"
   ]
  },
  {
   "cell_type": "code",
   "execution_count": 10,
   "id": "56db99a7-1994-4cc2-97fc-0d69c9762b80",
   "metadata": {},
   "outputs": [
    {
     "data": {
      "text/plain": [
       "drug\n",
       "CISPLATIN             206\n",
       "5-FLUOROURACIL        125\n",
       "CARBOPLATIN           117\n",
       "PACLITAXEL            113\n",
       "CYCLOPHOSPHAMIDE       69\n",
       "                     ... \n",
       "E7389                   1\n",
       "CARMUSTINE              1\n",
       "TEMOZOLOMIDE            1\n",
       "ERIBULIN                1\n",
       "METHYLPREDNISOLONE      1\n",
       "Name: count, Length: 69, dtype: int64"
      ]
     },
     "execution_count": 10,
     "metadata": {},
     "output_type": "execute_result"
    }
   ],
   "source": [
    "patient_responses_df[\"drug\"].value_counts()"
   ]
  },
  {
   "cell_type": "code",
   "execution_count": 11,
   "id": "d8a8ab1d-9c9d-4d29-bcf6-749d6a2042e6",
   "metadata": {},
   "outputs": [
    {
     "data": {
      "text/plain": [
       "drug\n",
       "CISPLATIN           44\n",
       "5-FLUOROURACIL      29\n",
       "CARBOPLATIN         25\n",
       "GEMCITABINE         16\n",
       "PACLITAXEL          16\n",
       "DOXORUBICIN         14\n",
       "LEUCOVORIN          14\n",
       "CYCLOPHOSPHAMIDE    13\n",
       "DOCETAXEL           10\n",
       "OXALIPLATIN          8\n",
       "ETOPOSIDE            7\n",
       "CAPECITABINE         7\n",
       "VINBLASTINE          6\n",
       "METHOTREXATE         5\n",
       "CETUXIMAB            5\n",
       "DACARBAZINE          5\n",
       "IRINOTECAN           3\n",
       "TAMOXIFEN            3\n",
       "EPIRUBICIN           3\n",
       "VINORELBINE          3\n",
       "GEFITINIB            2\n",
       "DABRAFENIB           2\n",
       "TRASTUZUMAB          2\n",
       "LEUPROLIDE           1\n",
       "PAMIDRONATE          1\n",
       "IFOSFAMIDE           1\n",
       "MITOMYCIN-C          1\n",
       "PEMETREXED           1\n",
       "REGORAFENIB          1\n",
       "VEMURAFENIB          1\n",
       "FOTEMUSTINE          1\n",
       "LOMUSTINE            1\n",
       "TRAMETINIB           1\n",
       "AXITINIB             1\n",
       "CARMUSTINE           1\n",
       "Name: count, dtype: int64"
      ]
     },
     "execution_count": 11,
     "metadata": {},
     "output_type": "execute_result"
    }
   ],
   "source": [
    "patient_responses_df[patient_responses_df[\"patient.arr\"].isin(tcga_test_df.index)].drug.value_counts()"
   ]
  },
  {
   "cell_type": "code",
   "execution_count": 12,
   "id": "c5ef1350-a812-4d74-b438-301b672abecc",
   "metadata": {},
   "outputs": [
    {
     "data": {
      "text/plain": [
       "drug\n",
       "CISPLATIN            162\n",
       "PACLITAXEL            97\n",
       "5-FLUOROURACIL        96\n",
       "CARBOPLATIN           92\n",
       "CYCLOPHOSPHAMIDE      56\n",
       "                    ... \n",
       "FOTEMUSTINE            1\n",
       "RESIQUIMOD             1\n",
       "TOREMIFENE             1\n",
       "ERIBULIN               1\n",
       "MYCOPHENOLIC ACID      1\n",
       "Name: count, Length: 66, dtype: int64"
      ]
     },
     "execution_count": 12,
     "metadata": {},
     "output_type": "execute_result"
    }
   ],
   "source": [
    "patient_responses_df[patient_responses_df[\"patient.arr\"].isin(tcga_train_df.index)].drug.value_counts()"
   ]
  },
  {
   "cell_type": "code",
   "execution_count": 13,
   "id": "b21aa815-3732-4fe1-87a2-a38f33b7a7c6",
   "metadata": {},
   "outputs": [
    {
     "data": {
      "text/html": [
       "<div>\n",
       "<style scoped>\n",
       "    .dataframe tbody tr th:only-of-type {\n",
       "        vertical-align: middle;\n",
       "    }\n",
       "\n",
       "    .dataframe tbody tr th {\n",
       "        vertical-align: top;\n",
       "    }\n",
       "\n",
       "    .dataframe thead th {\n",
       "        text-align: right;\n",
       "    }\n",
       "</style>\n",
       "<table border=\"1\" class=\"dataframe\">\n",
       "  <thead>\n",
       "    <tr style=\"text-align: right;\">\n",
       "      <th></th>\n",
       "      <th>patient.arr</th>\n",
       "      <th>drug.name</th>\n",
       "      <th>response</th>\n",
       "      <th>response_cat</th>\n",
       "      <th>drug</th>\n",
       "    </tr>\n",
       "  </thead>\n",
       "  <tbody>\n",
       "    <tr>\n",
       "      <th>0</th>\n",
       "      <td>TCGA-G2-A2EJ</td>\n",
       "      <td>Paclitaxel</td>\n",
       "      <td>Stable Disease</td>\n",
       "      <td>0</td>\n",
       "      <td>PACLITAXEL</td>\n",
       "    </tr>\n",
       "    <tr>\n",
       "      <th>1</th>\n",
       "      <td>TCGA-G2-A2EJ</td>\n",
       "      <td>Mycophenolic acid</td>\n",
       "      <td>Stable Disease</td>\n",
       "      <td>0</td>\n",
       "      <td>MYCOPHENOLIC ACID</td>\n",
       "    </tr>\n",
       "    <tr>\n",
       "      <th>2</th>\n",
       "      <td>TCGA-G2-A2EJ</td>\n",
       "      <td>Cisplatin</td>\n",
       "      <td>Stable Disease</td>\n",
       "      <td>0</td>\n",
       "      <td>CISPLATIN</td>\n",
       "    </tr>\n",
       "    <tr>\n",
       "      <th>3</th>\n",
       "      <td>TCGA-G2-A2EJ</td>\n",
       "      <td>Ifosfamide</td>\n",
       "      <td>Stable Disease</td>\n",
       "      <td>0</td>\n",
       "      <td>IFOSFAMIDE</td>\n",
       "    </tr>\n",
       "    <tr>\n",
       "      <th>4</th>\n",
       "      <td>TCGA-G2-A2EF</td>\n",
       "      <td>Methotrexate</td>\n",
       "      <td>Partial Response</td>\n",
       "      <td>1</td>\n",
       "      <td>METHOTREXATE</td>\n",
       "    </tr>\n",
       "    <tr>\n",
       "      <th>...</th>\n",
       "      <td>...</td>\n",
       "      <td>...</td>\n",
       "      <td>...</td>\n",
       "      <td>...</td>\n",
       "      <td>...</td>\n",
       "    </tr>\n",
       "    <tr>\n",
       "      <th>990</th>\n",
       "      <td>TCGA-BG-A0VZ</td>\n",
       "      <td>Cisplatin</td>\n",
       "      <td>Complete Response</td>\n",
       "      <td>1</td>\n",
       "      <td>CISPLATIN</td>\n",
       "    </tr>\n",
       "    <tr>\n",
       "      <th>991</th>\n",
       "      <td>TCGA-BG-A0VZ</td>\n",
       "      <td>Paclitaxel</td>\n",
       "      <td>Complete Response</td>\n",
       "      <td>1</td>\n",
       "      <td>PACLITAXEL</td>\n",
       "    </tr>\n",
       "    <tr>\n",
       "      <th>992</th>\n",
       "      <td>TCGA-BG-A0VZ</td>\n",
       "      <td>Doxorubicin</td>\n",
       "      <td>Complete Response</td>\n",
       "      <td>1</td>\n",
       "      <td>DOXORUBICIN</td>\n",
       "    </tr>\n",
       "    <tr>\n",
       "      <th>993</th>\n",
       "      <td>TCGA-BG-A0VT</td>\n",
       "      <td>Carboplatin</td>\n",
       "      <td>Complete Response</td>\n",
       "      <td>1</td>\n",
       "      <td>CARBOPLATIN</td>\n",
       "    </tr>\n",
       "    <tr>\n",
       "      <th>994</th>\n",
       "      <td>TCGA-BG-A0VT</td>\n",
       "      <td>Paclitaxel</td>\n",
       "      <td>Complete Response</td>\n",
       "      <td>1</td>\n",
       "      <td>PACLITAXEL</td>\n",
       "    </tr>\n",
       "  </tbody>\n",
       "</table>\n",
       "<p>995 rows × 5 columns</p>\n",
       "</div>"
      ],
      "text/plain": [
       "      patient.arr          drug.name           response  response_cat  \\\n",
       "0    TCGA-G2-A2EJ         Paclitaxel     Stable Disease             0   \n",
       "1    TCGA-G2-A2EJ  Mycophenolic acid     Stable Disease             0   \n",
       "2    TCGA-G2-A2EJ          Cisplatin     Stable Disease             0   \n",
       "3    TCGA-G2-A2EJ         Ifosfamide     Stable Disease             0   \n",
       "4    TCGA-G2-A2EF       Methotrexate   Partial Response             1   \n",
       "..            ...                ...                ...           ...   \n",
       "990  TCGA-BG-A0VZ          Cisplatin  Complete Response             1   \n",
       "991  TCGA-BG-A0VZ         Paclitaxel  Complete Response             1   \n",
       "992  TCGA-BG-A0VZ        Doxorubicin  Complete Response             1   \n",
       "993  TCGA-BG-A0VT        Carboplatin  Complete Response             1   \n",
       "994  TCGA-BG-A0VT         Paclitaxel  Complete Response             1   \n",
       "\n",
       "                  drug  \n",
       "0           PACLITAXEL  \n",
       "1    MYCOPHENOLIC ACID  \n",
       "2            CISPLATIN  \n",
       "3           IFOSFAMIDE  \n",
       "4         METHOTREXATE  \n",
       "..                 ...  \n",
       "990          CISPLATIN  \n",
       "991         PACLITAXEL  \n",
       "992        DOXORUBICIN  \n",
       "993        CARBOPLATIN  \n",
       "994         PACLITAXEL  \n",
       "\n",
       "[995 rows x 5 columns]"
      ]
     },
     "execution_count": 13,
     "metadata": {},
     "output_type": "execute_result"
    }
   ],
   "source": [
    "train_tcga_with_response = patient_responses_df[patient_responses_df[\"patient.arr\"].isin(tcga_train_df.index)].reset_index(drop=True)\n",
    "train_tcga_with_response"
   ]
  },
  {
   "cell_type": "code",
   "execution_count": 14,
   "id": "5641b08a-d8d9-4335-8822-7a903d04664b",
   "metadata": {},
   "outputs": [
    {
     "data": {
      "text/html": [
       "<div>\n",
       "<style scoped>\n",
       "    .dataframe tbody tr th:only-of-type {\n",
       "        vertical-align: middle;\n",
       "    }\n",
       "\n",
       "    .dataframe tbody tr th {\n",
       "        vertical-align: top;\n",
       "    }\n",
       "\n",
       "    .dataframe thead th {\n",
       "        text-align: right;\n",
       "    }\n",
       "</style>\n",
       "<table border=\"1\" class=\"dataframe\">\n",
       "  <thead>\n",
       "    <tr style=\"text-align: right;\">\n",
       "      <th></th>\n",
       "      <th>patient.arr</th>\n",
       "      <th>drug.name</th>\n",
       "      <th>response</th>\n",
       "      <th>response_cat</th>\n",
       "      <th>drug</th>\n",
       "    </tr>\n",
       "  </thead>\n",
       "  <tbody>\n",
       "    <tr>\n",
       "      <th>0</th>\n",
       "      <td>TCGA-G2-A2EC</td>\n",
       "      <td>Methotrexate</td>\n",
       "      <td>Partial Response</td>\n",
       "      <td>1</td>\n",
       "      <td>METHOTREXATE</td>\n",
       "    </tr>\n",
       "    <tr>\n",
       "      <th>1</th>\n",
       "      <td>TCGA-G2-A2EC</td>\n",
       "      <td>Doxorubicin</td>\n",
       "      <td>Partial Response</td>\n",
       "      <td>1</td>\n",
       "      <td>DOXORUBICIN</td>\n",
       "    </tr>\n",
       "    <tr>\n",
       "      <th>2</th>\n",
       "      <td>TCGA-G2-A2EC</td>\n",
       "      <td>Vinblastine</td>\n",
       "      <td>Partial Response</td>\n",
       "      <td>1</td>\n",
       "      <td>VINBLASTINE</td>\n",
       "    </tr>\n",
       "    <tr>\n",
       "      <th>3</th>\n",
       "      <td>TCGA-G2-A2EC</td>\n",
       "      <td>Cisplatin</td>\n",
       "      <td>Partial Response</td>\n",
       "      <td>1</td>\n",
       "      <td>CISPLATIN</td>\n",
       "    </tr>\n",
       "    <tr>\n",
       "      <th>4</th>\n",
       "      <td>TCGA-BT-A2LA</td>\n",
       "      <td>Carboplatin</td>\n",
       "      <td>Complete Response</td>\n",
       "      <td>1</td>\n",
       "      <td>CARBOPLATIN</td>\n",
       "    </tr>\n",
       "    <tr>\n",
       "      <th>...</th>\n",
       "      <td>...</td>\n",
       "      <td>...</td>\n",
       "      <td>...</td>\n",
       "      <td>...</td>\n",
       "      <td>...</td>\n",
       "    </tr>\n",
       "    <tr>\n",
       "      <th>249</th>\n",
       "      <td>TCGA-A5-A1OH</td>\n",
       "      <td>Carboplatin</td>\n",
       "      <td>Complete Response</td>\n",
       "      <td>1</td>\n",
       "      <td>CARBOPLATIN</td>\n",
       "    </tr>\n",
       "    <tr>\n",
       "      <th>250</th>\n",
       "      <td>TCGA-A5-A3LP</td>\n",
       "      <td>Carboplatin</td>\n",
       "      <td>Complete Response</td>\n",
       "      <td>1</td>\n",
       "      <td>CARBOPLATIN</td>\n",
       "    </tr>\n",
       "    <tr>\n",
       "      <th>251</th>\n",
       "      <td>TCGA-AJ-A3OK</td>\n",
       "      <td>Carboplatin</td>\n",
       "      <td>Complete Response</td>\n",
       "      <td>1</td>\n",
       "      <td>CARBOPLATIN</td>\n",
       "    </tr>\n",
       "    <tr>\n",
       "      <th>252</th>\n",
       "      <td>TCGA-AJ-A3OK</td>\n",
       "      <td>Doxorubicin</td>\n",
       "      <td>Complete Response</td>\n",
       "      <td>1</td>\n",
       "      <td>DOXORUBICIN</td>\n",
       "    </tr>\n",
       "    <tr>\n",
       "      <th>253</th>\n",
       "      <td>TCGA-AJ-A3OK</td>\n",
       "      <td>Docetaxel</td>\n",
       "      <td>Complete Response</td>\n",
       "      <td>1</td>\n",
       "      <td>DOCETAXEL</td>\n",
       "    </tr>\n",
       "  </tbody>\n",
       "</table>\n",
       "<p>254 rows × 5 columns</p>\n",
       "</div>"
      ],
      "text/plain": [
       "      patient.arr     drug.name           response  response_cat          drug\n",
       "0    TCGA-G2-A2EC  Methotrexate   Partial Response             1  METHOTREXATE\n",
       "1    TCGA-G2-A2EC   Doxorubicin   Partial Response             1   DOXORUBICIN\n",
       "2    TCGA-G2-A2EC   Vinblastine   Partial Response             1   VINBLASTINE\n",
       "3    TCGA-G2-A2EC     Cisplatin   Partial Response             1     CISPLATIN\n",
       "4    TCGA-BT-A2LA   Carboplatin  Complete Response             1   CARBOPLATIN\n",
       "..            ...           ...                ...           ...           ...\n",
       "249  TCGA-A5-A1OH   Carboplatin  Complete Response             1   CARBOPLATIN\n",
       "250  TCGA-A5-A3LP   Carboplatin  Complete Response             1   CARBOPLATIN\n",
       "251  TCGA-AJ-A3OK   Carboplatin  Complete Response             1   CARBOPLATIN\n",
       "252  TCGA-AJ-A3OK   Doxorubicin  Complete Response             1   DOXORUBICIN\n",
       "253  TCGA-AJ-A3OK     Docetaxel  Complete Response             1     DOCETAXEL\n",
       "\n",
       "[254 rows x 5 columns]"
      ]
     },
     "execution_count": 14,
     "metadata": {},
     "output_type": "execute_result"
    }
   ],
   "source": [
    "test_tcga_with_response = patient_responses_df[patient_responses_df[\"patient.arr\"].isin(tcga_test_df.index)].reset_index(drop=True)\n",
    "test_tcga_with_response"
   ]
  },
  {
   "cell_type": "code",
   "execution_count": 15,
   "id": "95b35fdf-1ff6-4171-9e06-b240d079eb8d",
   "metadata": {},
   "outputs": [
    {
     "data": {
      "text/html": [
       "<div>\n",
       "<style scoped>\n",
       "    .dataframe tbody tr th:only-of-type {\n",
       "        vertical-align: middle;\n",
       "    }\n",
       "\n",
       "    .dataframe tbody tr th {\n",
       "        vertical-align: top;\n",
       "    }\n",
       "\n",
       "    .dataframe thead th {\n",
       "        text-align: right;\n",
       "    }\n",
       "</style>\n",
       "<table border=\"1\" class=\"dataframe\">\n",
       "  <thead>\n",
       "    <tr style=\"text-align: right;\">\n",
       "      <th></th>\n",
       "      <th>0</th>\n",
       "      <th>1</th>\n",
       "      <th>2</th>\n",
       "      <th>3</th>\n",
       "      <th>4</th>\n",
       "      <th>5</th>\n",
       "      <th>6</th>\n",
       "      <th>7</th>\n",
       "      <th>8</th>\n",
       "      <th>9</th>\n",
       "      <th>...</th>\n",
       "      <th>2038</th>\n",
       "      <th>2039</th>\n",
       "      <th>2040</th>\n",
       "      <th>2041</th>\n",
       "      <th>2042</th>\n",
       "      <th>2043</th>\n",
       "      <th>2044</th>\n",
       "      <th>2045</th>\n",
       "      <th>2046</th>\n",
       "      <th>2047</th>\n",
       "    </tr>\n",
       "    <tr>\n",
       "      <th>drug_name</th>\n",
       "      <th></th>\n",
       "      <th></th>\n",
       "      <th></th>\n",
       "      <th></th>\n",
       "      <th></th>\n",
       "      <th></th>\n",
       "      <th></th>\n",
       "      <th></th>\n",
       "      <th></th>\n",
       "      <th></th>\n",
       "      <th></th>\n",
       "      <th></th>\n",
       "      <th></th>\n",
       "      <th></th>\n",
       "      <th></th>\n",
       "      <th></th>\n",
       "      <th></th>\n",
       "      <th></th>\n",
       "      <th></th>\n",
       "      <th></th>\n",
       "      <th></th>\n",
       "    </tr>\n",
       "  </thead>\n",
       "  <tbody>\n",
       "    <tr>\n",
       "      <th>JW-7-24-1</th>\n",
       "      <td>0</td>\n",
       "      <td>1</td>\n",
       "      <td>0</td>\n",
       "      <td>0</td>\n",
       "      <td>0</td>\n",
       "      <td>0</td>\n",
       "      <td>0</td>\n",
       "      <td>0</td>\n",
       "      <td>0</td>\n",
       "      <td>0</td>\n",
       "      <td>...</td>\n",
       "      <td>0</td>\n",
       "      <td>0</td>\n",
       "      <td>0</td>\n",
       "      <td>0</td>\n",
       "      <td>0</td>\n",
       "      <td>0</td>\n",
       "      <td>0</td>\n",
       "      <td>0</td>\n",
       "      <td>0</td>\n",
       "      <td>0</td>\n",
       "    </tr>\n",
       "    <tr>\n",
       "      <th>KIN001-260</th>\n",
       "      <td>0</td>\n",
       "      <td>0</td>\n",
       "      <td>0</td>\n",
       "      <td>0</td>\n",
       "      <td>0</td>\n",
       "      <td>0</td>\n",
       "      <td>0</td>\n",
       "      <td>0</td>\n",
       "      <td>0</td>\n",
       "      <td>0</td>\n",
       "      <td>...</td>\n",
       "      <td>0</td>\n",
       "      <td>0</td>\n",
       "      <td>0</td>\n",
       "      <td>0</td>\n",
       "      <td>0</td>\n",
       "      <td>0</td>\n",
       "      <td>0</td>\n",
       "      <td>0</td>\n",
       "      <td>0</td>\n",
       "      <td>0</td>\n",
       "    </tr>\n",
       "    <tr>\n",
       "      <th>NSC-87877</th>\n",
       "      <td>0</td>\n",
       "      <td>0</td>\n",
       "      <td>0</td>\n",
       "      <td>0</td>\n",
       "      <td>0</td>\n",
       "      <td>0</td>\n",
       "      <td>0</td>\n",
       "      <td>0</td>\n",
       "      <td>0</td>\n",
       "      <td>0</td>\n",
       "      <td>...</td>\n",
       "      <td>1</td>\n",
       "      <td>0</td>\n",
       "      <td>0</td>\n",
       "      <td>0</td>\n",
       "      <td>0</td>\n",
       "      <td>0</td>\n",
       "      <td>0</td>\n",
       "      <td>0</td>\n",
       "      <td>0</td>\n",
       "      <td>0</td>\n",
       "    </tr>\n",
       "    <tr>\n",
       "      <th>GNE-317</th>\n",
       "      <td>0</td>\n",
       "      <td>0</td>\n",
       "      <td>0</td>\n",
       "      <td>0</td>\n",
       "      <td>0</td>\n",
       "      <td>0</td>\n",
       "      <td>0</td>\n",
       "      <td>0</td>\n",
       "      <td>0</td>\n",
       "      <td>0</td>\n",
       "      <td>...</td>\n",
       "      <td>0</td>\n",
       "      <td>0</td>\n",
       "      <td>0</td>\n",
       "      <td>0</td>\n",
       "      <td>0</td>\n",
       "      <td>0</td>\n",
       "      <td>0</td>\n",
       "      <td>0</td>\n",
       "      <td>0</td>\n",
       "      <td>0</td>\n",
       "    </tr>\n",
       "    <tr>\n",
       "      <th>NAVITOCLAX</th>\n",
       "      <td>0</td>\n",
       "      <td>1</td>\n",
       "      <td>0</td>\n",
       "      <td>0</td>\n",
       "      <td>0</td>\n",
       "      <td>0</td>\n",
       "      <td>0</td>\n",
       "      <td>0</td>\n",
       "      <td>0</td>\n",
       "      <td>0</td>\n",
       "      <td>...</td>\n",
       "      <td>0</td>\n",
       "      <td>0</td>\n",
       "      <td>0</td>\n",
       "      <td>0</td>\n",
       "      <td>0</td>\n",
       "      <td>0</td>\n",
       "      <td>0</td>\n",
       "      <td>0</td>\n",
       "      <td>0</td>\n",
       "      <td>0</td>\n",
       "    </tr>\n",
       "    <tr>\n",
       "      <th>...</th>\n",
       "      <td>...</td>\n",
       "      <td>...</td>\n",
       "      <td>...</td>\n",
       "      <td>...</td>\n",
       "      <td>...</td>\n",
       "      <td>...</td>\n",
       "      <td>...</td>\n",
       "      <td>...</td>\n",
       "      <td>...</td>\n",
       "      <td>...</td>\n",
       "      <td>...</td>\n",
       "      <td>...</td>\n",
       "      <td>...</td>\n",
       "      <td>...</td>\n",
       "      <td>...</td>\n",
       "      <td>...</td>\n",
       "      <td>...</td>\n",
       "      <td>...</td>\n",
       "      <td>...</td>\n",
       "      <td>...</td>\n",
       "      <td>...</td>\n",
       "    </tr>\n",
       "    <tr>\n",
       "      <th>LGH447</th>\n",
       "      <td>0</td>\n",
       "      <td>0</td>\n",
       "      <td>0</td>\n",
       "      <td>0</td>\n",
       "      <td>0</td>\n",
       "      <td>0</td>\n",
       "      <td>0</td>\n",
       "      <td>0</td>\n",
       "      <td>0</td>\n",
       "      <td>0</td>\n",
       "      <td>...</td>\n",
       "      <td>0</td>\n",
       "      <td>0</td>\n",
       "      <td>0</td>\n",
       "      <td>0</td>\n",
       "      <td>0</td>\n",
       "      <td>0</td>\n",
       "      <td>0</td>\n",
       "      <td>0</td>\n",
       "      <td>0</td>\n",
       "      <td>0</td>\n",
       "    </tr>\n",
       "    <tr>\n",
       "      <th>TRASTUZUMAB</th>\n",
       "      <td>0</td>\n",
       "      <td>0</td>\n",
       "      <td>0</td>\n",
       "      <td>0</td>\n",
       "      <td>0</td>\n",
       "      <td>0</td>\n",
       "      <td>0</td>\n",
       "      <td>0</td>\n",
       "      <td>0</td>\n",
       "      <td>0</td>\n",
       "      <td>...</td>\n",
       "      <td>0</td>\n",
       "      <td>0</td>\n",
       "      <td>0</td>\n",
       "      <td>0</td>\n",
       "      <td>0</td>\n",
       "      <td>0</td>\n",
       "      <td>0</td>\n",
       "      <td>0</td>\n",
       "      <td>0</td>\n",
       "      <td>0</td>\n",
       "    </tr>\n",
       "    <tr>\n",
       "      <th>WNT974</th>\n",
       "      <td>0</td>\n",
       "      <td>0</td>\n",
       "      <td>0</td>\n",
       "      <td>0</td>\n",
       "      <td>0</td>\n",
       "      <td>0</td>\n",
       "      <td>0</td>\n",
       "      <td>0</td>\n",
       "      <td>0</td>\n",
       "      <td>0</td>\n",
       "      <td>...</td>\n",
       "      <td>0</td>\n",
       "      <td>0</td>\n",
       "      <td>0</td>\n",
       "      <td>0</td>\n",
       "      <td>0</td>\n",
       "      <td>0</td>\n",
       "      <td>0</td>\n",
       "      <td>0</td>\n",
       "      <td>0</td>\n",
       "      <td>0</td>\n",
       "    </tr>\n",
       "    <tr>\n",
       "      <th>TRIFLURIDINE</th>\n",
       "      <td>0</td>\n",
       "      <td>0</td>\n",
       "      <td>0</td>\n",
       "      <td>0</td>\n",
       "      <td>1</td>\n",
       "      <td>0</td>\n",
       "      <td>0</td>\n",
       "      <td>0</td>\n",
       "      <td>0</td>\n",
       "      <td>0</td>\n",
       "      <td>...</td>\n",
       "      <td>0</td>\n",
       "      <td>0</td>\n",
       "      <td>0</td>\n",
       "      <td>0</td>\n",
       "      <td>0</td>\n",
       "      <td>0</td>\n",
       "      <td>0</td>\n",
       "      <td>0</td>\n",
       "      <td>0</td>\n",
       "      <td>0</td>\n",
       "    </tr>\n",
       "    <tr>\n",
       "      <th>TIPIRACIL</th>\n",
       "      <td>0</td>\n",
       "      <td>0</td>\n",
       "      <td>0</td>\n",
       "      <td>0</td>\n",
       "      <td>0</td>\n",
       "      <td>0</td>\n",
       "      <td>0</td>\n",
       "      <td>0</td>\n",
       "      <td>0</td>\n",
       "      <td>1</td>\n",
       "      <td>...</td>\n",
       "      <td>0</td>\n",
       "      <td>0</td>\n",
       "      <td>0</td>\n",
       "      <td>0</td>\n",
       "      <td>0</td>\n",
       "      <td>0</td>\n",
       "      <td>0</td>\n",
       "      <td>0</td>\n",
       "      <td>0</td>\n",
       "      <td>0</td>\n",
       "    </tr>\n",
       "  </tbody>\n",
       "</table>\n",
       "<p>408 rows × 2048 columns</p>\n",
       "</div>"
      ],
      "text/plain": [
       "              0  1  2  3  4  5  6  7  8  9  ...  2038  2039  2040  2041  2042  \\\n",
       "drug_name                                   ...                                 \n",
       "JW-7-24-1     0  1  0  0  0  0  0  0  0  0  ...     0     0     0     0     0   \n",
       "KIN001-260    0  0  0  0  0  0  0  0  0  0  ...     0     0     0     0     0   \n",
       "NSC-87877     0  0  0  0  0  0  0  0  0  0  ...     1     0     0     0     0   \n",
       "GNE-317       0  0  0  0  0  0  0  0  0  0  ...     0     0     0     0     0   \n",
       "NAVITOCLAX    0  1  0  0  0  0  0  0  0  0  ...     0     0     0     0     0   \n",
       "...          .. .. .. .. .. .. .. .. .. ..  ...   ...   ...   ...   ...   ...   \n",
       "LGH447        0  0  0  0  0  0  0  0  0  0  ...     0     0     0     0     0   \n",
       "TRASTUZUMAB   0  0  0  0  0  0  0  0  0  0  ...     0     0     0     0     0   \n",
       "WNT974        0  0  0  0  0  0  0  0  0  0  ...     0     0     0     0     0   \n",
       "TRIFLURIDINE  0  0  0  0  1  0  0  0  0  0  ...     0     0     0     0     0   \n",
       "TIPIRACIL     0  0  0  0  0  0  0  0  0  1  ...     0     0     0     0     0   \n",
       "\n",
       "              2043  2044  2045  2046  2047  \n",
       "drug_name                                   \n",
       "JW-7-24-1        0     0     0     0     0  \n",
       "KIN001-260       0     0     0     0     0  \n",
       "NSC-87877        0     0     0     0     0  \n",
       "GNE-317          0     0     0     0     0  \n",
       "NAVITOCLAX       0     0     0     0     0  \n",
       "...            ...   ...   ...   ...   ...  \n",
       "LGH447           0     0     0     0     0  \n",
       "TRASTUZUMAB      0     0     0     0     0  \n",
       "WNT974           0     0     0     0     0  \n",
       "TRIFLURIDINE     0     0     0     0     0  \n",
       "TIPIRACIL        0     0     0     0     0  \n",
       "\n",
       "[408 rows x 2048 columns]"
      ]
     },
     "execution_count": 15,
     "metadata": {},
     "output_type": "execute_result"
    }
   ],
   "source": [
    "drug_fp = pd.read_csv(\"/data/ajayago/copied_from_cdal1/ajayago_home_folder/processed/drug_morgan_fingerprints.csv\", index_col = 0)\n",
    "drug_fp"
   ]
  },
  {
   "cell_type": "code",
   "execution_count": 16,
   "id": "e040c332-53ec-4222-b7f0-ee6919cab91c",
   "metadata": {},
   "outputs": [
    {
     "data": {
      "text/plain": [
       "{'ALDESLEUKIN',\n",
       " 'ANASTROZOLE',\n",
       " 'BCG',\n",
       " 'CAPECITABINE',\n",
       " 'CARBOPLATIN',\n",
       " 'CYCLOSPORINE',\n",
       " 'DEXAMETHASONE',\n",
       " 'DIDOX',\n",
       " 'E7389',\n",
       " 'ERIBULIN',\n",
       " 'EXEMESTANE',\n",
       " 'FOLFIRI',\n",
       " 'FOLFOX',\n",
       " 'FOTEMUSTINE',\n",
       " 'GOSERELIN',\n",
       " 'GP100',\n",
       " 'HYDROCORTISONE',\n",
       " 'IFOSFAMIDE',\n",
       " 'LETROZOLE',\n",
       " 'LEUCOVORIN',\n",
       " 'LEUPROLIDE',\n",
       " 'LOMUSTINE',\n",
       " 'MELPHALAN',\n",
       " 'METHYLPREDNISOLONE',\n",
       " 'MYCOPHENOLIC ACID',\n",
       " 'ONDANSETRON',\n",
       " 'PAMIDRONATE',\n",
       " 'PEGFILGRASTIM',\n",
       " 'PNU-159548',\n",
       " 'PX-866',\n",
       " 'RESIQUIMOD',\n",
       " 'TOREMIFENE',\n",
       " 'VEMURAFENIB'}"
      ]
     },
     "execution_count": 16,
     "metadata": {},
     "output_type": "execute_result"
    }
   ],
   "source": [
    "set(train_tcga_with_response[\"drug\"]) - set(drug_fp.index)"
   ]
  },
  {
   "cell_type": "code",
   "execution_count": 17,
   "id": "067d8920-f214-40ad-a8c5-ee6d24b5c265",
   "metadata": {},
   "outputs": [
    {
     "data": {
      "text/plain": [
       "{'CAPECITABINE',\n",
       " 'CARBOPLATIN',\n",
       " 'FOTEMUSTINE',\n",
       " 'IFOSFAMIDE',\n",
       " 'LEUCOVORIN',\n",
       " 'LEUPROLIDE',\n",
       " 'LOMUSTINE',\n",
       " 'PAMIDRONATE',\n",
       " 'REGORAFENIB',\n",
       " 'VEMURAFENIB'}"
      ]
     },
     "execution_count": 17,
     "metadata": {},
     "output_type": "execute_result"
    }
   ],
   "source": [
    "set(test_tcga_with_response[\"drug\"]) - set(drug_fp.index)"
   ]
  },
  {
   "cell_type": "markdown",
   "id": "ff708127-c37e-4b5a-9e37-24150f4da626",
   "metadata": {},
   "source": [
    "Plan:\n",
    "\n",
    "* Baseline: Train a model on train patient data + drug fingerprints and predict the response for the (patient, drug) pair.\n",
    "* Add all cell lines and assign pseudo labels using the patient model from baseline - concat both datasets and train another model.\n",
    "* Weak supervision + subset selection on cell lines - use this with patient data to train another model\n",
    "\n",
    "Evaluation: Classification metrics on the patient test dataset."
   ]
  },
  {
   "cell_type": "code",
   "execution_count": 18,
   "id": "65bb7006-b393-4ce7-99d7-b34c3c655681",
   "metadata": {},
   "outputs": [],
   "source": [
    "from sklearn.metrics import roc_auc_score, average_precision_score, accuracy_score"
   ]
  },
  {
   "cell_type": "code",
   "execution_count": 19,
   "id": "46fc37cb-1208-402d-88b7-1d9503ab2c36",
   "metadata": {},
   "outputs": [],
   "source": [
    "# Held out TCGA dataset\n",
    "test_features = []\n",
    "test_y = []\n",
    "for idx, row in test_tcga_with_response.iterrows():\n",
    "    if row[\"drug\"] in drug_fp.index:\n",
    "        row_inp = []\n",
    "        row_inp.extend(tcga_test_df.loc[row[\"patient.arr\"]].values)\n",
    "        row_inp.extend(drug_fp.loc[row[\"drug\"]].values)\n",
    "        test_y.append(row[\"response_cat\"])\n",
    "        test_features.append(row_inp)"
   ]
  },
  {
   "cell_type": "code",
   "execution_count": 20,
   "id": "cd7659b5-72ae-4b1f-9d19-16c1357ae196",
   "metadata": {},
   "outputs": [
    {
     "name": "stdout",
     "output_type": "stream",
     "text": [
      "torch.Size([201, 9824]) torch.Size([201])\n"
     ]
    }
   ],
   "source": [
    "test_features_tensor = torch.tensor(test_features)\n",
    "test_y_tensor = torch.tensor(test_y)\n",
    "print(test_features_tensor.shape, test_y_tensor.shape)"
   ]
  },
  {
   "cell_type": "markdown",
   "id": "22310674-8d8b-4abe-bcf9-f4bfbe801291",
   "metadata": {},
   "source": [
    "#### Baseline Model"
   ]
  },
  {
   "cell_type": "code",
   "execution_count": 21,
   "id": "d26fa460-b4f3-4bd7-9711-ce3a59d298f9",
   "metadata": {},
   "outputs": [],
   "source": [
    "train_features_all = []\n",
    "train_y_all = []\n",
    "for idx, row in train_tcga_with_response.iterrows():\n",
    "    if row[\"drug\"] in drug_fp.index:\n",
    "        row_inp = []\n",
    "        row_inp.extend(tcga_train_df.loc[row[\"patient.arr\"]].values)\n",
    "        row_inp.extend(drug_fp.loc[row[\"drug\"]].values)\n",
    "        train_y_all.append(row[\"response_cat\"])\n",
    "        train_features_all.append(row_inp)"
   ]
  },
  {
   "cell_type": "code",
   "execution_count": 22,
   "id": "6bcbfc0b-06bd-4210-b754-639502e07a10",
   "metadata": {},
   "outputs": [],
   "source": [
    "val_features = train_features_all[int(0.8 * len(train_features_all)):]\n",
    "val_y = train_y_all[int(0.8 * len(train_features_all)):]\n",
    "train_features = train_features_all[:int(0.8 * len(train_features_all))]\n",
    "train_y = train_y_all[:int(0.8 * len(train_features_all))]"
   ]
  },
  {
   "cell_type": "code",
   "execution_count": 23,
   "id": "d00f7d06-e983-41b4-9182-88ceaa73038d",
   "metadata": {},
   "outputs": [
    {
     "data": {
      "text/plain": [
       "(608, 201, 153)"
      ]
     },
     "execution_count": 23,
     "metadata": {},
     "output_type": "execute_result"
    }
   ],
   "source": [
    "len(train_features), len(test_features), len(val_features)"
   ]
  },
  {
   "cell_type": "code",
   "execution_count": 24,
   "id": "fb76a960-4a6f-4cb3-b987-646b474ab5f6",
   "metadata": {},
   "outputs": [
    {
     "name": "stdout",
     "output_type": "stream",
     "text": [
      "torch.Size([608, 9824]) torch.Size([608])\n"
     ]
    }
   ],
   "source": [
    "train_features_tensor = torch.tensor(train_features)\n",
    "train_y_tensor = torch.tensor(train_y)\n",
    "print(train_features_tensor.shape, train_y_tensor.shape)"
   ]
  },
  {
   "cell_type": "code",
   "execution_count": 25,
   "id": "a52bdd15-45be-421e-b5b9-8a9711aad862",
   "metadata": {},
   "outputs": [
    {
     "name": "stdout",
     "output_type": "stream",
     "text": [
      "torch.Size([153, 9824]) torch.Size([153])\n"
     ]
    }
   ],
   "source": [
    "val_features_tensor = torch.tensor(val_features)\n",
    "val_y_tensor = torch.tensor(val_y)\n",
    "print(val_features_tensor.shape, val_y_tensor.shape)"
   ]
  },
  {
   "cell_type": "code",
   "execution_count": 26,
   "id": "c7bd0d30-3f6e-488e-9524-b0d2f1d5a33b",
   "metadata": {},
   "outputs": [],
   "source": [
    "class BaseLineNN(nn.Module):\n",
    "    def __init__(self, in_dim = 9824, hidden_size=64, out_dim = 1):\n",
    "        super().__init__()\n",
    "        self.linear1 = nn.Linear(in_dim, hidden_size)\n",
    "        self.linear2 = nn.Linear(hidden_size, out_dim)\n",
    "\n",
    "    def forward(self, x):\n",
    "        x = self.linear1(x)\n",
    "        x = nn.ReLU()(x)\n",
    "        x = self.linear2(x)\n",
    "        return x"
   ]
  },
  {
   "cell_type": "code",
   "execution_count": 27,
   "id": "b6beb891-754e-49ba-882d-5a42da977ad9",
   "metadata": {},
   "outputs": [],
   "source": [
    "nn_baseline = BaseLineNN()"
   ]
  },
  {
   "cell_type": "code",
   "execution_count": 28,
   "id": "95b740e0-dd5b-46b5-8928-2d9e72d33919",
   "metadata": {},
   "outputs": [],
   "source": [
    "criterion = nn.BCEWithLogitsLoss()\n",
    "optim = torch.optim.Adam(nn_baseline.parameters(), lr = 1e-6)"
   ]
  },
  {
   "cell_type": "code",
   "execution_count": 29,
   "id": "3dcdb39c-568a-406f-84e9-421d72482a01",
   "metadata": {},
   "outputs": [
    {
     "data": {
      "text/plain": [
       "torch.int64"
      ]
     },
     "execution_count": 29,
     "metadata": {},
     "output_type": "execute_result"
    }
   ],
   "source": [
    "train_y_tensor.dtype"
   ]
  },
  {
   "cell_type": "code",
   "execution_count": 30,
   "id": "8a236f52-5add-45cc-ae84-5702d50b8e34",
   "metadata": {},
   "outputs": [
    {
     "name": "stdout",
     "output_type": "stream",
     "text": [
      "Epoch 0: Training loss: 0.6907088756561279 |  Validation loss: 0.6894047856330872\n",
      "Epoch 1: Training loss: 0.6906402707099915 |  Validation loss: 0.689350962638855\n",
      "Epoch 2: Training loss: 0.6905719041824341 |  Validation loss: 0.6892969012260437\n",
      "Epoch 3: Training loss: 0.6905034780502319 |  Validation loss: 0.6892428994178772\n",
      "Epoch 4: Training loss: 0.6904351711273193 |  Validation loss: 0.6891888380050659\n",
      "Epoch 5: Training loss: 0.6903668642044067 |  Validation loss: 0.6891348361968994\n",
      "Epoch 6: Training loss: 0.6902985572814941 |  Validation loss: 0.6890810132026672\n",
      "Epoch 7: Training loss: 0.6902304291725159 |  Validation loss: 0.6890270709991455\n",
      "Epoch 8: Training loss: 0.6901623010635376 |  Validation loss: 0.6889733076095581\n",
      "Epoch 9: Training loss: 0.6900942921638489 |  Validation loss: 0.6889195442199707\n",
      "Epoch 10: Training loss: 0.6900264024734497 |  Validation loss: 0.6888658404350281\n",
      "Epoch 11: Training loss: 0.689958393573761 |  Validation loss: 0.6888121962547302\n",
      "Epoch 12: Training loss: 0.6898905038833618 |  Validation loss: 0.6887586712837219\n",
      "Epoch 13: Training loss: 0.689822793006897 |  Validation loss: 0.6887051463127136\n",
      "Epoch 14: Training loss: 0.6897552013397217 |  Validation loss: 0.6886516213417053\n",
      "Epoch 15: Training loss: 0.6896874904632568 |  Validation loss: 0.6885982155799866\n",
      "Epoch 16: Training loss: 0.6896200180053711 |  Validation loss: 0.6885448694229126\n",
      "Epoch 17: Training loss: 0.6895524859428406 |  Validation loss: 0.6884916424751282\n",
      "Epoch 18: Training loss: 0.6894851326942444 |  Validation loss: 0.6884384155273438\n",
      "Epoch 19: Training loss: 0.6894177198410034 |  Validation loss: 0.6883852481842041\n",
      "Epoch 20: Training loss: 0.6893506050109863 |  Validation loss: 0.6883320808410645\n",
      "Epoch 21: Training loss: 0.6892833709716797 |  Validation loss: 0.6882790327072144\n",
      "Epoch 22: Training loss: 0.6892161965370178 |  Validation loss: 0.6882259249687195\n",
      "Epoch 23: Training loss: 0.6891492009162903 |  Validation loss: 0.6881729364395142\n",
      "Epoch 24: Training loss: 0.6890823245048523 |  Validation loss: 0.6881199479103088\n",
      "Epoch 25: Training loss: 0.6890154480934143 |  Validation loss: 0.688066840171814\n",
      "Epoch 26: Training loss: 0.6889486312866211 |  Validation loss: 0.6880138516426086\n",
      "Epoch 27: Training loss: 0.6888819932937622 |  Validation loss: 0.6879610419273376\n",
      "Epoch 28: Training loss: 0.6888152956962585 |  Validation loss: 0.6879081726074219\n",
      "Epoch 29: Training loss: 0.688748836517334 |  Validation loss: 0.6878553628921509\n",
      "Epoch 30: Training loss: 0.6886823773384094 |  Validation loss: 0.6878025531768799\n",
      "Epoch 31: Training loss: 0.6886159777641296 |  Validation loss: 0.6877498030662537\n",
      "Epoch 32: Training loss: 0.6885496377944946 |  Validation loss: 0.6876970529556274\n",
      "Epoch 33: Training loss: 0.6884834170341492 |  Validation loss: 0.6876444816589355\n",
      "Epoch 34: Training loss: 0.6884172558784485 |  Validation loss: 0.6875920295715332\n",
      "Epoch 35: Training loss: 0.6883511543273926 |  Validation loss: 0.6875395774841309\n",
      "Epoch 36: Training loss: 0.688285231590271 |  Validation loss: 0.6874873042106628\n",
      "Epoch 37: Training loss: 0.6882192492485046 |  Validation loss: 0.6874350309371948\n",
      "Epoch 38: Training loss: 0.6881535649299622 |  Validation loss: 0.6873828172683716\n",
      "Epoch 39: Training loss: 0.6880877614021301 |  Validation loss: 0.6873307228088379\n",
      "Epoch 40: Training loss: 0.6880221366882324 |  Validation loss: 0.6872785687446594\n",
      "Epoch 41: Training loss: 0.6879566311836243 |  Validation loss: 0.6872267127037048\n",
      "Epoch 42: Training loss: 0.687890887260437 |  Validation loss: 0.6871747374534607\n",
      "Epoch 43: Training loss: 0.6878253221511841 |  Validation loss: 0.6871228218078613\n",
      "Epoch 44: Training loss: 0.6877597570419312 |  Validation loss: 0.6870709657669067\n",
      "Epoch 45: Training loss: 0.6876941323280334 |  Validation loss: 0.6870192289352417\n",
      "Epoch 46: Training loss: 0.6876286864280701 |  Validation loss: 0.6869676113128662\n",
      "Epoch 47: Training loss: 0.687563419342041 |  Validation loss: 0.6869160532951355\n",
      "Epoch 48: Training loss: 0.6874980330467224 |  Validation loss: 0.6868644952774048\n",
      "Epoch 49: Training loss: 0.6874328255653381 |  Validation loss: 0.6868131756782532\n",
      "Epoch 50: Training loss: 0.6873677968978882 |  Validation loss: 0.6867619156837463\n",
      "Epoch 51: Training loss: 0.6873027086257935 |  Validation loss: 0.6867106556892395\n",
      "Epoch 52: Training loss: 0.6872377991676331 |  Validation loss: 0.6866594552993774\n",
      "Epoch 53: Training loss: 0.6871729493141174 |  Validation loss: 0.6866083145141602\n",
      "Epoch 54: Training loss: 0.6871080994606018 |  Validation loss: 0.686557412147522\n",
      "Epoch 55: Training loss: 0.6870434284210205 |  Validation loss: 0.6865065097808838\n",
      "Epoch 56: Training loss: 0.6869789361953735 |  Validation loss: 0.6864557266235352\n",
      "Epoch 57: Training loss: 0.6869143843650818 |  Validation loss: 0.6864049434661865\n",
      "Epoch 58: Training loss: 0.6868500709533691 |  Validation loss: 0.6863544583320618\n",
      "Epoch 59: Training loss: 0.6867856383323669 |  Validation loss: 0.6863037943840027\n",
      "Epoch 60: Training loss: 0.6867213845252991 |  Validation loss: 0.6862533092498779\n",
      "Epoch 61: Training loss: 0.6866572499275208 |  Validation loss: 0.6862028241157532\n",
      "Epoch 62: Training loss: 0.6865931153297424 |  Validation loss: 0.686152458190918\n",
      "Epoch 63: Training loss: 0.6865290403366089 |  Validation loss: 0.6861022114753723\n",
      "Epoch 64: Training loss: 0.6864650845527649 |  Validation loss: 0.6860520839691162\n",
      "Epoch 65: Training loss: 0.6864011883735657 |  Validation loss: 0.6860021352767944\n",
      "Epoch 66: Training loss: 0.686337411403656 |  Validation loss: 0.6859521269798279\n",
      "Epoch 67: Training loss: 0.6862736344337463 |  Validation loss: 0.6859024167060852\n",
      "Epoch 68: Training loss: 0.6862099766731262 |  Validation loss: 0.6858525276184082\n",
      "Epoch 69: Training loss: 0.6861463785171509 |  Validation loss: 0.6858029365539551\n",
      "Epoch 70: Training loss: 0.6860828995704651 |  Validation loss: 0.6857534050941467\n",
      "Epoch 71: Training loss: 0.6860194206237793 |  Validation loss: 0.6857039928436279\n",
      "Epoch 72: Training loss: 0.6859561204910278 |  Validation loss: 0.6856546998023987\n",
      "Epoch 73: Training loss: 0.6858927607536316 |  Validation loss: 0.6856054663658142\n",
      "Epoch 74: Training loss: 0.6858296394348145 |  Validation loss: 0.6855563521385193\n",
      "Epoch 75: Training loss: 0.6857665777206421 |  Validation loss: 0.6855071783065796\n",
      "Epoch 76: Training loss: 0.685703456401825 |  Validation loss: 0.6854581236839294\n",
      "Epoch 77: Training loss: 0.6856404542922974 |  Validation loss: 0.6854090690612793\n",
      "Epoch 78: Training loss: 0.6855775713920593 |  Validation loss: 0.6853602528572083\n",
      "Epoch 79: Training loss: 0.6855147480964661 |  Validation loss: 0.6853113770484924\n",
      "Epoch 80: Training loss: 0.6854521036148071 |  Validation loss: 0.6852625608444214\n",
      "Epoch 81: Training loss: 0.6853893995285034 |  Validation loss: 0.6852138042449951\n",
      "Epoch 82: Training loss: 0.685326874256134 |  Validation loss: 0.6851649880409241\n",
      "Epoch 83: Training loss: 0.6852644085884094 |  Validation loss: 0.6851163506507874\n",
      "Epoch 84: Training loss: 0.6852020025253296 |  Validation loss: 0.6850677728652954\n",
      "Epoch 85: Training loss: 0.6851397156715393 |  Validation loss: 0.685019314289093\n",
      "Epoch 86: Training loss: 0.6850775480270386 |  Validation loss: 0.6849708557128906\n",
      "Epoch 87: Training loss: 0.6850154399871826 |  Validation loss: 0.6849225759506226\n",
      "Epoch 88: Training loss: 0.6849533915519714 |  Validation loss: 0.6848742961883545\n",
      "Epoch 89: Training loss: 0.6848915219306946 |  Validation loss: 0.6848260760307312\n",
      "Epoch 90: Training loss: 0.6848297119140625 |  Validation loss: 0.6847778558731079\n",
      "Epoch 91: Training loss: 0.68476802110672 |  Validation loss: 0.684729814529419\n",
      "Epoch 92: Training loss: 0.6847063899040222 |  Validation loss: 0.6846818327903748\n",
      "Epoch 93: Training loss: 0.6846448183059692 |  Validation loss: 0.6846339702606201\n",
      "Epoch 94: Training loss: 0.6845834255218506 |  Validation loss: 0.6845860481262207\n",
      "Epoch 95: Training loss: 0.6845220923423767 |  Validation loss: 0.6845383048057556\n",
      "Epoch 96: Training loss: 0.6844608783721924 |  Validation loss: 0.6844905018806458\n",
      "Epoch 97: Training loss: 0.6843997240066528 |  Validation loss: 0.6844428777694702\n",
      "Epoch 98: Training loss: 0.6843386292457581 |  Validation loss: 0.6843951940536499\n",
      "Epoch 99: Training loss: 0.6842776536941528 |  Validation loss: 0.6843476295471191\n"
     ]
    }
   ],
   "source": [
    "# training \n",
    "for i in range(100):\n",
    "    optim.zero_grad()\n",
    "    y_pred = nn_baseline(train_features_tensor.to(dtype=torch.float32))\n",
    "    loss = criterion(y_pred, train_y_tensor.view(-1, 1).to(dtype=torch.float32))\n",
    "    loss.backward()\n",
    "    optim.step()\n",
    "\n",
    "    with torch.no_grad():\n",
    "        val_loss = criterion(nn_baseline(val_features_tensor.to(dtype=torch.float32)), val_y_tensor.view(-1, 1).to(dtype=torch.float32))\n",
    "\n",
    "    print(f\"Epoch {i}: Training loss: {loss.detach().item()} |  Validation loss: {val_loss.detach().item()}\")"
   ]
  },
  {
   "cell_type": "code",
   "execution_count": 31,
   "id": "4c78168d-61b8-4540-a86d-831c62713869",
   "metadata": {},
   "outputs": [
    {
     "data": {
      "text/plain": [
       "torch.Size([201, 1])"
      ]
     },
     "execution_count": 31,
     "metadata": {},
     "output_type": "execute_result"
    }
   ],
   "source": [
    "# inference\n",
    "nn_baseline.eval()\n",
    "y_test_pred = nn.Sigmoid()(nn_baseline(test_features_tensor.to(dtype=torch.float32)))\n",
    "y_test_pred.shape"
   ]
  },
  {
   "cell_type": "code",
   "execution_count": 32,
   "id": "100cbfdb-e2af-4c55-b873-fcb85c886b74",
   "metadata": {},
   "outputs": [
    {
     "data": {
      "text/plain": [
       "(201,)"
      ]
     },
     "execution_count": 32,
     "metadata": {},
     "output_type": "execute_result"
    }
   ],
   "source": [
    "predictions = y_test_pred.detach().numpy().reshape(-1)\n",
    "predictions.shape"
   ]
  },
  {
   "cell_type": "code",
   "execution_count": 33,
   "id": "63a0ff7e-79d9-4a1e-909d-ca8ed1283b22",
   "metadata": {},
   "outputs": [
    {
     "name": "stdout",
     "output_type": "stream",
     "text": [
      "AUROC: 0.5573959052219922, AUPRC: 0.7141680705382046\n"
     ]
    }
   ],
   "source": [
    "auroc = roc_auc_score(test_y, predictions)\n",
    "auprc = average_precision_score(test_y, predictions)\n",
    "print(f\"AUROC: {auroc}, AUPRC: {auprc}\")"
   ]
  },
  {
   "cell_type": "markdown",
   "id": "f7a8a6b1-beef-4cb4-9bbc-2fc88a8b2506",
   "metadata": {},
   "source": [
    "#### Model with all cell lines + pseudo labels and train patient data"
   ]
  },
  {
   "cell_type": "code",
   "execution_count": 34,
   "id": "e80d7a6a-935c-410c-9903-5114877c1346",
   "metadata": {},
   "outputs": [],
   "source": [
    "cl_aug_train_features = []\n",
    "cl_aug_train_y = []\n",
    "for idx, row in cl_responses_df.iterrows():\n",
    "    if row[\"drug_name\"] in drug_fp.index:\n",
    "        row_inp = []\n",
    "        row_inp.extend(augmented_cl_df.loc[row[\"depmap_id\"]].values)\n",
    "        row_inp.extend(drug_fp.loc[row[\"drug_name\"]].values)\n",
    "        cl_aug_train_y.append(row[\"auc\"])\n",
    "        cl_aug_train_features.append(row_inp)"
   ]
  },
  {
   "cell_type": "code",
   "execution_count": 35,
   "id": "04a8f180-01d0-448c-ab78-ac4d3fa54636",
   "metadata": {},
   "outputs": [
    {
     "data": {
      "text/plain": [
       "226796"
      ]
     },
     "execution_count": 35,
     "metadata": {},
     "output_type": "execute_result"
    }
   ],
   "source": [
    "len(cl_aug_train_features)"
   ]
  },
  {
   "cell_type": "code",
   "execution_count": 68,
   "id": "709639f6-fe12-4cef-961e-c2fcec35dbc6",
   "metadata": {},
   "outputs": [
    {
     "data": {
      "text/plain": [
       "torch.Size([226796, 9824])"
      ]
     },
     "execution_count": 68,
     "metadata": {},
     "output_type": "execute_result"
    }
   ],
   "source": [
    "cl_aug_train_features_tensor = torch.tensor(cl_aug_train_features)\n",
    "cl_aug_train_features_tensor.shape"
   ]
  },
  {
   "cell_type": "code",
   "execution_count": 69,
   "id": "e3099b83-004c-44c3-bf6c-5b656865c866",
   "metadata": {},
   "outputs": [],
   "source": [
    "# np.save(\"/data/ajayago/druid/intermediate/cs6220/augmented_cl_features_rf_joint_UDA.npy\", np.array(cl_aug_train_features))"
   ]
  },
  {
   "cell_type": "code",
   "execution_count": 70,
   "id": "9d28fffa-176d-49c9-b3ad-9b8b37f5f375",
   "metadata": {},
   "outputs": [
    {
     "data": {
      "text/plain": [
       "torch.Size([226796, 1])"
      ]
     },
     "execution_count": 70,
     "metadata": {},
     "output_type": "execute_result"
    }
   ],
   "source": [
    "# Assign pseudo labels for cell lines using above NN Model\n",
    "nn_baseline.eval()\n",
    "cl_aug_train_y_pseudo = nn.Sigmoid()(nn_baseline(cl_aug_train_features_tensor.to(dtype=torch.float32))).detach()\n",
    "cl_aug_train_y_pseudo.shape"
   ]
  },
  {
   "cell_type": "code",
   "execution_count": 71,
   "id": "f8834d10-4803-44aa-9803-cfda0733393b",
   "metadata": {},
   "outputs": [],
   "source": [
    "# pd.DataFrame(cl_aug_train_y_pseudo).to_csv(\"/data/ajayago/druid/intermediate/cs6220/augmented_cl_pseudolabels_rf_joint_UDA.csv\", index=False, header=False)"
   ]
  },
  {
   "cell_type": "code",
   "execution_count": 72,
   "id": "ff6594f3-b406-442b-966a-00442dbedd63",
   "metadata": {},
   "outputs": [
    {
     "data": {
      "text/plain": [
       "tensor([[ 0.0000,  0.0000,  0.0000,  ...,  0.0000,  0.0000,  0.0000],\n",
       "        [ 0.0000,  0.0000,  0.0000,  ...,  0.0000,  0.0000,  0.0000],\n",
       "        [ 0.0000,  0.0000,  0.0000,  ...,  0.0000,  0.0000,  0.0000],\n",
       "        ...,\n",
       "        [-0.1051, -0.1956,  0.0713,  ...,  0.0000,  0.0000,  0.0000],\n",
       "        [-0.1925, -0.3728,  0.2480,  ...,  0.0000,  0.0000,  0.0000],\n",
       "        [-0.0713,  0.0008, -0.0503,  ...,  0.0000,  0.0000,  0.0000]],\n",
       "       dtype=torch.float64)"
      ]
     },
     "execution_count": 72,
     "metadata": {},
     "output_type": "execute_result"
    }
   ],
   "source": [
    "# Use pseudo labeled cell lines and patient train data to train\n",
    "X_train = torch.cat((train_features_tensor, cl_aug_train_features_tensor), dim=0)\n",
    "X_train"
   ]
  },
  {
   "cell_type": "code",
   "execution_count": 73,
   "id": "b7bffc7e-25cc-4409-9d47-9bcf7a09a4d8",
   "metadata": {},
   "outputs": [
    {
     "data": {
      "text/plain": [
       "torch.Size([227404, 9824])"
      ]
     },
     "execution_count": 73,
     "metadata": {},
     "output_type": "execute_result"
    }
   ],
   "source": [
    "X_train.shape"
   ]
  },
  {
   "cell_type": "code",
   "execution_count": 74,
   "id": "6a66a0b3-0375-4427-b51f-be9827ce1b58",
   "metadata": {},
   "outputs": [
    {
     "data": {
      "text/plain": [
       "torch.Size([227404, 1])"
      ]
     },
     "execution_count": 74,
     "metadata": {},
     "output_type": "execute_result"
    }
   ],
   "source": [
    "y_train = torch.cat((train_y_tensor.view(-1, 1), cl_aug_train_y_pseudo), dim = 0)\n",
    "y_train.shape"
   ]
  },
  {
   "cell_type": "code",
   "execution_count": 81,
   "id": "d21d0a31-d367-4405-9aa2-60ce8a2498c3",
   "metadata": {},
   "outputs": [],
   "source": [
    "nn_augmented_full = BaseLineNN()"
   ]
  },
  {
   "cell_type": "code",
   "execution_count": 82,
   "id": "82c2583a-01c7-4898-bc7b-20a8aa13d11f",
   "metadata": {},
   "outputs": [],
   "source": [
    "criterion_aug = nn.BCEWithLogitsLoss()\n",
    "optim_aug = torch.optim.Adam(nn_augmented_full.parameters(), lr = 1e-4)"
   ]
  },
  {
   "cell_type": "code",
   "execution_count": 83,
   "id": "f8223453-fefe-42ea-99e1-cfce9ece9785",
   "metadata": {},
   "outputs": [
    {
     "name": "stdout",
     "output_type": "stream",
     "text": [
      "Epoch 0: Training loss: 0.6927016973495483 |  Validation loss: 0.6968560218811035\n",
      "Epoch 1: Training loss: 0.6920368671417236 |  Validation loss: 0.6930705308914185\n",
      "Epoch 2: Training loss: 0.691814661026001 |  Validation loss: 0.6897245645523071\n",
      "Epoch 3: Training loss: 0.6918461918830872 |  Validation loss: 0.6870479583740234\n",
      "Epoch 4: Training loss: 0.6919033527374268 |  Validation loss: 0.6850740313529968\n",
      "Epoch 5: Training loss: 0.6918943524360657 |  Validation loss: 0.6836845278739929\n",
      "Epoch 6: Training loss: 0.6918405890464783 |  Validation loss: 0.6827390789985657\n",
      "Epoch 7: Training loss: 0.691782534122467 |  Validation loss: 0.6821140050888062\n",
      "Epoch 8: Training loss: 0.6917439699172974 |  Validation loss: 0.6816973686218262\n",
      "Epoch 9: Training loss: 0.6917290687561035 |  Validation loss: 0.681390106678009\n",
      "Epoch 10: Training loss: 0.6917304396629333 |  Validation loss: 0.6811368465423584\n",
      "Epoch 11: Training loss: 0.691737174987793 |  Validation loss: 0.6808949112892151\n",
      "Epoch 12: Training loss: 0.6917412281036377 |  Validation loss: 0.6806439757347107\n",
      "Epoch 13: Training loss: 0.6917389631271362 |  Validation loss: 0.6803839802742004\n",
      "Epoch 14: Training loss: 0.6917306780815125 |  Validation loss: 0.6801204085350037\n",
      "Epoch 15: Training loss: 0.6917186975479126 |  Validation loss: 0.6798626780509949\n",
      "Epoch 16: Training loss: 0.6917057633399963 |  Validation loss: 0.6796241998672485\n",
      "Epoch 17: Training loss: 0.6916940808296204 |  Validation loss: 0.6794211864471436\n",
      "Epoch 18: Training loss: 0.691685140132904 |  Validation loss: 0.6792603135108948\n",
      "Epoch 19: Training loss: 0.6916792392730713 |  Validation loss: 0.6791545152664185\n",
      "Epoch 20: Training loss: 0.6916758418083191 |  Validation loss: 0.6790982484817505\n",
      "Epoch 21: Training loss: 0.6916740536689758 |  Validation loss: 0.6790900826454163\n",
      "Epoch 22: Training loss: 0.6916726231575012 |  Validation loss: 0.6791179776191711\n",
      "Epoch 23: Training loss: 0.6916707158088684 |  Validation loss: 0.6791574358940125\n",
      "Epoch 24: Training loss: 0.6916677355766296 |  Validation loss: 0.6791860461235046\n",
      "Epoch 25: Training loss: 0.691663920879364 |  Validation loss: 0.6791848540306091\n",
      "Epoch 26: Training loss: 0.6916597485542297 |  Validation loss: 0.6791313290596008\n",
      "Epoch 27: Training loss: 0.6916558146476746 |  Validation loss: 0.679015040397644\n",
      "Epoch 28: Training loss: 0.6916525959968567 |  Validation loss: 0.6788337826728821\n",
      "Epoch 29: Training loss: 0.691650390625 |  Validation loss: 0.678587794303894\n",
      "Epoch 30: Training loss: 0.6916489601135254 |  Validation loss: 0.6782841682434082\n",
      "Epoch 31: Training loss: 0.6916478872299194 |  Validation loss: 0.6779344081878662\n",
      "Epoch 32: Training loss: 0.6916468739509583 |  Validation loss: 0.6775527596473694\n",
      "Epoch 33: Training loss: 0.6916454434394836 |  Validation loss: 0.6771528720855713\n",
      "Epoch 34: Training loss: 0.6916436553001404 |  Validation loss: 0.6767504215240479\n",
      "Epoch 35: Training loss: 0.6916412115097046 |  Validation loss: 0.6763579845428467\n",
      "Epoch 36: Training loss: 0.691638708114624 |  Validation loss: 0.6759863495826721\n",
      "Epoch 37: Training loss: 0.6916362047195435 |  Validation loss: 0.6756455898284912\n",
      "Epoch 38: Training loss: 0.6916341185569763 |  Validation loss: 0.6753438711166382\n",
      "Epoch 39: Training loss: 0.6916323900222778 |  Validation loss: 0.6750866770744324\n",
      "Epoch 40: Training loss: 0.6916310787200928 |  Validation loss: 0.6748754382133484\n",
      "Epoch 41: Training loss: 0.6916301846504211 |  Validation loss: 0.6747111678123474\n",
      "Epoch 42: Training loss: 0.6916292309761047 |  Validation loss: 0.6745918393135071\n",
      "Epoch 43: Training loss: 0.6916282773017883 |  Validation loss: 0.6745134592056274\n",
      "Epoch 44: Training loss: 0.691627025604248 |  Validation loss: 0.674470067024231\n",
      "Epoch 45: Training loss: 0.6916255950927734 |  Validation loss: 0.67445307970047\n",
      "Epoch 46: Training loss: 0.6916239857673645 |  Validation loss: 0.6744529008865356\n",
      "Epoch 47: Training loss: 0.6916224956512451 |  Validation loss: 0.6744587421417236\n",
      "Epoch 48: Training loss: 0.6916211247444153 |  Validation loss: 0.6744605898857117\n",
      "Epoch 49: Training loss: 0.6916199326515198 |  Validation loss: 0.6744471788406372\n",
      "Epoch 50: Training loss: 0.6916189193725586 |  Validation loss: 0.6744124293327332\n",
      "Epoch 51: Training loss: 0.6916179060935974 |  Validation loss: 0.6743494868278503\n",
      "Epoch 52: Training loss: 0.6916170716285706 |  Validation loss: 0.674256443977356\n",
      "Epoch 53: Training loss: 0.6916159987449646 |  Validation loss: 0.6741358041763306\n",
      "Epoch 54: Training loss: 0.6916149854660034 |  Validation loss: 0.6739888191223145\n",
      "Epoch 55: Training loss: 0.6916139125823975 |  Validation loss: 0.6738225221633911\n",
      "Epoch 56: Training loss: 0.6916127800941467 |  Validation loss: 0.673642635345459\n",
      "Epoch 57: Training loss: 0.6916117668151855 |  Validation loss: 0.6734566688537598\n",
      "Epoch 58: Training loss: 0.6916106343269348 |  Validation loss: 0.6732722520828247\n",
      "Epoch 59: Training loss: 0.6916096806526184 |  Validation loss: 0.6730941534042358\n",
      "Epoch 60: Training loss: 0.6916087865829468 |  Validation loss: 0.6729268431663513\n",
      "Epoch 61: Training loss: 0.6916078329086304 |  Validation loss: 0.672773003578186\n",
      "Epoch 62: Training loss: 0.6916069388389587 |  Validation loss: 0.6726321578025818\n",
      "Epoch 63: Training loss: 0.6916060447692871 |  Validation loss: 0.6725049018859863\n",
      "Epoch 64: Training loss: 0.6916050910949707 |  Validation loss: 0.6723902821540833\n",
      "Epoch 65: Training loss: 0.6916041374206543 |  Validation loss: 0.6722867488861084\n",
      "Epoch 66: Training loss: 0.6916031837463379 |  Validation loss: 0.6721911430358887\n",
      "Epoch 67: Training loss: 0.6916022896766663 |  Validation loss: 0.6721013784408569\n",
      "Epoch 68: Training loss: 0.6916014552116394 |  Validation loss: 0.6720160245895386\n",
      "Epoch 69: Training loss: 0.691600501537323 |  Validation loss: 0.6719308495521545\n",
      "Epoch 70: Training loss: 0.6915996074676514 |  Validation loss: 0.671843945980072\n",
      "Epoch 71: Training loss: 0.6915987133979797 |  Validation loss: 0.6717529296875\n",
      "Epoch 72: Training loss: 0.6915978789329529 |  Validation loss: 0.671656608581543\n",
      "Epoch 73: Training loss: 0.6915969252586365 |  Validation loss: 0.6715549826622009\n",
      "Epoch 74: Training loss: 0.6915960907936096 |  Validation loss: 0.6714463829994202\n",
      "Epoch 75: Training loss: 0.6915952563285828 |  Validation loss: 0.6713309288024902\n",
      "Epoch 76: Training loss: 0.6915943622589111 |  Validation loss: 0.671209454536438\n",
      "Epoch 77: Training loss: 0.6915936470031738 |  Validation loss: 0.6710820198059082\n",
      "Epoch 78: Training loss: 0.6915926337242126 |  Validation loss: 0.6709489226341248\n",
      "Epoch 79: Training loss: 0.691591739654541 |  Validation loss: 0.6708110570907593\n",
      "Epoch 80: Training loss: 0.6915910243988037 |  Validation loss: 0.6706701517105103\n",
      "Epoch 81: Training loss: 0.6915901303291321 |  Validation loss: 0.6705269813537598\n",
      "Epoch 82: Training loss: 0.6915892362594604 |  Validation loss: 0.6703823208808899\n",
      "Epoch 83: Training loss: 0.6915884017944336 |  Validation loss: 0.6702395081520081\n",
      "Epoch 84: Training loss: 0.691587507724762 |  Validation loss: 0.6700990200042725\n",
      "Epoch 85: Training loss: 0.6915866732597351 |  Validation loss: 0.6699619293212891\n",
      "Epoch 86: Training loss: 0.6915858387947083 |  Validation loss: 0.6698282361030579\n",
      "Epoch 87: Training loss: 0.6915850639343262 |  Validation loss: 0.6696991324424744\n",
      "Epoch 88: Training loss: 0.6915841698646545 |  Validation loss: 0.6695756316184998\n",
      "Epoch 89: Training loss: 0.6915833353996277 |  Validation loss: 0.6694574356079102\n",
      "Epoch 90: Training loss: 0.6915825009346008 |  Validation loss: 0.6693443059921265\n",
      "Epoch 91: Training loss: 0.691581666469574 |  Validation loss: 0.6692348718643188\n",
      "Epoch 92: Training loss: 0.6915807127952576 |  Validation loss: 0.6691282391548157\n",
      "Epoch 93: Training loss: 0.6915798783302307 |  Validation loss: 0.6690208911895752\n",
      "Epoch 94: Training loss: 0.6915789842605591 |  Validation loss: 0.6689123511314392\n",
      "Epoch 95: Training loss: 0.691578209400177 |  Validation loss: 0.6688047647476196\n",
      "Epoch 96: Training loss: 0.6915773153305054 |  Validation loss: 0.6686937212944031\n",
      "Epoch 97: Training loss: 0.6915764212608337 |  Validation loss: 0.6685798168182373\n",
      "Epoch 98: Training loss: 0.6915756464004517 |  Validation loss: 0.6684624552726746\n",
      "Epoch 99: Training loss: 0.6915748119354248 |  Validation loss: 0.6683406829833984\n"
     ]
    }
   ],
   "source": [
    "# training \n",
    "for i in range(100):\n",
    "    optim_aug.zero_grad()\n",
    "    y_pred_aug = nn_augmented_full(X_train.to(dtype=torch.float32))\n",
    "    loss_aug = criterion_aug(y_pred_aug, y_train.view(-1, 1).to(dtype=torch.float32))\n",
    "    loss_aug.backward()\n",
    "    optim_aug.step()\n",
    "\n",
    "    with torch.no_grad():\n",
    "        val_loss_aug = criterion_aug(nn_augmented_full(val_features_tensor.to(dtype=torch.float32)), val_y_tensor.view(-1, 1).to(dtype=torch.float32))\n",
    "\n",
    "    print(f\"Epoch {i}: Training loss: {loss_aug.detach().item()} |  Validation loss: {val_loss_aug.detach().item()}\")"
   ]
  },
  {
   "cell_type": "code",
   "execution_count": 84,
   "id": "413d9b28-4e1b-479b-aa75-35925540b136",
   "metadata": {},
   "outputs": [
    {
     "data": {
      "text/plain": [
       "torch.Size([201, 1])"
      ]
     },
     "execution_count": 84,
     "metadata": {},
     "output_type": "execute_result"
    }
   ],
   "source": [
    "# inference\n",
    "nn_augmented_full.eval()\n",
    "y_test_pred = nn.Sigmoid()(nn_augmented_full(test_features_tensor.to(dtype=torch.float32)))\n",
    "y_test_pred.shape"
   ]
  },
  {
   "cell_type": "code",
   "execution_count": 85,
   "id": "d0c79c22-ff93-4e0e-a536-e2b113108641",
   "metadata": {},
   "outputs": [
    {
     "data": {
      "text/plain": [
       "(201,)"
      ]
     },
     "execution_count": 85,
     "metadata": {},
     "output_type": "execute_result"
    }
   ],
   "source": [
    "predictions = y_test_pred.detach().numpy().reshape(-1)\n",
    "predictions.shape"
   ]
  },
  {
   "cell_type": "code",
   "execution_count": 86,
   "id": "e4b60bcc-34aa-4284-81f4-41268d9357c7",
   "metadata": {},
   "outputs": [
    {
     "name": "stdout",
     "output_type": "stream",
     "text": [
      "AUROC: 0.6004715896020245, AUPRC: 0.7532748867625334\n"
     ]
    }
   ],
   "source": [
    "auroc = roc_auc_score(test_y, predictions)\n",
    "auprc = average_precision_score(test_y, predictions)\n",
    "print(f\"AUROC: {auroc}, AUPRC: {auprc}\")"
   ]
  },
  {
   "cell_type": "markdown",
   "id": "73b86433-09d9-421d-8495-329f3db6aae7",
   "metadata": {},
   "source": [
    "#### Augmented Cell Lines with AUDRC binarized"
   ]
  },
  {
   "cell_type": "code",
   "execution_count": 87,
   "id": "3d12e2df-5d92-40ee-a380-c96514e0c0d8",
   "metadata": {},
   "outputs": [],
   "source": [
    "# convert existing labels for AUDRC into binary labels (1 being responder and 0 being non-responder)\n",
    "# Divide based on median AUDRC per drug"
   ]
  },
  {
   "cell_type": "code",
   "execution_count": 28,
   "id": "596cbaf1-2fab-45ae-a989-f971a2307cee",
   "metadata": {},
   "outputs": [
    {
     "name": "stderr",
     "output_type": "stream",
     "text": [
      "/tmp/ipykernel_490078/2041729234.py:1: FutureWarning: The provided callable <function median at 0x7fa2101d6550> is currently using DataFrameGroupBy.median. In a future version of pandas, the provided callable will be used directly. To keep current behavior pass the string \"median\" instead.\n",
      "  cl_per_drug_median = cl_responses_df.set_index(\"depmap_id\", drop=True).groupby([\"drug_name\"]).agg(np.median)\n"
     ]
    }
   ],
   "source": [
    "cl_per_drug_median = cl_responses_df.set_index(\"depmap_id\", drop=True).groupby([\"drug_name\"]).agg(np.median)"
   ]
  },
  {
   "cell_type": "code",
   "execution_count": 29,
   "id": "69ab9ebe-4a6f-4981-aa96-c3fc766f5055",
   "metadata": {},
   "outputs": [],
   "source": [
    "def categorise_audrc(x):\n",
    "    median = cl_per_drug_median.loc[x[\"drug_name\"]][\"auc\"]\n",
    "    if x[\"auc\"] < median:\n",
    "        return 1\n",
    "    else:\n",
    "        return 0"
   ]
  },
  {
   "cell_type": "code",
   "execution_count": 30,
   "id": "f3378ff6-79a0-4308-b5d6-e1c346af49dd",
   "metadata": {},
   "outputs": [],
   "source": [
    "cl_responses_df[\"binary_cat\"] = cl_responses_df[[\"drug_name\", \"auc\"]].apply(lambda x: categorise_audrc(x), axis=1)"
   ]
  },
  {
   "cell_type": "code",
   "execution_count": 31,
   "id": "b9fd1353-5988-45fa-97fe-a984923227f0",
   "metadata": {},
   "outputs": [
    {
     "data": {
      "text/html": [
       "<div>\n",
       "<style scoped>\n",
       "    .dataframe tbody tr th:only-of-type {\n",
       "        vertical-align: middle;\n",
       "    }\n",
       "\n",
       "    .dataframe tbody tr th {\n",
       "        vertical-align: top;\n",
       "    }\n",
       "\n",
       "    .dataframe thead th {\n",
       "        text-align: right;\n",
       "    }\n",
       "</style>\n",
       "<table border=\"1\" class=\"dataframe\">\n",
       "  <thead>\n",
       "    <tr style=\"text-align: right;\">\n",
       "      <th></th>\n",
       "      <th>depmap_id</th>\n",
       "      <th>drug_name</th>\n",
       "      <th>auc</th>\n",
       "      <th>binary_cat</th>\n",
       "    </tr>\n",
       "  </thead>\n",
       "  <tbody>\n",
       "    <tr>\n",
       "      <th>0</th>\n",
       "      <td>ACH-000001</td>\n",
       "      <td>JW-7-24-1</td>\n",
       "      <td>0.778432</td>\n",
       "      <td>0</td>\n",
       "    </tr>\n",
       "    <tr>\n",
       "      <th>1</th>\n",
       "      <td>ACH-000002</td>\n",
       "      <td>JW-7-24-1</td>\n",
       "      <td>0.788327</td>\n",
       "      <td>0</td>\n",
       "    </tr>\n",
       "    <tr>\n",
       "      <th>2</th>\n",
       "      <td>ACH-000004</td>\n",
       "      <td>JW-7-24-1</td>\n",
       "      <td>0.737630</td>\n",
       "      <td>0</td>\n",
       "    </tr>\n",
       "    <tr>\n",
       "      <th>3</th>\n",
       "      <td>ACH-000006</td>\n",
       "      <td>JW-7-24-1</td>\n",
       "      <td>0.176396</td>\n",
       "      <td>1</td>\n",
       "    </tr>\n",
       "    <tr>\n",
       "      <th>4</th>\n",
       "      <td>ACH-000007</td>\n",
       "      <td>JW-7-24-1</td>\n",
       "      <td>0.569751</td>\n",
       "      <td>1</td>\n",
       "    </tr>\n",
       "    <tr>\n",
       "      <th>...</th>\n",
       "      <td>...</td>\n",
       "      <td>...</td>\n",
       "      <td>...</td>\n",
       "      <td>...</td>\n",
       "    </tr>\n",
       "    <tr>\n",
       "      <th>226791</th>\n",
       "      <td>ACH-001702</td>\n",
       "      <td>SL 0101-1</td>\n",
       "      <td>0.958591</td>\n",
       "      <td>0</td>\n",
       "    </tr>\n",
       "    <tr>\n",
       "      <th>226792</th>\n",
       "      <td>ACH-001703</td>\n",
       "      <td>SL 0101-1</td>\n",
       "      <td>0.497201</td>\n",
       "      <td>1</td>\n",
       "    </tr>\n",
       "    <tr>\n",
       "      <th>226793</th>\n",
       "      <td>ACH-001711</td>\n",
       "      <td>SL 0101-1</td>\n",
       "      <td>0.815928</td>\n",
       "      <td>0</td>\n",
       "    </tr>\n",
       "    <tr>\n",
       "      <th>226794</th>\n",
       "      <td>ACH-001715</td>\n",
       "      <td>SL 0101-1</td>\n",
       "      <td>0.981441</td>\n",
       "      <td>0</td>\n",
       "    </tr>\n",
       "    <tr>\n",
       "      <th>226795</th>\n",
       "      <td>ACH-001716</td>\n",
       "      <td>SL 0101-1</td>\n",
       "      <td>0.942321</td>\n",
       "      <td>0</td>\n",
       "    </tr>\n",
       "  </tbody>\n",
       "</table>\n",
       "<p>226796 rows × 4 columns</p>\n",
       "</div>"
      ],
      "text/plain": [
       "         depmap_id  drug_name       auc  binary_cat\n",
       "0       ACH-000001  JW-7-24-1  0.778432           0\n",
       "1       ACH-000002  JW-7-24-1  0.788327           0\n",
       "2       ACH-000004  JW-7-24-1  0.737630           0\n",
       "3       ACH-000006  JW-7-24-1  0.176396           1\n",
       "4       ACH-000007  JW-7-24-1  0.569751           1\n",
       "...            ...        ...       ...         ...\n",
       "226791  ACH-001702  SL 0101-1  0.958591           0\n",
       "226792  ACH-001703  SL 0101-1  0.497201           1\n",
       "226793  ACH-001711  SL 0101-1  0.815928           0\n",
       "226794  ACH-001715  SL 0101-1  0.981441           0\n",
       "226795  ACH-001716  SL 0101-1  0.942321           0\n",
       "\n",
       "[226796 rows x 4 columns]"
      ]
     },
     "execution_count": 31,
     "metadata": {},
     "output_type": "execute_result"
    }
   ],
   "source": [
    "cl_responses_df"
   ]
  },
  {
   "cell_type": "code",
   "execution_count": 32,
   "id": "2dc37740-d07d-472a-9d21-e02ce7b02bd1",
   "metadata": {},
   "outputs": [],
   "source": [
    "cl_aug_train_features_labelled = []\n",
    "cl_aug_train_y_labelled = []\n",
    "for idx, row in cl_responses_df.iterrows():\n",
    "    if row[\"drug_name\"] in drug_fp.index:\n",
    "        row_inp = []\n",
    "        row_inp.extend(augmented_cl_df.loc[row[\"depmap_id\"]].values)\n",
    "        row_inp.extend(drug_fp.loc[row[\"drug_name\"]].values)\n",
    "        cl_aug_train_y_labelled.append(row[\"binary_cat\"])\n",
    "        cl_aug_train_features_labelled.append(row_inp)"
   ]
  },
  {
   "cell_type": "code",
   "execution_count": 33,
   "id": "cd9e2668-d4bd-44a9-ac92-45b6651ab048",
   "metadata": {},
   "outputs": [],
   "source": [
    "cl_aug_train_features_labelled_tensor = torch.tensor(cl_aug_train_features_labelled)\n",
    "cl_aug_train_y_labelled_tensor = torch.tensor(cl_aug_train_y_labelled)"
   ]
  },
  {
   "cell_type": "code",
   "execution_count": 34,
   "id": "be4018a4-38b6-4933-940f-ed0d2218b751",
   "metadata": {},
   "outputs": [
    {
     "data": {
      "text/plain": [
       "tensor([[ 0.0000,  0.0000,  0.0000,  ...,  0.0000,  0.0000,  0.0000],\n",
       "        [ 0.0000,  0.0000,  0.0000,  ...,  0.0000,  0.0000,  0.0000],\n",
       "        [ 0.0000,  0.0000,  0.0000,  ...,  0.0000,  0.0000,  0.0000],\n",
       "        ...,\n",
       "        [-0.1051, -0.1956,  0.0713,  ...,  0.0000,  0.0000,  0.0000],\n",
       "        [-0.1925, -0.3728,  0.2480,  ...,  0.0000,  0.0000,  0.0000],\n",
       "        [-0.0713,  0.0008, -0.0503,  ...,  0.0000,  0.0000,  0.0000]],\n",
       "       dtype=torch.float64)"
      ]
     },
     "execution_count": 34,
     "metadata": {},
     "output_type": "execute_result"
    }
   ],
   "source": [
    "# Use pseudo labeled cell lines and patient train data to train\n",
    "X_train = torch.cat((train_features_tensor, cl_aug_train_features_labelled_tensor), dim = 0)\n",
    "X_train"
   ]
  },
  {
   "cell_type": "code",
   "execution_count": 35,
   "id": "eb5e9574-882c-42a7-9289-012ba29bbd02",
   "metadata": {},
   "outputs": [
    {
     "data": {
      "text/plain": [
       "torch.Size([227404, 9824])"
      ]
     },
     "execution_count": 35,
     "metadata": {},
     "output_type": "execute_result"
    }
   ],
   "source": [
    "X_train.shape"
   ]
  },
  {
   "cell_type": "code",
   "execution_count": 36,
   "id": "0ba4a954-54ba-4b20-af96-b12939130fe1",
   "metadata": {},
   "outputs": [
    {
     "data": {
      "text/plain": [
       "torch.Size([227404])"
      ]
     },
     "execution_count": 36,
     "metadata": {},
     "output_type": "execute_result"
    }
   ],
   "source": [
    "y_train = torch.cat((train_y_tensor, cl_aug_train_y_labelled_tensor), axis = 0)\n",
    "y_train.shape"
   ]
  },
  {
   "cell_type": "code",
   "execution_count": 40,
   "id": "786224b8-5ce3-4a54-93e4-525de403dffe",
   "metadata": {},
   "outputs": [],
   "source": [
    "nn_augmented_full_labelled = BaseLineNN()"
   ]
  },
  {
   "cell_type": "code",
   "execution_count": 41,
   "id": "bd63a422-2e78-4e6f-9380-5f626ee1b888",
   "metadata": {},
   "outputs": [],
   "source": [
    "criterion_aug = nn.BCEWithLogitsLoss()\n",
    "optim_aug = torch.optim.Adam(nn_augmented_full_labelled.parameters(), lr = 1e-4)"
   ]
  },
  {
   "cell_type": "code",
   "execution_count": 42,
   "id": "7a44dca4-58c6-4411-a680-0d9a52c25aa6",
   "metadata": {},
   "outputs": [
    {
     "name": "stdout",
     "output_type": "stream",
     "text": [
      "Epoch 0: Training loss: 0.69393390417099 |  Validation loss: 0.6831134557723999\n",
      "Epoch 1: Training loss: 0.6924335360527039 |  Validation loss: 0.6853835582733154\n",
      "Epoch 2: Training loss: 0.6913213729858398 |  Validation loss: 0.6869404315948486\n",
      "Epoch 3: Training loss: 0.6904622316360474 |  Validation loss: 0.6875239610671997\n",
      "Epoch 4: Training loss: 0.689739465713501 |  Validation loss: 0.6873210072517395\n",
      "Epoch 5: Training loss: 0.6890830993652344 |  Validation loss: 0.686587393283844\n",
      "Epoch 6: Training loss: 0.6884605288505554 |  Validation loss: 0.6855635046958923\n",
      "Epoch 7: Training loss: 0.6878677606582642 |  Validation loss: 0.6844591498374939\n",
      "Epoch 8: Training loss: 0.6873098611831665 |  Validation loss: 0.6834331750869751\n",
      "Epoch 9: Training loss: 0.6867886185646057 |  Validation loss: 0.6825655698776245\n",
      "Epoch 10: Training loss: 0.6862990856170654 |  Validation loss: 0.6818968057632446\n",
      "Epoch 11: Training loss: 0.685827374458313 |  Validation loss: 0.681475043296814\n",
      "Epoch 12: Training loss: 0.6853607296943665 |  Validation loss: 0.6813022494316101\n",
      "Epoch 13: Training loss: 0.6848915219306946 |  Validation loss: 0.6813316941261292\n",
      "Epoch 14: Training loss: 0.6844218969345093 |  Validation loss: 0.6814759969711304\n",
      "Epoch 15: Training loss: 0.6839571595191956 |  Validation loss: 0.6816345453262329\n",
      "Epoch 16: Training loss: 0.683501124382019 |  Validation loss: 0.6817327737808228\n",
      "Epoch 17: Training loss: 0.6830554008483887 |  Validation loss: 0.681682288646698\n",
      "Epoch 18: Training loss: 0.6826168894767761 |  Validation loss: 0.6814526915550232\n",
      "Epoch 19: Training loss: 0.6821824312210083 |  Validation loss: 0.6810585260391235\n",
      "Epoch 20: Training loss: 0.6817501783370972 |  Validation loss: 0.6805528998374939\n",
      "Epoch 21: Training loss: 0.681318998336792 |  Validation loss: 0.6799889206886292\n",
      "Epoch 22: Training loss: 0.6808897852897644 |  Validation loss: 0.6794395446777344\n",
      "Epoch 23: Training loss: 0.6804653406143188 |  Validation loss: 0.6789629459381104\n",
      "Epoch 24: Training loss: 0.6800463795661926 |  Validation loss: 0.678597092628479\n",
      "Epoch 25: Training loss: 0.6796325445175171 |  Validation loss: 0.6783598065376282\n",
      "Epoch 26: Training loss: 0.6792232990264893 |  Validation loss: 0.6782572269439697\n",
      "Epoch 27: Training loss: 0.6788171529769897 |  Validation loss: 0.6782774925231934\n",
      "Epoch 28: Training loss: 0.6784136891365051 |  Validation loss: 0.6783983707427979\n",
      "Epoch 29: Training loss: 0.6780129671096802 |  Validation loss: 0.6785764098167419\n",
      "Epoch 30: Training loss: 0.6776158809661865 |  Validation loss: 0.6787604689598083\n",
      "Epoch 31: Training loss: 0.677223265171051 |  Validation loss: 0.6789019703865051\n",
      "Epoch 32: Training loss: 0.6768348813056946 |  Validation loss: 0.6789613962173462\n",
      "Epoch 33: Training loss: 0.6764506697654724 |  Validation loss: 0.6789131164550781\n",
      "Epoch 34: Training loss: 0.6760697364807129 |  Validation loss: 0.6787610650062561\n",
      "Epoch 35: Training loss: 0.675692617893219 |  Validation loss: 0.6785273551940918\n",
      "Epoch 36: Training loss: 0.6753190755844116 |  Validation loss: 0.6782493591308594\n",
      "Epoch 37: Training loss: 0.6749497652053833 |  Validation loss: 0.6779580116271973\n",
      "Epoch 38: Training loss: 0.6745847463607788 |  Validation loss: 0.6777171492576599\n",
      "Epoch 39: Training loss: 0.6742236614227295 |  Validation loss: 0.677558958530426\n",
      "Epoch 40: Training loss: 0.6738663911819458 |  Validation loss: 0.6774905323982239\n",
      "Epoch 41: Training loss: 0.6735126972198486 |  Validation loss: 0.6775020956993103\n",
      "Epoch 42: Training loss: 0.6731625199317932 |  Validation loss: 0.6775742173194885\n",
      "Epoch 43: Training loss: 0.6728160977363586 |  Validation loss: 0.6776741147041321\n",
      "Epoch 44: Training loss: 0.6724739074707031 |  Validation loss: 0.6777561902999878\n",
      "Epoch 45: Training loss: 0.6721359491348267 |  Validation loss: 0.6777834296226501\n",
      "Epoch 46: Training loss: 0.6718024015426636 |  Validation loss: 0.6777522563934326\n",
      "Epoch 47: Training loss: 0.6714730262756348 |  Validation loss: 0.6776246428489685\n",
      "Epoch 48: Training loss: 0.6711477637290955 |  Validation loss: 0.6774171590805054\n",
      "Epoch 49: Training loss: 0.6708264350891113 |  Validation loss: 0.6771897673606873\n",
      "Epoch 50: Training loss: 0.670508861541748 |  Validation loss: 0.6769732236862183\n",
      "Epoch 51: Training loss: 0.6701956391334534 |  Validation loss: 0.676786482334137\n",
      "Epoch 52: Training loss: 0.6698866486549377 |  Validation loss: 0.6766272187232971\n",
      "Epoch 53: Training loss: 0.6695814728736877 |  Validation loss: 0.6765170693397522\n",
      "Epoch 54: Training loss: 0.6692798137664795 |  Validation loss: 0.6764581203460693\n",
      "Epoch 55: Training loss: 0.6689819693565369 |  Validation loss: 0.6764352917671204\n",
      "Epoch 56: Training loss: 0.6686879992485046 |  Validation loss: 0.6764261722564697\n",
      "Epoch 57: Training loss: 0.6683979630470276 |  Validation loss: 0.6764024496078491\n",
      "Epoch 58: Training loss: 0.6681119203567505 |  Validation loss: 0.6763454079627991\n",
      "Epoch 59: Training loss: 0.6678298711776733 |  Validation loss: 0.6762444972991943\n",
      "Epoch 60: Training loss: 0.6675518155097961 |  Validation loss: 0.6760998368263245\n",
      "Epoch 61: Training loss: 0.6672772765159607 |  Validation loss: 0.6759240627288818\n",
      "Epoch 62: Training loss: 0.6670063734054565 |  Validation loss: 0.6757363080978394\n",
      "Epoch 63: Training loss: 0.6667392253875732 |  Validation loss: 0.675554096698761\n",
      "Epoch 64: Training loss: 0.666475772857666 |  Validation loss: 0.675396740436554\n",
      "Epoch 65: Training loss: 0.6662158966064453 |  Validation loss: 0.6752721071243286\n",
      "Epoch 66: Training loss: 0.6659595966339111 |  Validation loss: 0.6751762628555298\n",
      "Epoch 67: Training loss: 0.6657067537307739 |  Validation loss: 0.6751039028167725\n",
      "Epoch 68: Training loss: 0.6654574275016785 |  Validation loss: 0.675041675567627\n",
      "Epoch 69: Training loss: 0.6652114987373352 |  Validation loss: 0.6749699711799622\n",
      "Epoch 70: Training loss: 0.6649688482284546 |  Validation loss: 0.6748753190040588\n",
      "Epoch 71: Training loss: 0.6647291779518127 |  Validation loss: 0.6747491955757141\n",
      "Epoch 72: Training loss: 0.6644928455352783 |  Validation loss: 0.6745927333831787\n",
      "Epoch 73: Training loss: 0.6642595529556274 |  Validation loss: 0.6744177341461182\n",
      "Epoch 74: Training loss: 0.6640294790267944 |  Validation loss: 0.6742357015609741\n",
      "Epoch 75: Training loss: 0.6638022065162659 |  Validation loss: 0.6740607023239136\n",
      "Epoch 76: Training loss: 0.6635780334472656 |  Validation loss: 0.6739034652709961\n",
      "Epoch 77: Training loss: 0.6633568406105042 |  Validation loss: 0.6737676858901978\n",
      "Epoch 78: Training loss: 0.6631388068199158 |  Validation loss: 0.67365562915802\n",
      "Epoch 79: Training loss: 0.6629237532615662 |  Validation loss: 0.6735586524009705\n",
      "Epoch 80: Training loss: 0.6627116799354553 |  Validation loss: 0.6734666228294373\n",
      "Epoch 81: Training loss: 0.6625025868415833 |  Validation loss: 0.6733666658401489\n",
      "Epoch 82: Training loss: 0.6622965931892395 |  Validation loss: 0.6732654571533203\n",
      "Epoch 83: Training loss: 0.6620934009552002 |  Validation loss: 0.673158586025238\n",
      "Epoch 84: Training loss: 0.6618931293487549 |  Validation loss: 0.6730139255523682\n",
      "Epoch 85: Training loss: 0.6616954207420349 |  Validation loss: 0.6728574633598328\n",
      "Epoch 86: Training loss: 0.6615004539489746 |  Validation loss: 0.6727055311203003\n",
      "Epoch 87: Training loss: 0.6613081097602844 |  Validation loss: 0.6725725531578064\n",
      "Epoch 88: Training loss: 0.6611183881759644 |  Validation loss: 0.6724656820297241\n",
      "Epoch 89: Training loss: 0.6609312295913696 |  Validation loss: 0.6723841428756714\n",
      "Epoch 90: Training loss: 0.6607464551925659 |  Validation loss: 0.6723203659057617\n",
      "Epoch 91: Training loss: 0.6605642437934875 |  Validation loss: 0.6722639203071594\n",
      "Epoch 92: Training loss: 0.6603842377662659 |  Validation loss: 0.6722009181976318\n",
      "Epoch 93: Training loss: 0.6602065563201904 |  Validation loss: 0.6721214056015015\n",
      "Epoch 94: Training loss: 0.6600311994552612 |  Validation loss: 0.6720176935195923\n",
      "Epoch 95: Training loss: 0.659857988357544 |  Validation loss: 0.6718942523002625\n",
      "Epoch 96: Training loss: 0.6596870422363281 |  Validation loss: 0.6717606782913208\n",
      "Epoch 97: Training loss: 0.6595180034637451 |  Validation loss: 0.6716301441192627\n",
      "Epoch 98: Training loss: 0.6593510508537292 |  Validation loss: 0.6715113520622253\n",
      "Epoch 99: Training loss: 0.6591861248016357 |  Validation loss: 0.6714094281196594\n"
     ]
    }
   ],
   "source": [
    "# training \n",
    "for i in range(100):\n",
    "    optim_aug.zero_grad()\n",
    "    y_pred_aug = nn_augmented_full_labelled(X_train.to(dtype=torch.float32))\n",
    "    loss_aug = criterion_aug(y_pred_aug, y_train.view(-1, 1).to(dtype=torch.float32))\n",
    "    loss_aug.backward()\n",
    "    optim_aug.step()\n",
    "\n",
    "    with torch.no_grad():\n",
    "        val_loss_aug = criterion_aug(nn_augmented_full_labelled(val_features_tensor.to(dtype=torch.float32)), val_y_tensor.view(-1, 1).to(dtype=torch.float32))\n",
    "\n",
    "    print(f\"Epoch {i}: Training loss: {loss_aug.detach().item()} |  Validation loss: {val_loss_aug.detach().item()}\")"
   ]
  },
  {
   "cell_type": "code",
   "execution_count": 43,
   "id": "56638334-2ff8-4c2b-977f-a73b5dbaa3d0",
   "metadata": {},
   "outputs": [
    {
     "data": {
      "text/plain": [
       "torch.Size([201, 1])"
      ]
     },
     "execution_count": 43,
     "metadata": {},
     "output_type": "execute_result"
    }
   ],
   "source": [
    "# inference\n",
    "nn_augmented_full_labelled.eval()\n",
    "y_test_pred = nn.Sigmoid()(nn_augmented_full_labelled(test_features_tensor.to(dtype=torch.float32)))\n",
    "y_test_pred.shape"
   ]
  },
  {
   "cell_type": "code",
   "execution_count": 44,
   "id": "c3162f8f-5bdb-4fd8-801e-3b4b894e1209",
   "metadata": {},
   "outputs": [
    {
     "data": {
      "text/plain": [
       "(201,)"
      ]
     },
     "execution_count": 44,
     "metadata": {},
     "output_type": "execute_result"
    }
   ],
   "source": [
    "predictions = y_test_pred.detach().numpy().reshape(-1)\n",
    "predictions.shape"
   ]
  },
  {
   "cell_type": "code",
   "execution_count": 45,
   "id": "18d0348d-534c-43d5-bbec-d2ce71bcbf63",
   "metadata": {},
   "outputs": [
    {
     "name": "stdout",
     "output_type": "stream",
     "text": [
      "AUROC: 0.6295146077754773, AUPRC: 0.7756366349482967\n"
     ]
    }
   ],
   "source": [
    "auroc = roc_auc_score(test_y, predictions)\n",
    "auprc = average_precision_score(test_y, predictions)\n",
    "print(f\"AUROC: {auroc}, AUPRC: {auprc}\")"
   ]
  },
  {
   "cell_type": "code",
   "execution_count": null,
   "id": "da2624ad-f00c-47da-8945-09def158d6d1",
   "metadata": {},
   "outputs": [],
   "source": []
  },
  {
   "cell_type": "code",
   "execution_count": null,
   "id": "024d5eb2-d7ab-49fd-840f-ec450fef6ea5",
   "metadata": {},
   "outputs": [],
   "source": []
  },
  {
   "cell_type": "code",
   "execution_count": null,
   "id": "94d6a0cd-e3e5-4acd-b1bf-b9785e78f888",
   "metadata": {},
   "outputs": [],
   "source": []
  },
  {
   "cell_type": "markdown",
   "id": "b21418d0-a52e-4468-834e-f7cd71aa4be5",
   "metadata": {},
   "source": [
    "#### Subset Selection over Weakly labelled cell lines - Memory issues!!!"
   ]
  },
  {
   "cell_type": "code",
   "execution_count": 19,
   "id": "60ab4d69-4551-46ad-8a1d-cab849e27d8f",
   "metadata": {},
   "outputs": [],
   "source": [
    "import sys\n",
    "sys.path.append(\"../src/\")\n",
    "from cutstat import get_cutstat_subset, get_cutstat_inds"
   ]
  },
  {
   "cell_type": "code",
   "execution_count": 20,
   "id": "9676f3b9-92e4-47b8-ba42-a6a82efcdfdb",
   "metadata": {},
   "outputs": [],
   "source": [
    "import torch"
   ]
  },
  {
   "cell_type": "code",
   "execution_count": 46,
   "id": "ab345634-0cb2-4df6-a49c-c472d8c12cde",
   "metadata": {},
   "outputs": [
    {
     "data": {
      "text/plain": [
       "(226796, 9824)"
      ]
     },
     "execution_count": 46,
     "metadata": {},
     "output_type": "execute_result"
    }
   ],
   "source": [
    "cl_aug_train_features = np.load(\"/data/ajayago/druid/intermediate/cs6220/augmented_cl_features_rf_joint_UDA.npy\")\n",
    "cl_aug_train_features.shape"
   ]
  },
  {
   "cell_type": "code",
   "execution_count": 53,
   "id": "1d95530f-a4ef-478c-90e4-c65304cabcd1",
   "metadata": {},
   "outputs": [
    {
     "data": {
      "text/plain": [
       "(226796,)"
      ]
     },
     "execution_count": 53,
     "metadata": {},
     "output_type": "execute_result"
    }
   ],
   "source": [
    "cl_aug_train_y_pseudo_df = pd.read_csv(\"/data/ajayago/druid/intermediate/cs6220/augmented_cl_pseudolabels_rf_joint_UDA.csv\", header=None)\n",
    "cl_aug_train_y_pseudo = cl_aug_train_y_pseudo_df[0].values\n",
    "cl_aug_train_y_pseudo.shape"
   ]
  },
  {
   "cell_type": "code",
   "execution_count": 28,
   "id": "1bc4801f-fcc9-4be4-b90a-6783c11d43d9",
   "metadata": {},
   "outputs": [],
   "source": [
    "device = torch.device(\"cuda:0\")"
   ]
  },
  {
   "cell_type": "code",
   "execution_count": 29,
   "id": "674d8a1a-c872-444d-bcb3-5eb82ffff366",
   "metadata": {},
   "outputs": [],
   "source": [
    "features = torch.FloatTensor(cl_aug_train_features).to(device)\n",
    "labels = torch.LongTensor(cl_aug_train_y_pseudo).to(device)"
   ]
  },
  {
   "cell_type": "code",
   "execution_count": 30,
   "id": "d865f142-0beb-4392-9d65-070cdf08ee53",
   "metadata": {},
   "outputs": [
    {
     "ename": "OutOfMemoryError",
     "evalue": "CUDA out of memory. Tried to allocate 191.62 GiB. GPU 0 has a total capacity of 44.32 GiB of which 18.42 GiB is free. Process 3376797 has 490.00 MiB memory in use. Including non-PyTorch memory, this process has 25.41 GiB memory in use. Of the allocated memory 24.91 GiB is allocated by PyTorch, and 18.27 MiB is reserved by PyTorch but unallocated. If reserved but unallocated memory is large try setting PYTORCH_CUDA_ALLOC_CONF=expandable_segments:True to avoid fragmentation.  See documentation for Memory Management  (https://pytorch.org/docs/stable/notes/cuda.html#environment-variables)",
     "output_type": "error",
     "traceback": [
      "\u001b[0;31m---------------------------------------------------------------------------\u001b[0m",
      "\u001b[0;31mOutOfMemoryError\u001b[0m                          Traceback (most recent call last)",
      "Cell \u001b[0;32mIn[30], line 1\u001b[0m\n\u001b[0;32m----> 1\u001b[0m subset_inds \u001b[38;5;241m=\u001b[39m \u001b[43mget_cutstat_inds\u001b[49m\u001b[43m(\u001b[49m\u001b[43mfeatures\u001b[49m\u001b[43m,\u001b[49m\u001b[43m \u001b[49m\u001b[43mlabels\u001b[49m\u001b[43m,\u001b[49m\u001b[43m \u001b[49m\u001b[43mcoverage\u001b[49m\u001b[38;5;241;43m=\u001b[39;49m\u001b[38;5;241;43m0.8\u001b[39;49m\u001b[43m,\u001b[49m\u001b[43m \u001b[49m\u001b[43mK\u001b[49m\u001b[38;5;241;43m=\u001b[39;49m\u001b[38;5;241;43m20\u001b[39;49m\u001b[43m,\u001b[49m\u001b[43m \u001b[49m\u001b[43mdevice\u001b[49m\u001b[38;5;241;43m=\u001b[39;49m\u001b[43mdevice\u001b[49m\u001b[43m)\u001b[49m\n",
      "File \u001b[0;32m~/druid/CS6220_project/notebooks/../src/cutstat.py:21\u001b[0m, in \u001b[0;36mget_cutstat_inds\u001b[0;34m(features, labels, coverage, K, device)\u001b[0m\n\u001b[1;32m     19\u001b[0m \u001b[38;5;28;01mdef\u001b[39;00m \u001b[38;5;21mget_cutstat_inds\u001b[39m(features, labels, coverage\u001b[38;5;241m=\u001b[39m\u001b[38;5;241m0.5\u001b[39m, K\u001b[38;5;241m=\u001b[39m\u001b[38;5;241m20\u001b[39m, device\u001b[38;5;241m=\u001b[39m\u001b[38;5;124m'\u001b[39m\u001b[38;5;124mcpu\u001b[39m\u001b[38;5;124m'\u001b[39m):\n\u001b[1;32m     20\u001b[0m         \u001b[38;5;66;03m# move to CPU for memory issues on large dset\u001b[39;00m\n\u001b[0;32m---> 21\u001b[0m         pairwise_dists \u001b[38;5;241m=\u001b[39m \u001b[43mtorch\u001b[49m\u001b[38;5;241;43m.\u001b[39;49m\u001b[43mcdist\u001b[49m\u001b[43m(\u001b[49m\u001b[43mfeatures\u001b[49m\u001b[43m,\u001b[49m\u001b[43m \u001b[49m\u001b[43mfeatures\u001b[49m\u001b[43m,\u001b[49m\u001b[43m \u001b[49m\u001b[43mp\u001b[49m\u001b[38;5;241;43m=\u001b[39;49m\u001b[38;5;241;43m2\u001b[39;49m\u001b[43m)\u001b[49m\u001b[38;5;241m.\u001b[39mto(\u001b[38;5;124m'\u001b[39m\u001b[38;5;124mcpu\u001b[39m\u001b[38;5;124m'\u001b[39m)\n\u001b[1;32m     23\u001b[0m         N \u001b[38;5;241m=\u001b[39m labels\u001b[38;5;241m.\u001b[39mshape[\u001b[38;5;241m0\u001b[39m]\n\u001b[1;32m     24\u001b[0m         dists_sorted \u001b[38;5;241m=\u001b[39m torch\u001b[38;5;241m.\u001b[39margsort(pairwise_dists)\n",
      "File \u001b[0;32m~/miniconda3/envs/tddpm/lib/python3.9/site-packages/torch/functional.py:1330\u001b[0m, in \u001b[0;36mcdist\u001b[0;34m(x1, x2, p, compute_mode)\u001b[0m\n\u001b[1;32m   1327\u001b[0m     \u001b[38;5;28;01mreturn\u001b[39;00m handle_torch_function(\n\u001b[1;32m   1328\u001b[0m         cdist, (x1, x2), x1, x2, p\u001b[38;5;241m=\u001b[39mp, compute_mode\u001b[38;5;241m=\u001b[39mcompute_mode)\n\u001b[1;32m   1329\u001b[0m \u001b[38;5;28;01mif\u001b[39;00m compute_mode \u001b[38;5;241m==\u001b[39m \u001b[38;5;124m'\u001b[39m\u001b[38;5;124muse_mm_for_euclid_dist_if_necessary\u001b[39m\u001b[38;5;124m'\u001b[39m:\n\u001b[0;32m-> 1330\u001b[0m     \u001b[38;5;28;01mreturn\u001b[39;00m \u001b[43m_VF\u001b[49m\u001b[38;5;241;43m.\u001b[39;49m\u001b[43mcdist\u001b[49m\u001b[43m(\u001b[49m\u001b[43mx1\u001b[49m\u001b[43m,\u001b[49m\u001b[43m \u001b[49m\u001b[43mx2\u001b[49m\u001b[43m,\u001b[49m\u001b[43m \u001b[49m\u001b[43mp\u001b[49m\u001b[43m,\u001b[49m\u001b[43m \u001b[49m\u001b[38;5;28;43;01mNone\u001b[39;49;00m\u001b[43m)\u001b[49m  \u001b[38;5;66;03m# type: ignore[attr-defined]\u001b[39;00m\n\u001b[1;32m   1331\u001b[0m \u001b[38;5;28;01melif\u001b[39;00m compute_mode \u001b[38;5;241m==\u001b[39m \u001b[38;5;124m'\u001b[39m\u001b[38;5;124muse_mm_for_euclid_dist\u001b[39m\u001b[38;5;124m'\u001b[39m:\n\u001b[1;32m   1332\u001b[0m     \u001b[38;5;28;01mreturn\u001b[39;00m _VF\u001b[38;5;241m.\u001b[39mcdist(x1, x2, p, \u001b[38;5;241m1\u001b[39m)  \u001b[38;5;66;03m# type: ignore[attr-defined]\u001b[39;00m\n",
      "\u001b[0;31mOutOfMemoryError\u001b[0m: CUDA out of memory. Tried to allocate 191.62 GiB. GPU 0 has a total capacity of 44.32 GiB of which 18.42 GiB is free. Process 3376797 has 490.00 MiB memory in use. Including non-PyTorch memory, this process has 25.41 GiB memory in use. Of the allocated memory 24.91 GiB is allocated by PyTorch, and 18.27 MiB is reserved by PyTorch but unallocated. If reserved but unallocated memory is large try setting PYTORCH_CUDA_ALLOC_CONF=expandable_segments:True to avoid fragmentation.  See documentation for Memory Management  (https://pytorch.org/docs/stable/notes/cuda.html#environment-variables)"
     ]
    }
   ],
   "source": [
    "subset_inds = get_cutstat_inds(features, labels, coverage=0.8, K=20, device=device)"
   ]
  },
  {
   "cell_type": "code",
   "execution_count": null,
   "id": "92a51db5-35c3-4763-ad9c-6c33b0695e33",
   "metadata": {},
   "outputs": [],
   "source": []
  },
  {
   "cell_type": "code",
   "execution_count": null,
   "id": "121a9deb-3487-4566-9bba-114014eb65bd",
   "metadata": {},
   "outputs": [],
   "source": []
  }
 ],
 "metadata": {
  "kernelspec": {
   "display_name": "Python [conda env:tddpm] *",
   "language": "python",
   "name": "conda-env-tddpm-py"
  },
  "language_info": {
   "codemirror_mode": {
    "name": "ipython",
    "version": 3
   },
   "file_extension": ".py",
   "mimetype": "text/x-python",
   "name": "python",
   "nbconvert_exporter": "python",
   "pygments_lexer": "ipython3",
   "version": "3.9.18"
  }
 },
 "nbformat": 4,
 "nbformat_minor": 5
}
