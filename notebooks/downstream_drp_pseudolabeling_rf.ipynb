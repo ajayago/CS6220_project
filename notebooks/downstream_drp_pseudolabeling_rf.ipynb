{
 "cells": [
  {
   "cell_type": "markdown",
   "id": "6f894812-b4ae-4ff2-89e0-ba34b63b05c9",
   "metadata": {},
   "source": [
    "This notebook performs downstream Drug Response Prediction with the augmented cell line data and patient datasets."
   ]
  },
  {
   "cell_type": "code",
   "execution_count": 1,
   "id": "2d68e95e-cc7c-4c55-a8d4-2a0011b9b433",
   "metadata": {},
   "outputs": [],
   "source": [
    "import pandas as pd\n",
    "import numpy as np"
   ]
  },
  {
   "cell_type": "code",
   "execution_count": 2,
   "id": "9664abfb-e6e4-4c66-8f33-0bd6c7882300",
   "metadata": {},
   "outputs": [],
   "source": [
    "import torch\n",
    "import matplotlib.pyplot as plt\n",
    "from torch.utils.data import TensorDataset, DataLoader"
   ]
  },
  {
   "cell_type": "code",
   "execution_count": 3,
   "id": "548c0b92-2359-4ca2-922c-e52c99d4e600",
   "metadata": {},
   "outputs": [],
   "source": [
    "import sys\n",
    "sys.path.append(\"../src/tab_ddpm/\")"
   ]
  },
  {
   "cell_type": "code",
   "execution_count": 4,
   "id": "9c081215-b29a-405a-977b-6f2f1e9475ce",
   "metadata": {},
   "outputs": [],
   "source": [
    "device = torch.device(\"cuda:0\")"
   ]
  },
  {
   "cell_type": "markdown",
   "id": "a165856c-c1b2-4e27-8a3f-3a26c91ea41d",
   "metadata": {},
   "source": [
    "#### Load Datasets"
   ]
  },
  {
   "cell_type": "code",
   "execution_count": 5,
   "id": "dcee79d1-7f19-4a0f-88ee-94bbc4cc3eeb",
   "metadata": {},
   "outputs": [
    {
     "data": {
      "text/plain": [
       "(476, 7776)"
      ]
     },
     "execution_count": 5,
     "metadata": {},
     "output_type": "execute_result"
    }
   ],
   "source": [
    "tcga_train_df = pd.read_csv(\"../data/diffusion_pretraining/tcga_diffusion_train_sample0.csv\", index_col=0)\n",
    "tcga_train_df.shape"
   ]
  },
  {
   "cell_type": "code",
   "execution_count": 6,
   "id": "d3d7fd61-373e-4ddf-8e23-f826dc085a8c",
   "metadata": {},
   "outputs": [
    {
     "data": {
      "text/plain": [
       "(120, 7776)"
      ]
     },
     "execution_count": 6,
     "metadata": {},
     "output_type": "execute_result"
    }
   ],
   "source": [
    "tcga_test_df = pd.read_csv(\"../data/diffusion_pretraining/tcga_diffusion_test_sample0.csv\", index_col=0)\n",
    "tcga_test_df.shape"
   ]
  },
  {
   "cell_type": "code",
   "execution_count": 7,
   "id": "075f4d0c-8bb1-4179-8a84-558fa996c586",
   "metadata": {},
   "outputs": [
    {
     "name": "stdout",
     "output_type": "stream",
     "text": [
      "(1744, 7776)\n"
     ]
    },
    {
     "data": {
      "text/html": [
       "<div>\n",
       "<style scoped>\n",
       "    .dataframe tbody tr th:only-of-type {\n",
       "        vertical-align: middle;\n",
       "    }\n",
       "\n",
       "    .dataframe tbody tr th {\n",
       "        vertical-align: top;\n",
       "    }\n",
       "\n",
       "    .dataframe thead th {\n",
       "        text-align: right;\n",
       "    }\n",
       "</style>\n",
       "<table border=\"1\" class=\"dataframe\">\n",
       "  <thead>\n",
       "    <tr style=\"text-align: right;\">\n",
       "      <th></th>\n",
       "      <th>ABL1_piu_max</th>\n",
       "      <th>ACVR1B_piu_max</th>\n",
       "      <th>AKT1_piu_max</th>\n",
       "      <th>AKT2_piu_max</th>\n",
       "      <th>AKT3_piu_max</th>\n",
       "      <th>ALK_piu_max</th>\n",
       "      <th>ALOX12B_piu_max</th>\n",
       "      <th>APC_piu_max</th>\n",
       "      <th>AR_piu_max</th>\n",
       "      <th>ARAF_piu_max</th>\n",
       "      <th>...</th>\n",
       "      <th>U2AF1_benign_count</th>\n",
       "      <th>VEGFA_benign_count</th>\n",
       "      <th>VHL_benign_count</th>\n",
       "      <th>WHSC1_benign_count</th>\n",
       "      <th>WHSC1L1_benign_count</th>\n",
       "      <th>WT1_benign_count</th>\n",
       "      <th>XPO1_benign_count</th>\n",
       "      <th>XRCC2_benign_count</th>\n",
       "      <th>ZNF217_benign_count</th>\n",
       "      <th>ZNF703_benign_count</th>\n",
       "    </tr>\n",
       "  </thead>\n",
       "  <tbody>\n",
       "    <tr>\n",
       "      <th>ACH-002277</th>\n",
       "      <td>-0.087760</td>\n",
       "      <td>0.032957</td>\n",
       "      <td>0.190852</td>\n",
       "      <td>-0.271057</td>\n",
       "      <td>0.194915</td>\n",
       "      <td>-0.012064</td>\n",
       "      <td>0.266465</td>\n",
       "      <td>-0.083992</td>\n",
       "      <td>0.042592</td>\n",
       "      <td>0.113135</td>\n",
       "      <td>...</td>\n",
       "      <td>0.270248</td>\n",
       "      <td>0.103604</td>\n",
       "      <td>-0.021781</td>\n",
       "      <td>0.160761</td>\n",
       "      <td>0.015747</td>\n",
       "      <td>-0.002556</td>\n",
       "      <td>0.234677</td>\n",
       "      <td>-0.070766</td>\n",
       "      <td>-0.124407</td>\n",
       "      <td>-0.184209</td>\n",
       "    </tr>\n",
       "    <tr>\n",
       "      <th>ACH-000046</th>\n",
       "      <td>-0.202440</td>\n",
       "      <td>0.228575</td>\n",
       "      <td>0.069315</td>\n",
       "      <td>0.095176</td>\n",
       "      <td>0.068469</td>\n",
       "      <td>-0.148772</td>\n",
       "      <td>-0.023000</td>\n",
       "      <td>0.280832</td>\n",
       "      <td>0.106937</td>\n",
       "      <td>-0.233486</td>\n",
       "      <td>...</td>\n",
       "      <td>0.041994</td>\n",
       "      <td>-0.113767</td>\n",
       "      <td>0.268398</td>\n",
       "      <td>0.173079</td>\n",
       "      <td>0.183591</td>\n",
       "      <td>-0.232520</td>\n",
       "      <td>-0.271787</td>\n",
       "      <td>-0.086695</td>\n",
       "      <td>0.016713</td>\n",
       "      <td>-0.224163</td>\n",
       "    </tr>\n",
       "    <tr>\n",
       "      <th>ACH-000674</th>\n",
       "      <td>-0.058647</td>\n",
       "      <td>0.015405</td>\n",
       "      <td>-0.004479</td>\n",
       "      <td>0.070857</td>\n",
       "      <td>-0.353355</td>\n",
       "      <td>0.029231</td>\n",
       "      <td>0.223145</td>\n",
       "      <td>0.241796</td>\n",
       "      <td>0.071190</td>\n",
       "      <td>0.397939</td>\n",
       "      <td>...</td>\n",
       "      <td>0.213629</td>\n",
       "      <td>0.251534</td>\n",
       "      <td>-0.083437</td>\n",
       "      <td>-0.077655</td>\n",
       "      <td>-0.004640</td>\n",
       "      <td>-0.048375</td>\n",
       "      <td>0.219733</td>\n",
       "      <td>-0.199291</td>\n",
       "      <td>-0.044677</td>\n",
       "      <td>0.005390</td>\n",
       "    </tr>\n",
       "    <tr>\n",
       "      <th>ACH-000557</th>\n",
       "      <td>-0.070440</td>\n",
       "      <td>-0.307093</td>\n",
       "      <td>0.047039</td>\n",
       "      <td>-0.129194</td>\n",
       "      <td>-0.069649</td>\n",
       "      <td>0.148327</td>\n",
       "      <td>0.112893</td>\n",
       "      <td>-0.201333</td>\n",
       "      <td>0.062023</td>\n",
       "      <td>0.265155</td>\n",
       "      <td>...</td>\n",
       "      <td>0.051457</td>\n",
       "      <td>0.337542</td>\n",
       "      <td>-0.300728</td>\n",
       "      <td>-0.305295</td>\n",
       "      <td>0.279003</td>\n",
       "      <td>0.141817</td>\n",
       "      <td>-0.175442</td>\n",
       "      <td>-0.096936</td>\n",
       "      <td>-0.175513</td>\n",
       "      <td>-0.167278</td>\n",
       "    </tr>\n",
       "    <tr>\n",
       "      <th>ACH-001642</th>\n",
       "      <td>-0.115449</td>\n",
       "      <td>-0.172094</td>\n",
       "      <td>0.130430</td>\n",
       "      <td>-0.138235</td>\n",
       "      <td>0.186060</td>\n",
       "      <td>-0.084510</td>\n",
       "      <td>0.301509</td>\n",
       "      <td>-0.214375</td>\n",
       "      <td>-0.287137</td>\n",
       "      <td>-0.195233</td>\n",
       "      <td>...</td>\n",
       "      <td>0.114214</td>\n",
       "      <td>0.011537</td>\n",
       "      <td>-0.168359</td>\n",
       "      <td>-0.132326</td>\n",
       "      <td>-0.156321</td>\n",
       "      <td>-0.087420</td>\n",
       "      <td>-0.227914</td>\n",
       "      <td>-0.064403</td>\n",
       "      <td>-0.039033</td>\n",
       "      <td>-0.012837</td>\n",
       "    </tr>\n",
       "    <tr>\n",
       "      <th>...</th>\n",
       "      <td>...</td>\n",
       "      <td>...</td>\n",
       "      <td>...</td>\n",
       "      <td>...</td>\n",
       "      <td>...</td>\n",
       "      <td>...</td>\n",
       "      <td>...</td>\n",
       "      <td>...</td>\n",
       "      <td>...</td>\n",
       "      <td>...</td>\n",
       "      <td>...</td>\n",
       "      <td>...</td>\n",
       "      <td>...</td>\n",
       "      <td>...</td>\n",
       "      <td>...</td>\n",
       "      <td>...</td>\n",
       "      <td>...</td>\n",
       "      <td>...</td>\n",
       "      <td>...</td>\n",
       "      <td>...</td>\n",
       "      <td>...</td>\n",
       "    </tr>\n",
       "    <tr>\n",
       "      <th>ACH-002163</th>\n",
       "      <td>-0.007283</td>\n",
       "      <td>0.180049</td>\n",
       "      <td>-0.166796</td>\n",
       "      <td>0.027630</td>\n",
       "      <td>-0.109326</td>\n",
       "      <td>0.036422</td>\n",
       "      <td>-0.035981</td>\n",
       "      <td>-0.000312</td>\n",
       "      <td>0.121353</td>\n",
       "      <td>-0.144500</td>\n",
       "      <td>...</td>\n",
       "      <td>-0.212862</td>\n",
       "      <td>0.116564</td>\n",
       "      <td>-0.041704</td>\n",
       "      <td>0.189265</td>\n",
       "      <td>0.271412</td>\n",
       "      <td>-0.124896</td>\n",
       "      <td>0.136480</td>\n",
       "      <td>-0.165535</td>\n",
       "      <td>-0.374068</td>\n",
       "      <td>-0.115348</td>\n",
       "    </tr>\n",
       "    <tr>\n",
       "      <th>ACH-001616</th>\n",
       "      <td>0.132993</td>\n",
       "      <td>0.227633</td>\n",
       "      <td>0.209337</td>\n",
       "      <td>-0.187066</td>\n",
       "      <td>-0.053906</td>\n",
       "      <td>-0.060422</td>\n",
       "      <td>0.268335</td>\n",
       "      <td>0.022922</td>\n",
       "      <td>-0.153017</td>\n",
       "      <td>-0.045944</td>\n",
       "      <td>...</td>\n",
       "      <td>0.095875</td>\n",
       "      <td>0.408897</td>\n",
       "      <td>-0.222391</td>\n",
       "      <td>-0.104127</td>\n",
       "      <td>0.194359</td>\n",
       "      <td>-0.229589</td>\n",
       "      <td>-0.024475</td>\n",
       "      <td>0.102094</td>\n",
       "      <td>-0.051742</td>\n",
       "      <td>0.171267</td>\n",
       "    </tr>\n",
       "    <tr>\n",
       "      <th>ACH-001532</th>\n",
       "      <td>0.085234</td>\n",
       "      <td>-0.062251</td>\n",
       "      <td>-0.115823</td>\n",
       "      <td>0.220286</td>\n",
       "      <td>-0.047148</td>\n",
       "      <td>0.207629</td>\n",
       "      <td>0.018631</td>\n",
       "      <td>-0.064137</td>\n",
       "      <td>0.220210</td>\n",
       "      <td>-0.272371</td>\n",
       "      <td>...</td>\n",
       "      <td>-0.072619</td>\n",
       "      <td>-0.031038</td>\n",
       "      <td>-0.092965</td>\n",
       "      <td>-0.071206</td>\n",
       "      <td>-0.167836</td>\n",
       "      <td>-0.040338</td>\n",
       "      <td>0.044246</td>\n",
       "      <td>0.025731</td>\n",
       "      <td>0.019505</td>\n",
       "      <td>-0.065175</td>\n",
       "    </tr>\n",
       "    <tr>\n",
       "      <th>ACH-000993</th>\n",
       "      <td>-0.216540</td>\n",
       "      <td>-0.238687</td>\n",
       "      <td>0.096561</td>\n",
       "      <td>-0.162753</td>\n",
       "      <td>0.218944</td>\n",
       "      <td>0.076891</td>\n",
       "      <td>-0.018378</td>\n",
       "      <td>-0.141628</td>\n",
       "      <td>0.030709</td>\n",
       "      <td>0.076241</td>\n",
       "      <td>...</td>\n",
       "      <td>-0.265679</td>\n",
       "      <td>0.123608</td>\n",
       "      <td>-0.023183</td>\n",
       "      <td>-0.021311</td>\n",
       "      <td>0.259382</td>\n",
       "      <td>0.194676</td>\n",
       "      <td>0.146829</td>\n",
       "      <td>0.168473</td>\n",
       "      <td>-0.187869</td>\n",
       "      <td>0.333681</td>\n",
       "    </tr>\n",
       "    <tr>\n",
       "      <th>ACH-000709</th>\n",
       "      <td>-0.002450</td>\n",
       "      <td>0.057444</td>\n",
       "      <td>-0.008924</td>\n",
       "      <td>-0.073549</td>\n",
       "      <td>-0.216138</td>\n",
       "      <td>-0.185713</td>\n",
       "      <td>0.034454</td>\n",
       "      <td>0.025855</td>\n",
       "      <td>-0.087884</td>\n",
       "      <td>-0.104036</td>\n",
       "      <td>...</td>\n",
       "      <td>0.044281</td>\n",
       "      <td>0.104275</td>\n",
       "      <td>-0.149304</td>\n",
       "      <td>-0.112251</td>\n",
       "      <td>0.032498</td>\n",
       "      <td>-0.292089</td>\n",
       "      <td>-0.121418</td>\n",
       "      <td>0.149078</td>\n",
       "      <td>-0.006757</td>\n",
       "      <td>-0.053724</td>\n",
       "    </tr>\n",
       "  </tbody>\n",
       "</table>\n",
       "<p>1744 rows × 7776 columns</p>\n",
       "</div>"
      ],
      "text/plain": [
       "            ABL1_piu_max  ACVR1B_piu_max  AKT1_piu_max  AKT2_piu_max  \\\n",
       "ACH-002277     -0.087760        0.032957      0.190852     -0.271057   \n",
       "ACH-000046     -0.202440        0.228575      0.069315      0.095176   \n",
       "ACH-000674     -0.058647        0.015405     -0.004479      0.070857   \n",
       "ACH-000557     -0.070440       -0.307093      0.047039     -0.129194   \n",
       "ACH-001642     -0.115449       -0.172094      0.130430     -0.138235   \n",
       "...                  ...             ...           ...           ...   \n",
       "ACH-002163     -0.007283        0.180049     -0.166796      0.027630   \n",
       "ACH-001616      0.132993        0.227633      0.209337     -0.187066   \n",
       "ACH-001532      0.085234       -0.062251     -0.115823      0.220286   \n",
       "ACH-000993     -0.216540       -0.238687      0.096561     -0.162753   \n",
       "ACH-000709     -0.002450        0.057444     -0.008924     -0.073549   \n",
       "\n",
       "            AKT3_piu_max  ALK_piu_max  ALOX12B_piu_max  APC_piu_max  \\\n",
       "ACH-002277      0.194915    -0.012064         0.266465    -0.083992   \n",
       "ACH-000046      0.068469    -0.148772        -0.023000     0.280832   \n",
       "ACH-000674     -0.353355     0.029231         0.223145     0.241796   \n",
       "ACH-000557     -0.069649     0.148327         0.112893    -0.201333   \n",
       "ACH-001642      0.186060    -0.084510         0.301509    -0.214375   \n",
       "...                  ...          ...              ...          ...   \n",
       "ACH-002163     -0.109326     0.036422        -0.035981    -0.000312   \n",
       "ACH-001616     -0.053906    -0.060422         0.268335     0.022922   \n",
       "ACH-001532     -0.047148     0.207629         0.018631    -0.064137   \n",
       "ACH-000993      0.218944     0.076891        -0.018378    -0.141628   \n",
       "ACH-000709     -0.216138    -0.185713         0.034454     0.025855   \n",
       "\n",
       "            AR_piu_max  ARAF_piu_max  ...  U2AF1_benign_count  \\\n",
       "ACH-002277    0.042592      0.113135  ...            0.270248   \n",
       "ACH-000046    0.106937     -0.233486  ...            0.041994   \n",
       "ACH-000674    0.071190      0.397939  ...            0.213629   \n",
       "ACH-000557    0.062023      0.265155  ...            0.051457   \n",
       "ACH-001642   -0.287137     -0.195233  ...            0.114214   \n",
       "...                ...           ...  ...                 ...   \n",
       "ACH-002163    0.121353     -0.144500  ...           -0.212862   \n",
       "ACH-001616   -0.153017     -0.045944  ...            0.095875   \n",
       "ACH-001532    0.220210     -0.272371  ...           -0.072619   \n",
       "ACH-000993    0.030709      0.076241  ...           -0.265679   \n",
       "ACH-000709   -0.087884     -0.104036  ...            0.044281   \n",
       "\n",
       "            VEGFA_benign_count  VHL_benign_count  WHSC1_benign_count  \\\n",
       "ACH-002277            0.103604         -0.021781            0.160761   \n",
       "ACH-000046           -0.113767          0.268398            0.173079   \n",
       "ACH-000674            0.251534         -0.083437           -0.077655   \n",
       "ACH-000557            0.337542         -0.300728           -0.305295   \n",
       "ACH-001642            0.011537         -0.168359           -0.132326   \n",
       "...                        ...               ...                 ...   \n",
       "ACH-002163            0.116564         -0.041704            0.189265   \n",
       "ACH-001616            0.408897         -0.222391           -0.104127   \n",
       "ACH-001532           -0.031038         -0.092965           -0.071206   \n",
       "ACH-000993            0.123608         -0.023183           -0.021311   \n",
       "ACH-000709            0.104275         -0.149304           -0.112251   \n",
       "\n",
       "            WHSC1L1_benign_count  WT1_benign_count  XPO1_benign_count  \\\n",
       "ACH-002277              0.015747         -0.002556           0.234677   \n",
       "ACH-000046              0.183591         -0.232520          -0.271787   \n",
       "ACH-000674             -0.004640         -0.048375           0.219733   \n",
       "ACH-000557              0.279003          0.141817          -0.175442   \n",
       "ACH-001642             -0.156321         -0.087420          -0.227914   \n",
       "...                          ...               ...                ...   \n",
       "ACH-002163              0.271412         -0.124896           0.136480   \n",
       "ACH-001616              0.194359         -0.229589          -0.024475   \n",
       "ACH-001532             -0.167836         -0.040338           0.044246   \n",
       "ACH-000993              0.259382          0.194676           0.146829   \n",
       "ACH-000709              0.032498         -0.292089          -0.121418   \n",
       "\n",
       "            XRCC2_benign_count  ZNF217_benign_count  ZNF703_benign_count  \n",
       "ACH-002277           -0.070766            -0.124407            -0.184209  \n",
       "ACH-000046           -0.086695             0.016713            -0.224163  \n",
       "ACH-000674           -0.199291            -0.044677             0.005390  \n",
       "ACH-000557           -0.096936            -0.175513            -0.167278  \n",
       "ACH-001642           -0.064403            -0.039033            -0.012837  \n",
       "...                        ...                  ...                  ...  \n",
       "ACH-002163           -0.165535            -0.374068            -0.115348  \n",
       "ACH-001616            0.102094            -0.051742             0.171267  \n",
       "ACH-001532            0.025731             0.019505            -0.065175  \n",
       "ACH-000993            0.168473            -0.187869             0.333681  \n",
       "ACH-000709            0.149078            -0.006757            -0.053724  \n",
       "\n",
       "[1744 rows x 7776 columns]"
      ]
     },
     "execution_count": 7,
     "metadata": {},
     "output_type": "execute_result"
    }
   ],
   "source": [
    "# augmented_cl_df = pd.read_csv(\"/data/ajayago/druid/intermediate/cs6220/augmented_cl_joint_UDA.csv\", index_col=0)\n",
    "augmented_cl_df = pd.read_csv(\"/data/ajayago/druid/intermediate/cs6220/augmented_cl_clconditioned.csv\", index_col=0)\n",
    "print(augmented_cl_df.shape)\n",
    "augmented_cl_df"
   ]
  },
  {
   "cell_type": "markdown",
   "id": "d06a0bf0-bae6-4b88-8a5e-cba5d8970070",
   "metadata": {},
   "source": [
    "#### Load response files"
   ]
  },
  {
   "cell_type": "code",
   "execution_count": 8,
   "id": "f0c6d046-9025-4949-a56b-7a18fb2bd0f6",
   "metadata": {},
   "outputs": [
    {
     "data": {
      "text/html": [
       "<div>\n",
       "<style scoped>\n",
       "    .dataframe tbody tr th:only-of-type {\n",
       "        vertical-align: middle;\n",
       "    }\n",
       "\n",
       "    .dataframe tbody tr th {\n",
       "        vertical-align: top;\n",
       "    }\n",
       "\n",
       "    .dataframe thead th {\n",
       "        text-align: right;\n",
       "    }\n",
       "</style>\n",
       "<table border=\"1\" class=\"dataframe\">\n",
       "  <thead>\n",
       "    <tr style=\"text-align: right;\">\n",
       "      <th></th>\n",
       "      <th>depmap_id</th>\n",
       "      <th>drug_name</th>\n",
       "      <th>auc</th>\n",
       "    </tr>\n",
       "  </thead>\n",
       "  <tbody>\n",
       "    <tr>\n",
       "      <th>0</th>\n",
       "      <td>ACH-000001</td>\n",
       "      <td>JW-7-24-1</td>\n",
       "      <td>0.778432</td>\n",
       "    </tr>\n",
       "    <tr>\n",
       "      <th>1</th>\n",
       "      <td>ACH-000002</td>\n",
       "      <td>JW-7-24-1</td>\n",
       "      <td>0.788327</td>\n",
       "    </tr>\n",
       "    <tr>\n",
       "      <th>2</th>\n",
       "      <td>ACH-000004</td>\n",
       "      <td>JW-7-24-1</td>\n",
       "      <td>0.737630</td>\n",
       "    </tr>\n",
       "    <tr>\n",
       "      <th>3</th>\n",
       "      <td>ACH-000006</td>\n",
       "      <td>JW-7-24-1</td>\n",
       "      <td>0.176396</td>\n",
       "    </tr>\n",
       "    <tr>\n",
       "      <th>4</th>\n",
       "      <td>ACH-000007</td>\n",
       "      <td>JW-7-24-1</td>\n",
       "      <td>0.569751</td>\n",
       "    </tr>\n",
       "    <tr>\n",
       "      <th>...</th>\n",
       "      <td>...</td>\n",
       "      <td>...</td>\n",
       "      <td>...</td>\n",
       "    </tr>\n",
       "    <tr>\n",
       "      <th>226791</th>\n",
       "      <td>ACH-001702</td>\n",
       "      <td>SL 0101-1</td>\n",
       "      <td>0.958591</td>\n",
       "    </tr>\n",
       "    <tr>\n",
       "      <th>226792</th>\n",
       "      <td>ACH-001703</td>\n",
       "      <td>SL 0101-1</td>\n",
       "      <td>0.497201</td>\n",
       "    </tr>\n",
       "    <tr>\n",
       "      <th>226793</th>\n",
       "      <td>ACH-001711</td>\n",
       "      <td>SL 0101-1</td>\n",
       "      <td>0.815928</td>\n",
       "    </tr>\n",
       "    <tr>\n",
       "      <th>226794</th>\n",
       "      <td>ACH-001715</td>\n",
       "      <td>SL 0101-1</td>\n",
       "      <td>0.981441</td>\n",
       "    </tr>\n",
       "    <tr>\n",
       "      <th>226795</th>\n",
       "      <td>ACH-001716</td>\n",
       "      <td>SL 0101-1</td>\n",
       "      <td>0.942321</td>\n",
       "    </tr>\n",
       "  </tbody>\n",
       "</table>\n",
       "<p>226796 rows × 3 columns</p>\n",
       "</div>"
      ],
      "text/plain": [
       "         depmap_id  drug_name       auc\n",
       "0       ACH-000001  JW-7-24-1  0.778432\n",
       "1       ACH-000002  JW-7-24-1  0.788327\n",
       "2       ACH-000004  JW-7-24-1  0.737630\n",
       "3       ACH-000006  JW-7-24-1  0.176396\n",
       "4       ACH-000007  JW-7-24-1  0.569751\n",
       "...            ...        ...       ...\n",
       "226791  ACH-001702  SL 0101-1  0.958591\n",
       "226792  ACH-001703  SL 0101-1  0.497201\n",
       "226793  ACH-001711  SL 0101-1  0.815928\n",
       "226794  ACH-001715  SL 0101-1  0.981441\n",
       "226795  ACH-001716  SL 0101-1  0.942321\n",
       "\n",
       "[226796 rows x 3 columns]"
      ]
     },
     "execution_count": 8,
     "metadata": {},
     "output_type": "execute_result"
    }
   ],
   "source": [
    "cl_responses_df = pd.read_csv(\"/data/ajayago/copied_from_cdal1/yiming_data_folder/dataset/CellLine/patient_auc.csv\")\n",
    "cl_responses_df"
   ]
  },
  {
   "cell_type": "code",
   "execution_count": 9,
   "id": "2af6e2d8-89ed-4a69-9da3-fb53bc200056",
   "metadata": {},
   "outputs": [
    {
     "data": {
      "text/html": [
       "<div>\n",
       "<style scoped>\n",
       "    .dataframe tbody tr th:only-of-type {\n",
       "        vertical-align: middle;\n",
       "    }\n",
       "\n",
       "    .dataframe tbody tr th {\n",
       "        vertical-align: top;\n",
       "    }\n",
       "\n",
       "    .dataframe thead th {\n",
       "        text-align: right;\n",
       "    }\n",
       "</style>\n",
       "<table border=\"1\" class=\"dataframe\">\n",
       "  <thead>\n",
       "    <tr style=\"text-align: right;\">\n",
       "      <th></th>\n",
       "      <th>patient.arr</th>\n",
       "      <th>drug.name</th>\n",
       "      <th>response</th>\n",
       "      <th>response_cat</th>\n",
       "      <th>drug</th>\n",
       "    </tr>\n",
       "  </thead>\n",
       "  <tbody>\n",
       "    <tr>\n",
       "      <th>0</th>\n",
       "      <td>TCGA-G2-A2EC</td>\n",
       "      <td>Methotrexate</td>\n",
       "      <td>Partial Response</td>\n",
       "      <td>1</td>\n",
       "      <td>METHOTREXATE</td>\n",
       "    </tr>\n",
       "    <tr>\n",
       "      <th>1</th>\n",
       "      <td>TCGA-G2-A2EC</td>\n",
       "      <td>Doxorubicin</td>\n",
       "      <td>Partial Response</td>\n",
       "      <td>1</td>\n",
       "      <td>DOXORUBICIN</td>\n",
       "    </tr>\n",
       "    <tr>\n",
       "      <th>2</th>\n",
       "      <td>TCGA-G2-A2EC</td>\n",
       "      <td>Vinblastine</td>\n",
       "      <td>Partial Response</td>\n",
       "      <td>1</td>\n",
       "      <td>VINBLASTINE</td>\n",
       "    </tr>\n",
       "    <tr>\n",
       "      <th>3</th>\n",
       "      <td>TCGA-G2-A2EC</td>\n",
       "      <td>Cisplatin</td>\n",
       "      <td>Partial Response</td>\n",
       "      <td>1</td>\n",
       "      <td>CISPLATIN</td>\n",
       "    </tr>\n",
       "    <tr>\n",
       "      <th>4</th>\n",
       "      <td>TCGA-G2-A2EJ</td>\n",
       "      <td>Paclitaxel</td>\n",
       "      <td>Stable Disease</td>\n",
       "      <td>0</td>\n",
       "      <td>PACLITAXEL</td>\n",
       "    </tr>\n",
       "    <tr>\n",
       "      <th>...</th>\n",
       "      <td>...</td>\n",
       "      <td>...</td>\n",
       "      <td>...</td>\n",
       "      <td>...</td>\n",
       "      <td>...</td>\n",
       "    </tr>\n",
       "    <tr>\n",
       "      <th>1244</th>\n",
       "      <td>TCGA-BG-A0VZ</td>\n",
       "      <td>Cisplatin</td>\n",
       "      <td>Complete Response</td>\n",
       "      <td>1</td>\n",
       "      <td>CISPLATIN</td>\n",
       "    </tr>\n",
       "    <tr>\n",
       "      <th>1245</th>\n",
       "      <td>TCGA-BG-A0VZ</td>\n",
       "      <td>Paclitaxel</td>\n",
       "      <td>Complete Response</td>\n",
       "      <td>1</td>\n",
       "      <td>PACLITAXEL</td>\n",
       "    </tr>\n",
       "    <tr>\n",
       "      <th>1246</th>\n",
       "      <td>TCGA-BG-A0VZ</td>\n",
       "      <td>Doxorubicin</td>\n",
       "      <td>Complete Response</td>\n",
       "      <td>1</td>\n",
       "      <td>DOXORUBICIN</td>\n",
       "    </tr>\n",
       "    <tr>\n",
       "      <th>1247</th>\n",
       "      <td>TCGA-BG-A0VT</td>\n",
       "      <td>Carboplatin</td>\n",
       "      <td>Complete Response</td>\n",
       "      <td>1</td>\n",
       "      <td>CARBOPLATIN</td>\n",
       "    </tr>\n",
       "    <tr>\n",
       "      <th>1248</th>\n",
       "      <td>TCGA-BG-A0VT</td>\n",
       "      <td>Paclitaxel</td>\n",
       "      <td>Complete Response</td>\n",
       "      <td>1</td>\n",
       "      <td>PACLITAXEL</td>\n",
       "    </tr>\n",
       "  </tbody>\n",
       "</table>\n",
       "<p>1249 rows × 5 columns</p>\n",
       "</div>"
      ],
      "text/plain": [
       "       patient.arr     drug.name           response  response_cat  \\\n",
       "0     TCGA-G2-A2EC  Methotrexate   Partial Response             1   \n",
       "1     TCGA-G2-A2EC   Doxorubicin   Partial Response             1   \n",
       "2     TCGA-G2-A2EC   Vinblastine   Partial Response             1   \n",
       "3     TCGA-G2-A2EC     Cisplatin   Partial Response             1   \n",
       "4     TCGA-G2-A2EJ    Paclitaxel     Stable Disease             0   \n",
       "...            ...           ...                ...           ...   \n",
       "1244  TCGA-BG-A0VZ     Cisplatin  Complete Response             1   \n",
       "1245  TCGA-BG-A0VZ    Paclitaxel  Complete Response             1   \n",
       "1246  TCGA-BG-A0VZ   Doxorubicin  Complete Response             1   \n",
       "1247  TCGA-BG-A0VT   Carboplatin  Complete Response             1   \n",
       "1248  TCGA-BG-A0VT    Paclitaxel  Complete Response             1   \n",
       "\n",
       "              drug  \n",
       "0     METHOTREXATE  \n",
       "1      DOXORUBICIN  \n",
       "2      VINBLASTINE  \n",
       "3        CISPLATIN  \n",
       "4       PACLITAXEL  \n",
       "...            ...  \n",
       "1244     CISPLATIN  \n",
       "1245    PACLITAXEL  \n",
       "1246   DOXORUBICIN  \n",
       "1247   CARBOPLATIN  \n",
       "1248    PACLITAXEL  \n",
       "\n",
       "[1249 rows x 5 columns]"
      ]
     },
     "execution_count": 9,
     "metadata": {},
     "output_type": "execute_result"
    }
   ],
   "source": [
    "patient_responses_df = pd.read_csv(\"/data/ajayago/copied_from_cdal1/ajayago_home_folder/processed/TCGA_drug_response_010222.csv\")\n",
    "patient_responses_df"
   ]
  },
  {
   "cell_type": "code",
   "execution_count": 10,
   "id": "56db99a7-1994-4cc2-97fc-0d69c9762b80",
   "metadata": {},
   "outputs": [
    {
     "data": {
      "text/plain": [
       "drug\n",
       "CISPLATIN             206\n",
       "5-FLUOROURACIL        125\n",
       "CARBOPLATIN           117\n",
       "PACLITAXEL            113\n",
       "CYCLOPHOSPHAMIDE       69\n",
       "                     ... \n",
       "E7389                   1\n",
       "CARMUSTINE              1\n",
       "TEMOZOLOMIDE            1\n",
       "ERIBULIN                1\n",
       "METHYLPREDNISOLONE      1\n",
       "Name: count, Length: 69, dtype: int64"
      ]
     },
     "execution_count": 10,
     "metadata": {},
     "output_type": "execute_result"
    }
   ],
   "source": [
    "patient_responses_df[\"drug\"].value_counts()"
   ]
  },
  {
   "cell_type": "code",
   "execution_count": 11,
   "id": "d8a8ab1d-9c9d-4d29-bcf6-749d6a2042e6",
   "metadata": {},
   "outputs": [
    {
     "data": {
      "text/plain": [
       "drug\n",
       "CISPLATIN           44\n",
       "5-FLUOROURACIL      29\n",
       "CARBOPLATIN         25\n",
       "GEMCITABINE         16\n",
       "PACLITAXEL          16\n",
       "DOXORUBICIN         14\n",
       "LEUCOVORIN          14\n",
       "CYCLOPHOSPHAMIDE    13\n",
       "DOCETAXEL           10\n",
       "OXALIPLATIN          8\n",
       "ETOPOSIDE            7\n",
       "CAPECITABINE         7\n",
       "VINBLASTINE          6\n",
       "METHOTREXATE         5\n",
       "CETUXIMAB            5\n",
       "DACARBAZINE          5\n",
       "IRINOTECAN           3\n",
       "TAMOXIFEN            3\n",
       "EPIRUBICIN           3\n",
       "VINORELBINE          3\n",
       "GEFITINIB            2\n",
       "DABRAFENIB           2\n",
       "TRASTUZUMAB          2\n",
       "LEUPROLIDE           1\n",
       "PAMIDRONATE          1\n",
       "IFOSFAMIDE           1\n",
       "MITOMYCIN-C          1\n",
       "PEMETREXED           1\n",
       "REGORAFENIB          1\n",
       "VEMURAFENIB          1\n",
       "FOTEMUSTINE          1\n",
       "LOMUSTINE            1\n",
       "TRAMETINIB           1\n",
       "AXITINIB             1\n",
       "CARMUSTINE           1\n",
       "Name: count, dtype: int64"
      ]
     },
     "execution_count": 11,
     "metadata": {},
     "output_type": "execute_result"
    }
   ],
   "source": [
    "patient_responses_df[patient_responses_df[\"patient.arr\"].isin(tcga_test_df.index)].drug.value_counts()"
   ]
  },
  {
   "cell_type": "code",
   "execution_count": 12,
   "id": "c5ef1350-a812-4d74-b438-301b672abecc",
   "metadata": {},
   "outputs": [
    {
     "data": {
      "text/plain": [
       "drug\n",
       "CISPLATIN            162\n",
       "PACLITAXEL            97\n",
       "5-FLUOROURACIL        96\n",
       "CARBOPLATIN           92\n",
       "CYCLOPHOSPHAMIDE      56\n",
       "                    ... \n",
       "FOTEMUSTINE            1\n",
       "RESIQUIMOD             1\n",
       "TOREMIFENE             1\n",
       "ERIBULIN               1\n",
       "MYCOPHENOLIC ACID      1\n",
       "Name: count, Length: 66, dtype: int64"
      ]
     },
     "execution_count": 12,
     "metadata": {},
     "output_type": "execute_result"
    }
   ],
   "source": [
    "patient_responses_df[patient_responses_df[\"patient.arr\"].isin(tcga_train_df.index)].drug.value_counts()"
   ]
  },
  {
   "cell_type": "code",
   "execution_count": 13,
   "id": "b21aa815-3732-4fe1-87a2-a38f33b7a7c6",
   "metadata": {},
   "outputs": [
    {
     "data": {
      "text/html": [
       "<div>\n",
       "<style scoped>\n",
       "    .dataframe tbody tr th:only-of-type {\n",
       "        vertical-align: middle;\n",
       "    }\n",
       "\n",
       "    .dataframe tbody tr th {\n",
       "        vertical-align: top;\n",
       "    }\n",
       "\n",
       "    .dataframe thead th {\n",
       "        text-align: right;\n",
       "    }\n",
       "</style>\n",
       "<table border=\"1\" class=\"dataframe\">\n",
       "  <thead>\n",
       "    <tr style=\"text-align: right;\">\n",
       "      <th></th>\n",
       "      <th>patient.arr</th>\n",
       "      <th>drug.name</th>\n",
       "      <th>response</th>\n",
       "      <th>response_cat</th>\n",
       "      <th>drug</th>\n",
       "    </tr>\n",
       "  </thead>\n",
       "  <tbody>\n",
       "    <tr>\n",
       "      <th>0</th>\n",
       "      <td>TCGA-G2-A2EJ</td>\n",
       "      <td>Paclitaxel</td>\n",
       "      <td>Stable Disease</td>\n",
       "      <td>0</td>\n",
       "      <td>PACLITAXEL</td>\n",
       "    </tr>\n",
       "    <tr>\n",
       "      <th>1</th>\n",
       "      <td>TCGA-G2-A2EJ</td>\n",
       "      <td>Mycophenolic acid</td>\n",
       "      <td>Stable Disease</td>\n",
       "      <td>0</td>\n",
       "      <td>MYCOPHENOLIC ACID</td>\n",
       "    </tr>\n",
       "    <tr>\n",
       "      <th>2</th>\n",
       "      <td>TCGA-G2-A2EJ</td>\n",
       "      <td>Cisplatin</td>\n",
       "      <td>Stable Disease</td>\n",
       "      <td>0</td>\n",
       "      <td>CISPLATIN</td>\n",
       "    </tr>\n",
       "    <tr>\n",
       "      <th>3</th>\n",
       "      <td>TCGA-G2-A2EJ</td>\n",
       "      <td>Ifosfamide</td>\n",
       "      <td>Stable Disease</td>\n",
       "      <td>0</td>\n",
       "      <td>IFOSFAMIDE</td>\n",
       "    </tr>\n",
       "    <tr>\n",
       "      <th>4</th>\n",
       "      <td>TCGA-G2-A2EF</td>\n",
       "      <td>Methotrexate</td>\n",
       "      <td>Partial Response</td>\n",
       "      <td>1</td>\n",
       "      <td>METHOTREXATE</td>\n",
       "    </tr>\n",
       "    <tr>\n",
       "      <th>...</th>\n",
       "      <td>...</td>\n",
       "      <td>...</td>\n",
       "      <td>...</td>\n",
       "      <td>...</td>\n",
       "      <td>...</td>\n",
       "    </tr>\n",
       "    <tr>\n",
       "      <th>990</th>\n",
       "      <td>TCGA-BG-A0VZ</td>\n",
       "      <td>Cisplatin</td>\n",
       "      <td>Complete Response</td>\n",
       "      <td>1</td>\n",
       "      <td>CISPLATIN</td>\n",
       "    </tr>\n",
       "    <tr>\n",
       "      <th>991</th>\n",
       "      <td>TCGA-BG-A0VZ</td>\n",
       "      <td>Paclitaxel</td>\n",
       "      <td>Complete Response</td>\n",
       "      <td>1</td>\n",
       "      <td>PACLITAXEL</td>\n",
       "    </tr>\n",
       "    <tr>\n",
       "      <th>992</th>\n",
       "      <td>TCGA-BG-A0VZ</td>\n",
       "      <td>Doxorubicin</td>\n",
       "      <td>Complete Response</td>\n",
       "      <td>1</td>\n",
       "      <td>DOXORUBICIN</td>\n",
       "    </tr>\n",
       "    <tr>\n",
       "      <th>993</th>\n",
       "      <td>TCGA-BG-A0VT</td>\n",
       "      <td>Carboplatin</td>\n",
       "      <td>Complete Response</td>\n",
       "      <td>1</td>\n",
       "      <td>CARBOPLATIN</td>\n",
       "    </tr>\n",
       "    <tr>\n",
       "      <th>994</th>\n",
       "      <td>TCGA-BG-A0VT</td>\n",
       "      <td>Paclitaxel</td>\n",
       "      <td>Complete Response</td>\n",
       "      <td>1</td>\n",
       "      <td>PACLITAXEL</td>\n",
       "    </tr>\n",
       "  </tbody>\n",
       "</table>\n",
       "<p>995 rows × 5 columns</p>\n",
       "</div>"
      ],
      "text/plain": [
       "      patient.arr          drug.name           response  response_cat  \\\n",
       "0    TCGA-G2-A2EJ         Paclitaxel     Stable Disease             0   \n",
       "1    TCGA-G2-A2EJ  Mycophenolic acid     Stable Disease             0   \n",
       "2    TCGA-G2-A2EJ          Cisplatin     Stable Disease             0   \n",
       "3    TCGA-G2-A2EJ         Ifosfamide     Stable Disease             0   \n",
       "4    TCGA-G2-A2EF       Methotrexate   Partial Response             1   \n",
       "..            ...                ...                ...           ...   \n",
       "990  TCGA-BG-A0VZ          Cisplatin  Complete Response             1   \n",
       "991  TCGA-BG-A0VZ         Paclitaxel  Complete Response             1   \n",
       "992  TCGA-BG-A0VZ        Doxorubicin  Complete Response             1   \n",
       "993  TCGA-BG-A0VT        Carboplatin  Complete Response             1   \n",
       "994  TCGA-BG-A0VT         Paclitaxel  Complete Response             1   \n",
       "\n",
       "                  drug  \n",
       "0           PACLITAXEL  \n",
       "1    MYCOPHENOLIC ACID  \n",
       "2            CISPLATIN  \n",
       "3           IFOSFAMIDE  \n",
       "4         METHOTREXATE  \n",
       "..                 ...  \n",
       "990          CISPLATIN  \n",
       "991         PACLITAXEL  \n",
       "992        DOXORUBICIN  \n",
       "993        CARBOPLATIN  \n",
       "994         PACLITAXEL  \n",
       "\n",
       "[995 rows x 5 columns]"
      ]
     },
     "execution_count": 13,
     "metadata": {},
     "output_type": "execute_result"
    }
   ],
   "source": [
    "train_tcga_with_response = patient_responses_df[patient_responses_df[\"patient.arr\"].isin(tcga_train_df.index)].reset_index(drop=True)\n",
    "train_tcga_with_response"
   ]
  },
  {
   "cell_type": "code",
   "execution_count": 14,
   "id": "5641b08a-d8d9-4335-8822-7a903d04664b",
   "metadata": {},
   "outputs": [
    {
     "data": {
      "text/html": [
       "<div>\n",
       "<style scoped>\n",
       "    .dataframe tbody tr th:only-of-type {\n",
       "        vertical-align: middle;\n",
       "    }\n",
       "\n",
       "    .dataframe tbody tr th {\n",
       "        vertical-align: top;\n",
       "    }\n",
       "\n",
       "    .dataframe thead th {\n",
       "        text-align: right;\n",
       "    }\n",
       "</style>\n",
       "<table border=\"1\" class=\"dataframe\">\n",
       "  <thead>\n",
       "    <tr style=\"text-align: right;\">\n",
       "      <th></th>\n",
       "      <th>patient.arr</th>\n",
       "      <th>drug.name</th>\n",
       "      <th>response</th>\n",
       "      <th>response_cat</th>\n",
       "      <th>drug</th>\n",
       "    </tr>\n",
       "  </thead>\n",
       "  <tbody>\n",
       "    <tr>\n",
       "      <th>0</th>\n",
       "      <td>TCGA-G2-A2EC</td>\n",
       "      <td>Methotrexate</td>\n",
       "      <td>Partial Response</td>\n",
       "      <td>1</td>\n",
       "      <td>METHOTREXATE</td>\n",
       "    </tr>\n",
       "    <tr>\n",
       "      <th>1</th>\n",
       "      <td>TCGA-G2-A2EC</td>\n",
       "      <td>Doxorubicin</td>\n",
       "      <td>Partial Response</td>\n",
       "      <td>1</td>\n",
       "      <td>DOXORUBICIN</td>\n",
       "    </tr>\n",
       "    <tr>\n",
       "      <th>2</th>\n",
       "      <td>TCGA-G2-A2EC</td>\n",
       "      <td>Vinblastine</td>\n",
       "      <td>Partial Response</td>\n",
       "      <td>1</td>\n",
       "      <td>VINBLASTINE</td>\n",
       "    </tr>\n",
       "    <tr>\n",
       "      <th>3</th>\n",
       "      <td>TCGA-G2-A2EC</td>\n",
       "      <td>Cisplatin</td>\n",
       "      <td>Partial Response</td>\n",
       "      <td>1</td>\n",
       "      <td>CISPLATIN</td>\n",
       "    </tr>\n",
       "    <tr>\n",
       "      <th>4</th>\n",
       "      <td>TCGA-BT-A2LA</td>\n",
       "      <td>Carboplatin</td>\n",
       "      <td>Complete Response</td>\n",
       "      <td>1</td>\n",
       "      <td>CARBOPLATIN</td>\n",
       "    </tr>\n",
       "    <tr>\n",
       "      <th>...</th>\n",
       "      <td>...</td>\n",
       "      <td>...</td>\n",
       "      <td>...</td>\n",
       "      <td>...</td>\n",
       "      <td>...</td>\n",
       "    </tr>\n",
       "    <tr>\n",
       "      <th>249</th>\n",
       "      <td>TCGA-A5-A1OH</td>\n",
       "      <td>Carboplatin</td>\n",
       "      <td>Complete Response</td>\n",
       "      <td>1</td>\n",
       "      <td>CARBOPLATIN</td>\n",
       "    </tr>\n",
       "    <tr>\n",
       "      <th>250</th>\n",
       "      <td>TCGA-A5-A3LP</td>\n",
       "      <td>Carboplatin</td>\n",
       "      <td>Complete Response</td>\n",
       "      <td>1</td>\n",
       "      <td>CARBOPLATIN</td>\n",
       "    </tr>\n",
       "    <tr>\n",
       "      <th>251</th>\n",
       "      <td>TCGA-AJ-A3OK</td>\n",
       "      <td>Carboplatin</td>\n",
       "      <td>Complete Response</td>\n",
       "      <td>1</td>\n",
       "      <td>CARBOPLATIN</td>\n",
       "    </tr>\n",
       "    <tr>\n",
       "      <th>252</th>\n",
       "      <td>TCGA-AJ-A3OK</td>\n",
       "      <td>Doxorubicin</td>\n",
       "      <td>Complete Response</td>\n",
       "      <td>1</td>\n",
       "      <td>DOXORUBICIN</td>\n",
       "    </tr>\n",
       "    <tr>\n",
       "      <th>253</th>\n",
       "      <td>TCGA-AJ-A3OK</td>\n",
       "      <td>Docetaxel</td>\n",
       "      <td>Complete Response</td>\n",
       "      <td>1</td>\n",
       "      <td>DOCETAXEL</td>\n",
       "    </tr>\n",
       "  </tbody>\n",
       "</table>\n",
       "<p>254 rows × 5 columns</p>\n",
       "</div>"
      ],
      "text/plain": [
       "      patient.arr     drug.name           response  response_cat          drug\n",
       "0    TCGA-G2-A2EC  Methotrexate   Partial Response             1  METHOTREXATE\n",
       "1    TCGA-G2-A2EC   Doxorubicin   Partial Response             1   DOXORUBICIN\n",
       "2    TCGA-G2-A2EC   Vinblastine   Partial Response             1   VINBLASTINE\n",
       "3    TCGA-G2-A2EC     Cisplatin   Partial Response             1     CISPLATIN\n",
       "4    TCGA-BT-A2LA   Carboplatin  Complete Response             1   CARBOPLATIN\n",
       "..            ...           ...                ...           ...           ...\n",
       "249  TCGA-A5-A1OH   Carboplatin  Complete Response             1   CARBOPLATIN\n",
       "250  TCGA-A5-A3LP   Carboplatin  Complete Response             1   CARBOPLATIN\n",
       "251  TCGA-AJ-A3OK   Carboplatin  Complete Response             1   CARBOPLATIN\n",
       "252  TCGA-AJ-A3OK   Doxorubicin  Complete Response             1   DOXORUBICIN\n",
       "253  TCGA-AJ-A3OK     Docetaxel  Complete Response             1     DOCETAXEL\n",
       "\n",
       "[254 rows x 5 columns]"
      ]
     },
     "execution_count": 14,
     "metadata": {},
     "output_type": "execute_result"
    }
   ],
   "source": [
    "test_tcga_with_response = patient_responses_df[patient_responses_df[\"patient.arr\"].isin(tcga_test_df.index)].reset_index(drop=True)\n",
    "test_tcga_with_response"
   ]
  },
  {
   "cell_type": "code",
   "execution_count": 15,
   "id": "95b35fdf-1ff6-4171-9e06-b240d079eb8d",
   "metadata": {},
   "outputs": [
    {
     "data": {
      "text/html": [
       "<div>\n",
       "<style scoped>\n",
       "    .dataframe tbody tr th:only-of-type {\n",
       "        vertical-align: middle;\n",
       "    }\n",
       "\n",
       "    .dataframe tbody tr th {\n",
       "        vertical-align: top;\n",
       "    }\n",
       "\n",
       "    .dataframe thead th {\n",
       "        text-align: right;\n",
       "    }\n",
       "</style>\n",
       "<table border=\"1\" class=\"dataframe\">\n",
       "  <thead>\n",
       "    <tr style=\"text-align: right;\">\n",
       "      <th></th>\n",
       "      <th>0</th>\n",
       "      <th>1</th>\n",
       "      <th>2</th>\n",
       "      <th>3</th>\n",
       "      <th>4</th>\n",
       "      <th>5</th>\n",
       "      <th>6</th>\n",
       "      <th>7</th>\n",
       "      <th>8</th>\n",
       "      <th>9</th>\n",
       "      <th>...</th>\n",
       "      <th>2038</th>\n",
       "      <th>2039</th>\n",
       "      <th>2040</th>\n",
       "      <th>2041</th>\n",
       "      <th>2042</th>\n",
       "      <th>2043</th>\n",
       "      <th>2044</th>\n",
       "      <th>2045</th>\n",
       "      <th>2046</th>\n",
       "      <th>2047</th>\n",
       "    </tr>\n",
       "    <tr>\n",
       "      <th>drug_name</th>\n",
       "      <th></th>\n",
       "      <th></th>\n",
       "      <th></th>\n",
       "      <th></th>\n",
       "      <th></th>\n",
       "      <th></th>\n",
       "      <th></th>\n",
       "      <th></th>\n",
       "      <th></th>\n",
       "      <th></th>\n",
       "      <th></th>\n",
       "      <th></th>\n",
       "      <th></th>\n",
       "      <th></th>\n",
       "      <th></th>\n",
       "      <th></th>\n",
       "      <th></th>\n",
       "      <th></th>\n",
       "      <th></th>\n",
       "      <th></th>\n",
       "      <th></th>\n",
       "    </tr>\n",
       "  </thead>\n",
       "  <tbody>\n",
       "    <tr>\n",
       "      <th>JW-7-24-1</th>\n",
       "      <td>0</td>\n",
       "      <td>1</td>\n",
       "      <td>0</td>\n",
       "      <td>0</td>\n",
       "      <td>0</td>\n",
       "      <td>0</td>\n",
       "      <td>0</td>\n",
       "      <td>0</td>\n",
       "      <td>0</td>\n",
       "      <td>0</td>\n",
       "      <td>...</td>\n",
       "      <td>0</td>\n",
       "      <td>0</td>\n",
       "      <td>0</td>\n",
       "      <td>0</td>\n",
       "      <td>0</td>\n",
       "      <td>0</td>\n",
       "      <td>0</td>\n",
       "      <td>0</td>\n",
       "      <td>0</td>\n",
       "      <td>0</td>\n",
       "    </tr>\n",
       "    <tr>\n",
       "      <th>KIN001-260</th>\n",
       "      <td>0</td>\n",
       "      <td>0</td>\n",
       "      <td>0</td>\n",
       "      <td>0</td>\n",
       "      <td>0</td>\n",
       "      <td>0</td>\n",
       "      <td>0</td>\n",
       "      <td>0</td>\n",
       "      <td>0</td>\n",
       "      <td>0</td>\n",
       "      <td>...</td>\n",
       "      <td>0</td>\n",
       "      <td>0</td>\n",
       "      <td>0</td>\n",
       "      <td>0</td>\n",
       "      <td>0</td>\n",
       "      <td>0</td>\n",
       "      <td>0</td>\n",
       "      <td>0</td>\n",
       "      <td>0</td>\n",
       "      <td>0</td>\n",
       "    </tr>\n",
       "    <tr>\n",
       "      <th>NSC-87877</th>\n",
       "      <td>0</td>\n",
       "      <td>0</td>\n",
       "      <td>0</td>\n",
       "      <td>0</td>\n",
       "      <td>0</td>\n",
       "      <td>0</td>\n",
       "      <td>0</td>\n",
       "      <td>0</td>\n",
       "      <td>0</td>\n",
       "      <td>0</td>\n",
       "      <td>...</td>\n",
       "      <td>1</td>\n",
       "      <td>0</td>\n",
       "      <td>0</td>\n",
       "      <td>0</td>\n",
       "      <td>0</td>\n",
       "      <td>0</td>\n",
       "      <td>0</td>\n",
       "      <td>0</td>\n",
       "      <td>0</td>\n",
       "      <td>0</td>\n",
       "    </tr>\n",
       "    <tr>\n",
       "      <th>GNE-317</th>\n",
       "      <td>0</td>\n",
       "      <td>0</td>\n",
       "      <td>0</td>\n",
       "      <td>0</td>\n",
       "      <td>0</td>\n",
       "      <td>0</td>\n",
       "      <td>0</td>\n",
       "      <td>0</td>\n",
       "      <td>0</td>\n",
       "      <td>0</td>\n",
       "      <td>...</td>\n",
       "      <td>0</td>\n",
       "      <td>0</td>\n",
       "      <td>0</td>\n",
       "      <td>0</td>\n",
       "      <td>0</td>\n",
       "      <td>0</td>\n",
       "      <td>0</td>\n",
       "      <td>0</td>\n",
       "      <td>0</td>\n",
       "      <td>0</td>\n",
       "    </tr>\n",
       "    <tr>\n",
       "      <th>NAVITOCLAX</th>\n",
       "      <td>0</td>\n",
       "      <td>1</td>\n",
       "      <td>0</td>\n",
       "      <td>0</td>\n",
       "      <td>0</td>\n",
       "      <td>0</td>\n",
       "      <td>0</td>\n",
       "      <td>0</td>\n",
       "      <td>0</td>\n",
       "      <td>0</td>\n",
       "      <td>...</td>\n",
       "      <td>0</td>\n",
       "      <td>0</td>\n",
       "      <td>0</td>\n",
       "      <td>0</td>\n",
       "      <td>0</td>\n",
       "      <td>0</td>\n",
       "      <td>0</td>\n",
       "      <td>0</td>\n",
       "      <td>0</td>\n",
       "      <td>0</td>\n",
       "    </tr>\n",
       "    <tr>\n",
       "      <th>...</th>\n",
       "      <td>...</td>\n",
       "      <td>...</td>\n",
       "      <td>...</td>\n",
       "      <td>...</td>\n",
       "      <td>...</td>\n",
       "      <td>...</td>\n",
       "      <td>...</td>\n",
       "      <td>...</td>\n",
       "      <td>...</td>\n",
       "      <td>...</td>\n",
       "      <td>...</td>\n",
       "      <td>...</td>\n",
       "      <td>...</td>\n",
       "      <td>...</td>\n",
       "      <td>...</td>\n",
       "      <td>...</td>\n",
       "      <td>...</td>\n",
       "      <td>...</td>\n",
       "      <td>...</td>\n",
       "      <td>...</td>\n",
       "      <td>...</td>\n",
       "    </tr>\n",
       "    <tr>\n",
       "      <th>LGH447</th>\n",
       "      <td>0</td>\n",
       "      <td>0</td>\n",
       "      <td>0</td>\n",
       "      <td>0</td>\n",
       "      <td>0</td>\n",
       "      <td>0</td>\n",
       "      <td>0</td>\n",
       "      <td>0</td>\n",
       "      <td>0</td>\n",
       "      <td>0</td>\n",
       "      <td>...</td>\n",
       "      <td>0</td>\n",
       "      <td>0</td>\n",
       "      <td>0</td>\n",
       "      <td>0</td>\n",
       "      <td>0</td>\n",
       "      <td>0</td>\n",
       "      <td>0</td>\n",
       "      <td>0</td>\n",
       "      <td>0</td>\n",
       "      <td>0</td>\n",
       "    </tr>\n",
       "    <tr>\n",
       "      <th>TRASTUZUMAB</th>\n",
       "      <td>0</td>\n",
       "      <td>0</td>\n",
       "      <td>0</td>\n",
       "      <td>0</td>\n",
       "      <td>0</td>\n",
       "      <td>0</td>\n",
       "      <td>0</td>\n",
       "      <td>0</td>\n",
       "      <td>0</td>\n",
       "      <td>0</td>\n",
       "      <td>...</td>\n",
       "      <td>0</td>\n",
       "      <td>0</td>\n",
       "      <td>0</td>\n",
       "      <td>0</td>\n",
       "      <td>0</td>\n",
       "      <td>0</td>\n",
       "      <td>0</td>\n",
       "      <td>0</td>\n",
       "      <td>0</td>\n",
       "      <td>0</td>\n",
       "    </tr>\n",
       "    <tr>\n",
       "      <th>WNT974</th>\n",
       "      <td>0</td>\n",
       "      <td>0</td>\n",
       "      <td>0</td>\n",
       "      <td>0</td>\n",
       "      <td>0</td>\n",
       "      <td>0</td>\n",
       "      <td>0</td>\n",
       "      <td>0</td>\n",
       "      <td>0</td>\n",
       "      <td>0</td>\n",
       "      <td>...</td>\n",
       "      <td>0</td>\n",
       "      <td>0</td>\n",
       "      <td>0</td>\n",
       "      <td>0</td>\n",
       "      <td>0</td>\n",
       "      <td>0</td>\n",
       "      <td>0</td>\n",
       "      <td>0</td>\n",
       "      <td>0</td>\n",
       "      <td>0</td>\n",
       "    </tr>\n",
       "    <tr>\n",
       "      <th>TRIFLURIDINE</th>\n",
       "      <td>0</td>\n",
       "      <td>0</td>\n",
       "      <td>0</td>\n",
       "      <td>0</td>\n",
       "      <td>1</td>\n",
       "      <td>0</td>\n",
       "      <td>0</td>\n",
       "      <td>0</td>\n",
       "      <td>0</td>\n",
       "      <td>0</td>\n",
       "      <td>...</td>\n",
       "      <td>0</td>\n",
       "      <td>0</td>\n",
       "      <td>0</td>\n",
       "      <td>0</td>\n",
       "      <td>0</td>\n",
       "      <td>0</td>\n",
       "      <td>0</td>\n",
       "      <td>0</td>\n",
       "      <td>0</td>\n",
       "      <td>0</td>\n",
       "    </tr>\n",
       "    <tr>\n",
       "      <th>TIPIRACIL</th>\n",
       "      <td>0</td>\n",
       "      <td>0</td>\n",
       "      <td>0</td>\n",
       "      <td>0</td>\n",
       "      <td>0</td>\n",
       "      <td>0</td>\n",
       "      <td>0</td>\n",
       "      <td>0</td>\n",
       "      <td>0</td>\n",
       "      <td>1</td>\n",
       "      <td>...</td>\n",
       "      <td>0</td>\n",
       "      <td>0</td>\n",
       "      <td>0</td>\n",
       "      <td>0</td>\n",
       "      <td>0</td>\n",
       "      <td>0</td>\n",
       "      <td>0</td>\n",
       "      <td>0</td>\n",
       "      <td>0</td>\n",
       "      <td>0</td>\n",
       "    </tr>\n",
       "  </tbody>\n",
       "</table>\n",
       "<p>408 rows × 2048 columns</p>\n",
       "</div>"
      ],
      "text/plain": [
       "              0  1  2  3  4  5  6  7  8  9  ...  2038  2039  2040  2041  2042  \\\n",
       "drug_name                                   ...                                 \n",
       "JW-7-24-1     0  1  0  0  0  0  0  0  0  0  ...     0     0     0     0     0   \n",
       "KIN001-260    0  0  0  0  0  0  0  0  0  0  ...     0     0     0     0     0   \n",
       "NSC-87877     0  0  0  0  0  0  0  0  0  0  ...     1     0     0     0     0   \n",
       "GNE-317       0  0  0  0  0  0  0  0  0  0  ...     0     0     0     0     0   \n",
       "NAVITOCLAX    0  1  0  0  0  0  0  0  0  0  ...     0     0     0     0     0   \n",
       "...          .. .. .. .. .. .. .. .. .. ..  ...   ...   ...   ...   ...   ...   \n",
       "LGH447        0  0  0  0  0  0  0  0  0  0  ...     0     0     0     0     0   \n",
       "TRASTUZUMAB   0  0  0  0  0  0  0  0  0  0  ...     0     0     0     0     0   \n",
       "WNT974        0  0  0  0  0  0  0  0  0  0  ...     0     0     0     0     0   \n",
       "TRIFLURIDINE  0  0  0  0  1  0  0  0  0  0  ...     0     0     0     0     0   \n",
       "TIPIRACIL     0  0  0  0  0  0  0  0  0  1  ...     0     0     0     0     0   \n",
       "\n",
       "              2043  2044  2045  2046  2047  \n",
       "drug_name                                   \n",
       "JW-7-24-1        0     0     0     0     0  \n",
       "KIN001-260       0     0     0     0     0  \n",
       "NSC-87877        0     0     0     0     0  \n",
       "GNE-317          0     0     0     0     0  \n",
       "NAVITOCLAX       0     0     0     0     0  \n",
       "...            ...   ...   ...   ...   ...  \n",
       "LGH447           0     0     0     0     0  \n",
       "TRASTUZUMAB      0     0     0     0     0  \n",
       "WNT974           0     0     0     0     0  \n",
       "TRIFLURIDINE     0     0     0     0     0  \n",
       "TIPIRACIL        0     0     0     0     0  \n",
       "\n",
       "[408 rows x 2048 columns]"
      ]
     },
     "execution_count": 15,
     "metadata": {},
     "output_type": "execute_result"
    }
   ],
   "source": [
    "drug_fp = pd.read_csv(\"/data/ajayago/copied_from_cdal1/ajayago_home_folder/processed/drug_morgan_fingerprints.csv\", index_col = 0)\n",
    "drug_fp"
   ]
  },
  {
   "cell_type": "code",
   "execution_count": 16,
   "id": "e040c332-53ec-4222-b7f0-ee6919cab91c",
   "metadata": {},
   "outputs": [
    {
     "data": {
      "text/plain": [
       "{'ALDESLEUKIN',\n",
       " 'ANASTROZOLE',\n",
       " 'BCG',\n",
       " 'CAPECITABINE',\n",
       " 'CARBOPLATIN',\n",
       " 'CYCLOSPORINE',\n",
       " 'DEXAMETHASONE',\n",
       " 'DIDOX',\n",
       " 'E7389',\n",
       " 'ERIBULIN',\n",
       " 'EXEMESTANE',\n",
       " 'FOLFIRI',\n",
       " 'FOLFOX',\n",
       " 'FOTEMUSTINE',\n",
       " 'GOSERELIN',\n",
       " 'GP100',\n",
       " 'HYDROCORTISONE',\n",
       " 'IFOSFAMIDE',\n",
       " 'LETROZOLE',\n",
       " 'LEUCOVORIN',\n",
       " 'LEUPROLIDE',\n",
       " 'LOMUSTINE',\n",
       " 'MELPHALAN',\n",
       " 'METHYLPREDNISOLONE',\n",
       " 'MYCOPHENOLIC ACID',\n",
       " 'ONDANSETRON',\n",
       " 'PAMIDRONATE',\n",
       " 'PEGFILGRASTIM',\n",
       " 'PNU-159548',\n",
       " 'PX-866',\n",
       " 'RESIQUIMOD',\n",
       " 'TOREMIFENE',\n",
       " 'VEMURAFENIB'}"
      ]
     },
     "execution_count": 16,
     "metadata": {},
     "output_type": "execute_result"
    }
   ],
   "source": [
    "set(train_tcga_with_response[\"drug\"]) - set(drug_fp.index)"
   ]
  },
  {
   "cell_type": "code",
   "execution_count": 17,
   "id": "067d8920-f214-40ad-a8c5-ee6d24b5c265",
   "metadata": {},
   "outputs": [
    {
     "data": {
      "text/plain": [
       "{'CAPECITABINE',\n",
       " 'CARBOPLATIN',\n",
       " 'FOTEMUSTINE',\n",
       " 'IFOSFAMIDE',\n",
       " 'LEUCOVORIN',\n",
       " 'LEUPROLIDE',\n",
       " 'LOMUSTINE',\n",
       " 'PAMIDRONATE',\n",
       " 'REGORAFENIB',\n",
       " 'VEMURAFENIB'}"
      ]
     },
     "execution_count": 17,
     "metadata": {},
     "output_type": "execute_result"
    }
   ],
   "source": [
    "set(test_tcga_with_response[\"drug\"]) - set(drug_fp.index)"
   ]
  },
  {
   "cell_type": "markdown",
   "id": "ff708127-c37e-4b5a-9e37-24150f4da626",
   "metadata": {},
   "source": [
    "Plan:\n",
    "\n",
    "* Baseline: Train a model on train patient data + drug fingerprints and predict the response for the (patient, drug) pair.\n",
    "* Add all cell lines and assign pseudo labels using the patient model from baseline - concat both datasets and train another model.\n",
    "* Weak supervision + subset selection on cell lines - use this with patient data to train another model\n",
    "\n",
    "Evaluation: Classification metrics on the patient test dataset."
   ]
  },
  {
   "cell_type": "code",
   "execution_count": 18,
   "id": "7ef9ce3d-aa0c-4b5b-9096-b1a4cca07174",
   "metadata": {},
   "outputs": [],
   "source": [
    "from sklearn.ensemble import RandomForestClassifier\n",
    "from sklearn.svm import SVC"
   ]
  },
  {
   "cell_type": "code",
   "execution_count": 19,
   "id": "65bb7006-b393-4ce7-99d7-b34c3c655681",
   "metadata": {},
   "outputs": [],
   "source": [
    "from sklearn.metrics import roc_auc_score, average_precision_score, accuracy_score"
   ]
  },
  {
   "cell_type": "code",
   "execution_count": 20,
   "id": "46fc37cb-1208-402d-88b7-1d9503ab2c36",
   "metadata": {},
   "outputs": [],
   "source": [
    "# Held out TCGA dataset\n",
    "test_features = []\n",
    "test_y = []\n",
    "for idx, row in test_tcga_with_response.iterrows():\n",
    "    if row[\"drug\"] in drug_fp.index:\n",
    "        row_inp = []\n",
    "        row_inp.extend(tcga_test_df.loc[row[\"patient.arr\"]].values)\n",
    "        row_inp.extend(drug_fp.loc[row[\"drug\"]].values)\n",
    "        test_y.append(row[\"response_cat\"])\n",
    "        test_features.append(row_inp)"
   ]
  },
  {
   "cell_type": "markdown",
   "id": "22310674-8d8b-4abe-bcf9-f4bfbe801291",
   "metadata": {},
   "source": [
    "#### Baseline Model"
   ]
  },
  {
   "cell_type": "code",
   "execution_count": 21,
   "id": "d26fa460-b4f3-4bd7-9711-ce3a59d298f9",
   "metadata": {},
   "outputs": [],
   "source": [
    "train_features = []\n",
    "train_y = []\n",
    "for idx, row in train_tcga_with_response.iterrows():\n",
    "    if row[\"drug\"] in drug_fp.index:\n",
    "        row_inp = []\n",
    "        row_inp.extend(tcga_train_df.loc[row[\"patient.arr\"]].values)\n",
    "        row_inp.extend(drug_fp.loc[row[\"drug\"]].values)\n",
    "        train_y.append(row[\"response_cat\"])\n",
    "        train_features.append(row_inp)"
   ]
  },
  {
   "cell_type": "code",
   "execution_count": 22,
   "id": "d00f7d06-e983-41b4-9182-88ceaa73038d",
   "metadata": {},
   "outputs": [
    {
     "data": {
      "text/plain": [
       "(761, 201)"
      ]
     },
     "execution_count": 22,
     "metadata": {},
     "output_type": "execute_result"
    }
   ],
   "source": [
    "len(train_features), len(test_features)"
   ]
  },
  {
   "cell_type": "code",
   "execution_count": 23,
   "id": "fe323888-de5d-44ec-8fc4-9d95f76eabae",
   "metadata": {},
   "outputs": [
    {
     "data": {
      "text/html": [
       "<style>#sk-container-id-1 {color: black;}#sk-container-id-1 pre{padding: 0;}#sk-container-id-1 div.sk-toggleable {background-color: white;}#sk-container-id-1 label.sk-toggleable__label {cursor: pointer;display: block;width: 100%;margin-bottom: 0;padding: 0.3em;box-sizing: border-box;text-align: center;}#sk-container-id-1 label.sk-toggleable__label-arrow:before {content: \"▸\";float: left;margin-right: 0.25em;color: #696969;}#sk-container-id-1 label.sk-toggleable__label-arrow:hover:before {color: black;}#sk-container-id-1 div.sk-estimator:hover label.sk-toggleable__label-arrow:before {color: black;}#sk-container-id-1 div.sk-toggleable__content {max-height: 0;max-width: 0;overflow: hidden;text-align: left;background-color: #f0f8ff;}#sk-container-id-1 div.sk-toggleable__content pre {margin: 0.2em;color: black;border-radius: 0.25em;background-color: #f0f8ff;}#sk-container-id-1 input.sk-toggleable__control:checked~div.sk-toggleable__content {max-height: 200px;max-width: 100%;overflow: auto;}#sk-container-id-1 input.sk-toggleable__control:checked~label.sk-toggleable__label-arrow:before {content: \"▾\";}#sk-container-id-1 div.sk-estimator input.sk-toggleable__control:checked~label.sk-toggleable__label {background-color: #d4ebff;}#sk-container-id-1 div.sk-label input.sk-toggleable__control:checked~label.sk-toggleable__label {background-color: #d4ebff;}#sk-container-id-1 input.sk-hidden--visually {border: 0;clip: rect(1px 1px 1px 1px);clip: rect(1px, 1px, 1px, 1px);height: 1px;margin: -1px;overflow: hidden;padding: 0;position: absolute;width: 1px;}#sk-container-id-1 div.sk-estimator {font-family: monospace;background-color: #f0f8ff;border: 1px dotted black;border-radius: 0.25em;box-sizing: border-box;margin-bottom: 0.5em;}#sk-container-id-1 div.sk-estimator:hover {background-color: #d4ebff;}#sk-container-id-1 div.sk-parallel-item::after {content: \"\";width: 100%;border-bottom: 1px solid gray;flex-grow: 1;}#sk-container-id-1 div.sk-label:hover label.sk-toggleable__label {background-color: #d4ebff;}#sk-container-id-1 div.sk-serial::before {content: \"\";position: absolute;border-left: 1px solid gray;box-sizing: border-box;top: 0;bottom: 0;left: 50%;z-index: 0;}#sk-container-id-1 div.sk-serial {display: flex;flex-direction: column;align-items: center;background-color: white;padding-right: 0.2em;padding-left: 0.2em;position: relative;}#sk-container-id-1 div.sk-item {position: relative;z-index: 1;}#sk-container-id-1 div.sk-parallel {display: flex;align-items: stretch;justify-content: center;background-color: white;position: relative;}#sk-container-id-1 div.sk-item::before, #sk-container-id-1 div.sk-parallel-item::before {content: \"\";position: absolute;border-left: 1px solid gray;box-sizing: border-box;top: 0;bottom: 0;left: 50%;z-index: -1;}#sk-container-id-1 div.sk-parallel-item {display: flex;flex-direction: column;z-index: 1;position: relative;background-color: white;}#sk-container-id-1 div.sk-parallel-item:first-child::after {align-self: flex-end;width: 50%;}#sk-container-id-1 div.sk-parallel-item:last-child::after {align-self: flex-start;width: 50%;}#sk-container-id-1 div.sk-parallel-item:only-child::after {width: 0;}#sk-container-id-1 div.sk-dashed-wrapped {border: 1px dashed gray;margin: 0 0.4em 0.5em 0.4em;box-sizing: border-box;padding-bottom: 0.4em;background-color: white;}#sk-container-id-1 div.sk-label label {font-family: monospace;font-weight: bold;display: inline-block;line-height: 1.2em;}#sk-container-id-1 div.sk-label-container {text-align: center;}#sk-container-id-1 div.sk-container {/* jupyter's `normalize.less` sets `[hidden] { display: none; }` but bootstrap.min.css set `[hidden] { display: none !important; }` so we also need the `!important` here to be able to override the default hidden behavior on the sphinx rendered scikit-learn.org. See: https://github.com/scikit-learn/scikit-learn/issues/21755 */display: inline-block !important;position: relative;}#sk-container-id-1 div.sk-text-repr-fallback {display: none;}</style><div id=\"sk-container-id-1\" class=\"sk-top-container\"><div class=\"sk-text-repr-fallback\"><pre>RandomForestClassifier(random_state=42)</pre><b>In a Jupyter environment, please rerun this cell to show the HTML representation or trust the notebook. <br />On GitHub, the HTML representation is unable to render, please try loading this page with nbviewer.org.</b></div><div class=\"sk-container\" hidden><div class=\"sk-item\"><div class=\"sk-estimator sk-toggleable\"><input class=\"sk-toggleable__control sk-hidden--visually\" id=\"sk-estimator-id-1\" type=\"checkbox\" checked><label for=\"sk-estimator-id-1\" class=\"sk-toggleable__label sk-toggleable__label-arrow\">RandomForestClassifier</label><div class=\"sk-toggleable__content\"><pre>RandomForestClassifier(random_state=42)</pre></div></div></div></div></div>"
      ],
      "text/plain": [
       "RandomForestClassifier(random_state=42)"
      ]
     },
     "execution_count": 23,
     "metadata": {},
     "output_type": "execute_result"
    }
   ],
   "source": [
    "rf_baseline = RandomForestClassifier(random_state=42)\n",
    "rf_baseline.fit(train_features, train_y)"
   ]
  },
  {
   "cell_type": "code",
   "execution_count": 24,
   "id": "8e024756-c98f-4182-817e-6e40a63ab033",
   "metadata": {},
   "outputs": [],
   "source": [
    "predictions = rf_baseline.predict_proba(test_features)"
   ]
  },
  {
   "cell_type": "code",
   "execution_count": 25,
   "id": "63a0ff7e-79d9-4a1e-909d-ca8ed1283b22",
   "metadata": {},
   "outputs": [
    {
     "name": "stdout",
     "output_type": "stream",
     "text": [
      "AUROC: 0.6136415919024615, AUPRC: 0.8029447115322962\n"
     ]
    }
   ],
   "source": [
    "auroc = roc_auc_score(test_y, predictions[:,1])\n",
    "auprc = average_precision_score(test_y, predictions[:, 1])\n",
    "print(f\"AUROC: {auroc}, AUPRC: {auprc}\")"
   ]
  },
  {
   "cell_type": "markdown",
   "id": "f7a8a6b1-beef-4cb4-9bbc-2fc88a8b2506",
   "metadata": {},
   "source": [
    "#### Model with all cell lines + pseudo labels and train patient data"
   ]
  },
  {
   "cell_type": "code",
   "execution_count": 26,
   "id": "e80d7a6a-935c-410c-9903-5114877c1346",
   "metadata": {},
   "outputs": [],
   "source": [
    "cl_aug_train_features = []\n",
    "cl_aug_train_y = []\n",
    "for idx, row in cl_responses_df.iterrows():\n",
    "    if row[\"drug_name\"] in drug_fp.index:\n",
    "        row_inp = []\n",
    "        row_inp.extend(augmented_cl_df.loc[row[\"depmap_id\"]].values)\n",
    "        row_inp.extend(drug_fp.loc[row[\"drug_name\"]].values)\n",
    "        cl_aug_train_y.append(row[\"auc\"])\n",
    "        cl_aug_train_features.append(row_inp)"
   ]
  },
  {
   "cell_type": "code",
   "execution_count": 27,
   "id": "04a8f180-01d0-448c-ab78-ac4d3fa54636",
   "metadata": {},
   "outputs": [
    {
     "data": {
      "text/plain": [
       "226796"
      ]
     },
     "execution_count": 27,
     "metadata": {},
     "output_type": "execute_result"
    }
   ],
   "source": [
    "len(cl_aug_train_features)"
   ]
  },
  {
   "cell_type": "code",
   "execution_count": 28,
   "id": "e3099b83-004c-44c3-bf6c-5b656865c866",
   "metadata": {},
   "outputs": [],
   "source": [
    "# np.save(\"/data/ajayago/druid/intermediate/cs6220/augmented_cl_features_rf_joint_UDA.npy\", np.array(cl_aug_train_features))"
   ]
  },
  {
   "cell_type": "code",
   "execution_count": 29,
   "id": "9d28fffa-176d-49c9-b3ad-9b8b37f5f375",
   "metadata": {},
   "outputs": [],
   "source": [
    "# Assign pseudo labels for cell lines using above RandomForest Model\n",
    "cl_aug_train_y_pseudo = rf_baseline.predict(cl_aug_train_features)"
   ]
  },
  {
   "cell_type": "code",
   "execution_count": 30,
   "id": "f8834d10-4803-44aa-9803-cfda0733393b",
   "metadata": {},
   "outputs": [],
   "source": [
    "# pd.DataFrame(cl_aug_train_y_pseudo).to_csv(\"/data/ajayago/druid/intermediate/cs6220/augmented_cl_pseudolabels_rf_joint_UDA.csv\", index=False, header=False)"
   ]
  },
  {
   "cell_type": "code",
   "execution_count": 31,
   "id": "ff6594f3-b406-442b-966a-00442dbedd63",
   "metadata": {},
   "outputs": [
    {
     "data": {
      "text/plain": [
       "array([[ 0.        ,  0.        ,  0.        , ...,  0.        ,\n",
       "         0.        ,  0.        ],\n",
       "       [ 0.        ,  0.        ,  0.        , ...,  0.        ,\n",
       "         0.        ,  0.        ],\n",
       "       [ 0.        ,  0.        ,  0.        , ...,  0.        ,\n",
       "         0.        ,  0.        ],\n",
       "       ...,\n",
       "       [-0.10510676, -0.1956367 ,  0.07130975, ...,  0.        ,\n",
       "         0.        ,  0.        ],\n",
       "       [-0.19254602, -0.37279347,  0.24798475, ...,  0.        ,\n",
       "         0.        ,  0.        ],\n",
       "       [-0.07133755,  0.00082087, -0.05028471, ...,  0.        ,\n",
       "         0.        ,  0.        ]])"
      ]
     },
     "execution_count": 31,
     "metadata": {},
     "output_type": "execute_result"
    }
   ],
   "source": [
    "# Use pseudo labeled cell lines and patient train data to train\n",
    "X_train = np.concatenate((train_features, cl_aug_train_features), axis = 0)\n",
    "X_train"
   ]
  },
  {
   "cell_type": "code",
   "execution_count": 32,
   "id": "b7bffc7e-25cc-4409-9d47-9bcf7a09a4d8",
   "metadata": {},
   "outputs": [
    {
     "data": {
      "text/plain": [
       "(227557, 9824)"
      ]
     },
     "execution_count": 32,
     "metadata": {},
     "output_type": "execute_result"
    }
   ],
   "source": [
    "X_train.shape"
   ]
  },
  {
   "cell_type": "code",
   "execution_count": 33,
   "id": "6a66a0b3-0375-4427-b51f-be9827ce1b58",
   "metadata": {},
   "outputs": [
    {
     "data": {
      "text/plain": [
       "(227557,)"
      ]
     },
     "execution_count": 33,
     "metadata": {},
     "output_type": "execute_result"
    }
   ],
   "source": [
    "y_train = np.concatenate((train_y, cl_aug_train_y_pseudo), axis = 0)\n",
    "y_train.shape"
   ]
  },
  {
   "cell_type": "code",
   "execution_count": 34,
   "id": "d21d0a31-d367-4405-9aa2-60ce8a2498c3",
   "metadata": {},
   "outputs": [],
   "source": [
    "rf_augmented_full = RandomForestClassifier(random_state=42)"
   ]
  },
  {
   "cell_type": "code",
   "execution_count": 35,
   "id": "dbe0829a-4aeb-4501-8e36-fb18f9262d8e",
   "metadata": {},
   "outputs": [
    {
     "data": {
      "text/html": [
       "<style>#sk-container-id-2 {color: black;}#sk-container-id-2 pre{padding: 0;}#sk-container-id-2 div.sk-toggleable {background-color: white;}#sk-container-id-2 label.sk-toggleable__label {cursor: pointer;display: block;width: 100%;margin-bottom: 0;padding: 0.3em;box-sizing: border-box;text-align: center;}#sk-container-id-2 label.sk-toggleable__label-arrow:before {content: \"▸\";float: left;margin-right: 0.25em;color: #696969;}#sk-container-id-2 label.sk-toggleable__label-arrow:hover:before {color: black;}#sk-container-id-2 div.sk-estimator:hover label.sk-toggleable__label-arrow:before {color: black;}#sk-container-id-2 div.sk-toggleable__content {max-height: 0;max-width: 0;overflow: hidden;text-align: left;background-color: #f0f8ff;}#sk-container-id-2 div.sk-toggleable__content pre {margin: 0.2em;color: black;border-radius: 0.25em;background-color: #f0f8ff;}#sk-container-id-2 input.sk-toggleable__control:checked~div.sk-toggleable__content {max-height: 200px;max-width: 100%;overflow: auto;}#sk-container-id-2 input.sk-toggleable__control:checked~label.sk-toggleable__label-arrow:before {content: \"▾\";}#sk-container-id-2 div.sk-estimator input.sk-toggleable__control:checked~label.sk-toggleable__label {background-color: #d4ebff;}#sk-container-id-2 div.sk-label input.sk-toggleable__control:checked~label.sk-toggleable__label {background-color: #d4ebff;}#sk-container-id-2 input.sk-hidden--visually {border: 0;clip: rect(1px 1px 1px 1px);clip: rect(1px, 1px, 1px, 1px);height: 1px;margin: -1px;overflow: hidden;padding: 0;position: absolute;width: 1px;}#sk-container-id-2 div.sk-estimator {font-family: monospace;background-color: #f0f8ff;border: 1px dotted black;border-radius: 0.25em;box-sizing: border-box;margin-bottom: 0.5em;}#sk-container-id-2 div.sk-estimator:hover {background-color: #d4ebff;}#sk-container-id-2 div.sk-parallel-item::after {content: \"\";width: 100%;border-bottom: 1px solid gray;flex-grow: 1;}#sk-container-id-2 div.sk-label:hover label.sk-toggleable__label {background-color: #d4ebff;}#sk-container-id-2 div.sk-serial::before {content: \"\";position: absolute;border-left: 1px solid gray;box-sizing: border-box;top: 0;bottom: 0;left: 50%;z-index: 0;}#sk-container-id-2 div.sk-serial {display: flex;flex-direction: column;align-items: center;background-color: white;padding-right: 0.2em;padding-left: 0.2em;position: relative;}#sk-container-id-2 div.sk-item {position: relative;z-index: 1;}#sk-container-id-2 div.sk-parallel {display: flex;align-items: stretch;justify-content: center;background-color: white;position: relative;}#sk-container-id-2 div.sk-item::before, #sk-container-id-2 div.sk-parallel-item::before {content: \"\";position: absolute;border-left: 1px solid gray;box-sizing: border-box;top: 0;bottom: 0;left: 50%;z-index: -1;}#sk-container-id-2 div.sk-parallel-item {display: flex;flex-direction: column;z-index: 1;position: relative;background-color: white;}#sk-container-id-2 div.sk-parallel-item:first-child::after {align-self: flex-end;width: 50%;}#sk-container-id-2 div.sk-parallel-item:last-child::after {align-self: flex-start;width: 50%;}#sk-container-id-2 div.sk-parallel-item:only-child::after {width: 0;}#sk-container-id-2 div.sk-dashed-wrapped {border: 1px dashed gray;margin: 0 0.4em 0.5em 0.4em;box-sizing: border-box;padding-bottom: 0.4em;background-color: white;}#sk-container-id-2 div.sk-label label {font-family: monospace;font-weight: bold;display: inline-block;line-height: 1.2em;}#sk-container-id-2 div.sk-label-container {text-align: center;}#sk-container-id-2 div.sk-container {/* jupyter's `normalize.less` sets `[hidden] { display: none; }` but bootstrap.min.css set `[hidden] { display: none !important; }` so we also need the `!important` here to be able to override the default hidden behavior on the sphinx rendered scikit-learn.org. See: https://github.com/scikit-learn/scikit-learn/issues/21755 */display: inline-block !important;position: relative;}#sk-container-id-2 div.sk-text-repr-fallback {display: none;}</style><div id=\"sk-container-id-2\" class=\"sk-top-container\"><div class=\"sk-text-repr-fallback\"><pre>RandomForestClassifier(random_state=42)</pre><b>In a Jupyter environment, please rerun this cell to show the HTML representation or trust the notebook. <br />On GitHub, the HTML representation is unable to render, please try loading this page with nbviewer.org.</b></div><div class=\"sk-container\" hidden><div class=\"sk-item\"><div class=\"sk-estimator sk-toggleable\"><input class=\"sk-toggleable__control sk-hidden--visually\" id=\"sk-estimator-id-2\" type=\"checkbox\" checked><label for=\"sk-estimator-id-2\" class=\"sk-toggleable__label sk-toggleable__label-arrow\">RandomForestClassifier</label><div class=\"sk-toggleable__content\"><pre>RandomForestClassifier(random_state=42)</pre></div></div></div></div></div>"
      ],
      "text/plain": [
       "RandomForestClassifier(random_state=42)"
      ]
     },
     "execution_count": 35,
     "metadata": {},
     "output_type": "execute_result"
    }
   ],
   "source": [
    "rf_augmented_full.fit(X_train, y_train)"
   ]
  },
  {
   "cell_type": "code",
   "execution_count": 36,
   "id": "91af2999-5a12-4391-be0f-489c92b7176f",
   "metadata": {},
   "outputs": [],
   "source": [
    "predictions = rf_augmented_full.predict_proba(test_features)"
   ]
  },
  {
   "cell_type": "code",
   "execution_count": 37,
   "id": "e4b60bcc-34aa-4284-81f4-41268d9357c7",
   "metadata": {},
   "outputs": [
    {
     "name": "stdout",
     "output_type": "stream",
     "text": [
      "AUROC: 0.5933402346445824, AUPRC: 0.7919776840289061\n"
     ]
    }
   ],
   "source": [
    "auroc = roc_auc_score(test_y, predictions[:,1])\n",
    "auprc = average_precision_score(test_y, predictions[:, 1])\n",
    "print(f\"AUROC: {auroc}, AUPRC: {auprc}\")"
   ]
  },
  {
   "cell_type": "markdown",
   "id": "73b86433-09d9-421d-8495-329f3db6aae7",
   "metadata": {},
   "source": [
    "#### Augmented Cell Lines with AUDRC binarized"
   ]
  },
  {
   "cell_type": "code",
   "execution_count": 38,
   "id": "3d12e2df-5d92-40ee-a380-c96514e0c0d8",
   "metadata": {},
   "outputs": [],
   "source": [
    "# convert existing labels for AUDRC into binary labels (1 being responder and 0 being non-responder)\n",
    "# Divide based on median AUDRC per drug"
   ]
  },
  {
   "cell_type": "code",
   "execution_count": 39,
   "id": "596cbaf1-2fab-45ae-a989-f971a2307cee",
   "metadata": {},
   "outputs": [
    {
     "name": "stderr",
     "output_type": "stream",
     "text": [
      "/tmp/ipykernel_4169045/2041729234.py:1: FutureWarning: The provided callable <function median at 0x7f2c44378d30> is currently using DataFrameGroupBy.median. In a future version of pandas, the provided callable will be used directly. To keep current behavior pass the string \"median\" instead.\n",
      "  cl_per_drug_median = cl_responses_df.set_index(\"depmap_id\", drop=True).groupby([\"drug_name\"]).agg(np.median)\n"
     ]
    }
   ],
   "source": [
    "cl_per_drug_median = cl_responses_df.set_index(\"depmap_id\", drop=True).groupby([\"drug_name\"]).agg(np.median)"
   ]
  },
  {
   "cell_type": "code",
   "execution_count": 40,
   "id": "69ab9ebe-4a6f-4981-aa96-c3fc766f5055",
   "metadata": {},
   "outputs": [],
   "source": [
    "def categorise_audrc(x):\n",
    "    median = cl_per_drug_median.loc[x[\"drug_name\"]][\"auc\"]\n",
    "    if x[\"auc\"] < median:\n",
    "        return 1\n",
    "    else:\n",
    "        return 0"
   ]
  },
  {
   "cell_type": "code",
   "execution_count": 41,
   "id": "f3378ff6-79a0-4308-b5d6-e1c346af49dd",
   "metadata": {},
   "outputs": [],
   "source": [
    "cl_responses_df[\"binary_cat\"] = cl_responses_df[[\"drug_name\", \"auc\"]].apply(lambda x: categorise_audrc(x), axis=1)"
   ]
  },
  {
   "cell_type": "code",
   "execution_count": 42,
   "id": "b9fd1353-5988-45fa-97fe-a984923227f0",
   "metadata": {},
   "outputs": [
    {
     "data": {
      "text/html": [
       "<div>\n",
       "<style scoped>\n",
       "    .dataframe tbody tr th:only-of-type {\n",
       "        vertical-align: middle;\n",
       "    }\n",
       "\n",
       "    .dataframe tbody tr th {\n",
       "        vertical-align: top;\n",
       "    }\n",
       "\n",
       "    .dataframe thead th {\n",
       "        text-align: right;\n",
       "    }\n",
       "</style>\n",
       "<table border=\"1\" class=\"dataframe\">\n",
       "  <thead>\n",
       "    <tr style=\"text-align: right;\">\n",
       "      <th></th>\n",
       "      <th>depmap_id</th>\n",
       "      <th>drug_name</th>\n",
       "      <th>auc</th>\n",
       "      <th>binary_cat</th>\n",
       "    </tr>\n",
       "  </thead>\n",
       "  <tbody>\n",
       "    <tr>\n",
       "      <th>0</th>\n",
       "      <td>ACH-000001</td>\n",
       "      <td>JW-7-24-1</td>\n",
       "      <td>0.778432</td>\n",
       "      <td>0</td>\n",
       "    </tr>\n",
       "    <tr>\n",
       "      <th>1</th>\n",
       "      <td>ACH-000002</td>\n",
       "      <td>JW-7-24-1</td>\n",
       "      <td>0.788327</td>\n",
       "      <td>0</td>\n",
       "    </tr>\n",
       "    <tr>\n",
       "      <th>2</th>\n",
       "      <td>ACH-000004</td>\n",
       "      <td>JW-7-24-1</td>\n",
       "      <td>0.737630</td>\n",
       "      <td>0</td>\n",
       "    </tr>\n",
       "    <tr>\n",
       "      <th>3</th>\n",
       "      <td>ACH-000006</td>\n",
       "      <td>JW-7-24-1</td>\n",
       "      <td>0.176396</td>\n",
       "      <td>1</td>\n",
       "    </tr>\n",
       "    <tr>\n",
       "      <th>4</th>\n",
       "      <td>ACH-000007</td>\n",
       "      <td>JW-7-24-1</td>\n",
       "      <td>0.569751</td>\n",
       "      <td>1</td>\n",
       "    </tr>\n",
       "    <tr>\n",
       "      <th>...</th>\n",
       "      <td>...</td>\n",
       "      <td>...</td>\n",
       "      <td>...</td>\n",
       "      <td>...</td>\n",
       "    </tr>\n",
       "    <tr>\n",
       "      <th>226791</th>\n",
       "      <td>ACH-001702</td>\n",
       "      <td>SL 0101-1</td>\n",
       "      <td>0.958591</td>\n",
       "      <td>0</td>\n",
       "    </tr>\n",
       "    <tr>\n",
       "      <th>226792</th>\n",
       "      <td>ACH-001703</td>\n",
       "      <td>SL 0101-1</td>\n",
       "      <td>0.497201</td>\n",
       "      <td>1</td>\n",
       "    </tr>\n",
       "    <tr>\n",
       "      <th>226793</th>\n",
       "      <td>ACH-001711</td>\n",
       "      <td>SL 0101-1</td>\n",
       "      <td>0.815928</td>\n",
       "      <td>0</td>\n",
       "    </tr>\n",
       "    <tr>\n",
       "      <th>226794</th>\n",
       "      <td>ACH-001715</td>\n",
       "      <td>SL 0101-1</td>\n",
       "      <td>0.981441</td>\n",
       "      <td>0</td>\n",
       "    </tr>\n",
       "    <tr>\n",
       "      <th>226795</th>\n",
       "      <td>ACH-001716</td>\n",
       "      <td>SL 0101-1</td>\n",
       "      <td>0.942321</td>\n",
       "      <td>0</td>\n",
       "    </tr>\n",
       "  </tbody>\n",
       "</table>\n",
       "<p>226796 rows × 4 columns</p>\n",
       "</div>"
      ],
      "text/plain": [
       "         depmap_id  drug_name       auc  binary_cat\n",
       "0       ACH-000001  JW-7-24-1  0.778432           0\n",
       "1       ACH-000002  JW-7-24-1  0.788327           0\n",
       "2       ACH-000004  JW-7-24-1  0.737630           0\n",
       "3       ACH-000006  JW-7-24-1  0.176396           1\n",
       "4       ACH-000007  JW-7-24-1  0.569751           1\n",
       "...            ...        ...       ...         ...\n",
       "226791  ACH-001702  SL 0101-1  0.958591           0\n",
       "226792  ACH-001703  SL 0101-1  0.497201           1\n",
       "226793  ACH-001711  SL 0101-1  0.815928           0\n",
       "226794  ACH-001715  SL 0101-1  0.981441           0\n",
       "226795  ACH-001716  SL 0101-1  0.942321           0\n",
       "\n",
       "[226796 rows x 4 columns]"
      ]
     },
     "execution_count": 42,
     "metadata": {},
     "output_type": "execute_result"
    }
   ],
   "source": [
    "cl_responses_df"
   ]
  },
  {
   "cell_type": "code",
   "execution_count": 43,
   "id": "2dc37740-d07d-472a-9d21-e02ce7b02bd1",
   "metadata": {},
   "outputs": [],
   "source": [
    "cl_aug_train_features_labelled = []\n",
    "cl_aug_train_y_labelled = []\n",
    "for idx, row in cl_responses_df.iterrows():\n",
    "    if row[\"drug_name\"] in drug_fp.index:\n",
    "        row_inp = []\n",
    "        row_inp.extend(augmented_cl_df.loc[row[\"depmap_id\"]].values)\n",
    "        row_inp.extend(drug_fp.loc[row[\"drug_name\"]].values)\n",
    "        cl_aug_train_y_labelled.append(row[\"binary_cat\"])\n",
    "        cl_aug_train_features_labelled.append(row_inp)"
   ]
  },
  {
   "cell_type": "code",
   "execution_count": 44,
   "id": "be4018a4-38b6-4933-940f-ed0d2218b751",
   "metadata": {},
   "outputs": [
    {
     "data": {
      "text/plain": [
       "array([[ 0.        ,  0.        ,  0.        , ...,  0.        ,\n",
       "         0.        ,  0.        ],\n",
       "       [ 0.        ,  0.        ,  0.        , ...,  0.        ,\n",
       "         0.        ,  0.        ],\n",
       "       [ 0.        ,  0.        ,  0.        , ...,  0.        ,\n",
       "         0.        ,  0.        ],\n",
       "       ...,\n",
       "       [-0.10510676, -0.1956367 ,  0.07130975, ...,  0.        ,\n",
       "         0.        ,  0.        ],\n",
       "       [-0.19254602, -0.37279347,  0.24798475, ...,  0.        ,\n",
       "         0.        ,  0.        ],\n",
       "       [-0.07133755,  0.00082087, -0.05028471, ...,  0.        ,\n",
       "         0.        ,  0.        ]])"
      ]
     },
     "execution_count": 44,
     "metadata": {},
     "output_type": "execute_result"
    }
   ],
   "source": [
    "# Use pseudo labeled cell lines and patient train data to train\n",
    "X_train = np.concatenate((train_features, cl_aug_train_features_labelled), axis = 0)\n",
    "X_train"
   ]
  },
  {
   "cell_type": "code",
   "execution_count": 45,
   "id": "eb5e9574-882c-42a7-9289-012ba29bbd02",
   "metadata": {},
   "outputs": [
    {
     "data": {
      "text/plain": [
       "(227557, 9824)"
      ]
     },
     "execution_count": 45,
     "metadata": {},
     "output_type": "execute_result"
    }
   ],
   "source": [
    "X_train.shape"
   ]
  },
  {
   "cell_type": "code",
   "execution_count": 46,
   "id": "0ba4a954-54ba-4b20-af96-b12939130fe1",
   "metadata": {},
   "outputs": [
    {
     "data": {
      "text/plain": [
       "(227557,)"
      ]
     },
     "execution_count": 46,
     "metadata": {},
     "output_type": "execute_result"
    }
   ],
   "source": [
    "y_train = np.concatenate((train_y, cl_aug_train_y_labelled), axis = 0)\n",
    "y_train.shape"
   ]
  },
  {
   "cell_type": "code",
   "execution_count": 51,
   "id": "c01b8122-e646-430f-89a6-549862f1d4f1",
   "metadata": {},
   "outputs": [],
   "source": [
    "rf_augmented_full_labelled = RandomForestClassifier(random_state=42, n_estimators=100)"
   ]
  },
  {
   "cell_type": "code",
   "execution_count": 52,
   "id": "fd23b693-e3ef-4ef6-89ff-59c051b705df",
   "metadata": {},
   "outputs": [
    {
     "data": {
      "text/html": [
       "<style>#sk-container-id-4 {color: black;}#sk-container-id-4 pre{padding: 0;}#sk-container-id-4 div.sk-toggleable {background-color: white;}#sk-container-id-4 label.sk-toggleable__label {cursor: pointer;display: block;width: 100%;margin-bottom: 0;padding: 0.3em;box-sizing: border-box;text-align: center;}#sk-container-id-4 label.sk-toggleable__label-arrow:before {content: \"▸\";float: left;margin-right: 0.25em;color: #696969;}#sk-container-id-4 label.sk-toggleable__label-arrow:hover:before {color: black;}#sk-container-id-4 div.sk-estimator:hover label.sk-toggleable__label-arrow:before {color: black;}#sk-container-id-4 div.sk-toggleable__content {max-height: 0;max-width: 0;overflow: hidden;text-align: left;background-color: #f0f8ff;}#sk-container-id-4 div.sk-toggleable__content pre {margin: 0.2em;color: black;border-radius: 0.25em;background-color: #f0f8ff;}#sk-container-id-4 input.sk-toggleable__control:checked~div.sk-toggleable__content {max-height: 200px;max-width: 100%;overflow: auto;}#sk-container-id-4 input.sk-toggleable__control:checked~label.sk-toggleable__label-arrow:before {content: \"▾\";}#sk-container-id-4 div.sk-estimator input.sk-toggleable__control:checked~label.sk-toggleable__label {background-color: #d4ebff;}#sk-container-id-4 div.sk-label input.sk-toggleable__control:checked~label.sk-toggleable__label {background-color: #d4ebff;}#sk-container-id-4 input.sk-hidden--visually {border: 0;clip: rect(1px 1px 1px 1px);clip: rect(1px, 1px, 1px, 1px);height: 1px;margin: -1px;overflow: hidden;padding: 0;position: absolute;width: 1px;}#sk-container-id-4 div.sk-estimator {font-family: monospace;background-color: #f0f8ff;border: 1px dotted black;border-radius: 0.25em;box-sizing: border-box;margin-bottom: 0.5em;}#sk-container-id-4 div.sk-estimator:hover {background-color: #d4ebff;}#sk-container-id-4 div.sk-parallel-item::after {content: \"\";width: 100%;border-bottom: 1px solid gray;flex-grow: 1;}#sk-container-id-4 div.sk-label:hover label.sk-toggleable__label {background-color: #d4ebff;}#sk-container-id-4 div.sk-serial::before {content: \"\";position: absolute;border-left: 1px solid gray;box-sizing: border-box;top: 0;bottom: 0;left: 50%;z-index: 0;}#sk-container-id-4 div.sk-serial {display: flex;flex-direction: column;align-items: center;background-color: white;padding-right: 0.2em;padding-left: 0.2em;position: relative;}#sk-container-id-4 div.sk-item {position: relative;z-index: 1;}#sk-container-id-4 div.sk-parallel {display: flex;align-items: stretch;justify-content: center;background-color: white;position: relative;}#sk-container-id-4 div.sk-item::before, #sk-container-id-4 div.sk-parallel-item::before {content: \"\";position: absolute;border-left: 1px solid gray;box-sizing: border-box;top: 0;bottom: 0;left: 50%;z-index: -1;}#sk-container-id-4 div.sk-parallel-item {display: flex;flex-direction: column;z-index: 1;position: relative;background-color: white;}#sk-container-id-4 div.sk-parallel-item:first-child::after {align-self: flex-end;width: 50%;}#sk-container-id-4 div.sk-parallel-item:last-child::after {align-self: flex-start;width: 50%;}#sk-container-id-4 div.sk-parallel-item:only-child::after {width: 0;}#sk-container-id-4 div.sk-dashed-wrapped {border: 1px dashed gray;margin: 0 0.4em 0.5em 0.4em;box-sizing: border-box;padding-bottom: 0.4em;background-color: white;}#sk-container-id-4 div.sk-label label {font-family: monospace;font-weight: bold;display: inline-block;line-height: 1.2em;}#sk-container-id-4 div.sk-label-container {text-align: center;}#sk-container-id-4 div.sk-container {/* jupyter's `normalize.less` sets `[hidden] { display: none; }` but bootstrap.min.css set `[hidden] { display: none !important; }` so we also need the `!important` here to be able to override the default hidden behavior on the sphinx rendered scikit-learn.org. See: https://github.com/scikit-learn/scikit-learn/issues/21755 */display: inline-block !important;position: relative;}#sk-container-id-4 div.sk-text-repr-fallback {display: none;}</style><div id=\"sk-container-id-4\" class=\"sk-top-container\"><div class=\"sk-text-repr-fallback\"><pre>RandomForestClassifier(random_state=42)</pre><b>In a Jupyter environment, please rerun this cell to show the HTML representation or trust the notebook. <br />On GitHub, the HTML representation is unable to render, please try loading this page with nbviewer.org.</b></div><div class=\"sk-container\" hidden><div class=\"sk-item\"><div class=\"sk-estimator sk-toggleable\"><input class=\"sk-toggleable__control sk-hidden--visually\" id=\"sk-estimator-id-4\" type=\"checkbox\" checked><label for=\"sk-estimator-id-4\" class=\"sk-toggleable__label sk-toggleable__label-arrow\">RandomForestClassifier</label><div class=\"sk-toggleable__content\"><pre>RandomForestClassifier(random_state=42)</pre></div></div></div></div></div>"
      ],
      "text/plain": [
       "RandomForestClassifier(random_state=42)"
      ]
     },
     "execution_count": 52,
     "metadata": {},
     "output_type": "execute_result"
    }
   ],
   "source": [
    "rf_augmented_full_labelled.fit(X_train, y_train)"
   ]
  },
  {
   "cell_type": "code",
   "execution_count": 53,
   "id": "71a8b2c2-522b-48a2-b556-90273593441f",
   "metadata": {},
   "outputs": [],
   "source": [
    "predictions = rf_augmented_full_labelled.predict_proba(test_features)"
   ]
  },
  {
   "cell_type": "code",
   "execution_count": 54,
   "id": "6745b99d-d2f6-4c02-a3e7-f937fdc41ba7",
   "metadata": {},
   "outputs": [
    {
     "name": "stdout",
     "output_type": "stream",
     "text": [
      "AUROC: 0.5984587071543593, AUPRC: 0.7911010062348756\n"
     ]
    }
   ],
   "source": [
    "auroc = roc_auc_score(test_y, predictions[:,1])\n",
    "auprc = average_precision_score(test_y, predictions[:, 1])\n",
    "print(f\"AUROC: {auroc}, AUPRC: {auprc}\")"
   ]
  },
  {
   "cell_type": "code",
   "execution_count": null,
   "id": "da2624ad-f00c-47da-8945-09def158d6d1",
   "metadata": {},
   "outputs": [],
   "source": []
  },
  {
   "cell_type": "code",
   "execution_count": null,
   "id": "024d5eb2-d7ab-49fd-840f-ec450fef6ea5",
   "metadata": {},
   "outputs": [],
   "source": []
  },
  {
   "cell_type": "code",
   "execution_count": null,
   "id": "94d6a0cd-e3e5-4acd-b1bf-b9785e78f888",
   "metadata": {},
   "outputs": [],
   "source": []
  },
  {
   "cell_type": "markdown",
   "id": "b21418d0-a52e-4468-834e-f7cd71aa4be5",
   "metadata": {},
   "source": [
    "#### Subset Selection over Weakly labelled cell lines - Memory issues!!!"
   ]
  },
  {
   "cell_type": "code",
   "execution_count": 19,
   "id": "60ab4d69-4551-46ad-8a1d-cab849e27d8f",
   "metadata": {},
   "outputs": [],
   "source": [
    "import sys\n",
    "sys.path.append(\"../src/\")\n",
    "from cutstat import get_cutstat_subset, get_cutstat_inds"
   ]
  },
  {
   "cell_type": "code",
   "execution_count": 20,
   "id": "9676f3b9-92e4-47b8-ba42-a6a82efcdfdb",
   "metadata": {},
   "outputs": [],
   "source": [
    "import torch"
   ]
  },
  {
   "cell_type": "code",
   "execution_count": 46,
   "id": "ab345634-0cb2-4df6-a49c-c472d8c12cde",
   "metadata": {},
   "outputs": [
    {
     "data": {
      "text/plain": [
       "(226796, 9824)"
      ]
     },
     "execution_count": 46,
     "metadata": {},
     "output_type": "execute_result"
    }
   ],
   "source": [
    "cl_aug_train_features = np.load(\"/data/ajayago/druid/intermediate/cs6220/augmented_cl_features_rf_joint_UDA.npy\")\n",
    "cl_aug_train_features.shape"
   ]
  },
  {
   "cell_type": "code",
   "execution_count": 53,
   "id": "1d95530f-a4ef-478c-90e4-c65304cabcd1",
   "metadata": {},
   "outputs": [
    {
     "data": {
      "text/plain": [
       "(226796,)"
      ]
     },
     "execution_count": 53,
     "metadata": {},
     "output_type": "execute_result"
    }
   ],
   "source": [
    "cl_aug_train_y_pseudo_df = pd.read_csv(\"/data/ajayago/druid/intermediate/cs6220/augmented_cl_pseudolabels_rf_joint_UDA.csv\", header=None)\n",
    "cl_aug_train_y_pseudo = cl_aug_train_y_pseudo_df[0].values\n",
    "cl_aug_train_y_pseudo.shape"
   ]
  },
  {
   "cell_type": "code",
   "execution_count": 28,
   "id": "1bc4801f-fcc9-4be4-b90a-6783c11d43d9",
   "metadata": {},
   "outputs": [],
   "source": [
    "device = torch.device(\"cuda:0\")"
   ]
  },
  {
   "cell_type": "code",
   "execution_count": 29,
   "id": "674d8a1a-c872-444d-bcb3-5eb82ffff366",
   "metadata": {},
   "outputs": [],
   "source": [
    "features = torch.FloatTensor(cl_aug_train_features).to(device)\n",
    "labels = torch.LongTensor(cl_aug_train_y_pseudo).to(device)"
   ]
  },
  {
   "cell_type": "code",
   "execution_count": 30,
   "id": "d865f142-0beb-4392-9d65-070cdf08ee53",
   "metadata": {},
   "outputs": [
    {
     "ename": "OutOfMemoryError",
     "evalue": "CUDA out of memory. Tried to allocate 191.62 GiB. GPU 0 has a total capacity of 44.32 GiB of which 18.42 GiB is free. Process 3376797 has 490.00 MiB memory in use. Including non-PyTorch memory, this process has 25.41 GiB memory in use. Of the allocated memory 24.91 GiB is allocated by PyTorch, and 18.27 MiB is reserved by PyTorch but unallocated. If reserved but unallocated memory is large try setting PYTORCH_CUDA_ALLOC_CONF=expandable_segments:True to avoid fragmentation.  See documentation for Memory Management  (https://pytorch.org/docs/stable/notes/cuda.html#environment-variables)",
     "output_type": "error",
     "traceback": [
      "\u001b[0;31m---------------------------------------------------------------------------\u001b[0m",
      "\u001b[0;31mOutOfMemoryError\u001b[0m                          Traceback (most recent call last)",
      "Cell \u001b[0;32mIn[30], line 1\u001b[0m\n\u001b[0;32m----> 1\u001b[0m subset_inds \u001b[38;5;241m=\u001b[39m \u001b[43mget_cutstat_inds\u001b[49m\u001b[43m(\u001b[49m\u001b[43mfeatures\u001b[49m\u001b[43m,\u001b[49m\u001b[43m \u001b[49m\u001b[43mlabels\u001b[49m\u001b[43m,\u001b[49m\u001b[43m \u001b[49m\u001b[43mcoverage\u001b[49m\u001b[38;5;241;43m=\u001b[39;49m\u001b[38;5;241;43m0.8\u001b[39;49m\u001b[43m,\u001b[49m\u001b[43m \u001b[49m\u001b[43mK\u001b[49m\u001b[38;5;241;43m=\u001b[39;49m\u001b[38;5;241;43m20\u001b[39;49m\u001b[43m,\u001b[49m\u001b[43m \u001b[49m\u001b[43mdevice\u001b[49m\u001b[38;5;241;43m=\u001b[39;49m\u001b[43mdevice\u001b[49m\u001b[43m)\u001b[49m\n",
      "File \u001b[0;32m~/druid/CS6220_project/notebooks/../src/cutstat.py:21\u001b[0m, in \u001b[0;36mget_cutstat_inds\u001b[0;34m(features, labels, coverage, K, device)\u001b[0m\n\u001b[1;32m     19\u001b[0m \u001b[38;5;28;01mdef\u001b[39;00m \u001b[38;5;21mget_cutstat_inds\u001b[39m(features, labels, coverage\u001b[38;5;241m=\u001b[39m\u001b[38;5;241m0.5\u001b[39m, K\u001b[38;5;241m=\u001b[39m\u001b[38;5;241m20\u001b[39m, device\u001b[38;5;241m=\u001b[39m\u001b[38;5;124m'\u001b[39m\u001b[38;5;124mcpu\u001b[39m\u001b[38;5;124m'\u001b[39m):\n\u001b[1;32m     20\u001b[0m         \u001b[38;5;66;03m# move to CPU for memory issues on large dset\u001b[39;00m\n\u001b[0;32m---> 21\u001b[0m         pairwise_dists \u001b[38;5;241m=\u001b[39m \u001b[43mtorch\u001b[49m\u001b[38;5;241;43m.\u001b[39;49m\u001b[43mcdist\u001b[49m\u001b[43m(\u001b[49m\u001b[43mfeatures\u001b[49m\u001b[43m,\u001b[49m\u001b[43m \u001b[49m\u001b[43mfeatures\u001b[49m\u001b[43m,\u001b[49m\u001b[43m \u001b[49m\u001b[43mp\u001b[49m\u001b[38;5;241;43m=\u001b[39;49m\u001b[38;5;241;43m2\u001b[39;49m\u001b[43m)\u001b[49m\u001b[38;5;241m.\u001b[39mto(\u001b[38;5;124m'\u001b[39m\u001b[38;5;124mcpu\u001b[39m\u001b[38;5;124m'\u001b[39m)\n\u001b[1;32m     23\u001b[0m         N \u001b[38;5;241m=\u001b[39m labels\u001b[38;5;241m.\u001b[39mshape[\u001b[38;5;241m0\u001b[39m]\n\u001b[1;32m     24\u001b[0m         dists_sorted \u001b[38;5;241m=\u001b[39m torch\u001b[38;5;241m.\u001b[39margsort(pairwise_dists)\n",
      "File \u001b[0;32m~/miniconda3/envs/tddpm/lib/python3.9/site-packages/torch/functional.py:1330\u001b[0m, in \u001b[0;36mcdist\u001b[0;34m(x1, x2, p, compute_mode)\u001b[0m\n\u001b[1;32m   1327\u001b[0m     \u001b[38;5;28;01mreturn\u001b[39;00m handle_torch_function(\n\u001b[1;32m   1328\u001b[0m         cdist, (x1, x2), x1, x2, p\u001b[38;5;241m=\u001b[39mp, compute_mode\u001b[38;5;241m=\u001b[39mcompute_mode)\n\u001b[1;32m   1329\u001b[0m \u001b[38;5;28;01mif\u001b[39;00m compute_mode \u001b[38;5;241m==\u001b[39m \u001b[38;5;124m'\u001b[39m\u001b[38;5;124muse_mm_for_euclid_dist_if_necessary\u001b[39m\u001b[38;5;124m'\u001b[39m:\n\u001b[0;32m-> 1330\u001b[0m     \u001b[38;5;28;01mreturn\u001b[39;00m \u001b[43m_VF\u001b[49m\u001b[38;5;241;43m.\u001b[39;49m\u001b[43mcdist\u001b[49m\u001b[43m(\u001b[49m\u001b[43mx1\u001b[49m\u001b[43m,\u001b[49m\u001b[43m \u001b[49m\u001b[43mx2\u001b[49m\u001b[43m,\u001b[49m\u001b[43m \u001b[49m\u001b[43mp\u001b[49m\u001b[43m,\u001b[49m\u001b[43m \u001b[49m\u001b[38;5;28;43;01mNone\u001b[39;49;00m\u001b[43m)\u001b[49m  \u001b[38;5;66;03m# type: ignore[attr-defined]\u001b[39;00m\n\u001b[1;32m   1331\u001b[0m \u001b[38;5;28;01melif\u001b[39;00m compute_mode \u001b[38;5;241m==\u001b[39m \u001b[38;5;124m'\u001b[39m\u001b[38;5;124muse_mm_for_euclid_dist\u001b[39m\u001b[38;5;124m'\u001b[39m:\n\u001b[1;32m   1332\u001b[0m     \u001b[38;5;28;01mreturn\u001b[39;00m _VF\u001b[38;5;241m.\u001b[39mcdist(x1, x2, p, \u001b[38;5;241m1\u001b[39m)  \u001b[38;5;66;03m# type: ignore[attr-defined]\u001b[39;00m\n",
      "\u001b[0;31mOutOfMemoryError\u001b[0m: CUDA out of memory. Tried to allocate 191.62 GiB. GPU 0 has a total capacity of 44.32 GiB of which 18.42 GiB is free. Process 3376797 has 490.00 MiB memory in use. Including non-PyTorch memory, this process has 25.41 GiB memory in use. Of the allocated memory 24.91 GiB is allocated by PyTorch, and 18.27 MiB is reserved by PyTorch but unallocated. If reserved but unallocated memory is large try setting PYTORCH_CUDA_ALLOC_CONF=expandable_segments:True to avoid fragmentation.  See documentation for Memory Management  (https://pytorch.org/docs/stable/notes/cuda.html#environment-variables)"
     ]
    }
   ],
   "source": [
    "subset_inds = get_cutstat_inds(features, labels, coverage=0.8, K=20, device=device)"
   ]
  },
  {
   "cell_type": "code",
   "execution_count": null,
   "id": "92a51db5-35c3-4763-ad9c-6c33b0695e33",
   "metadata": {},
   "outputs": [],
   "source": []
  },
  {
   "cell_type": "code",
   "execution_count": null,
   "id": "121a9deb-3487-4566-9bba-114014eb65bd",
   "metadata": {},
   "outputs": [],
   "source": []
  }
 ],
 "metadata": {
  "kernelspec": {
   "display_name": "Python [conda env:tddpm] *",
   "language": "python",
   "name": "conda-env-tddpm-py"
  },
  "language_info": {
   "codemirror_mode": {
    "name": "ipython",
    "version": 3
   },
   "file_extension": ".py",
   "mimetype": "text/x-python",
   "name": "python",
   "nbconvert_exporter": "python",
   "pygments_lexer": "ipython3",
   "version": "3.9.18"
  }
 },
 "nbformat": 4,
 "nbformat_minor": 5
}
