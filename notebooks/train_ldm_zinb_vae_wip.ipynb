{
 "cells": [
  {
   "cell_type": "markdown",
   "id": "1f994386-fcc6-48d0-a0ae-9b3f5dcec61f",
   "metadata": {},
   "source": [
    "This notebook uses TabDDPM but adds a VAE encoder and decoder layer before and after the main TabDDPM, making it a Latent Diffusion Model(LDM)."
   ]
  },
  {
   "cell_type": "code",
   "execution_count": 1,
   "id": "ea2d4c1e-1dce-4f25-b950-995c853ba161",
   "metadata": {},
   "outputs": [],
   "source": [
    "import pandas as pd\n",
    "import numpy as np\n",
    "import random"
   ]
  },
  {
   "cell_type": "code",
   "execution_count": 2,
   "id": "9b9f03f1-4fe9-4d0c-b24a-cced0ab618e8",
   "metadata": {},
   "outputs": [],
   "source": [
    "import torch\n",
    "import matplotlib.pyplot as plt\n",
    "from torch.utils.data import TensorDataset, DataLoader"
   ]
  },
  {
   "cell_type": "code",
   "execution_count": 3,
   "id": "71dec8ae-0f6a-4ab1-bbe4-58243e8f92d0",
   "metadata": {},
   "outputs": [],
   "source": [
    "import sys\n",
    "sys.path.append(\"../src/tab_ddpm/\")"
   ]
  },
  {
   "cell_type": "code",
   "execution_count": 4,
   "id": "003e8c23-d53e-499d-92b2-7c683caec5a8",
   "metadata": {},
   "outputs": [],
   "source": [
    "from gaussian_multinomial_diffusion import GaussianMultinomialDiffusion\n",
    "from modules import MLPDiffusion"
   ]
  },
  {
   "cell_type": "code",
   "execution_count": 5,
   "id": "13a317df-96b4-4193-acfb-64867c859dfe",
   "metadata": {},
   "outputs": [],
   "source": [
    "sys.path.append(\"../src/\")\n",
    "from vae_model import vae\n",
    "from loss_functions import get_kld_loss, coral, compute_covariance, ZINORMLoss\n",
    "from ffnzinb_model import ffnzinb"
   ]
  },
  {
   "cell_type": "code",
   "execution_count": 6,
   "id": "7446e606-4d69-4792-b19d-a73c74d4c1a3",
   "metadata": {},
   "outputs": [],
   "source": [
    "device = torch.device(\"cuda:0\")"
   ]
  },
  {
   "cell_type": "code",
   "execution_count": 7,
   "id": "4789cfb8-3c04-4a73-96e9-bb99963a119e",
   "metadata": {},
   "outputs": [
    {
     "data": {
      "text/plain": [
       "<torch._C.Generator at 0x7f5a312c7670>"
      ]
     },
     "execution_count": 7,
     "metadata": {},
     "output_type": "execute_result"
    }
   ],
   "source": [
    "# seed things\n",
    "random.seed(0)\n",
    "np.random.seed(0)\n",
    "def seed_worker(worker_id):\n",
    "    worker_seed = torch.initial_seed() % 2**32\n",
    "    np.random.seed(worker_seed)\n",
    "    random.seed(worker_seed)\n",
    "\n",
    "g = torch.Generator()\n",
    "g.manual_seed(0)"
   ]
  },
  {
   "cell_type": "markdown",
   "id": "13731f12-d4ca-4bbb-9453-835870768d8f",
   "metadata": {},
   "source": [
    "### Load Datasets\n",
    "\n",
    "#### Cell Lines"
   ]
  },
  {
   "cell_type": "code",
   "execution_count": 8,
   "id": "23db9c9b-ad11-4ce0-be90-2d2e593424e8",
   "metadata": {},
   "outputs": [
    {
     "data": {
      "text/plain": [
       "(1569, 7776)"
      ]
     },
     "execution_count": 8,
     "metadata": {},
     "output_type": "execute_result"
    }
   ],
   "source": [
    "cl_train_df = pd.read_csv(\"../data/diffusion_pretraining/cl_diffusion_train_sample0.csv\", index_col=0)\n",
    "cl_train_df.shape"
   ]
  },
  {
   "cell_type": "code",
   "execution_count": 9,
   "id": "7b15614f-0072-494d-8d25-336e3b13d83a",
   "metadata": {},
   "outputs": [
    {
     "data": {
      "text/plain": [
       "(175, 7776)"
      ]
     },
     "execution_count": 9,
     "metadata": {},
     "output_type": "execute_result"
    }
   ],
   "source": [
    "cl_test_df = pd.read_csv(\"../data/diffusion_pretraining/cl_diffusion_test_sample0.csv\", index_col=0)\n",
    "cl_test_df.shape"
   ]
  },
  {
   "cell_type": "code",
   "execution_count": 10,
   "id": "ba19b4e2-6976-42e7-91dc-595185297c6e",
   "metadata": {},
   "outputs": [],
   "source": [
    "cl_train_dataset = TensorDataset(torch.tensor(cl_train_df.values), torch.tensor(cl_train_df.values))"
   ]
  },
  {
   "cell_type": "code",
   "execution_count": 11,
   "id": "3945adeb-f73b-4304-8be3-1483c8e8a0b0",
   "metadata": {},
   "outputs": [],
   "source": [
    "cl_test_dataset = TensorDataset(torch.tensor(cl_test_df.values), torch.tensor(cl_test_df.values))"
   ]
  },
  {
   "cell_type": "code",
   "execution_count": 12,
   "id": "ecaf349c-9381-4ca3-8ea1-375f89634420",
   "metadata": {},
   "outputs": [],
   "source": [
    "cl_train_dataloader = DataLoader(cl_train_dataset, batch_size=128, shuffle=True, num_workers=1, worker_init_fn=seed_worker, generator=g,)"
   ]
  },
  {
   "cell_type": "code",
   "execution_count": 13,
   "id": "dc55edb5-735c-4f48-ab39-5fb32f3389ab",
   "metadata": {},
   "outputs": [],
   "source": [
    "cl_test_dataloader = DataLoader(cl_test_dataset, batch_size=128, shuffle=False, num_workers=1, worker_init_fn=seed_worker, generator=g,)"
   ]
  },
  {
   "cell_type": "markdown",
   "id": "109860e7-997f-49f0-9a73-27a145db4149",
   "metadata": {},
   "source": [
    "#### Patient Dataset"
   ]
  },
  {
   "cell_type": "code",
   "execution_count": 14,
   "id": "f4d5528a-c9d5-4f23-8a23-213ae4e6b4f4",
   "metadata": {},
   "outputs": [
    {
     "data": {
      "text/plain": [
       "(476, 7776)"
      ]
     },
     "execution_count": 14,
     "metadata": {},
     "output_type": "execute_result"
    }
   ],
   "source": [
    "tcga_train_df = pd.read_csv(\"../data/diffusion_pretraining/tcga_diffusion_train_sample0.csv\", index_col=0)\n",
    "tcga_train_df.shape"
   ]
  },
  {
   "cell_type": "code",
   "execution_count": 15,
   "id": "b3dfa74b-acb1-4873-81dc-2b26bf11173e",
   "metadata": {},
   "outputs": [
    {
     "data": {
      "text/plain": [
       "(120, 7776)"
      ]
     },
     "execution_count": 15,
     "metadata": {},
     "output_type": "execute_result"
    }
   ],
   "source": [
    "tcga_test_df = pd.read_csv(\"../data/diffusion_pretraining/tcga_diffusion_test_sample0.csv\", index_col=0)\n",
    "tcga_test_df.shape"
   ]
  },
  {
   "cell_type": "code",
   "execution_count": 16,
   "id": "76ce063b-6f8c-4913-9309-bdf077899376",
   "metadata": {},
   "outputs": [],
   "source": [
    "tcga_train_dataset = TensorDataset(torch.tensor(tcga_train_df.values), torch.tensor(tcga_train_df.values))"
   ]
  },
  {
   "cell_type": "code",
   "execution_count": 17,
   "id": "ef89b503-ee88-41c3-b5e8-b31c9d40e7f8",
   "metadata": {},
   "outputs": [],
   "source": [
    "tcga_test_dataset = TensorDataset(torch.tensor(tcga_test_df.values), torch.tensor(tcga_test_df.values))"
   ]
  },
  {
   "cell_type": "code",
   "execution_count": 18,
   "id": "64e05927-a2f1-4282-95a6-0a3ed87b869d",
   "metadata": {},
   "outputs": [],
   "source": [
    "tcga_train_dataloader = DataLoader(tcga_train_dataset, batch_size=128, shuffle=True, num_workers=1, worker_init_fn=seed_worker, generator=g,)"
   ]
  },
  {
   "cell_type": "code",
   "execution_count": 19,
   "id": "73b35f3c-2810-461d-8523-7113741dec36",
   "metadata": {},
   "outputs": [],
   "source": [
    "tcga_test_dataloader = DataLoader(tcga_test_dataset, batch_size=128, shuffle=False, num_workers=1, worker_init_fn=seed_worker, generator=g,)"
   ]
  },
  {
   "cell_type": "markdown",
   "id": "b693a07c-9b54-4ed8-9329-2c8d80072bac",
   "metadata": {},
   "source": [
    "#### Patient Diffusion model - LDM variant\n",
    "\n",
    "Add a Zinorm VAE before the input goes to the diffusion model."
   ]
  },
  {
   "cell_type": "markdown",
   "id": "4777af3f-b80d-4fa7-93b1-d791ad2bbbe0",
   "metadata": {},
   "source": [
    "##### Pretraining the VAE before it can be used with the DDPM"
   ]
  },
  {
   "cell_type": "code",
   "execution_count": 20,
   "id": "ff69a715-18f0-4297-bf76-9f9f5bf958df",
   "metadata": {},
   "outputs": [],
   "source": [
    "# pretraining VAE\n",
    "def training_loop_vae(train_dataloader, epochs, vae, ffb_zinb_model, device, optimizer):\n",
    "    train_losses = []\n",
    "    for i in range(epochs):\n",
    "        loss = 0.0\n",
    "        avg_test_loss = \"\"\n",
    "        for idx, batch in enumerate(train_dataloader):\n",
    "            optimizer.zero_grad()\n",
    "            inp_vae = batch[0].to(device=device, dtype=torch.float32)\n",
    "            enc, mu, logvar, inp_dec = vae(inp_vae) # From VAE encoder + reparameterization\n",
    "            X_mu1, X_theta1, X_pi1 = ffb_zinb_model(inp_dec) # ZINorm \n",
    "            \n",
    "            # mse_recon_loss = torch.nn.MSELoss()(inp_dec, inp_vae)\n",
    "            loss_zin, t1, t2 = ZINORMLoss(reduction=\"mean\")(X_mu1, X_theta1, X_pi1, inp_vae, lamda=1e-6)\n",
    "            # print(loss_zin)\n",
    "            kld_loss = get_kld_loss(mu, logvar, is_mean=True)\n",
    "            total_loss = kld_loss + loss_zin\n",
    "            \n",
    "            # total_loss = kld_loss + mse_recon_loss\n",
    "            total_loss.backward()\n",
    "            optimizer.step()\n",
    "            loss += total_loss.detach().item()\n",
    "\n",
    "        print(f\"|Epoch {i} | Average VAE training loss: {loss/(idx+1)} |\")\n",
    "        train_losses.append(loss/(idx+1))\n",
    "    return train_losses"
   ]
  },
  {
   "cell_type": "code",
   "execution_count": 21,
   "id": "d6ca3c5e-07c8-48a1-8ae9-60421e1571eb",
   "metadata": {},
   "outputs": [
    {
     "name": "stdout",
     "output_type": "stream",
     "text": [
      "U: encoder \n",
      "Sequential(\n",
      "  (enc-0): Linear(in_features=7776, out_features=1024, bias=True)\n",
      "  (act-0): ReLU()\n",
      "  (enc-1): Linear(in_features=1024, out_features=128, bias=True)\n",
      "  (act-1): ReLU()\n",
      ")\n",
      "#\n",
      "mu_layer: \n",
      "Linear(in_features=128, out_features=64, bias=True)\n",
      "#\n",
      "sigma_layer: \n",
      "Linear(in_features=128, out_features=64, bias=True)\n",
      "#\n",
      "U: decoder \n",
      "Sequential(\n",
      "  (-dec-0): Linear(in_features=64, out_features=128, bias=True)\n",
      "  (-act-0): ReLU()\n",
      "  (dec-0): Linear(in_features=128, out_features=1024, bias=True)\n",
      "  (act-0): ReLU()\n",
      "  (dec-1): Linear(in_features=1024, out_features=7776, bias=True)\n",
      "  (act-1): ReLU()\n",
      ")\n",
      "#\n",
      "zinb_layers_mu: \n",
      "OrderedDict([('mu', Linear(in_features=7776, out_features=7776, bias=True))])\n",
      "#\n",
      "zinb_layers_theta: \n",
      "OrderedDict([('theta', Linear(in_features=7776, out_features=7776, bias=True))])\n",
      "#\n",
      "zinb_layers_pi: \n",
      "OrderedDict([('pi', Linear(in_features=7776, out_features=7776, bias=True)), ('pi-actf', Sigmoid())])\n",
      "#\n"
     ]
    }
   ],
   "source": [
    "patient_vae = vae(input_dim=7776, k_list=[1024, 128], actf_list=[\"relu\", \"relu\"], is_real=True).to(device)\n",
    "patient_ffb_zinb_model = ffnzinb(input_dim=7776).to(device)"
   ]
  },
  {
   "cell_type": "code",
   "execution_count": 22,
   "id": "eb6a49a6-ab6c-43f2-a799-86f7880404ce",
   "metadata": {},
   "outputs": [
    {
     "name": "stdout",
     "output_type": "stream",
     "text": [
      "|Epoch 0 | Average VAE training loss: 4199547655.875 |\n",
      "|Epoch 1 | Average VAE training loss: 3759044992.0 |\n",
      "|Epoch 2 | Average VAE training loss: 3775889728.0 |\n",
      "|Epoch 3 | Average VAE training loss: 3349209307.34375 |\n",
      "|Epoch 4 | Average VAE training loss: 1855770788.234375 |\n",
      "|Epoch 5 | Average VAE training loss: 1613609675.65625 |\n",
      "|Epoch 6 | Average VAE training loss: 1763040223.9921875 |\n",
      "|Epoch 7 | Average VAE training loss: 1412944693.5 |\n",
      "|Epoch 8 | Average VAE training loss: 1963576705.3046875 |\n",
      "|Epoch 9 | Average VAE training loss: 720367547.828125 |\n",
      "|Epoch 10 | Average VAE training loss: 837334789.515625 |\n",
      "|Epoch 11 | Average VAE training loss: 2723018380.1328125 |\n",
      "|Epoch 12 | Average VAE training loss: 758830411.6328125 |\n",
      "|Epoch 13 | Average VAE training loss: 1766398867.046875 |\n",
      "|Epoch 14 | Average VAE training loss: 932959155.0 |\n",
      "|Epoch 15 | Average VAE training loss: 568972470.59375 |\n",
      "|Epoch 16 | Average VAE training loss: 741795089.640625 |\n",
      "|Epoch 17 | Average VAE training loss: 5548151993.4765625 |\n",
      "|Epoch 18 | Average VAE training loss: 780514396.828125 |\n",
      "|Epoch 19 | Average VAE training loss: 1960878080.0 |\n",
      "|Epoch 20 | Average VAE training loss: 2665256672.0 |\n",
      "|Epoch 21 | Average VAE training loss: 2200096488.1875 |\n",
      "|Epoch 22 | Average VAE training loss: 1834401735.5703125 |\n",
      "|Epoch 23 | Average VAE training loss: 1627680322.5234375 |\n",
      "|Epoch 24 | Average VAE training loss: 1131683671.1796875 |\n",
      "|Epoch 25 | Average VAE training loss: 956720930.9140625 |\n",
      "|Epoch 26 | Average VAE training loss: 1749381219.0 |\n",
      "|Epoch 27 | Average VAE training loss: 1637767711.1367188 |\n",
      "|Epoch 28 | Average VAE training loss: 1219929471.5078125 |\n",
      "|Epoch 29 | Average VAE training loss: 1068524532.7070312 |\n",
      "|Epoch 30 | Average VAE training loss: 1110032708.53125 |\n",
      "|Epoch 31 | Average VAE training loss: 1484037248.0 |\n",
      "|Epoch 32 | Average VAE training loss: 1250583978.28125 |\n",
      "|Epoch 33 | Average VAE training loss: 1502963414.734375 |\n",
      "|Epoch 34 | Average VAE training loss: 2083810199.609375 |\n",
      "|Epoch 35 | Average VAE training loss: 943146221.1796875 |\n",
      "|Epoch 36 | Average VAE training loss: 610372665.0 |\n",
      "|Epoch 37 | Average VAE training loss: 1039604455.9921875 |\n",
      "|Epoch 38 | Average VAE training loss: 1080744185.59375 |\n",
      "|Epoch 39 | Average VAE training loss: 2550176688.0 |\n",
      "|Epoch 40 | Average VAE training loss: 1472347567.078125 |\n",
      "|Epoch 41 | Average VAE training loss: 1774349240.6015625 |\n",
      "|Epoch 42 | Average VAE training loss: 34918509043.578125 |\n",
      "|Epoch 43 | Average VAE training loss: 1751378983.3828125 |\n",
      "|Epoch 44 | Average VAE training loss: 1285809031.1640625 |\n",
      "|Epoch 45 | Average VAE training loss: 1064953151.21875 |\n",
      "|Epoch 46 | Average VAE training loss: 1191569950.53125 |\n",
      "|Epoch 47 | Average VAE training loss: 1174413016.359375 |\n",
      "|Epoch 48 | Average VAE training loss: 4079711082.2578125 |\n",
      "|Epoch 49 | Average VAE training loss: 2428214950.28125 |\n",
      "|Epoch 50 | Average VAE training loss: 2027491085.828125 |\n",
      "|Epoch 51 | Average VAE training loss: 2304861345.390625 |\n",
      "|Epoch 52 | Average VAE training loss: 2185364778.5703125 |\n",
      "|Epoch 53 | Average VAE training loss: 1635016123.4765625 |\n",
      "|Epoch 54 | Average VAE training loss: 1730422416.0 |\n",
      "|Epoch 55 | Average VAE training loss: 624480918.9140625 |\n",
      "|Epoch 56 | Average VAE training loss: 1214132268.0 |\n",
      "|Epoch 57 | Average VAE training loss: 3174417435.7734375 |\n",
      "|Epoch 58 | Average VAE training loss: 1361059890.7265625 |\n",
      "|Epoch 59 | Average VAE training loss: 1770524730.2617188 |\n",
      "|Epoch 60 | Average VAE training loss: 2333168532.671875 |\n",
      "|Epoch 61 | Average VAE training loss: 1966540448.0 |\n",
      "|Epoch 62 | Average VAE training loss: 2427574348.5625 |\n",
      "|Epoch 63 | Average VAE training loss: 1893603916.09375 |\n",
      "|Epoch 64 | Average VAE training loss: 1558075270.828125 |\n",
      "|Epoch 65 | Average VAE training loss: 1572118368.0 |\n",
      "|Epoch 66 | Average VAE training loss: 1104552607.75 |\n",
      "|Epoch 67 | Average VAE training loss: 2028419082.5742188 |\n",
      "|Epoch 68 | Average VAE training loss: 1287488620.0 |\n",
      "|Epoch 69 | Average VAE training loss: 941206113.8046875 |\n",
      "|Epoch 70 | Average VAE training loss: 2161888391.0898438 |\n",
      "|Epoch 71 | Average VAE training loss: 1604639924.78125 |\n",
      "|Epoch 72 | Average VAE training loss: 670795547.9375 |\n",
      "|Epoch 73 | Average VAE training loss: 943651865.5078125 |\n",
      "|Epoch 74 | Average VAE training loss: 1888893001.5 |\n",
      "|Epoch 75 | Average VAE training loss: 1468028736.0 |\n",
      "|Epoch 76 | Average VAE training loss: 1258997120.0 |\n",
      "|Epoch 77 | Average VAE training loss: 1584447627.296875 |\n",
      "|Epoch 78 | Average VAE training loss: 1436524445.375 |\n",
      "|Epoch 79 | Average VAE training loss: 1070957004.2929688 |\n",
      "|Epoch 80 | Average VAE training loss: 835782728.25 |\n",
      "|Epoch 81 | Average VAE training loss: 1513182728.2421875 |\n",
      "|Epoch 82 | Average VAE training loss: 588377379.65625 |\n",
      "|Epoch 83 | Average VAE training loss: 960782792.4609375 |\n",
      "|Epoch 84 | Average VAE training loss: 351290015.546875 |\n",
      "|Epoch 85 | Average VAE training loss: 585158241.0703125 |\n",
      "|Epoch 86 | Average VAE training loss: 355163168.0 |\n",
      "|Epoch 87 | Average VAE training loss: 341509861.484375 |\n",
      "|Epoch 88 | Average VAE training loss: 297550008.8046875 |\n",
      "|Epoch 89 | Average VAE training loss: 245806053.0546875 |\n",
      "|Epoch 90 | Average VAE training loss: 62033987.609375 |\n",
      "|Epoch 91 | Average VAE training loss: 221416679.1171875 |\n",
      "|Epoch 92 | Average VAE training loss: 54164241.390625 |\n",
      "|Epoch 93 | Average VAE training loss: 35075459.0 |\n",
      "|Epoch 94 | Average VAE training loss: 153531349.6953125 |\n",
      "|Epoch 95 | Average VAE training loss: 137156355.703125 |\n",
      "|Epoch 96 | Average VAE training loss: 38389088.4296875 |\n",
      "|Epoch 97 | Average VAE training loss: 41755419.90625 |\n",
      "|Epoch 98 | Average VAE training loss: 43449188.765625 |\n",
      "|Epoch 99 | Average VAE training loss: 11547845.90625 |\n"
     ]
    }
   ],
   "source": [
    "patient_vae.to(device)\n",
    "params = list(patient_ffb_zinb_model.parameters()) + list(patient_vae.parameters())\n",
    "optimizer = torch.optim.Adam(params, lr=1e-4, weight_decay=1e-4)\n",
    "train_losses = training_loop_vae(tcga_train_dataloader, 100, patient_vae, patient_ffb_zinb_model, device, optimizer)"
   ]
  },
  {
   "cell_type": "code",
   "execution_count": 23,
   "id": "1ee83697-acbc-454f-8894-f8f7a2de8c41",
   "metadata": {},
   "outputs": [
    {
     "data": {
      "text/plain": [
       "[<matplotlib.lines.Line2D at 0x7f5a30f587f0>]"
      ]
     },
     "execution_count": 23,
     "metadata": {},
     "output_type": "execute_result"
    },
    {
     "data": {
      "image/png": "[encoded data removed]",
      "text/plain": [
       "<Figure size 640x480 with 1 Axes>"
      ]
     },
     "metadata": {},
     "output_type": "display_data"
    }
   ],
   "source": [
    "plt.plot(train_losses)"
   ]
  },
  {
   "cell_type": "markdown",
   "id": "e1764dbb-4f51-4871-9f55-8f47cf2c609b",
   "metadata": {},
   "source": [
    "##### Training the LDM model with above VAE"
   ]
  },
  {
   "cell_type": "code",
   "execution_count": 24,
   "id": "39d960f0-4931-4693-afc8-5d725546fc50",
   "metadata": {},
   "outputs": [],
   "source": [
    "# testing function with LDM\n",
    "def testing_loop_ldm(test_dataloader, diffusion_model, vae, ffn_zinb_model, device):\n",
    "    avg_test_loss = 0.0\n",
    "    for idx, batch in enumerate(test_dataloader):\n",
    "        with torch.no_grad():\n",
    "            inp_vae = batch[0].to(device=device, dtype=torch.float32)\n",
    "            inp, mu, logvar, _ = vae(inp_vae) # From VAE encoder + reparameterization\n",
    "            \n",
    "            noise = torch.randn_like(inp).to(device) # this is the label we use   \n",
    "            b = inp.shape[0]\n",
    "            t, pt = diffusion_model.sample_time(b, device, 'uniform')\n",
    "            inp_t = diffusion_model.gaussian_q_sample(inp, t, noise) # forward process\n",
    "            model_out = diffusion_model._denoise_fn(inp_t, t) # predicted epsilon\n",
    "\n",
    "            # MSE between predicted inp_pred after reverse diffusion and original input\n",
    "            inp_pred = diffusion_model._predict_xstart_from_eps(inp_t, t, model_out)\n",
    "            out_vae = vae.decoder(inp_pred) # after VAE decoding\n",
    "            X_mu1, X_theta1, X_pi1 = ffn_zinb_model(out_vae) # ZINorm\n",
    "            mse_recon_loss = torch.nn.MSELoss()(X_mu1, inp_vae) # MSE after ensuring it follows the ZIN distribution\n",
    "\n",
    "            avg_test_loss += mse_recon_loss.detach().item()\n",
    "\n",
    "    return avg_test_loss/(idx+1)"
   ]
  },
  {
   "cell_type": "code",
   "execution_count": 25,
   "id": "4a2e8459-30d2-463f-8943-f3ae06af75dc",
   "metadata": {},
   "outputs": [],
   "source": [
    "# training function with LDM\n",
    "def training_loop_ldm(train_dataloader, test_dataloader, epochs, diffusion_model, vae, ffn_zinb_model, device, optimizer, scheduler=None):\n",
    "    train_losses = []\n",
    "    for i in range(epochs):\n",
    "        loss = 0.0\n",
    "        avg_test_loss = \"\"\n",
    "        for idx, batch in enumerate(train_dataloader):\n",
    "            optimizer.zero_grad()\n",
    "            inp_vae = batch[0].to(device=device, dtype=torch.float32)\n",
    "            inp, mu, logvar, inp_dec = vae(inp_vae) # From VAE encoder + reparameterization\n",
    "            # X_mu1, X_theta1, X_pi1 = ffn_zinb_model(inp_dec) # ZINorm\n",
    "            \n",
    "            noise = torch.randn_like(inp).to(device) # this is the label we use   \n",
    "            b = inp.shape[0]\n",
    "            t, pt = diffusion_model.sample_time(b, device, 'uniform')\n",
    "            inp_t = diffusion_model.gaussian_q_sample(inp, t, noise) # forward process\n",
    "            model_out = diffusion_model._denoise_fn(inp_t, t) # predicted epsilon\n",
    "            # loss calculation using MSE between predicted and actual noise\n",
    "            loss_gauss = diffusion_model._gaussian_loss(model_out, inp, inp_t, t, noise).mean()\n",
    "\n",
    "            # reconstruct inp, pass through VAE decoder and calculate VAE losses\n",
    "            inp_pred = diffusion_model._predict_xstart_from_eps(inp_t, t, model_out)\n",
    "            out_vae = vae.decoder(inp_pred) # after VAE decoding\n",
    "            # mse_recon_loss = torch.nn.MSELoss()(out_vae, inp_vae)\n",
    "            X_mu1, X_theta1, X_pi1 = ffn_zinb_model(out_vae)\n",
    "            # print(torch.isinf(X_mu1).sum())\n",
    "            \n",
    "            loss_zin, t1, t2 = ZINORMLoss(reduction=\"mean\")(X_mu1, X_theta1, X_pi1, inp_vae, lamda=1e-4)\n",
    "            kld_loss = get_kld_loss(mu, logvar, is_mean=True)\n",
    "            # print(loss_zin)\n",
    "            # print(torch.isinf(t1).sum())\n",
    "            # print(torch.isinf(t2).sum())\n",
    "\n",
    "            # total_loss = loss_gauss + mse_recon_loss + kld_loss\n",
    "            total_loss = 0.5 * loss_gauss + 0.3 * loss_zin + 0.2 * kld_loss\n",
    "            \n",
    "            total_loss.backward()\n",
    "            # torch.nn.utils.clip_grad_norm_(list(tcga_diff_model.parameters()), 10)\n",
    "            optimizer.step()\n",
    "            if scheduler:\n",
    "                scheduler.step()\n",
    "            \n",
    "            loss += total_loss.detach().item()\n",
    "\n",
    "        if (i+1) % 10 == 0:\n",
    "            avg_test_loss = f\" Average testing loss: {testing_loop_ldm(test_dataloader, diffusion_model, vae, ffn_zinb_model, device)}\"\n",
    "\n",
    "        print(f\"|Epoch {i} | Average training loss: {loss/(idx+1)} |{avg_test_loss}\")\n",
    "        train_losses.append(loss/(idx+1))\n",
    "        \n",
    "    return train_losses\n",
    "            \n",
    "            "
   ]
  },
  {
   "cell_type": "code",
   "execution_count": 26,
   "id": "71291874-5098-4065-a570-ec8b578389c0",
   "metadata": {},
   "outputs": [],
   "source": [
    "tcga_mlp_diffusion_model = MLPDiffusion(d_in=64, num_classes=0, is_y_cond=False, rtdl_params={\"d_layers\": [16], \"dropout\": 0.1})\n",
    "tcga_diff_model = GaussianMultinomialDiffusion(num_classes=np.array([0]), num_numerical_features=64, denoise_fn=tcga_mlp_diffusion_model)"
   ]
  },
  {
   "cell_type": "code",
   "execution_count": 27,
   "id": "1ba0b746-0975-4a74-bad2-7d18da757675",
   "metadata": {},
   "outputs": [
    {
     "name": "stdout",
     "output_type": "stream",
     "text": [
      "|Epoch 0 | Average training loss: 72875691267.25 |\n",
      "|Epoch 1 | Average training loss: 56163577825.0 |\n",
      "|Epoch 2 | Average training loss: 143675838.0 |\n",
      "|Epoch 3 | Average training loss: 97651791.0 |\n",
      "|Epoch 4 | Average training loss: 454914161.0 |\n",
      "|Epoch 5 | Average training loss: 118245729.9375 |\n",
      "|Epoch 6 | Average training loss: 42476779453.0 |\n",
      "|Epoch 7 | Average training loss: 168426706908.5 |\n",
      "|Epoch 8 | Average training loss: 63218398.0 |\n",
      "|Epoch 9 | Average training loss: 164849326.0 | Average testing loss: 51057380.0\n",
      "|Epoch 10 | Average training loss: 463820176762.3125 |\n",
      "|Epoch 11 | Average training loss: 250558937.0 |\n",
      "|Epoch 12 | Average training loss: 557952367816.0 |\n",
      "|Epoch 13 | Average training loss: 112875956.34375 |\n",
      "|Epoch 14 | Average training loss: 304610655.0 |\n",
      "|Epoch 15 | Average training loss: 36104697.5 |\n",
      "|Epoch 16 | Average training loss: 223473420132.0 |\n",
      "|Epoch 17 | Average training loss: 1151494810.5 |\n",
      "|Epoch 18 | Average training loss: 31042738.75 |\n",
      "|Epoch 19 | Average training loss: 545657580.0 | Average testing loss: 26748352.0\n"
     ]
    }
   ],
   "source": [
    "device = torch.device(\"cuda\")\n",
    "tcga_diff_model.to(device)\n",
    "# optimizer = torch.optim.Adam(list(tcga_diff_model.parameters()) + list(patient_vae.parameters()) + list(patient_ffb_zinb_model.parameters()), lr=1e-6)\n",
    "optimizer = torch.optim.Adam(tcga_diff_model.parameters())\n",
    "# scheduler = torch.optim.lr_scheduler.StepLR(optimizer, step_size=30, gamma=0.1)\n",
    "train_losses = training_loop_ldm(tcga_train_dataloader, tcga_test_dataloader, 20, tcga_diff_model, patient_vae, patient_ffb_zinb_model, device, optimizer, scheduler=None)"
   ]
  },
  {
   "cell_type": "code",
   "execution_count": 28,
   "id": "888d278d-a7b4-465a-b932-a41a1b6c9d8b",
   "metadata": {},
   "outputs": [
    {
     "data": {
      "text/plain": [
       "[<matplotlib.lines.Line2D at 0x7f5a2d8d72b0>]"
      ]
     },
     "execution_count": 28,
     "metadata": {},
     "output_type": "execute_result"
    },
    {
     "data": {
      "image/png": "[encoded data removed]",
      "text/plain": [
       "<Figure size 640x480 with 1 Axes>"
      ]
     },
     "metadata": {},
     "output_type": "display_data"
    }
   ],
   "source": [
    "import matplotlib.pyplot as plt\n",
    "plt.plot(train_losses)"
   ]
  },
  {
   "cell_type": "code",
   "execution_count": 29,
   "id": "f56ea56e-4f74-4c93-a515-781b3477a2b9",
   "metadata": {},
   "outputs": [
    {
     "data": {
      "text/plain": [
       "3.1415927410125732"
      ]
     },
     "execution_count": 29,
     "metadata": {},
     "output_type": "execute_result"
    }
   ],
   "source": [
    "constant_pi = torch.acos(torch.zeros(1)).item() * 2\n",
    "constant_pi"
   ]
  },
  {
   "cell_type": "code",
   "execution_count": 30,
   "id": "0c1e1135-7023-4b80-bab2-a23bc9482a7b",
   "metadata": {},
   "outputs": [
    {
     "data": {
      "text/plain": [
       "tensor([[-7.8267, -7.8267, -7.8267, -7.8267],\n",
       "        [-7.8267, -7.8267, -7.8267, -7.8267],\n",
       "        [-7.8267, -7.8267, -7.8267, -7.8267]])"
      ]
     },
     "execution_count": 30,
     "metadata": {},
     "output_type": "execute_result"
    }
   ],
   "source": [
    "-0.5 * torch.log(2.0 * constant_pi * torch.ones(3, 4)*1e6)"
   ]
  },
  {
   "cell_type": "code",
   "execution_count": 31,
   "id": "c61da983-0c39-4beb-b2d0-be854a0334a5",
   "metadata": {},
   "outputs": [
    {
     "data": {
      "text/plain": [
       "tensor([[inf, inf, inf, inf],\n",
       "        [inf, inf, inf, inf],\n",
       "        [inf, inf, inf, inf]])"
      ]
     },
     "execution_count": 31,
     "metadata": {},
     "output_type": "execute_result"
    }
   ],
   "source": [
    "-torch.log(torch.ones(3, 4)* -0.0)"
   ]
  },
  {
   "cell_type": "code",
   "execution_count": null,
   "id": "c2e00404-b7ec-4dc2-bd84-3c299bb4410c",
   "metadata": {},
   "outputs": [],
   "source": []
  }
 ],
 "metadata": {
  "kernelspec": {
   "display_name": "Python [conda env:tddpm] *",
   "language": "python",
   "name": "conda-env-tddpm-py"
  },
  "language_info": {
   "codemirror_mode": {
    "name": "ipython",
    "version": 3
   },
   "file_extension": ".py",
   "mimetype": "text/x-python",
   "name": "python",
   "nbconvert_exporter": "python",
   "pygments_lexer": "ipython3",
   "version": "3.9.18"
  }
 },
 "nbformat": 4,
 "nbformat_minor": 5
}
