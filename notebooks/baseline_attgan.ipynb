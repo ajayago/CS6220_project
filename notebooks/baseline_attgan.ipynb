{
 "cells": [
  {
   "cell_type": "markdown",
   "id": "da693c0d-2f49-417a-a391-3a01d8eac729",
   "metadata": {},
   "source": [
    "This notebook performs data augmentation using only patient data, with unconditional Attention GANs.\n",
    "\n",
    "Reference: https://forge.ibisc.univ-evry.fr/alacan/GANs-for-transcriptomics"
   ]
  },
  {
   "cell_type": "code",
   "execution_count": 1,
   "id": "57fc2a01-e577-4a3b-a638-a45434578abd",
   "metadata": {},
   "outputs": [],
   "source": [
    "import pandas as pd\n",
    "import numpy as np\n",
    "import torch\n",
    "from torch.utils.data import TensorDataset, DataLoader\n",
    "import sys"
   ]
  },
  {
   "cell_type": "code",
   "execution_count": 2,
   "id": "6951b75b-3da4-46f1-9a9d-07cabadf1316",
   "metadata": {},
   "outputs": [],
   "source": [
    "sys.path.append(\"../src/baselines/\")\n",
    "sys.path.append(\"../src/metrics/\")"
   ]
  },
  {
   "cell_type": "code",
   "execution_count": 3,
   "id": "5293dbb2-de1a-4a34-8fa0-61c3c4080ca2",
   "metadata": {},
   "outputs": [],
   "source": [
    "from attgan import WGAN_GP_SA"
   ]
  },
  {
   "cell_type": "code",
   "execution_count": 4,
   "id": "b7ea1fcf-2aa8-4968-bdc1-836ce47afabf",
   "metadata": {},
   "outputs": [],
   "source": [
    "from configs import CONFIG_WGAN as CONFIG"
   ]
  },
  {
   "cell_type": "code",
   "execution_count": 5,
   "id": "a379a363-48e0-4450-94e1-ebffb59c2a03",
   "metadata": {},
   "outputs": [],
   "source": [
    "CONFIG[\"device\"] = torch.device(\"cuda:0\")"
   ]
  },
  {
   "cell_type": "code",
   "execution_count": 6,
   "id": "4c7dfc0e-6f2c-41f1-a078-e6374cc07d22",
   "metadata": {},
   "outputs": [],
   "source": [
    "sample_id = 2"
   ]
  },
  {
   "cell_type": "code",
   "execution_count": 7,
   "id": "764b8361-f58d-41ae-8d6b-c4df43dcca5b",
   "metadata": {},
   "outputs": [],
   "source": [
    "# Patient dataset\n",
    "tcga_train_df = pd.read_csv(f\"../data/diffusion_pretraining/tcga_diffusion_train_sample{sample_id}.csv\", index_col=0)\n",
    "tcga_test_df = pd.read_csv(f\"../data/diffusion_pretraining/tcga_diffusion_test_sample{sample_id}.csv\", index_col=0)\n",
    "tcga_train_dataset = TensorDataset(torch.tensor(tcga_train_df.values), torch.tensor(tcga_train_df.values))\n",
    "tcga_test_dataset = TensorDataset(torch.tensor(tcga_test_df.values), torch.tensor(tcga_test_df.values))\n",
    "tcga_train_dataloader = DataLoader(tcga_train_dataset, batch_size=256, shuffle=True)\n",
    "tcga_test_dataloader = DataLoader(tcga_test_dataset, batch_size=256, shuffle=False)"
   ]
  },
  {
   "cell_type": "code",
   "execution_count": 8,
   "id": "4c8499e4-cf65-454b-893b-c033e1ee8ec3",
   "metadata": {},
   "outputs": [],
   "source": [
    "goi_dict_ppi = {}\n",
    "for i, x in enumerate(tcga_train_df.columns):\n",
    "    goi_dict_ppi[i] = list(range(0, (tcga_train_df.shape[1])))"
   ]
  },
  {
   "cell_type": "code",
   "execution_count": 9,
   "id": "27f5be4e-fe48-4fe9-a6c7-7f2f929d6593",
   "metadata": {},
   "outputs": [],
   "source": [
    "CONFIG[\"goi_dict_ppi\"] = goi_dict_ppi\n",
    "CONFIG[\"genes_of_interest_ppi\"] = list(range(0, tcga_train_df.shape[1]))\n",
    "CONFIG[\"goi_dict_corr\"] = goi_dict_ppi\n",
    "CONFIG[\"ppi_threshold\"] = -1\n",
    "CONFIG[\"corr_threshold\"] = -1\n",
    "CONFIG[\"is_gamma_fixed\"] = False\n",
    "CONFIG[\"pretrain_without_attention\"] = True\n",
    "CONFIG[\"attention_disc\"] = True\n",
    "CONFIG[\"attention_threshold\"] = -1"
   ]
  },
  {
   "cell_type": "code",
   "execution_count": 10,
   "id": "15d45436-1374-488e-8c61-687cfdf10275",
   "metadata": {},
   "outputs": [
    {
     "name": "stdout",
     "output_type": "stream",
     "text": [
      "1-head attention module\n",
      "Pretraining model without attention while gradient penalty is above -1.\n",
      "1-head attention module\n",
      "Pretraining model without attention while gradient penalty is above -1.\n"
     ]
    }
   ],
   "source": [
    "attgan_model = WGAN_GP_SA(CONFIG)"
   ]
  },
  {
   "cell_type": "code",
   "execution_count": 11,
   "id": "35378cfa-572c-4bfe-a97b-9a954bb2fd20",
   "metadata": {},
   "outputs": [
    {
     "name": "stdout",
     "output_type": "stream",
     "text": [
      "Directory '../src/baselines/gan/logs/20240417-170511' created\n",
      "Directory '../src/baselines/gan/checkpoints/20240417-170511' created\n",
      "Directory '../src/baselines/gan/figures/20240417-170511' created\n",
      "Time of training: 86.2435 sec = 1.4374 minute(s) = 0.024 hour(s)\n",
      "--------------------\n",
      "Discriminator saved at ../src/baselines/gan/checkpoints/20240417-170511/_disc.pt and generator saved at ../src/baselines/gan/checkpoints/20240417-170511/_gen.pt.\n"
     ]
    }
   ],
   "source": [
    "attgan_model.train(\n",
    "    TrainDataLoader=tcga_train_dataloader,\n",
    "    ValDataLoader=tcga_test_dataloader,\n",
    "    z_dim=CONFIG['latent_dim'], \n",
    "                epochs=CONFIG['epochs'], \n",
    "                categorical=None,\n",
    "                # iters_critic=CONFIG['iters_critic'], \n",
    "                # lambda_penalty=CONFIG['lambda_penalty'], \n",
    "                step = CONFIG['step'],\n",
    "                verbose=True, \n",
    "                checkpoint_dir=CONFIG['checkpoint_dir'], \n",
    "                log_dir=CONFIG['log_dir'], \n",
    "                fig_dir = CONFIG['fig_dir'],\n",
    "                prob_success=CONFIG['prob_success'], \n",
    "                norm_scale=CONFIG['norm_scale'],\n",
    "                optimizer = CONFIG['optimizer'],\n",
    "                lr_g = CONFIG['lr_g'],\n",
    "                lr_d = CONFIG['lr_d'],\n",
    "               nb_principal_components = CONFIG['nb_principal_components'],\n",
    "               config=CONFIG,\n",
    "               hyperparameters_search=False\n",
    "               )"
   ]
  },
  {
   "cell_type": "code",
   "execution_count": 12,
   "id": "cfedaf87-0e52-40d6-a6b5-f58aec91469f",
   "metadata": {},
   "outputs": [
    {
     "data": {
      "text/plain": [
       "((476, 7776), (476, 7776))"
      ]
     },
     "execution_count": 12,
     "metadata": {},
     "output_type": "execute_result"
    }
   ],
   "source": [
    "x_real, x_gen = attgan_model.real_fake_data(tcga_train_dataloader, z_dim=CONFIG['latent_dim'])\n",
    "x_gen.shape, x_real.shape"
   ]
  },
  {
   "cell_type": "code",
   "execution_count": 13,
   "id": "a051c8ff-450c-44cb-928f-d09a5b9e03f9",
   "metadata": {},
   "outputs": [],
   "source": [
    "pd.DataFrame(x_gen, columns = tcga_train_df.columns, index=tcga_train_df.index).to_csv(f\"/data/ajayago/druid/intermediate/cs6220/baselines/augmented_attgan_tcga_sample{sample_id}.csv\")"
   ]
  },
  {
   "cell_type": "markdown",
   "id": "3fe230db-a290-43d9-afed-f2da2aa6a8c3",
   "metadata": {},
   "source": [
    "Inference on cell lines - not relevant"
   ]
  },
  {
   "cell_type": "code",
   "execution_count": 12,
   "id": "e451018e-143e-43af-a9d7-2c64dddb44dc",
   "metadata": {},
   "outputs": [
    {
     "data": {
      "text/plain": [
       "(1569, 7776)"
      ]
     },
     "execution_count": 12,
     "metadata": {},
     "output_type": "execute_result"
    }
   ],
   "source": [
    "# cl_train_df = pd.read_csv(\"../data/diffusion_pretraining/cl_diffusion_train_sample0.csv\", index_col=0)\n",
    "# cl_train_df.shape"
   ]
  },
  {
   "cell_type": "code",
   "execution_count": 13,
   "id": "d2e80e63-6c76-4898-a1dc-a2611e82b3fb",
   "metadata": {},
   "outputs": [
    {
     "data": {
      "text/plain": [
       "(175, 7776)"
      ]
     },
     "execution_count": 13,
     "metadata": {},
     "output_type": "execute_result"
    }
   ],
   "source": [
    "# cl_test_df = pd.read_csv(\"../data/diffusion_pretraining/cl_diffusion_test_sample0.csv\", index_col=0)\n",
    "# cl_test_df.shape"
   ]
  },
  {
   "cell_type": "code",
   "execution_count": 14,
   "id": "a5b17a8f-213e-46e9-b5fe-244a52051c59",
   "metadata": {},
   "outputs": [],
   "source": [
    "# cl_train_dataset = TensorDataset(torch.tensor(cl_train_df.values), torch.tensor(cl_train_df.values))\n",
    "# cl_train_dataloader = DataLoader(cl_train_dataset, batch_size=256, shuffle=True)"
   ]
  },
  {
   "cell_type": "code",
   "execution_count": 15,
   "id": "2b8e5e7f-f8c4-4fd0-b405-57ed6a7fa701",
   "metadata": {},
   "outputs": [],
   "source": [
    "# cl_test_dataset = TensorDataset(torch.tensor(cl_test_df.values), torch.tensor(cl_test_df.values))\n",
    "# cl_test_dataloader = DataLoader(cl_test_dataset, batch_size=256, shuffle=True)"
   ]
  },
  {
   "cell_type": "code",
   "execution_count": 17,
   "id": "268f99f9-4f0c-48d0-9382-8b84db2e2ec5",
   "metadata": {},
   "outputs": [
    {
     "data": {
      "text/plain": [
       "((1569, 7776), (1569, 7776))"
      ]
     },
     "execution_count": 17,
     "metadata": {},
     "output_type": "execute_result"
    }
   ],
   "source": [
    "# x_real_cl, x_gen_cl = attgan_model.real_fake_data(cl_train_dataloader, z_dim=CONFIG['latent_dim'])\n",
    "# x_gen_cl.shape, x_real_cl.shape"
   ]
  },
  {
   "cell_type": "code",
   "execution_count": 18,
   "id": "a355271b-3fe0-435f-a28f-51c1ca7fe962",
   "metadata": {},
   "outputs": [
    {
     "data": {
      "text/plain": [
       "((175, 7776), (175, 7776))"
      ]
     },
     "execution_count": 18,
     "metadata": {},
     "output_type": "execute_result"
    }
   ],
   "source": [
    "# x_real_cl_test, x_gen_cl_test = attgan_model.real_fake_data(cl_test_dataloader, z_dim=CONFIG['latent_dim'])\n",
    "# x_gen_cl_test.shape, x_real_cl_test.shape"
   ]
  },
  {
   "cell_type": "code",
   "execution_count": 19,
   "id": "83b152b2-7902-4d87-946a-35fd9d07085f",
   "metadata": {},
   "outputs": [
    {
     "data": {
      "text/plain": [
       "(1744, 7776)"
      ]
     },
     "execution_count": 19,
     "metadata": {},
     "output_type": "execute_result"
    }
   ],
   "source": [
    "# np.concatenate((x_gen_cl, x_gen_cl_test)).shape"
   ]
  },
  {
   "cell_type": "code",
   "execution_count": 20,
   "id": "5259f47c-6bc5-414b-aba5-34d630cb1c5f",
   "metadata": {},
   "outputs": [
    {
     "data": {
      "text/plain": [
       "1744"
      ]
     },
     "execution_count": 20,
     "metadata": {},
     "output_type": "execute_result"
    }
   ],
   "source": [
    "# new_idx = list(cl_train_df.index) + list(cl_test_df.index)\n",
    "# len(new_idx)"
   ]
  },
  {
   "cell_type": "code",
   "execution_count": 21,
   "id": "331615a4-d086-4980-b2fb-68d84d565ac7",
   "metadata": {},
   "outputs": [],
   "source": [
    "# pd.DataFrame(np.concatenate((x_gen_cl, x_gen_cl_test)), columns = cl_train_df.columns, index=new_idx).to_csv(\"/data/ajayago/druid/intermediate/cs6220/baselines/augmented_attgan.csv\")"
   ]
  },
  {
   "cell_type": "code",
   "execution_count": null,
   "id": "261acfea-d181-4554-898e-d721e59b478b",
   "metadata": {},
   "outputs": [],
   "source": []
  }
 ],
 "metadata": {
  "kernelspec": {
   "display_name": "Python [conda env:tddpm] *",
   "language": "python",
   "name": "conda-env-tddpm-py"
  },
  "language_info": {
   "codemirror_mode": {
    "name": "ipython",
    "version": 3
   },
   "file_extension": ".py",
   "mimetype": "text/x-python",
   "name": "python",
   "nbconvert_exporter": "python",
   "pygments_lexer": "ipython3",
   "version": "3.9.18"
  }
 },
 "nbformat": 4,
 "nbformat_minor": 5
}
