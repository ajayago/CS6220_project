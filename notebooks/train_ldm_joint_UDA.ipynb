{
 "cells": [
  {
   "cell_type": "markdown",
   "id": "5aac6da6-96fa-412f-adcd-57afbbffa82a",
   "metadata": {},
   "source": [
    "This notebook trains both cell line and patient DDPMs with domain alignment introduced between the latent spaces"
   ]
  },
  {
   "cell_type": "code",
   "execution_count": 1,
   "id": "b4b56b10-7afd-4a47-8e05-1b466a7f6b53",
   "metadata": {},
   "outputs": [],
   "source": [
    "import pandas as pd\n",
    "import numpy as np"
   ]
  },
  {
   "cell_type": "code",
   "execution_count": 2,
   "id": "dc533d20-5d36-4f49-8c66-9658a8d67176",
   "metadata": {},
   "outputs": [],
   "source": [
    "import torch\n",
    "import matplotlib.pyplot as plt\n",
    "from torch.utils.data import TensorDataset, DataLoader"
   ]
  },
  {
   "cell_type": "code",
   "execution_count": 3,
   "id": "86ec922b-194d-4559-b3ba-e54da8ee57fa",
   "metadata": {},
   "outputs": [],
   "source": [
    "import sys\n",
    "sys.path.append(\"../src/tab_ddpm/\")"
   ]
  },
  {
   "cell_type": "code",
   "execution_count": 4,
   "id": "59a4ad62-8716-4621-adcd-08095a5aea40",
   "metadata": {},
   "outputs": [],
   "source": [
    "from gaussian_multinomial_diffusion import GaussianMultinomialDiffusion\n",
    "from modules import MLPDiffusion"
   ]
  },
  {
   "cell_type": "code",
   "execution_count": 5,
   "id": "8caa9a28-c046-41df-8bc9-b697fda94466",
   "metadata": {},
   "outputs": [],
   "source": [
    "sys.path.append(\"../src/\")\n",
    "from vae_model import vae\n",
    "from loss_functions import get_kld_loss, coral, compute_covariance, ZINORMLoss\n",
    "from ffnzinb_model import ffnzinb"
   ]
  },
  {
   "cell_type": "code",
   "execution_count": 6,
   "id": "51c9a0e2-1d11-4538-810c-d5194a562475",
   "metadata": {},
   "outputs": [],
   "source": [
    "device = torch.device(\"cuda:0\")"
   ]
  },
  {
   "cell_type": "markdown",
   "id": "51304ccf-5d78-4cef-b0d1-e9fa1d6d8725",
   "metadata": {},
   "source": [
    "### Load Datasets\n",
    "\n",
    "#### Cell Lines"
   ]
  },
  {
   "cell_type": "code",
   "execution_count": 7,
   "id": "ac6823fe-7518-4093-960e-8c13a9f4d1a8",
   "metadata": {},
   "outputs": [
    {
     "data": {
      "text/plain": [
       "(1569, 7776)"
      ]
     },
     "execution_count": 7,
     "metadata": {},
     "output_type": "execute_result"
    }
   ],
   "source": [
    "cl_train_df = pd.read_csv(\"../data/diffusion_pretraining/cl_diffusion_train_sample0.csv\", index_col=0)\n",
    "cl_train_df.shape"
   ]
  },
  {
   "cell_type": "code",
   "execution_count": 8,
   "id": "dca2528f-c1f7-48c5-aa45-a5f512008b1d",
   "metadata": {},
   "outputs": [
    {
     "data": {
      "text/plain": [
       "(175, 7776)"
      ]
     },
     "execution_count": 8,
     "metadata": {},
     "output_type": "execute_result"
    }
   ],
   "source": [
    "cl_test_df = pd.read_csv(\"../data/diffusion_pretraining/cl_diffusion_test_sample0.csv\", index_col=0)\n",
    "cl_test_df.shape"
   ]
  },
  {
   "cell_type": "code",
   "execution_count": 9,
   "id": "3f52346e-f982-4fbf-abdb-8d1aac25ab9f",
   "metadata": {},
   "outputs": [
    {
     "data": {
      "text/html": [
       "<div>\n",
       "<style scoped>\n",
       "    .dataframe tbody tr th:only-of-type {\n",
       "        vertical-align: middle;\n",
       "    }\n",
       "\n",
       "    .dataframe tbody tr th {\n",
       "        vertical-align: top;\n",
       "    }\n",
       "\n",
       "    .dataframe thead th {\n",
       "        text-align: right;\n",
       "    }\n",
       "</style>\n",
       "<table border=\"1\" class=\"dataframe\">\n",
       "  <thead>\n",
       "    <tr style=\"text-align: right;\">\n",
       "      <th></th>\n",
       "      <th>ABL1_piu_max</th>\n",
       "      <th>ACVR1B_piu_max</th>\n",
       "      <th>AKT1_piu_max</th>\n",
       "      <th>AKT2_piu_max</th>\n",
       "      <th>AKT3_piu_max</th>\n",
       "      <th>ALK_piu_max</th>\n",
       "      <th>ALOX12B_piu_max</th>\n",
       "      <th>APC_piu_max</th>\n",
       "      <th>AR_piu_max</th>\n",
       "      <th>ARAF_piu_max</th>\n",
       "      <th>...</th>\n",
       "      <th>U2AF1_benign_count</th>\n",
       "      <th>VEGFA_benign_count</th>\n",
       "      <th>VHL_benign_count</th>\n",
       "      <th>WHSC1_benign_count</th>\n",
       "      <th>WHSC1L1_benign_count</th>\n",
       "      <th>WT1_benign_count</th>\n",
       "      <th>XPO1_benign_count</th>\n",
       "      <th>XRCC2_benign_count</th>\n",
       "      <th>ZNF217_benign_count</th>\n",
       "      <th>ZNF703_benign_count</th>\n",
       "    </tr>\n",
       "    <tr>\n",
       "      <th>DepMap_ID</th>\n",
       "      <th></th>\n",
       "      <th></th>\n",
       "      <th></th>\n",
       "      <th></th>\n",
       "      <th></th>\n",
       "      <th></th>\n",
       "      <th></th>\n",
       "      <th></th>\n",
       "      <th></th>\n",
       "      <th></th>\n",
       "      <th></th>\n",
       "      <th></th>\n",
       "      <th></th>\n",
       "      <th></th>\n",
       "      <th></th>\n",
       "      <th></th>\n",
       "      <th></th>\n",
       "      <th></th>\n",
       "      <th></th>\n",
       "      <th></th>\n",
       "      <th></th>\n",
       "    </tr>\n",
       "  </thead>\n",
       "  <tbody>\n",
       "    <tr>\n",
       "      <th>ACH-000031</th>\n",
       "      <td>0.000000</td>\n",
       "      <td>0.000000</td>\n",
       "      <td>0.0</td>\n",
       "      <td>0.0</td>\n",
       "      <td>0.000000</td>\n",
       "      <td>0.0</td>\n",
       "      <td>0.000000</td>\n",
       "      <td>0.000000</td>\n",
       "      <td>0.000000</td>\n",
       "      <td>0.0</td>\n",
       "      <td>...</td>\n",
       "      <td>0.0</td>\n",
       "      <td>0.0</td>\n",
       "      <td>0.0</td>\n",
       "      <td>0.0</td>\n",
       "      <td>0.0</td>\n",
       "      <td>0.0</td>\n",
       "      <td>0.0</td>\n",
       "      <td>0.0</td>\n",
       "      <td>0.0</td>\n",
       "      <td>0.0</td>\n",
       "    </tr>\n",
       "    <tr>\n",
       "      <th>ACH-000257</th>\n",
       "      <td>0.000000</td>\n",
       "      <td>0.000000</td>\n",
       "      <td>0.0</td>\n",
       "      <td>0.0</td>\n",
       "      <td>0.000000</td>\n",
       "      <td>0.0</td>\n",
       "      <td>0.000000</td>\n",
       "      <td>0.000000</td>\n",
       "      <td>0.000000</td>\n",
       "      <td>0.0</td>\n",
       "      <td>...</td>\n",
       "      <td>0.0</td>\n",
       "      <td>0.0</td>\n",
       "      <td>0.0</td>\n",
       "      <td>0.0</td>\n",
       "      <td>0.0</td>\n",
       "      <td>0.0</td>\n",
       "      <td>0.0</td>\n",
       "      <td>0.0</td>\n",
       "      <td>0.0</td>\n",
       "      <td>0.0</td>\n",
       "    </tr>\n",
       "    <tr>\n",
       "      <th>ACH-000418</th>\n",
       "      <td>0.000000</td>\n",
       "      <td>0.000000</td>\n",
       "      <td>0.0</td>\n",
       "      <td>0.0</td>\n",
       "      <td>0.000000</td>\n",
       "      <td>0.0</td>\n",
       "      <td>0.000000</td>\n",
       "      <td>0.000000</td>\n",
       "      <td>0.000000</td>\n",
       "      <td>0.0</td>\n",
       "      <td>...</td>\n",
       "      <td>0.0</td>\n",
       "      <td>0.0</td>\n",
       "      <td>0.0</td>\n",
       "      <td>0.0</td>\n",
       "      <td>0.0</td>\n",
       "      <td>0.0</td>\n",
       "      <td>0.0</td>\n",
       "      <td>0.0</td>\n",
       "      <td>0.0</td>\n",
       "      <td>0.0</td>\n",
       "    </tr>\n",
       "    <tr>\n",
       "      <th>ACH-000594</th>\n",
       "      <td>0.000000</td>\n",
       "      <td>0.000000</td>\n",
       "      <td>0.0</td>\n",
       "      <td>0.0</td>\n",
       "      <td>0.000000</td>\n",
       "      <td>0.0</td>\n",
       "      <td>0.235294</td>\n",
       "      <td>0.705882</td>\n",
       "      <td>0.000000</td>\n",
       "      <td>0.0</td>\n",
       "      <td>...</td>\n",
       "      <td>0.0</td>\n",
       "      <td>0.0</td>\n",
       "      <td>0.0</td>\n",
       "      <td>0.0</td>\n",
       "      <td>0.0</td>\n",
       "      <td>0.0</td>\n",
       "      <td>0.0</td>\n",
       "      <td>0.0</td>\n",
       "      <td>0.0</td>\n",
       "      <td>0.0</td>\n",
       "    </tr>\n",
       "    <tr>\n",
       "      <th>ACH-000783</th>\n",
       "      <td>0.000000</td>\n",
       "      <td>0.000000</td>\n",
       "      <td>0.0</td>\n",
       "      <td>0.0</td>\n",
       "      <td>0.000000</td>\n",
       "      <td>0.0</td>\n",
       "      <td>0.000000</td>\n",
       "      <td>0.000000</td>\n",
       "      <td>0.000000</td>\n",
       "      <td>0.0</td>\n",
       "      <td>...</td>\n",
       "      <td>0.0</td>\n",
       "      <td>0.0</td>\n",
       "      <td>0.0</td>\n",
       "      <td>0.0</td>\n",
       "      <td>0.0</td>\n",
       "      <td>0.0</td>\n",
       "      <td>0.0</td>\n",
       "      <td>0.0</td>\n",
       "      <td>0.0</td>\n",
       "      <td>0.0</td>\n",
       "    </tr>\n",
       "    <tr>\n",
       "      <th>...</th>\n",
       "      <td>...</td>\n",
       "      <td>...</td>\n",
       "      <td>...</td>\n",
       "      <td>...</td>\n",
       "      <td>...</td>\n",
       "      <td>...</td>\n",
       "      <td>...</td>\n",
       "      <td>...</td>\n",
       "      <td>...</td>\n",
       "      <td>...</td>\n",
       "      <td>...</td>\n",
       "      <td>...</td>\n",
       "      <td>...</td>\n",
       "      <td>...</td>\n",
       "      <td>...</td>\n",
       "      <td>...</td>\n",
       "      <td>...</td>\n",
       "      <td>...</td>\n",
       "      <td>...</td>\n",
       "      <td>...</td>\n",
       "      <td>...</td>\n",
       "    </tr>\n",
       "    <tr>\n",
       "      <th>ACH-002163</th>\n",
       "      <td>0.000000</td>\n",
       "      <td>0.411765</td>\n",
       "      <td>0.0</td>\n",
       "      <td>0.0</td>\n",
       "      <td>0.000000</td>\n",
       "      <td>0.0</td>\n",
       "      <td>0.000000</td>\n",
       "      <td>0.000000</td>\n",
       "      <td>0.000000</td>\n",
       "      <td>0.0</td>\n",
       "      <td>...</td>\n",
       "      <td>0.0</td>\n",
       "      <td>0.0</td>\n",
       "      <td>0.0</td>\n",
       "      <td>0.0</td>\n",
       "      <td>0.0</td>\n",
       "      <td>0.0</td>\n",
       "      <td>0.0</td>\n",
       "      <td>0.0</td>\n",
       "      <td>0.0</td>\n",
       "      <td>0.0</td>\n",
       "    </tr>\n",
       "    <tr>\n",
       "      <th>ACH-001616</th>\n",
       "      <td>0.000000</td>\n",
       "      <td>0.000000</td>\n",
       "      <td>0.0</td>\n",
       "      <td>0.0</td>\n",
       "      <td>0.000000</td>\n",
       "      <td>0.0</td>\n",
       "      <td>0.000000</td>\n",
       "      <td>0.000000</td>\n",
       "      <td>0.000000</td>\n",
       "      <td>0.0</td>\n",
       "      <td>...</td>\n",
       "      <td>0.0</td>\n",
       "      <td>0.0</td>\n",
       "      <td>0.0</td>\n",
       "      <td>0.0</td>\n",
       "      <td>0.0</td>\n",
       "      <td>0.0</td>\n",
       "      <td>0.0</td>\n",
       "      <td>0.0</td>\n",
       "      <td>0.0</td>\n",
       "      <td>0.0</td>\n",
       "    </tr>\n",
       "    <tr>\n",
       "      <th>ACH-001532</th>\n",
       "      <td>0.000000</td>\n",
       "      <td>0.000000</td>\n",
       "      <td>0.0</td>\n",
       "      <td>0.0</td>\n",
       "      <td>0.000000</td>\n",
       "      <td>0.0</td>\n",
       "      <td>0.000000</td>\n",
       "      <td>0.000000</td>\n",
       "      <td>0.000000</td>\n",
       "      <td>0.0</td>\n",
       "      <td>...</td>\n",
       "      <td>0.0</td>\n",
       "      <td>0.0</td>\n",
       "      <td>0.0</td>\n",
       "      <td>0.0</td>\n",
       "      <td>0.0</td>\n",
       "      <td>0.0</td>\n",
       "      <td>0.0</td>\n",
       "      <td>0.0</td>\n",
       "      <td>0.0</td>\n",
       "      <td>0.0</td>\n",
       "    </tr>\n",
       "    <tr>\n",
       "      <th>ACH-000993</th>\n",
       "      <td>0.941176</td>\n",
       "      <td>0.000000</td>\n",
       "      <td>0.0</td>\n",
       "      <td>0.0</td>\n",
       "      <td>0.352941</td>\n",
       "      <td>0.0</td>\n",
       "      <td>0.000000</td>\n",
       "      <td>0.294118</td>\n",
       "      <td>0.823529</td>\n",
       "      <td>0.0</td>\n",
       "      <td>...</td>\n",
       "      <td>0.0</td>\n",
       "      <td>0.0</td>\n",
       "      <td>0.0</td>\n",
       "      <td>0.0</td>\n",
       "      <td>0.0</td>\n",
       "      <td>0.0</td>\n",
       "      <td>0.0</td>\n",
       "      <td>0.0</td>\n",
       "      <td>0.0</td>\n",
       "      <td>0.0</td>\n",
       "    </tr>\n",
       "    <tr>\n",
       "      <th>ACH-000709</th>\n",
       "      <td>0.000000</td>\n",
       "      <td>0.000000</td>\n",
       "      <td>0.0</td>\n",
       "      <td>0.0</td>\n",
       "      <td>0.000000</td>\n",
       "      <td>0.0</td>\n",
       "      <td>0.000000</td>\n",
       "      <td>0.000000</td>\n",
       "      <td>0.000000</td>\n",
       "      <td>0.0</td>\n",
       "      <td>...</td>\n",
       "      <td>0.0</td>\n",
       "      <td>0.0</td>\n",
       "      <td>0.0</td>\n",
       "      <td>0.0</td>\n",
       "      <td>0.0</td>\n",
       "      <td>0.0</td>\n",
       "      <td>0.0</td>\n",
       "      <td>0.0</td>\n",
       "      <td>0.0</td>\n",
       "      <td>0.0</td>\n",
       "    </tr>\n",
       "  </tbody>\n",
       "</table>\n",
       "<p>175 rows × 7776 columns</p>\n",
       "</div>"
      ],
      "text/plain": [
       "            ABL1_piu_max  ACVR1B_piu_max  AKT1_piu_max  AKT2_piu_max  \\\n",
       "DepMap_ID                                                              \n",
       "ACH-000031      0.000000        0.000000           0.0           0.0   \n",
       "ACH-000257      0.000000        0.000000           0.0           0.0   \n",
       "ACH-000418      0.000000        0.000000           0.0           0.0   \n",
       "ACH-000594      0.000000        0.000000           0.0           0.0   \n",
       "ACH-000783      0.000000        0.000000           0.0           0.0   \n",
       "...                  ...             ...           ...           ...   \n",
       "ACH-002163      0.000000        0.411765           0.0           0.0   \n",
       "ACH-001616      0.000000        0.000000           0.0           0.0   \n",
       "ACH-001532      0.000000        0.000000           0.0           0.0   \n",
       "ACH-000993      0.941176        0.000000           0.0           0.0   \n",
       "ACH-000709      0.000000        0.000000           0.0           0.0   \n",
       "\n",
       "            AKT3_piu_max  ALK_piu_max  ALOX12B_piu_max  APC_piu_max  \\\n",
       "DepMap_ID                                                             \n",
       "ACH-000031      0.000000          0.0         0.000000     0.000000   \n",
       "ACH-000257      0.000000          0.0         0.000000     0.000000   \n",
       "ACH-000418      0.000000          0.0         0.000000     0.000000   \n",
       "ACH-000594      0.000000          0.0         0.235294     0.705882   \n",
       "ACH-000783      0.000000          0.0         0.000000     0.000000   \n",
       "...                  ...          ...              ...          ...   \n",
       "ACH-002163      0.000000          0.0         0.000000     0.000000   \n",
       "ACH-001616      0.000000          0.0         0.000000     0.000000   \n",
       "ACH-001532      0.000000          0.0         0.000000     0.000000   \n",
       "ACH-000993      0.352941          0.0         0.000000     0.294118   \n",
       "ACH-000709      0.000000          0.0         0.000000     0.000000   \n",
       "\n",
       "            AR_piu_max  ARAF_piu_max  ...  U2AF1_benign_count  \\\n",
       "DepMap_ID                             ...                       \n",
       "ACH-000031    0.000000           0.0  ...                 0.0   \n",
       "ACH-000257    0.000000           0.0  ...                 0.0   \n",
       "ACH-000418    0.000000           0.0  ...                 0.0   \n",
       "ACH-000594    0.000000           0.0  ...                 0.0   \n",
       "ACH-000783    0.000000           0.0  ...                 0.0   \n",
       "...                ...           ...  ...                 ...   \n",
       "ACH-002163    0.000000           0.0  ...                 0.0   \n",
       "ACH-001616    0.000000           0.0  ...                 0.0   \n",
       "ACH-001532    0.000000           0.0  ...                 0.0   \n",
       "ACH-000993    0.823529           0.0  ...                 0.0   \n",
       "ACH-000709    0.000000           0.0  ...                 0.0   \n",
       "\n",
       "            VEGFA_benign_count  VHL_benign_count  WHSC1_benign_count  \\\n",
       "DepMap_ID                                                              \n",
       "ACH-000031                 0.0               0.0                 0.0   \n",
       "ACH-000257                 0.0               0.0                 0.0   \n",
       "ACH-000418                 0.0               0.0                 0.0   \n",
       "ACH-000594                 0.0               0.0                 0.0   \n",
       "ACH-000783                 0.0               0.0                 0.0   \n",
       "...                        ...               ...                 ...   \n",
       "ACH-002163                 0.0               0.0                 0.0   \n",
       "ACH-001616                 0.0               0.0                 0.0   \n",
       "ACH-001532                 0.0               0.0                 0.0   \n",
       "ACH-000993                 0.0               0.0                 0.0   \n",
       "ACH-000709                 0.0               0.0                 0.0   \n",
       "\n",
       "            WHSC1L1_benign_count  WT1_benign_count  XPO1_benign_count  \\\n",
       "DepMap_ID                                                               \n",
       "ACH-000031                   0.0               0.0                0.0   \n",
       "ACH-000257                   0.0               0.0                0.0   \n",
       "ACH-000418                   0.0               0.0                0.0   \n",
       "ACH-000594                   0.0               0.0                0.0   \n",
       "ACH-000783                   0.0               0.0                0.0   \n",
       "...                          ...               ...                ...   \n",
       "ACH-002163                   0.0               0.0                0.0   \n",
       "ACH-001616                   0.0               0.0                0.0   \n",
       "ACH-001532                   0.0               0.0                0.0   \n",
       "ACH-000993                   0.0               0.0                0.0   \n",
       "ACH-000709                   0.0               0.0                0.0   \n",
       "\n",
       "            XRCC2_benign_count  ZNF217_benign_count  ZNF703_benign_count  \n",
       "DepMap_ID                                                                 \n",
       "ACH-000031                 0.0                  0.0                  0.0  \n",
       "ACH-000257                 0.0                  0.0                  0.0  \n",
       "ACH-000418                 0.0                  0.0                  0.0  \n",
       "ACH-000594                 0.0                  0.0                  0.0  \n",
       "ACH-000783                 0.0                  0.0                  0.0  \n",
       "...                        ...                  ...                  ...  \n",
       "ACH-002163                 0.0                  0.0                  0.0  \n",
       "ACH-001616                 0.0                  0.0                  0.0  \n",
       "ACH-001532                 0.0                  0.0                  0.0  \n",
       "ACH-000993                 0.0                  0.0                  0.0  \n",
       "ACH-000709                 0.0                  0.0                  0.0  \n",
       "\n",
       "[175 rows x 7776 columns]"
      ]
     },
     "execution_count": 9,
     "metadata": {},
     "output_type": "execute_result"
    }
   ],
   "source": [
    "cl_test_df"
   ]
  },
  {
   "cell_type": "code",
   "execution_count": 10,
   "id": "67d75030-7469-456e-b5ab-adf4a3c179df",
   "metadata": {},
   "outputs": [],
   "source": [
    "cl_train_dataset = TensorDataset(torch.tensor(cl_train_df.values), torch.tensor(cl_train_df.values))\n",
    "cl_test_dataset = TensorDataset(torch.tensor(cl_test_df.values), torch.tensor(cl_test_df.values))"
   ]
  },
  {
   "cell_type": "code",
   "execution_count": 11,
   "id": "dbdb4504-3030-4136-8556-f21b0226484a",
   "metadata": {},
   "outputs": [],
   "source": [
    "cl_train_dataloader = DataLoader(cl_train_dataset, batch_size=128, shuffle=True)\n",
    "cl_test_dataloader = DataLoader(cl_test_dataset, batch_size=128, shuffle=False)"
   ]
  },
  {
   "cell_type": "markdown",
   "id": "d0cf4df7-7594-427d-8e58-6cd28355f481",
   "metadata": {},
   "source": [
    "#### Patient Dataset"
   ]
  },
  {
   "cell_type": "code",
   "execution_count": 12,
   "id": "fe143424-def5-45b6-8dc3-19299e1e9149",
   "metadata": {},
   "outputs": [
    {
     "data": {
      "text/plain": [
       "(476, 7776)"
      ]
     },
     "execution_count": 12,
     "metadata": {},
     "output_type": "execute_result"
    }
   ],
   "source": [
    "tcga_train_df = pd.read_csv(\"../data/diffusion_pretraining/tcga_diffusion_train_sample0.csv\", index_col=0)\n",
    "tcga_train_df.shape"
   ]
  },
  {
   "cell_type": "code",
   "execution_count": 13,
   "id": "49528e2d-fa1c-4702-ab7c-7d39a91a326c",
   "metadata": {},
   "outputs": [
    {
     "data": {
      "text/plain": [
       "(120, 7776)"
      ]
     },
     "execution_count": 13,
     "metadata": {},
     "output_type": "execute_result"
    }
   ],
   "source": [
    "tcga_test_df = pd.read_csv(\"../data/diffusion_pretraining/tcga_diffusion_test_sample0.csv\", index_col=0)\n",
    "tcga_test_df.shape"
   ]
  },
  {
   "cell_type": "code",
   "execution_count": 14,
   "id": "3c6054c7-c3a9-4461-b215-e54e63b03391",
   "metadata": {},
   "outputs": [],
   "source": [
    "tcga_train_dataset = TensorDataset(torch.tensor(tcga_train_df.values), torch.tensor(tcga_train_df.values))\n",
    "tcga_test_dataset = TensorDataset(torch.tensor(tcga_test_df.values), torch.tensor(tcga_test_df.values))"
   ]
  },
  {
   "cell_type": "code",
   "execution_count": 15,
   "id": "7060da39-e8ee-4fb9-8bf6-2010008feb0f",
   "metadata": {},
   "outputs": [],
   "source": [
    "tcga_train_dataloader = DataLoader(tcga_train_dataset, batch_size=128, shuffle=True)\n",
    "tcga_test_dataloader = DataLoader(tcga_test_dataset, batch_size=128, shuffle=False)"
   ]
  },
  {
   "cell_type": "markdown",
   "id": "ef8cc366-3c0c-4231-97eb-ce6f8d320296",
   "metadata": {},
   "source": [
    "#### Joint Training of Cell Line and Patient\n",
    "\n",
    "Testing is still on patient data. Training involves iterating over cell lines and patients.\n",
    "\n",
    "We use VAE + TTDPM in each case."
   ]
  },
  {
   "cell_type": "code",
   "execution_count": 15,
   "id": "d05b10ab-6464-4acb-ad9b-bf52472f13bd",
   "metadata": {},
   "outputs": [],
   "source": [
    "# testing function with LDM\n",
    "def testing_loop_ldm(test_dataloader, diffusion_model, vae, device):\n",
    "    avg_test_loss = 0.0\n",
    "    for idx, batch in enumerate(test_dataloader):\n",
    "        with torch.no_grad():\n",
    "            inp_vae = batch[0].to(device=device, dtype=torch.float32)\n",
    "            inp, mu, logvar, _ = vae(inp_vae) # From VAE encoder + reparameterization\n",
    "            \n",
    "            noise = torch.randn_like(inp).to(device) # this is the label we use   \n",
    "            b = inp.shape[0]\n",
    "            t, pt = diffusion_model.sample_time(b, device, 'uniform')\n",
    "            inp_t = diffusion_model.gaussian_q_sample(inp, t, noise) # forward process\n",
    "            model_out = diffusion_model._denoise_fn(inp_t, t) # predicted epsilon\n",
    "\n",
    "            # MSE between predicted inp_pred after reverse diffusion and original input\n",
    "            inp_pred = diffusion_model._predict_xstart_from_eps(inp_t, t, model_out)\n",
    "            out_vae = vae.decoder(inp_pred) # after VAE decoding\n",
    "            # X_mu1, X_theta1, X_pi1 = ffn_zinb_model(out_vae) # ZINorm\n",
    "            mse_recon_loss = torch.nn.MSELoss()(out_vae, inp_vae) # MSE \n",
    "\n",
    "            avg_test_loss += mse_recon_loss.detach().item()\n",
    "\n",
    "    return avg_test_loss/(idx+1)"
   ]
  },
  {
   "cell_type": "code",
   "execution_count": 16,
   "id": "34ef3932-580a-4cfb-b0e7-b294898fe4b0",
   "metadata": {},
   "outputs": [],
   "source": [
    "# training function with LDM with CORAL loss\n",
    "def training_loop_ldm_coral(train_dataloaders, test_dataloaders, epochs, diffusion_model, vae, device, optimizer):\n",
    "    train_losses = []\n",
    "    \n",
    "    for i in range(epochs):\n",
    "        loss = 0.0\n",
    "        avg_test_loss = \"\"\n",
    "        for idx0, batch0 in enumerate(train_dataloaders[\"cell_line\"]):\n",
    "            for idx1, batch1 in enumerate(train_dataloaders[\"patient\"]):\n",
    "                optimizer.zero_grad()\n",
    "                # for cell lines\n",
    "                inp_vae_cl = batch0[0].to(device=device, dtype=torch.float32)\n",
    "                inp_cl, mu_cl, logvar_cl, _ = vae[\"cell_line\"](inp_vae_cl) # From VAE encoder + reparameterization\n",
    "                \n",
    "                noise_cl = torch.randn_like(inp_cl).to(device) # this is the label we use   \n",
    "                b = inp_cl.shape[0]\n",
    "                t, pt = diffusion_model[\"cell_line\"].sample_time(b, device, 'uniform')\n",
    "                inp_t_cl = diffusion_model[\"cell_line\"].gaussian_q_sample(inp_cl, t, noise_cl) # forward process\n",
    "                model_out = diffusion_model[\"cell_line\"]._denoise_fn(inp_t_cl, t) # predicted epsilon\n",
    "                # loss calculation using MSE between predicted and actual noise\n",
    "                loss_gauss_cl = diffusion_model[\"cell_line\"]._gaussian_loss(model_out, inp_cl, inp_t_cl, t, noise_cl).mean()\n",
    "    \n",
    "                # reconstruct inp, pass through VAE decoder and calculate VAE losses\n",
    "                inp_pred_cl = diffusion_model[\"cell_line\"]._predict_xstart_from_eps(inp_t_cl, t, model_out)\n",
    "                out_vae_cl = vae[\"cell_line\"].decoder(inp_pred_cl) # after VAE decoding\n",
    "                mse_recon_loss_cl = torch.nn.MSELoss()(out_vae_cl, inp_vae_cl)\n",
    "                kld_loss_cl = get_kld_loss(mu_cl, logvar_cl, is_mean=True)\n",
    "\n",
    "                # for patients\n",
    "                inp_vae_tcga = batch1[0].to(device=device, dtype=torch.float32)\n",
    "                inp_tcga, mu_tcga, logvar_tcga, _ = vae[\"patient\"](inp_vae_tcga) # From VAE encoder + reparameterization\n",
    "                \n",
    "                noise_tcga = torch.randn_like(inp_tcga).to(device) # this is the label we use   \n",
    "                b = inp_tcga.shape[0]\n",
    "                t, pt = diffusion_model[\"patient\"].sample_time(b, device, 'uniform')\n",
    "                inp_t_tcga = diffusion_model[\"patient\"].gaussian_q_sample(inp_tcga, t, noise_tcga) # forward process\n",
    "                model_out = diffusion_model[\"patient\"]._denoise_fn(inp_t_tcga, t) # predicted epsilon\n",
    "                # loss calculation using MSE between predicted and actual noise\n",
    "                loss_gauss_tcga = diffusion_model[\"patient\"]._gaussian_loss(model_out, inp_tcga, inp_t_tcga, t, noise_tcga).mean()\n",
    "    \n",
    "                # reconstruct inp, pass through VAE decoder and calculate VAE losses\n",
    "                inp_pred_tcga = diffusion_model[\"patient\"]._predict_xstart_from_eps(inp_t_tcga, t, model_out)\n",
    "                out_vae_tcga = vae[\"patient\"].decoder(inp_pred_tcga) # after VAE decoding\n",
    "                mse_recon_loss_tcga = torch.nn.MSELoss()(out_vae_tcga, inp_vae_tcga)\n",
    "                kld_loss_tcga = get_kld_loss(mu_tcga, logvar_tcga, is_mean=True)\n",
    "                \n",
    "                # CORAL loss between latent spaces of VAEs - change to latnet space of diffusion models?\n",
    "                coral_loss = coral(inp_cl, inp_tcga)\n",
    "                \n",
    "                total_loss = loss_gauss_cl + loss_gauss_tcga + mse_recon_loss_cl + mse_recon_loss_tcga + kld_loss_cl + kld_loss_tcga + coral_loss\n",
    "                \n",
    "                total_loss.backward()\n",
    "                optimizer.step()\n",
    "                # print(total_loss.detach().item())\n",
    "                loss += total_loss.detach().item()\n",
    "\n",
    "        if (i+1) % 10 == 0:\n",
    "            avg_test_loss = f\" Average testing loss: {testing_loop_ldm(test_dataloaders['patient'], diffusion_model['patient'], vae['patient'], device)}\"\n",
    "\n",
    "        print(f\"|Epoch {i} | Average training loss: {loss/((idx0+1) * (idx1+1))} |{avg_test_loss}\")\n",
    "        train_losses.append(loss/((idx0+1) * (idx1+1)))\n",
    "        \n",
    "    return train_losses"
   ]
  },
  {
   "cell_type": "code",
   "execution_count": 17,
   "id": "2d175fb0-132b-4e14-9111-a6031aac0dbc",
   "metadata": {},
   "outputs": [],
   "source": [
    "train_dataloaders = {\n",
    "    \"cell_line\": cl_train_dataloader,\n",
    "    \"patient\": tcga_train_dataloader\n",
    "}"
   ]
  },
  {
   "cell_type": "code",
   "execution_count": 18,
   "id": "132a4943-c4f8-428b-a742-cd8873d69743",
   "metadata": {},
   "outputs": [],
   "source": [
    "test_dataloaders = {\n",
    "    \"cell_line\": cl_test_dataloader,\n",
    "    \"patient\": tcga_test_dataloader\n",
    "}"
   ]
  },
  {
   "cell_type": "code",
   "execution_count": 19,
   "id": "184b2231-8ea0-4408-866c-e7d44c71ad3b",
   "metadata": {},
   "outputs": [
    {
     "name": "stdout",
     "output_type": "stream",
     "text": [
      "U: encoder \n",
      "Sequential(\n",
      "  (enc-0): Linear(in_features=7776, out_features=1024, bias=True)\n",
      "  (act-0): Tanh()\n",
      "  (enc-1): Linear(in_features=1024, out_features=128, bias=True)\n",
      "  (act-1): Tanh()\n",
      ")\n",
      "#\n",
      "mu_layer: \n",
      "Linear(in_features=128, out_features=64, bias=True)\n",
      "#\n",
      "sigma_layer: \n",
      "Linear(in_features=128, out_features=64, bias=True)\n",
      "#\n",
      "U: decoder \n",
      "Sequential(\n",
      "  (-dec-0): Linear(in_features=64, out_features=128, bias=True)\n",
      "  (-act-0): Tanh()\n",
      "  (dec-0): Linear(in_features=128, out_features=1024, bias=True)\n",
      "  (act-0): Tanh()\n",
      "  (dec-1): Linear(in_features=1024, out_features=7776, bias=True)\n",
      "  (act-1): Tanh()\n",
      ")\n",
      "U: encoder \n",
      "Sequential(\n",
      "  (enc-0): Linear(in_features=7776, out_features=1024, bias=True)\n",
      "  (act-0): Tanh()\n",
      "  (enc-1): Linear(in_features=1024, out_features=128, bias=True)\n",
      "  (act-1): Tanh()\n",
      ")\n",
      "#\n",
      "mu_layer: \n",
      "Linear(in_features=128, out_features=64, bias=True)\n",
      "#\n",
      "sigma_layer: \n",
      "Linear(in_features=128, out_features=64, bias=True)\n",
      "#\n",
      "U: decoder \n",
      "Sequential(\n",
      "  (-dec-0): Linear(in_features=64, out_features=128, bias=True)\n",
      "  (-act-0): Tanh()\n",
      "  (dec-0): Linear(in_features=128, out_features=1024, bias=True)\n",
      "  (act-0): Tanh()\n",
      "  (dec-1): Linear(in_features=1024, out_features=7776, bias=True)\n",
      "  (act-1): Tanh()\n",
      ")\n"
     ]
    }
   ],
   "source": [
    "device = torch.device(\"cuda:0\")\n",
    "vaes = {\n",
    "    \"cell_line\": vae(input_dim=7776, k_list=[1024, 128], actf_list=[\"tanh\", \"tanh\"], is_real=True).to(device),\n",
    "    \"patient\": vae(input_dim=7776, k_list=[1024, 128], actf_list=[\"tanh\", \"tanh\"], is_real=True).to(device)\n",
    "}"
   ]
  },
  {
   "cell_type": "code",
   "execution_count": 20,
   "id": "ee448999-576e-4987-9727-52a3ad2ee453",
   "metadata": {},
   "outputs": [],
   "source": [
    "tcga_mlp_diffusion_model = MLPDiffusion(d_in=64, num_classes=0, is_y_cond=False, rtdl_params={\"d_layers\": [16], \"dropout\": 0.1})\n",
    "tcga_diff_model = GaussianMultinomialDiffusion(num_classes=np.array([0]), num_numerical_features=64, denoise_fn=tcga_mlp_diffusion_model).to(device)"
   ]
  },
  {
   "cell_type": "code",
   "execution_count": 21,
   "id": "50db235b-ce1f-49dd-a9c7-4d979db0c27a",
   "metadata": {},
   "outputs": [],
   "source": [
    "cl_mlp_diffusion_model = MLPDiffusion(d_in=64, num_classes=0, is_y_cond=False, rtdl_params={\"d_layers\": [16], \"dropout\": 0.1})\n",
    "cl_diff_model = GaussianMultinomialDiffusion(num_classes=np.array([0]), num_numerical_features=64, denoise_fn=cl_mlp_diffusion_model).to(device)"
   ]
  },
  {
   "cell_type": "code",
   "execution_count": 22,
   "id": "94c81e30-1769-480d-be34-4fe3ef7312a8",
   "metadata": {},
   "outputs": [],
   "source": [
    "diffusion_models = {\n",
    "    \"cell_line\": cl_diff_model,\n",
    "    \"patient\": tcga_diff_model\n",
    "}"
   ]
  },
  {
   "cell_type": "code",
   "execution_count": 23,
   "id": "136e272d-869d-46e1-8157-00c7e14cde2b",
   "metadata": {},
   "outputs": [],
   "source": [
    "params = list(diffusion_models[\"cell_line\"].parameters()) + list(diffusion_models[\"patient\"].parameters()) + list(vaes[\"cell_line\"].parameters()) + list(vaes[\"patient\"].parameters())"
   ]
  },
  {
   "cell_type": "code",
   "execution_count": 24,
   "id": "004c5d7c-411a-4fa1-9bf6-62eddcc8b265",
   "metadata": {},
   "outputs": [],
   "source": [
    "optim = torch.optim.Adam(params, lr = 1e-6)"
   ]
  },
  {
   "cell_type": "code",
   "execution_count": 25,
   "id": "feaafb14-77fe-4153-9d82-67dd324fd3db",
   "metadata": {},
   "outputs": [
    {
     "name": "stderr",
     "output_type": "stream",
     "text": [
      "/home/ajayago/miniconda3/envs/tddpm/lib/python3.9/site-packages/torch/_tensor.py:868: UserWarning: non-inplace resize is deprecated\n",
      "  warnings.warn(\"non-inplace resize is deprecated\")\n"
     ]
    },
    {
     "name": "stdout",
     "output_type": "stream",
     "text": [
      "|Epoch 0 | Average training loss: 4.5867848350451546 |\n",
      "|Epoch 1 | Average training loss: 4.451113471618066 |\n",
      "|Epoch 2 | Average training loss: 4.455995302933913 |\n",
      "|Epoch 3 | Average training loss: 4.304113209247589 |\n",
      "|Epoch 4 | Average training loss: 4.324457223598774 |\n",
      "|Epoch 5 | Average training loss: 4.315443763366113 |\n",
      "|Epoch 6 | Average training loss: 4.256485696022327 |\n",
      "|Epoch 7 | Average training loss: 4.2623430994840765 |\n",
      "|Epoch 8 | Average training loss: 4.239712912302751 |\n",
      "|Epoch 9 | Average training loss: 4.226761386944697 | Average testing loss: 15.556206703186035\n",
      "|Epoch 10 | Average training loss: 4.2419651334102335 |\n",
      "|Epoch 11 | Average training loss: 4.212326746720534 |\n",
      "|Epoch 12 | Average training loss: 4.182461871550633 |\n",
      "|Epoch 13 | Average training loss: 4.168912814213679 |\n",
      "|Epoch 14 | Average training loss: 4.151487043270698 |\n",
      "|Epoch 15 | Average training loss: 4.144377424166753 |\n",
      "|Epoch 16 | Average training loss: 4.186107016526735 |\n",
      "|Epoch 17 | Average training loss: 4.171566683512467 |\n",
      "|Epoch 18 | Average training loss: 4.16497345154102 |\n",
      "|Epoch 19 | Average training loss: 4.151132817451771 | Average testing loss: 15.550849914550781\n",
      "|Epoch 20 | Average training loss: 4.110938920424535 |\n",
      "|Epoch 21 | Average training loss: 4.133670132893783 |\n",
      "|Epoch 22 | Average training loss: 4.105362502428202 |\n",
      "|Epoch 23 | Average training loss: 4.100729043667133 |\n",
      "|Epoch 24 | Average training loss: 4.154393429939564 |\n",
      "|Epoch 25 | Average training loss: 4.0927539467811584 |\n",
      "|Epoch 26 | Average training loss: 4.0838510027298565 |\n",
      "|Epoch 27 | Average training loss: 4.1174894617154045 |\n",
      "|Epoch 28 | Average training loss: 4.095247516265283 |\n",
      "|Epoch 29 | Average training loss: 4.073511531719794 | Average testing loss: 15.547423362731934\n",
      "|Epoch 30 | Average training loss: 4.088104215952066 |\n",
      "|Epoch 31 | Average training loss: 4.14554992547402 |\n",
      "|Epoch 32 | Average training loss: 4.090409590647771 |\n",
      "|Epoch 33 | Average training loss: 4.0475709071526165 |\n",
      "|Epoch 34 | Average training loss: 4.0914555467092075 |\n",
      "|Epoch 35 | Average training loss: 4.02798855304718 |\n",
      "|Epoch 36 | Average training loss: 4.104896737979009 |\n",
      "|Epoch 37 | Average training loss: 4.077263648693378 |\n",
      "|Epoch 38 | Average training loss: 4.118348823143886 |\n",
      "|Epoch 39 | Average training loss: 4.048573264708886 | Average testing loss: 15.543079376220703\n",
      "|Epoch 40 | Average training loss: 4.068107549960796 |\n",
      "|Epoch 41 | Average training loss: 4.020401354019459 |\n",
      "|Epoch 42 | Average training loss: 4.007664506251995 |\n",
      "|Epoch 43 | Average training loss: 4.054632833370795 |\n",
      "|Epoch 44 | Average training loss: 4.0251705050468445 |\n",
      "|Epoch 45 | Average training loss: 4.025063601823954 |\n",
      "|Epoch 46 | Average training loss: 4.0123615723389845 |\n",
      "|Epoch 47 | Average training loss: 4.008089753297659 |\n",
      "|Epoch 48 | Average training loss: 4.034869886361635 |\n",
      "|Epoch 49 | Average training loss: 4.04238760471344 | Average testing loss: 15.540371894836426\n",
      "|Epoch 50 | Average training loss: 4.047189588730152 |\n",
      "|Epoch 51 | Average training loss: 3.982516880218799 |\n",
      "|Epoch 52 | Average training loss: 4.005588448964632 |\n",
      "|Epoch 53 | Average training loss: 3.9600344116871176 |\n",
      "|Epoch 54 | Average training loss: 4.032212688372685 |\n",
      "|Epoch 55 | Average training loss: 3.998748990205618 |\n",
      "|Epoch 56 | Average training loss: 3.952344073699071 |\n",
      "|Epoch 57 | Average training loss: 3.9732458729010363 |\n",
      "|Epoch 58 | Average training loss: 4.072182481105511 |\n",
      "|Epoch 59 | Average training loss: 4.016516048174638 | Average testing loss: 15.535002708435059\n",
      "|Epoch 60 | Average training loss: 3.9578990982129025 |\n",
      "|Epoch 61 | Average training loss: 3.980752394749568 |\n",
      "|Epoch 62 | Average training loss: 3.961986413368812 |\n",
      "|Epoch 63 | Average training loss: 3.9751847111261807 |\n",
      "|Epoch 64 | Average training loss: 3.974340938604795 |\n",
      "|Epoch 65 | Average training loss: 3.9095763930907617 |\n",
      "|Epoch 66 | Average training loss: 3.9282443706805887 |\n",
      "|Epoch 67 | Average training loss: 3.9715986205981326 |\n",
      "|Epoch 68 | Average training loss: 4.002944281468024 |\n",
      "|Epoch 69 | Average training loss: 3.9717415938010583 | Average testing loss: 15.534538269042969\n",
      "|Epoch 70 | Average training loss: 3.9280138107446523 |\n",
      "|Epoch 71 | Average training loss: 3.950389962929946 |\n",
      "|Epoch 72 | Average training loss: 3.9444771454884457 |\n",
      "|Epoch 73 | Average training loss: 3.879804469071902 |\n",
      "|Epoch 74 | Average training loss: 3.950601573173816 |\n",
      "|Epoch 75 | Average training loss: 3.947737776316129 |\n",
      "|Epoch 76 | Average training loss: 3.9659458582217875 |\n",
      "|Epoch 77 | Average training loss: 3.9294882004077616 |\n",
      "|Epoch 78 | Average training loss: 3.9457604105655966 |\n",
      "|Epoch 79 | Average training loss: 3.9515632574374857 | Average testing loss: 15.531871795654297\n",
      "|Epoch 80 | Average training loss: 3.947943384830768 |\n",
      "|Epoch 81 | Average training loss: 3.9354425943814793 |\n",
      "|Epoch 82 | Average training loss: 3.8998054541074314 |\n",
      "|Epoch 83 | Average training loss: 3.8931602652256307 |\n",
      "|Epoch 84 | Average training loss: 3.945477375617394 |\n",
      "|Epoch 85 | Average training loss: 3.9703690914007335 |\n",
      "|Epoch 86 | Average training loss: 3.9224217396516066 |\n",
      "|Epoch 87 | Average training loss: 3.9740409896923947 |\n",
      "|Epoch 88 | Average training loss: 3.9714731115561266 |\n",
      "|Epoch 89 | Average training loss: 3.9660231516911435 | Average testing loss: 15.53034782409668\n",
      "|Epoch 90 | Average training loss: 3.9156367916327257 |\n",
      "|Epoch 91 | Average training loss: 3.9209963037417483 |\n",
      "|Epoch 92 | Average training loss: 3.90640736084718 |\n",
      "|Epoch 93 | Average training loss: 3.924288515861218 |\n",
      "|Epoch 94 | Average training loss: 3.914768608716818 |\n",
      "|Epoch 95 | Average training loss: 3.9417428145041833 |\n",
      "|Epoch 96 | Average training loss: 3.919836571583381 |\n",
      "|Epoch 97 | Average training loss: 3.885673082791842 |\n",
      "|Epoch 98 | Average training loss: 3.9049302752201376 |\n",
      "|Epoch 99 | Average training loss: 3.8385518193244934 | Average testing loss: 15.527865409851074\n",
      "|Epoch 100 | Average training loss: 3.9050464859375587 |\n",
      "|Epoch 101 | Average training loss: 3.9279548021463246 |\n",
      "|Epoch 102 | Average training loss: 3.8963790719325724 |\n",
      "|Epoch 103 | Average training loss: 3.9015560012597303 |\n",
      "|Epoch 104 | Average training loss: 3.9365203518133898 |\n",
      "|Epoch 105 | Average training loss: 3.9026993421407847 |\n",
      "|Epoch 106 | Average training loss: 3.8828403995587277 |\n",
      "|Epoch 107 | Average training loss: 3.8811937112074633 |\n",
      "|Epoch 108 | Average training loss: 3.8740646793292117 |\n",
      "|Epoch 109 | Average training loss: 3.8580472423480106 | Average testing loss: 15.529040336608887\n",
      "|Epoch 110 | Average training loss: 3.927282452583313 |\n",
      "|Epoch 111 | Average training loss: 3.9254054748094998 |\n",
      "|Epoch 112 | Average training loss: 3.867506737892444 |\n",
      "|Epoch 113 | Average training loss: 3.8962995272416334 |\n",
      "|Epoch 114 | Average training loss: 3.857721053636991 |\n",
      "|Epoch 115 | Average training loss: 3.931527637518369 |\n",
      "|Epoch 116 | Average training loss: 3.8902487479723415 |\n",
      "|Epoch 117 | Average training loss: 3.928739456030039 |\n",
      "|Epoch 118 | Average training loss: 3.8957616686820984 |\n",
      "|Epoch 119 | Average training loss: 3.9109744933935313 | Average testing loss: 15.526517868041992\n",
      "|Epoch 120 | Average training loss: 3.856473771425394 |\n",
      "|Epoch 121 | Average training loss: 3.9315172021205607 |\n",
      "|Epoch 122 | Average training loss: 3.871787360081306 |\n",
      "|Epoch 123 | Average training loss: 3.908536672592163 |\n",
      "|Epoch 124 | Average training loss: 3.8583857004459086 |\n",
      "|Epoch 125 | Average training loss: 3.91250950556535 |\n",
      "|Epoch 126 | Average training loss: 3.881181469330421 |\n",
      "|Epoch 127 | Average training loss: 3.9041285744080176 |\n",
      "|Epoch 128 | Average training loss: 3.8527806538801928 |\n",
      "|Epoch 129 | Average training loss: 3.833410409780649 | Average testing loss: 15.525544166564941\n",
      "|Epoch 130 | Average training loss: 3.8922595335887027 |\n",
      "|Epoch 131 | Average training loss: 3.8776614528435926 |\n",
      "|Epoch 132 | Average training loss: 3.941907116999993 |\n",
      "|Epoch 133 | Average training loss: 3.865667434839102 |\n",
      "|Epoch 134 | Average training loss: 3.903144208284525 |\n",
      "|Epoch 135 | Average training loss: 3.89746762239016 |\n",
      "|Epoch 136 | Average training loss: 3.8648379353376536 |\n",
      "|Epoch 137 | Average training loss: 3.844147347486936 |\n",
      "|Epoch 138 | Average training loss: 3.865035185447106 |\n",
      "|Epoch 139 | Average training loss: 3.8421572676071754 | Average testing loss: 15.52541446685791\n",
      "|Epoch 140 | Average training loss: 3.825098597086393 |\n",
      "|Epoch 141 | Average training loss: 3.8387203995998087 |\n",
      "|Epoch 142 | Average training loss: 3.90017877633755 |\n",
      "|Epoch 143 | Average training loss: 3.838462618681101 |\n",
      "|Epoch 144 | Average training loss: 3.8204430020772495 |\n",
      "|Epoch 145 | Average training loss: 3.8902419117780833 |\n",
      "|Epoch 146 | Average training loss: 3.871620026918558 |\n",
      "|Epoch 147 | Average training loss: 3.8484109273323646 |\n",
      "|Epoch 148 | Average training loss: 3.8547434623424826 |\n",
      "|Epoch 149 | Average training loss: 3.889695690228389 | Average testing loss: 15.524260520935059\n",
      "|Epoch 150 | Average training loss: 3.8395808981015134 |\n",
      "|Epoch 151 | Average training loss: 3.871962391413175 |\n",
      "|Epoch 152 | Average training loss: 3.9263921013245215 |\n",
      "|Epoch 153 | Average training loss: 3.816623261341682 |\n",
      "|Epoch 154 | Average training loss: 3.853467418597295 |\n",
      "|Epoch 155 | Average training loss: 3.863490329338954 |\n",
      "|Epoch 156 | Average training loss: 3.7973048962079563 |\n",
      "|Epoch 157 | Average training loss: 3.866816520690918 |\n",
      "|Epoch 158 | Average training loss: 3.871931791305542 |\n",
      "|Epoch 159 | Average training loss: 3.9026970267295837 | Average testing loss: 15.525383949279785\n",
      "|Epoch 160 | Average training loss: 3.861098899291112 |\n",
      "|Epoch 161 | Average training loss: 3.8643883237471948 |\n",
      "|Epoch 162 | Average training loss: 3.862220200208517 |\n",
      "|Epoch 163 | Average training loss: 3.849371992624723 |\n",
      "|Epoch 164 | Average training loss: 3.8809141654234667 |\n",
      "|Epoch 165 | Average training loss: 3.9549815471355734 |\n",
      "|Epoch 166 | Average training loss: 3.8845114753796506 |\n",
      "|Epoch 167 | Average training loss: 3.9327546679056606 |\n",
      "|Epoch 168 | Average training loss: 3.8785702907122097 |\n",
      "|Epoch 169 | Average training loss: 3.8365294474821825 | Average testing loss: 15.521998405456543\n",
      "|Epoch 170 | Average training loss: 3.8870468689845157 |\n",
      "|Epoch 171 | Average training loss: 3.88736524948707 |\n",
      "|Epoch 172 | Average training loss: 3.8535726437201867 |\n",
      "|Epoch 173 | Average training loss: 3.834962643109835 |\n",
      "|Epoch 174 | Average training loss: 3.8773506513008704 |\n",
      "|Epoch 175 | Average training loss: 3.826417693724999 |\n",
      "|Epoch 176 | Average training loss: 3.8748784202795763 |\n",
      "|Epoch 177 | Average training loss: 3.8568085248653707 |\n",
      "|Epoch 178 | Average training loss: 3.816958730037396 |\n",
      "|Epoch 179 | Average training loss: 3.8737315306296716 | Average testing loss: 15.521662712097168\n",
      "|Epoch 180 | Average training loss: 3.8364804753890405 |\n",
      "|Epoch 181 | Average training loss: 3.8585164730365458 |\n",
      "|Epoch 182 | Average training loss: 3.8751572232979994 |\n",
      "|Epoch 183 | Average training loss: 3.8689366166408243 |\n",
      "|Epoch 184 | Average training loss: 3.8574312329292297 |\n",
      "|Epoch 185 | Average training loss: 3.867670714855194 |\n",
      "|Epoch 186 | Average training loss: 3.9144723140276394 |\n",
      "|Epoch 187 | Average training loss: 3.8529577255249023 |\n",
      "|Epoch 188 | Average training loss: 3.8308524993749766 |\n",
      "|Epoch 189 | Average training loss: 3.840038386675028 | Average testing loss: 15.520018577575684\n",
      "|Epoch 190 | Average training loss: 3.898490772797511 |\n",
      "|Epoch 191 | Average training loss: 3.914966340248401 |\n",
      "|Epoch 192 | Average training loss: 3.8544204968672533 |\n",
      "|Epoch 193 | Average training loss: 3.8442922142835765 |\n",
      "|Epoch 194 | Average training loss: 3.8668277171941905 |\n",
      "|Epoch 195 | Average training loss: 3.8100196765019345 |\n",
      "|Epoch 196 | Average training loss: 3.8361836763528676 |\n",
      "|Epoch 197 | Average training loss: 3.8548633731328525 |\n",
      "|Epoch 198 | Average training loss: 3.841722690142118 |\n",
      "|Epoch 199 | Average training loss: 3.8561453085679274 | Average testing loss: 15.52419376373291\n",
      "|Epoch 200 | Average training loss: 3.823039343723884 |\n",
      "|Epoch 201 | Average training loss: 3.885571993314303 |\n",
      "|Epoch 202 | Average training loss: 3.8160771910960856 |\n",
      "|Epoch 203 | Average training loss: 3.85830543591426 |\n",
      "|Epoch 204 | Average training loss: 3.8674898055883555 |\n",
      "|Epoch 205 | Average training loss: 3.8840763706427355 |\n",
      "|Epoch 206 | Average training loss: 3.815305934502528 |\n",
      "|Epoch 207 | Average training loss: 3.8295454061948337 |\n",
      "|Epoch 208 | Average training loss: 3.8455216792913585 |\n",
      "|Epoch 209 | Average training loss: 3.8806290443126974 | Average testing loss: 15.521074295043945\n",
      "|Epoch 210 | Average training loss: 3.83637143098391 |\n",
      "|Epoch 211 | Average training loss: 3.835503734075106 |\n",
      "|Epoch 212 | Average training loss: 3.8294029510938206 |\n",
      "|Epoch 213 | Average training loss: 3.8491851595731883 |\n",
      "|Epoch 214 | Average training loss: 3.815547090310317 |\n",
      "|Epoch 215 | Average training loss: 3.858316957950592 |\n",
      "|Epoch 216 | Average training loss: 3.859171505157764 |\n",
      "|Epoch 217 | Average training loss: 3.8196426263222327 |\n",
      "|Epoch 218 | Average training loss: 3.841092811180995 |\n",
      "|Epoch 219 | Average training loss: 3.9000776501802297 | Average testing loss: 15.520183563232422\n",
      "|Epoch 220 | Average training loss: 3.8038497246228733 |\n",
      "|Epoch 221 | Average training loss: 3.8332431270526004 |\n",
      "|Epoch 222 | Average training loss: 3.815361275122716 |\n",
      "|Epoch 223 | Average training loss: 3.8552827559984646 |\n",
      "|Epoch 224 | Average training loss: 3.8422147173147936 |\n",
      "|Epoch 225 | Average training loss: 3.862873292886294 |\n",
      "|Epoch 226 | Average training loss: 3.8249586407954874 |\n",
      "|Epoch 227 | Average training loss: 3.8237701746133657 |\n",
      "|Epoch 228 | Average training loss: 3.853462952833909 |\n",
      "|Epoch 229 | Average training loss: 3.8473165860542884 | Average testing loss: 15.518835067749023\n",
      "|Epoch 230 | Average training loss: 3.8303558505498447 |\n",
      "|Epoch 231 | Average training loss: 3.9173488937891445 |\n",
      "|Epoch 232 | Average training loss: 3.8932177286881666 |\n",
      "|Epoch 233 | Average training loss: 3.822497014815991 |\n",
      "|Epoch 234 | Average training loss: 3.822826623916626 |\n",
      "|Epoch 235 | Average training loss: 3.8228377241354723 |\n",
      "|Epoch 236 | Average training loss: 3.820645896288065 |\n",
      "|Epoch 237 | Average training loss: 3.828486992762639 |\n",
      "|Epoch 238 | Average training loss: 3.865641850691575 |\n",
      "|Epoch 239 | Average training loss: 3.861155175245725 | Average testing loss: 15.519501686096191\n",
      "|Epoch 240 | Average training loss: 3.8160821336966295 |\n",
      "|Epoch 241 | Average training loss: 3.8538597455391517 |\n",
      "|Epoch 242 | Average training loss: 3.8770447923586917 |\n",
      "|Epoch 243 | Average training loss: 3.857452731866103 |\n",
      "|Epoch 244 | Average training loss: 3.8138522047262926 |\n",
      "|Epoch 245 | Average training loss: 3.8612486124038696 |\n",
      "|Epoch 246 | Average training loss: 3.85802147938655 |\n",
      "|Epoch 247 | Average training loss: 3.84981093956874 |\n",
      "|Epoch 248 | Average training loss: 3.8574941754341125 |\n",
      "|Epoch 249 | Average training loss: 3.832547875551077 | Average testing loss: 15.522944450378418\n",
      "|Epoch 250 | Average training loss: 3.829350654895489 |\n",
      "|Epoch 251 | Average training loss: 3.8915044344388523 |\n",
      "|Epoch 252 | Average training loss: 3.84304645886788 |\n",
      "|Epoch 253 | Average training loss: 3.8300643379871664 |\n",
      "|Epoch 254 | Average training loss: 3.830523614700024 |\n",
      "|Epoch 255 | Average training loss: 3.8047952972925625 |\n",
      "|Epoch 256 | Average training loss: 3.838269219948695 |\n",
      "|Epoch 257 | Average training loss: 3.8732471741162815 |\n",
      "|Epoch 258 | Average training loss: 3.877860967929547 |\n",
      "|Epoch 259 | Average training loss: 3.7933366986421437 | Average testing loss: 15.52149772644043\n",
      "|Epoch 260 | Average training loss: 3.849360933670631 |\n",
      "|Epoch 261 | Average training loss: 3.8803773935024557 |\n",
      "|Epoch 262 | Average training loss: 3.8298063644996057 |\n",
      "|Epoch 263 | Average training loss: 3.830577763227316 |\n",
      "|Epoch 264 | Average training loss: 3.8577036674206076 |\n",
      "|Epoch 265 | Average training loss: 3.812165095255925 |\n",
      "|Epoch 266 | Average training loss: 3.808579142277057 |\n",
      "|Epoch 267 | Average training loss: 3.7976240928356466 |\n",
      "|Epoch 268 | Average training loss: 3.8125309898303104 |\n",
      "|Epoch 269 | Average training loss: 3.842692902454963 | Average testing loss: 15.517271041870117\n",
      "|Epoch 270 | Average training loss: 3.8723736863869886 |\n",
      "|Epoch 271 | Average training loss: 3.8274194323099575 |\n",
      "|Epoch 272 | Average training loss: 3.79966086607713 |\n",
      "|Epoch 273 | Average training loss: 3.8330906675412106 |\n",
      "|Epoch 274 | Average training loss: 3.827118231700017 |\n",
      "|Epoch 275 | Average training loss: 3.824576354943789 |\n",
      "|Epoch 276 | Average training loss: 3.864894527655381 |\n",
      "|Epoch 277 | Average training loss: 3.820054957499871 |\n",
      "|Epoch 278 | Average training loss: 3.8368768233519335 |\n",
      "|Epoch 279 | Average training loss: 3.8366142098720255 | Average testing loss: 15.51930046081543\n",
      "|Epoch 280 | Average training loss: 3.8278227952810435 |\n",
      "|Epoch 281 | Average training loss: 3.865743499535781 |\n",
      "|Epoch 282 | Average training loss: 3.8564000634046702 |\n",
      "|Epoch 283 | Average training loss: 3.765593780921056 |\n",
      "|Epoch 284 | Average training loss: 3.877736440071693 |\n",
      "|Epoch 285 | Average training loss: 3.8068747245348415 |\n",
      "|Epoch 286 | Average training loss: 3.8809142800477834 |\n",
      "|Epoch 287 | Average training loss: 3.8143289410150967 |\n",
      "|Epoch 288 | Average training loss: 3.819467599575336 |\n",
      "|Epoch 289 | Average training loss: 3.8048570568744955 | Average testing loss: 15.514350891113281\n",
      "|Epoch 290 | Average training loss: 3.8391253489714403 |\n",
      "|Epoch 291 | Average training loss: 3.8044608372908373 |\n",
      "|Epoch 292 | Average training loss: 3.8378221209232626 |\n",
      "|Epoch 293 | Average training loss: 3.8092225331526537 |\n",
      "|Epoch 294 | Average training loss: 3.8688298555520864 |\n",
      "|Epoch 295 | Average training loss: 3.8954346776008606 |\n",
      "|Epoch 296 | Average training loss: 3.7938077403948856 |\n",
      "|Epoch 297 | Average training loss: 3.787957686644334 |\n",
      "|Epoch 298 | Average training loss: 3.83165403512808 |\n",
      "|Epoch 299 | Average training loss: 3.8441299750254703 | Average testing loss: 15.518251419067383\n"
     ]
    }
   ],
   "source": [
    "train_losses = training_loop_ldm_coral(train_dataloaders, test_dataloaders, 300, diffusion_models, vaes, device, optim)"
   ]
  },
  {
   "cell_type": "code",
   "execution_count": 26,
   "id": "c8f6f59e-5d4a-49c6-83f5-261991360953",
   "metadata": {},
   "outputs": [
    {
     "data": {
      "text/plain": [
       "[<matplotlib.lines.Line2D at 0x7fa938ab41f0>]"
      ]
     },
     "execution_count": 26,
     "metadata": {},
     "output_type": "execute_result"
    },
    {
     "data": {
      "image/png": "[encoded data removed]",
      "text/plain": [
       "<Figure size 640x480 with 1 Axes>"
      ]
     },
     "metadata": {},
     "output_type": "display_data"
    }
   ],
   "source": [
    "import matplotlib.pyplot as plt\n",
    "plt.plot(train_losses)"
   ]
  },
  {
   "cell_type": "code",
   "execution_count": 27,
   "id": "43bdc645-54ee-4941-8ce6-5abe0af97b48",
   "metadata": {},
   "outputs": [],
   "source": [
    "torch.save(cl_diff_model.state_dict(), \"/data/ajayago/druid/intermediate/cs6220/cl_diff_model_joint_UDA.pth\")\n",
    "torch.save(tcga_diff_model.state_dict(), \"/data/ajayago/druid/intermediate/cs6220/tcga_diff_model_joint_UDA.pth\")\n",
    "torch.save(vaes[\"cell_line\"].state_dict(), \"/data/ajayago/druid/intermediate/cs6220/vae_cell_line_joint_UDA.pth\")\n",
    "torch.save(vaes[\"patient\"].state_dict(), \"/data/ajayago/druid/intermediate/cs6220/vae_patient_joint_UDA.pth\")"
   ]
  },
  {
   "cell_type": "markdown",
   "id": "43588fd3-052a-476c-a9c9-c70e1e9de373",
   "metadata": {},
   "source": [
    "#### Data Augmentation using Cell line data and patient DDPM"
   ]
  },
  {
   "cell_type": "code",
   "execution_count": 16,
   "id": "0e8a9383-4bc1-4f98-a03f-6d23d6a0a029",
   "metadata": {},
   "outputs": [
    {
     "name": "stdout",
     "output_type": "stream",
     "text": [
      "U: encoder \n",
      "Sequential(\n",
      "  (enc-0): Linear(in_features=7776, out_features=1024, bias=True)\n",
      "  (act-0): Tanh()\n",
      "  (enc-1): Linear(in_features=1024, out_features=128, bias=True)\n",
      "  (act-1): Tanh()\n",
      ")\n",
      "#\n",
      "mu_layer: \n",
      "Linear(in_features=128, out_features=64, bias=True)\n",
      "#\n",
      "sigma_layer: \n",
      "Linear(in_features=128, out_features=64, bias=True)\n",
      "#\n",
      "U: decoder \n",
      "Sequential(\n",
      "  (-dec-0): Linear(in_features=64, out_features=128, bias=True)\n",
      "  (-act-0): Tanh()\n",
      "  (dec-0): Linear(in_features=128, out_features=1024, bias=True)\n",
      "  (act-0): Tanh()\n",
      "  (dec-1): Linear(in_features=1024, out_features=7776, bias=True)\n",
      "  (act-1): Tanh()\n",
      ")\n",
      "U: encoder \n",
      "Sequential(\n",
      "  (enc-0): Linear(in_features=7776, out_features=1024, bias=True)\n",
      "  (act-0): Tanh()\n",
      "  (enc-1): Linear(in_features=1024, out_features=128, bias=True)\n",
      "  (act-1): Tanh()\n",
      ")\n",
      "#\n",
      "mu_layer: \n",
      "Linear(in_features=128, out_features=64, bias=True)\n",
      "#\n",
      "sigma_layer: \n",
      "Linear(in_features=128, out_features=64, bias=True)\n",
      "#\n",
      "U: decoder \n",
      "Sequential(\n",
      "  (-dec-0): Linear(in_features=64, out_features=128, bias=True)\n",
      "  (-act-0): Tanh()\n",
      "  (dec-0): Linear(in_features=128, out_features=1024, bias=True)\n",
      "  (act-0): Tanh()\n",
      "  (dec-1): Linear(in_features=1024, out_features=7776, bias=True)\n",
      "  (act-1): Tanh()\n",
      ")\n"
     ]
    }
   ],
   "source": [
    "cl_vae = vae(input_dim=7776, k_list=[1024, 128], actf_list=[\"tanh\", \"tanh\"], is_real=True)\n",
    "tcga_vae = vae(input_dim=7776, k_list=[1024, 128], actf_list=[\"tanh\", \"tanh\"], is_real=True)"
   ]
  },
  {
   "cell_type": "code",
   "execution_count": 17,
   "id": "58d0a262-747b-4dd0-a144-eea97a602c9b",
   "metadata": {},
   "outputs": [
    {
     "data": {
      "text/plain": [
       "<All keys matched successfully>"
      ]
     },
     "execution_count": 17,
     "metadata": {},
     "output_type": "execute_result"
    }
   ],
   "source": [
    "cl_vae.load_state_dict(torch.load(\"/data/ajayago/druid/intermediate/cs6220/vae_cell_line_joint_UDA.pth\"))"
   ]
  },
  {
   "cell_type": "code",
   "execution_count": 18,
   "id": "495bffd8-aaa6-42d9-b99c-07dd4d8cbed3",
   "metadata": {},
   "outputs": [
    {
     "data": {
      "text/plain": [
       "<All keys matched successfully>"
      ]
     },
     "execution_count": 18,
     "metadata": {},
     "output_type": "execute_result"
    }
   ],
   "source": [
    "tcga_vae.load_state_dict(torch.load(\"/data/ajayago/druid/intermediate/cs6220/vae_patient_joint_UDA.pth\"))"
   ]
  },
  {
   "cell_type": "code",
   "execution_count": 19,
   "id": "c5699ee8-e577-47cb-9857-271741001c3b",
   "metadata": {},
   "outputs": [
    {
     "data": {
      "text/plain": [
       "<All keys matched successfully>"
      ]
     },
     "execution_count": 19,
     "metadata": {},
     "output_type": "execute_result"
    }
   ],
   "source": [
    "cl_mlp_diffusion_model = MLPDiffusion(d_in=64, num_classes=0, is_y_cond=False, rtdl_params={\"d_layers\": [16], \"dropout\": 0.1})\n",
    "cl_diff_model = GaussianMultinomialDiffusion(num_classes=np.array([0]), num_numerical_features=64, denoise_fn=cl_mlp_diffusion_model)\n",
    "cl_diff_model.load_state_dict(torch.load(\"/data/ajayago/druid/intermediate/cs6220/cl_diff_model_joint_UDA.pth\"))"
   ]
  },
  {
   "cell_type": "code",
   "execution_count": 20,
   "id": "8d5b4f78-d476-4228-8983-bb4655b381c0",
   "metadata": {},
   "outputs": [
    {
     "data": {
      "text/plain": [
       "<All keys matched successfully>"
      ]
     },
     "execution_count": 20,
     "metadata": {},
     "output_type": "execute_result"
    }
   ],
   "source": [
    "tcga_mlp_diffusion_model = MLPDiffusion(d_in=64, num_classes=0, is_y_cond=False, rtdl_params={\"d_layers\": [16], \"dropout\": 0.1})\n",
    "tcga_diff_model = GaussianMultinomialDiffusion(num_classes=np.array([0]), num_numerical_features=64, denoise_fn=tcga_mlp_diffusion_model)\n",
    "tcga_diff_model.load_state_dict(torch.load(\"/data/ajayago/druid/intermediate/cs6220/tcga_diff_model_joint_UDA.pth\"))"
   ]
  },
  {
   "cell_type": "code",
   "execution_count": 21,
   "id": "85c6cf51-0db1-4ef2-951d-4611f3e883b7",
   "metadata": {},
   "outputs": [
    {
     "data": {
      "text/plain": [
       "MLPDiffusion(\n",
       "  (mlp): MLP(\n",
       "    (blocks): ModuleList(\n",
       "      (0): Block(\n",
       "        (linear): Linear(in_features=128, out_features=16, bias=True)\n",
       "        (activation): ReLU()\n",
       "        (dropout): Dropout(p=0.1, inplace=False)\n",
       "      )\n",
       "    )\n",
       "    (head): Linear(in_features=16, out_features=64, bias=True)\n",
       "  )\n",
       "  (proj): Linear(in_features=64, out_features=128, bias=True)\n",
       "  (time_embed): Sequential(\n",
       "    (0): Linear(in_features=128, out_features=128, bias=True)\n",
       "    (1): SiLU()\n",
       "    (2): Linear(in_features=128, out_features=128, bias=True)\n",
       "  )\n",
       ")"
      ]
     },
     "execution_count": 21,
     "metadata": {},
     "output_type": "execute_result"
    }
   ],
   "source": [
    "# inference\n",
    "cl_diff_model.eval()\n",
    "tcga_diff_model.eval()\n",
    "cl_vae.eval()\n",
    "tcga_vae.eval()\n",
    "cl_mlp_diffusion_model.eval()\n",
    "tcga_mlp_diffusion_model.eval()"
   ]
  },
  {
   "cell_type": "code",
   "execution_count": 33,
   "id": "61965bd4-7d97-4370-8512-8a2001e06fd1",
   "metadata": {},
   "outputs": [],
   "source": [
    "def augmented_cl(dataloader):\n",
    "    augmented = []\n",
    "    for idx, batch in enumerate(dataloader):\n",
    "        inp_vae = batch[0].to(dtype=torch.float32)\n",
    "        inp, mu, logvar, _ = cl_vae(inp_vae) # From VAE encoder + reparameterization\n",
    "        \n",
    "        noise = torch.randn_like(inp) # this is the label we use   \n",
    "        b = inp.shape[0]\n",
    "        # t, pt = diffusion_model[\"cell_line\"].sample_time(b, device, 'uniform')\n",
    "        t = (torch.ones((b,)) * 700).long() # fixing time steps to 500\n",
    "        pt = torch.ones_like(t).float() / cl_diff_model.num_timesteps\n",
    "        inp_t = cl_diff_model.gaussian_q_sample(inp, t, noise) # forward process with cell line model encoder\n",
    "        model_out = tcga_diff_model._denoise_fn(inp_t, t) # predicted epsilon from patient decoder\n",
    "    \n",
    "        # predict inp from noise using patient model\n",
    "        inp_pred = tcga_diff_model._predict_xstart_from_eps(inp_t, t, model_out)\n",
    "        out_vae = tcga_vae.decoder(inp_pred) # after VAE decoding with patient decoder\n",
    "        augmented.append(out_vae)\n",
    "    return torch.cat(augmented, axis = 0)"
   ]
  },
  {
   "cell_type": "code",
   "execution_count": 34,
   "id": "18c33355-5b88-4f04-b2e0-b26cf1684f4f",
   "metadata": {},
   "outputs": [],
   "source": [
    "augmented_cl_data_test = augmented_cl(cl_test_dataloader)"
   ]
  },
  {
   "cell_type": "code",
   "execution_count": 35,
   "id": "9e1c2ceb-ff97-4403-805b-b75b22511ec3",
   "metadata": {},
   "outputs": [
    {
     "data": {
      "text/plain": [
       "torch.Size([175, 7776])"
      ]
     },
     "execution_count": 35,
     "metadata": {},
     "output_type": "execute_result"
    }
   ],
   "source": [
    "augmented_cl_data_test.shape"
   ]
  },
  {
   "cell_type": "code",
   "execution_count": 36,
   "id": "e371cbf9-582f-477e-b7dd-4a6c1ea51470",
   "metadata": {},
   "outputs": [],
   "source": [
    "augmented_cl_data_train = augmented_cl(cl_train_dataloader)"
   ]
  },
  {
   "cell_type": "code",
   "execution_count": 37,
   "id": "e7537b16-f6f9-4736-b35e-b850f807d65a",
   "metadata": {},
   "outputs": [
    {
     "data": {
      "text/plain": [
       "torch.Size([1569, 7776])"
      ]
     },
     "execution_count": 37,
     "metadata": {},
     "output_type": "execute_result"
    }
   ],
   "source": [
    "augmented_cl_data_train.shape"
   ]
  },
  {
   "cell_type": "markdown",
   "id": "ae9aa8a1-997c-49b9-a597-6883f26b057c",
   "metadata": {},
   "source": [
    "#### Plotting TSNE for the augmented cell line data and actual patient data"
   ]
  },
  {
   "cell_type": "code",
   "execution_count": 39,
   "id": "07cc178c-0ff5-41e7-90dc-eb0dc1b3dcec",
   "metadata": {},
   "outputs": [],
   "source": [
    "from sklearn.manifold import TSNE"
   ]
  },
  {
   "cell_type": "code",
   "execution_count": 40,
   "id": "03059fdc-b88f-4c61-91c7-bd58a88d2b9f",
   "metadata": {},
   "outputs": [],
   "source": [
    "tsne = TSNE()"
   ]
  },
  {
   "cell_type": "code",
   "execution_count": 44,
   "id": "aff03327-6e52-4496-a11e-91f2acdefe48",
   "metadata": {},
   "outputs": [],
   "source": [
    "tcga_tsne = tsne.fit_transform(pd.concat([tcga_train_df, tcga_test_df]).values)"
   ]
  },
  {
   "cell_type": "code",
   "execution_count": 45,
   "id": "6cf0bae9-7e83-4288-ba8f-260ee78be923",
   "metadata": {},
   "outputs": [
    {
     "data": {
      "text/plain": [
       "(596, 2)"
      ]
     },
     "execution_count": 45,
     "metadata": {},
     "output_type": "execute_result"
    }
   ],
   "source": [
    "tcga_tsne.shape"
   ]
  },
  {
   "cell_type": "code",
   "execution_count": 47,
   "id": "30fbc5b5-0ad0-426c-b573-e81a40695791",
   "metadata": {},
   "outputs": [
    {
     "data": {
      "text/plain": [
       "(1744, 7776)"
      ]
     },
     "execution_count": 47,
     "metadata": {},
     "output_type": "execute_result"
    }
   ],
   "source": [
    "augmented_cell_line = torch.cat((augmented_cl_data_train, augmented_cl_data_test), axis = 0).detach().numpy()\n",
    "augmented_cell_line.shape"
   ]
  },
  {
   "cell_type": "code",
   "execution_count": 48,
   "id": "8fca1fd1-e2f0-4f75-bab7-17ae56555f27",
   "metadata": {},
   "outputs": [],
   "source": [
    "augmented_cell_line_tsne = tsne.fit_transform(augmented_cell_line)"
   ]
  },
  {
   "cell_type": "code",
   "execution_count": 49,
   "id": "9e8a0bc3-66c3-4f07-adf9-a1d8e8673995",
   "metadata": {},
   "outputs": [
    {
     "data": {
      "text/plain": [
       "(1744, 2)"
      ]
     },
     "execution_count": 49,
     "metadata": {},
     "output_type": "execute_result"
    }
   ],
   "source": [
    "augmented_cell_line_tsne.shape"
   ]
  },
  {
   "cell_type": "code",
   "execution_count": 56,
   "id": "98197ea2-c871-4b9e-acd4-fc4937a93711",
   "metadata": {},
   "outputs": [
    {
     "data": {
      "text/plain": [
       "<matplotlib.collections.PathCollection at 0x7f39ad5af070>"
      ]
     },
     "execution_count": 56,
     "metadata": {},
     "output_type": "execute_result"
    },
    {
     "data": {
      "image/png": "[encoded data removed]",
      "text/plain": [
       "<Figure size 640x480 with 1 Axes>"
      ]
     },
     "metadata": {},
     "output_type": "display_data"
    }
   ],
   "source": [
    "plt.scatter(tcga_tsne[:,0], tcga_tsne[:, 1])\n",
    "plt.scatter(augmented_cell_line_tsne[:,0], augmented_cell_line_tsne[:, 1], marker=\"x\")"
   ]
  },
  {
   "cell_type": "code",
   "execution_count": 58,
   "id": "abd4ce0f-1db0-4aff-b3e3-287289f0e7a6",
   "metadata": {},
   "outputs": [
    {
     "data": {
      "text/plain": [
       "(1744, 2)"
      ]
     },
     "execution_count": 58,
     "metadata": {},
     "output_type": "execute_result"
    }
   ],
   "source": [
    "# on original cell line data\n",
    "augmented_cell_line_tsne_orig = tsne.fit_transform(pd.concat([cl_train_df, cl_test_df]).values)\n",
    "augmented_cell_line_tsne_orig.shape"
   ]
  },
  {
   "cell_type": "code",
   "execution_count": 59,
   "id": "c6cc8aaa-891c-4954-81f2-7802d1a5a52f",
   "metadata": {},
   "outputs": [
    {
     "data": {
      "text/plain": [
       "<matplotlib.collections.PathCollection at 0x7f39acce5cd0>"
      ]
     },
     "execution_count": 59,
     "metadata": {},
     "output_type": "execute_result"
    },
    {
     "data": {
      "image/png": "[encoded data removed]",
      "text/plain": [
       "<Figure size 640x480 with 1 Axes>"
      ]
     },
     "metadata": {},
     "output_type": "display_data"
    }
   ],
   "source": [
    "plt.scatter(tcga_tsne[:,0], tcga_tsne[:, 1])\n",
    "plt.scatter(augmented_cell_line_tsne[:,0], augmented_cell_line_tsne[:, 1], marker=\"x\")\n",
    "plt.scatter(augmented_cell_line_tsne_orig[:,0], augmented_cell_line_tsne_orig[:, 1], marker=\"*\")"
   ]
  },
  {
   "cell_type": "code",
   "execution_count": 60,
   "id": "c6c64892-9f03-4898-9f74-a2055789b620",
   "metadata": {},
   "outputs": [
    {
     "data": {
      "text/plain": [
       "<matplotlib.collections.PathCollection at 0x7f39acbb09a0>"
      ]
     },
     "execution_count": 60,
     "metadata": {},
     "output_type": "execute_result"
    },
    {
     "data": {
      "image/png": "[encoded data removed]",
      "text/plain": [
       "<Figure size 640x480 with 1 Axes>"
      ]
     },
     "metadata": {},
     "output_type": "display_data"
    }
   ],
   "source": [
    "# dist shift between cell lines and tcga before transforms\n",
    "plt.scatter(tcga_tsne[:,0], tcga_tsne[:, 1])\n",
    "plt.scatter(augmented_cell_line_tsne_orig[:,0], augmented_cell_line_tsne_orig[:, 1], marker=\"*\")"
   ]
  },
  {
   "cell_type": "code",
   "execution_count": 65,
   "id": "e1b39d12-d2df-4afa-99f7-594d756c1371",
   "metadata": {},
   "outputs": [
    {
     "name": "stdout",
     "output_type": "stream",
     "text": [
      "(1744, 7776)\n"
     ]
    }
   ],
   "source": [
    "augmented_cl_df = pd.DataFrame(augmented_cell_line, columns = cl_train_df.columns, index=list(cl_train_df.index) + list(cl_test_df.index))\n",
    "print(augmented_cl_df.shape)\n",
    "augmented_cl_df.to_csv(\"/data/ajayago/druid/intermediate/cs6220/augmented_cl_joint_UDA.csv\")"
   ]
  },
  {
   "cell_type": "code",
   "execution_count": 66,
   "id": "9a7e4e33-4807-47d4-87ff-041746e0e5fc",
   "metadata": {},
   "outputs": [
    {
     "data": {
      "text/html": [
       "<div>\n",
       "<style scoped>\n",
       "    .dataframe tbody tr th:only-of-type {\n",
       "        vertical-align: middle;\n",
       "    }\n",
       "\n",
       "    .dataframe tbody tr th {\n",
       "        vertical-align: top;\n",
       "    }\n",
       "\n",
       "    .dataframe thead th {\n",
       "        text-align: right;\n",
       "    }\n",
       "</style>\n",
       "<table border=\"1\" class=\"dataframe\">\n",
       "  <thead>\n",
       "    <tr style=\"text-align: right;\">\n",
       "      <th></th>\n",
       "      <th>ABL1_piu_max</th>\n",
       "      <th>ACVR1B_piu_max</th>\n",
       "      <th>AKT1_piu_max</th>\n",
       "      <th>AKT2_piu_max</th>\n",
       "      <th>AKT3_piu_max</th>\n",
       "      <th>ALK_piu_max</th>\n",
       "      <th>ALOX12B_piu_max</th>\n",
       "      <th>APC_piu_max</th>\n",
       "      <th>AR_piu_max</th>\n",
       "      <th>ARAF_piu_max</th>\n",
       "      <th>...</th>\n",
       "      <th>U2AF1_benign_count</th>\n",
       "      <th>VEGFA_benign_count</th>\n",
       "      <th>VHL_benign_count</th>\n",
       "      <th>WHSC1_benign_count</th>\n",
       "      <th>WHSC1L1_benign_count</th>\n",
       "      <th>WT1_benign_count</th>\n",
       "      <th>XPO1_benign_count</th>\n",
       "      <th>XRCC2_benign_count</th>\n",
       "      <th>ZNF217_benign_count</th>\n",
       "      <th>ZNF703_benign_count</th>\n",
       "    </tr>\n",
       "  </thead>\n",
       "  <tbody>\n",
       "    <tr>\n",
       "      <th>ACH-002277</th>\n",
       "      <td>0.004723</td>\n",
       "      <td>-0.074524</td>\n",
       "      <td>-0.064620</td>\n",
       "      <td>-0.051929</td>\n",
       "      <td>-0.028703</td>\n",
       "      <td>0.024461</td>\n",
       "      <td>0.002217</td>\n",
       "      <td>0.002974</td>\n",
       "      <td>0.009592</td>\n",
       "      <td>-0.008397</td>\n",
       "      <td>...</td>\n",
       "      <td>-0.000427</td>\n",
       "      <td>0.052330</td>\n",
       "      <td>0.011620</td>\n",
       "      <td>0.004458</td>\n",
       "      <td>-0.024069</td>\n",
       "      <td>-0.010735</td>\n",
       "      <td>0.010126</td>\n",
       "      <td>-0.037632</td>\n",
       "      <td>-0.032282</td>\n",
       "      <td>0.025392</td>\n",
       "    </tr>\n",
       "    <tr>\n",
       "      <th>ACH-000046</th>\n",
       "      <td>-0.044151</td>\n",
       "      <td>0.013211</td>\n",
       "      <td>-0.007219</td>\n",
       "      <td>0.061254</td>\n",
       "      <td>0.019710</td>\n",
       "      <td>0.037984</td>\n",
       "      <td>0.074833</td>\n",
       "      <td>0.025340</td>\n",
       "      <td>-0.023879</td>\n",
       "      <td>0.020951</td>\n",
       "      <td>...</td>\n",
       "      <td>0.063373</td>\n",
       "      <td>-0.006409</td>\n",
       "      <td>0.014718</td>\n",
       "      <td>0.008724</td>\n",
       "      <td>0.041279</td>\n",
       "      <td>-0.011608</td>\n",
       "      <td>-0.017573</td>\n",
       "      <td>-0.000683</td>\n",
       "      <td>-0.006830</td>\n",
       "      <td>-0.012897</td>\n",
       "    </tr>\n",
       "    <tr>\n",
       "      <th>ACH-000674</th>\n",
       "      <td>-0.031876</td>\n",
       "      <td>-0.035646</td>\n",
       "      <td>-0.005145</td>\n",
       "      <td>0.028493</td>\n",
       "      <td>0.015599</td>\n",
       "      <td>-0.004415</td>\n",
       "      <td>0.012403</td>\n",
       "      <td>-0.009433</td>\n",
       "      <td>0.069723</td>\n",
       "      <td>-0.014906</td>\n",
       "      <td>...</td>\n",
       "      <td>-0.025623</td>\n",
       "      <td>-0.030465</td>\n",
       "      <td>0.025656</td>\n",
       "      <td>0.065800</td>\n",
       "      <td>0.028408</td>\n",
       "      <td>0.029893</td>\n",
       "      <td>0.032494</td>\n",
       "      <td>0.004267</td>\n",
       "      <td>-0.003192</td>\n",
       "      <td>-0.028522</td>\n",
       "    </tr>\n",
       "    <tr>\n",
       "      <th>ACH-000557</th>\n",
       "      <td>0.037555</td>\n",
       "      <td>-0.051878</td>\n",
       "      <td>0.002764</td>\n",
       "      <td>-0.033034</td>\n",
       "      <td>0.000317</td>\n",
       "      <td>0.016432</td>\n",
       "      <td>0.010172</td>\n",
       "      <td>-0.001846</td>\n",
       "      <td>-0.030163</td>\n",
       "      <td>-0.012192</td>\n",
       "      <td>...</td>\n",
       "      <td>-0.005714</td>\n",
       "      <td>-0.049075</td>\n",
       "      <td>-0.021316</td>\n",
       "      <td>0.023776</td>\n",
       "      <td>0.043987</td>\n",
       "      <td>-0.020036</td>\n",
       "      <td>0.054721</td>\n",
       "      <td>-0.013249</td>\n",
       "      <td>-0.017701</td>\n",
       "      <td>0.005902</td>\n",
       "    </tr>\n",
       "    <tr>\n",
       "      <th>ACH-001642</th>\n",
       "      <td>0.002462</td>\n",
       "      <td>0.022005</td>\n",
       "      <td>0.034970</td>\n",
       "      <td>0.022071</td>\n",
       "      <td>0.000026</td>\n",
       "      <td>-0.003967</td>\n",
       "      <td>0.043710</td>\n",
       "      <td>-0.042727</td>\n",
       "      <td>-0.020800</td>\n",
       "      <td>0.011919</td>\n",
       "      <td>...</td>\n",
       "      <td>-0.048954</td>\n",
       "      <td>-0.024483</td>\n",
       "      <td>-0.046746</td>\n",
       "      <td>-0.007807</td>\n",
       "      <td>0.038422</td>\n",
       "      <td>0.003833</td>\n",
       "      <td>-0.034289</td>\n",
       "      <td>-0.003381</td>\n",
       "      <td>-0.006845</td>\n",
       "      <td>0.004189</td>\n",
       "    </tr>\n",
       "    <tr>\n",
       "      <th>...</th>\n",
       "      <td>...</td>\n",
       "      <td>...</td>\n",
       "      <td>...</td>\n",
       "      <td>...</td>\n",
       "      <td>...</td>\n",
       "      <td>...</td>\n",
       "      <td>...</td>\n",
       "      <td>...</td>\n",
       "      <td>...</td>\n",
       "      <td>...</td>\n",
       "      <td>...</td>\n",
       "      <td>...</td>\n",
       "      <td>...</td>\n",
       "      <td>...</td>\n",
       "      <td>...</td>\n",
       "      <td>...</td>\n",
       "      <td>...</td>\n",
       "      <td>...</td>\n",
       "      <td>...</td>\n",
       "      <td>...</td>\n",
       "      <td>...</td>\n",
       "    </tr>\n",
       "    <tr>\n",
       "      <th>ACH-002163</th>\n",
       "      <td>0.019159</td>\n",
       "      <td>-0.034390</td>\n",
       "      <td>-0.042690</td>\n",
       "      <td>-0.004542</td>\n",
       "      <td>0.041448</td>\n",
       "      <td>0.052593</td>\n",
       "      <td>0.028654</td>\n",
       "      <td>-0.015578</td>\n",
       "      <td>-0.007461</td>\n",
       "      <td>0.012553</td>\n",
       "      <td>...</td>\n",
       "      <td>-0.001547</td>\n",
       "      <td>-0.025656</td>\n",
       "      <td>0.045009</td>\n",
       "      <td>-0.024141</td>\n",
       "      <td>0.023231</td>\n",
       "      <td>-0.050883</td>\n",
       "      <td>0.009611</td>\n",
       "      <td>-0.011065</td>\n",
       "      <td>-0.017703</td>\n",
       "      <td>0.003498</td>\n",
       "    </tr>\n",
       "    <tr>\n",
       "      <th>ACH-001616</th>\n",
       "      <td>-0.009271</td>\n",
       "      <td>0.050954</td>\n",
       "      <td>0.011915</td>\n",
       "      <td>0.032517</td>\n",
       "      <td>-0.012457</td>\n",
       "      <td>-0.037581</td>\n",
       "      <td>-0.009486</td>\n",
       "      <td>-0.013465</td>\n",
       "      <td>-0.061523</td>\n",
       "      <td>0.003963</td>\n",
       "      <td>...</td>\n",
       "      <td>-0.020319</td>\n",
       "      <td>0.049187</td>\n",
       "      <td>0.004197</td>\n",
       "      <td>0.010419</td>\n",
       "      <td>0.009221</td>\n",
       "      <td>0.039876</td>\n",
       "      <td>-0.040284</td>\n",
       "      <td>-0.039533</td>\n",
       "      <td>0.027733</td>\n",
       "      <td>0.031373</td>\n",
       "    </tr>\n",
       "    <tr>\n",
       "      <th>ACH-001532</th>\n",
       "      <td>-0.049339</td>\n",
       "      <td>-0.039037</td>\n",
       "      <td>0.012419</td>\n",
       "      <td>-0.020343</td>\n",
       "      <td>0.014652</td>\n",
       "      <td>0.019977</td>\n",
       "      <td>-0.007930</td>\n",
       "      <td>0.026415</td>\n",
       "      <td>0.028470</td>\n",
       "      <td>0.001728</td>\n",
       "      <td>...</td>\n",
       "      <td>0.011819</td>\n",
       "      <td>0.054863</td>\n",
       "      <td>0.069070</td>\n",
       "      <td>0.015084</td>\n",
       "      <td>0.051132</td>\n",
       "      <td>0.012693</td>\n",
       "      <td>-0.048643</td>\n",
       "      <td>0.003243</td>\n",
       "      <td>-0.018845</td>\n",
       "      <td>0.047419</td>\n",
       "    </tr>\n",
       "    <tr>\n",
       "      <th>ACH-000993</th>\n",
       "      <td>-0.011444</td>\n",
       "      <td>0.057573</td>\n",
       "      <td>-0.013688</td>\n",
       "      <td>-0.027055</td>\n",
       "      <td>-0.041923</td>\n",
       "      <td>0.000788</td>\n",
       "      <td>0.057440</td>\n",
       "      <td>0.023220</td>\n",
       "      <td>-0.002711</td>\n",
       "      <td>0.013793</td>\n",
       "      <td>...</td>\n",
       "      <td>-0.044856</td>\n",
       "      <td>0.023337</td>\n",
       "      <td>0.022597</td>\n",
       "      <td>-0.016103</td>\n",
       "      <td>-0.041479</td>\n",
       "      <td>0.049218</td>\n",
       "      <td>-0.034121</td>\n",
       "      <td>0.015316</td>\n",
       "      <td>-0.030126</td>\n",
       "      <td>-0.000028</td>\n",
       "    </tr>\n",
       "    <tr>\n",
       "      <th>ACH-000709</th>\n",
       "      <td>0.006886</td>\n",
       "      <td>0.036451</td>\n",
       "      <td>0.007760</td>\n",
       "      <td>-0.008461</td>\n",
       "      <td>0.022127</td>\n",
       "      <td>-0.006279</td>\n",
       "      <td>-0.001041</td>\n",
       "      <td>0.020546</td>\n",
       "      <td>0.007119</td>\n",
       "      <td>-0.006489</td>\n",
       "      <td>...</td>\n",
       "      <td>-0.002177</td>\n",
       "      <td>0.017926</td>\n",
       "      <td>0.056450</td>\n",
       "      <td>0.019671</td>\n",
       "      <td>0.046327</td>\n",
       "      <td>-0.019636</td>\n",
       "      <td>0.029711</td>\n",
       "      <td>0.008678</td>\n",
       "      <td>0.004012</td>\n",
       "      <td>-0.019860</td>\n",
       "    </tr>\n",
       "  </tbody>\n",
       "</table>\n",
       "<p>1744 rows × 7776 columns</p>\n",
       "</div>"
      ],
      "text/plain": [
       "            ABL1_piu_max  ACVR1B_piu_max  AKT1_piu_max  AKT2_piu_max  \\\n",
       "ACH-002277      0.004723       -0.074524     -0.064620     -0.051929   \n",
       "ACH-000046     -0.044151        0.013211     -0.007219      0.061254   \n",
       "ACH-000674     -0.031876       -0.035646     -0.005145      0.028493   \n",
       "ACH-000557      0.037555       -0.051878      0.002764     -0.033034   \n",
       "ACH-001642      0.002462        0.022005      0.034970      0.022071   \n",
       "...                  ...             ...           ...           ...   \n",
       "ACH-002163      0.019159       -0.034390     -0.042690     -0.004542   \n",
       "ACH-001616     -0.009271        0.050954      0.011915      0.032517   \n",
       "ACH-001532     -0.049339       -0.039037      0.012419     -0.020343   \n",
       "ACH-000993     -0.011444        0.057573     -0.013688     -0.027055   \n",
       "ACH-000709      0.006886        0.036451      0.007760     -0.008461   \n",
       "\n",
       "            AKT3_piu_max  ALK_piu_max  ALOX12B_piu_max  APC_piu_max  \\\n",
       "ACH-002277     -0.028703     0.024461         0.002217     0.002974   \n",
       "ACH-000046      0.019710     0.037984         0.074833     0.025340   \n",
       "ACH-000674      0.015599    -0.004415         0.012403    -0.009433   \n",
       "ACH-000557      0.000317     0.016432         0.010172    -0.001846   \n",
       "ACH-001642      0.000026    -0.003967         0.043710    -0.042727   \n",
       "...                  ...          ...              ...          ...   \n",
       "ACH-002163      0.041448     0.052593         0.028654    -0.015578   \n",
       "ACH-001616     -0.012457    -0.037581        -0.009486    -0.013465   \n",
       "ACH-001532      0.014652     0.019977        -0.007930     0.026415   \n",
       "ACH-000993     -0.041923     0.000788         0.057440     0.023220   \n",
       "ACH-000709      0.022127    -0.006279        -0.001041     0.020546   \n",
       "\n",
       "            AR_piu_max  ARAF_piu_max  ...  U2AF1_benign_count  \\\n",
       "ACH-002277    0.009592     -0.008397  ...           -0.000427   \n",
       "ACH-000046   -0.023879      0.020951  ...            0.063373   \n",
       "ACH-000674    0.069723     -0.014906  ...           -0.025623   \n",
       "ACH-000557   -0.030163     -0.012192  ...           -0.005714   \n",
       "ACH-001642   -0.020800      0.011919  ...           -0.048954   \n",
       "...                ...           ...  ...                 ...   \n",
       "ACH-002163   -0.007461      0.012553  ...           -0.001547   \n",
       "ACH-001616   -0.061523      0.003963  ...           -0.020319   \n",
       "ACH-001532    0.028470      0.001728  ...            0.011819   \n",
       "ACH-000993   -0.002711      0.013793  ...           -0.044856   \n",
       "ACH-000709    0.007119     -0.006489  ...           -0.002177   \n",
       "\n",
       "            VEGFA_benign_count  VHL_benign_count  WHSC1_benign_count  \\\n",
       "ACH-002277            0.052330          0.011620            0.004458   \n",
       "ACH-000046           -0.006409          0.014718            0.008724   \n",
       "ACH-000674           -0.030465          0.025656            0.065800   \n",
       "ACH-000557           -0.049075         -0.021316            0.023776   \n",
       "ACH-001642           -0.024483         -0.046746           -0.007807   \n",
       "...                        ...               ...                 ...   \n",
       "ACH-002163           -0.025656          0.045009           -0.024141   \n",
       "ACH-001616            0.049187          0.004197            0.010419   \n",
       "ACH-001532            0.054863          0.069070            0.015084   \n",
       "ACH-000993            0.023337          0.022597           -0.016103   \n",
       "ACH-000709            0.017926          0.056450            0.019671   \n",
       "\n",
       "            WHSC1L1_benign_count  WT1_benign_count  XPO1_benign_count  \\\n",
       "ACH-002277             -0.024069         -0.010735           0.010126   \n",
       "ACH-000046              0.041279         -0.011608          -0.017573   \n",
       "ACH-000674              0.028408          0.029893           0.032494   \n",
       "ACH-000557              0.043987         -0.020036           0.054721   \n",
       "ACH-001642              0.038422          0.003833          -0.034289   \n",
       "...                          ...               ...                ...   \n",
       "ACH-002163              0.023231         -0.050883           0.009611   \n",
       "ACH-001616              0.009221          0.039876          -0.040284   \n",
       "ACH-001532              0.051132          0.012693          -0.048643   \n",
       "ACH-000993             -0.041479          0.049218          -0.034121   \n",
       "ACH-000709              0.046327         -0.019636           0.029711   \n",
       "\n",
       "            XRCC2_benign_count  ZNF217_benign_count  ZNF703_benign_count  \n",
       "ACH-002277           -0.037632            -0.032282             0.025392  \n",
       "ACH-000046           -0.000683            -0.006830            -0.012897  \n",
       "ACH-000674            0.004267            -0.003192            -0.028522  \n",
       "ACH-000557           -0.013249            -0.017701             0.005902  \n",
       "ACH-001642           -0.003381            -0.006845             0.004189  \n",
       "...                        ...                  ...                  ...  \n",
       "ACH-002163           -0.011065            -0.017703             0.003498  \n",
       "ACH-001616           -0.039533             0.027733             0.031373  \n",
       "ACH-001532            0.003243            -0.018845             0.047419  \n",
       "ACH-000993            0.015316            -0.030126            -0.000028  \n",
       "ACH-000709            0.008678             0.004012            -0.019860  \n",
       "\n",
       "[1744 rows x 7776 columns]"
      ]
     },
     "execution_count": 66,
     "metadata": {},
     "output_type": "execute_result"
    }
   ],
   "source": [
    "augmented_cl_df"
   ]
  },
  {
   "cell_type": "code",
   "execution_count": null,
   "id": "f23cd5b6-feff-4796-bba9-bd61e46ee7b1",
   "metadata": {},
   "outputs": [],
   "source": []
  }
 ],
 "metadata": {
  "kernelspec": {
   "display_name": "Python [conda env:tddpm] *",
   "language": "python",
   "name": "conda-env-tddpm-py"
  },
  "language_info": {
   "codemirror_mode": {
    "name": "ipython",
    "version": 3
   },
   "file_extension": ".py",
   "mimetype": "text/x-python",
   "name": "python",
   "nbconvert_exporter": "python",
   "pygments_lexer": "ipython3",
   "version": "3.9.18"
  }
 },
 "nbformat": 4,
 "nbformat_minor": 5
}
